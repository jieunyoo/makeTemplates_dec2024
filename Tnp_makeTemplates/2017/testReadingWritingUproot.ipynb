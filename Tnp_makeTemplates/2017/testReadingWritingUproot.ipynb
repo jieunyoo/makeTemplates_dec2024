{
 "cells": [
  {
   "cell_type": "code",
   "execution_count": 1,
   "id": "8da002aa-9d84-4e08-925f-6165f60ca4f9",
   "metadata": {},
   "outputs": [],
   "source": [
    "import uproot\n",
    "import pandas as pd\n",
    "import boost_histogram as bh\n"
   ]
  },
  {
   "cell_type": "code",
   "execution_count": 2,
   "id": "784ac2ac-cbd2-4a0f-a8cf-020398156388",
   "metadata": {},
   "outputs": [],
   "source": [
    "file1 = uproot.open('/home/jieun201/may18/boostedhiggs/python/oct3_2017_MC/catp1_fail_nominal.root')\n",
    "file2 = uproot.open('/home/jieun201/may18/boostedhiggs/python/oct3_2017_MC/catp1_pass_nominal.root')\n",
    "file3 = uproot.open('/home/jieun201/may18/boostedhiggs/python/oct3_2017_MC/catp2_fail_nominal.root')\n",
    "file4 = uproot.open('/home/jieun201/may18/boostedhiggs/python/oct3_2017_MC/catp2_pass_nominal.root')\n",
    "file5 = uproot.open('/home/jieun201/may18/boostedhiggs/python/oct3_2017_MC/data_obs_fail_nominal.root')\n",
    "file6 = uproot.open('/home/jieun201/may18/boostedhiggs/python/oct3_2017_MC/data_obs_pass_nominal.root')\n"
   ]
  },
  {
   "cell_type": "code",
   "execution_count": 3,
   "id": "b5b740d7-4ade-4134-8943-10e8a0dcb532",
   "metadata": {},
   "outputs": [],
   "source": [
    "outFile = uproot.recreate(\"temp.root\")"
   ]
  },
  {
   "cell_type": "code",
   "execution_count": 4,
   "id": "81081f79-c6e7-480d-b24e-eb3763db8569",
   "metadata": {},
   "outputs": [],
   "source": [
    "h_uproot1 = uproot.to_writable(file1['catp1_fail_nominal'])\n",
    "h_uproot2 = uproot.to_writable(file2['catp1_pass_nominal'])\n",
    "h_uproot3 = uproot.to_writable(file3['catp2_fail_nominal'])\n",
    "h_uproot4 = uproot.to_writable(file4['catp2_pass_nominal'])\n",
    "h_uproot5 = uproot.to_writable(file5['data_obs_fail_nominal'])\n",
    "h_uproot6 = uproot.to_writable(file6['data_obs_pass_nominal'])"
   ]
  },
  {
   "cell_type": "code",
   "execution_count": 5,
   "id": "68ec3165-c1bd-4f9f-b3a8-7f111f535d9a",
   "metadata": {},
   "outputs": [],
   "source": [
    "outFile['catp1_fail_nominal']=h_uproot1\n",
    "outFile['catp1_pass_nominal']=h_uproot2\n",
    "outFile['catp2_fail_nominal']=h_uproot3\n",
    "outFile['catp2_pass_nominal']=h_uproot4\n",
    "outFile['data_obs_fail_nominal']=h_uproot5\n",
    "outFile['data_obs_pass_nominal']=h_uproot6"
   ]
  },
  {
   "cell_type": "code",
   "execution_count": 6,
   "id": "96f63e4c-f182-4036-9c8d-a68b11095e57",
   "metadata": {},
   "outputs": [
    {
     "data": {
      "text/plain": [
       "['catp1_fail_nominal;1',\n",
       " 'catp1_pass_nominal;1',\n",
       " 'catp2_fail_nominal;1',\n",
       " 'catp2_pass_nominal;1',\n",
       " 'data_obs_fail_nominal;1',\n",
       " 'data_obs_pass_nominal;1']"
      ]
     },
     "execution_count": 6,
     "metadata": {},
     "output_type": "execute_result"
    }
   ],
   "source": [
    "outFile.keys()"
   ]
  },
  {
   "cell_type": "code",
   "execution_count": 7,
   "id": "8e89ecfa-60c4-449c-828e-91923b2bc218",
   "metadata": {},
   "outputs": [
    {
     "data": {
      "text/plain": [
       "array([ 935., 1064., 1337., 2213., 3987., 4671., 3041., 1804., 1243.,\n",
       "        903.,  630.,  413.,  366.,  251.,  238.])"
      ]
     },
     "execution_count": 7,
     "metadata": {},
     "output_type": "execute_result"
    }
   ],
   "source": [
    "h_uproot6.values()"
   ]
  },
  {
   "cell_type": "code",
   "execution_count": 8,
   "id": "d95ec41e-5492-495a-b16e-1eb83f73b9a9",
   "metadata": {},
   "outputs": [
    {
     "data": {
      "text/plain": [
       "array([6717., 6669., 6792., 7334., 8503., 8846., 7142., 5136., 3517.,\n",
       "       2458., 1631., 1119.,  831.,  578.,  431.])"
      ]
     },
     "execution_count": 8,
     "metadata": {},
     "output_type": "execute_result"
    }
   ],
   "source": [
    "h_uproot5.values()"
   ]
  },
  {
   "cell_type": "code",
   "execution_count": 9,
   "id": "aa8e08ab-acf6-4a1b-9b95-bbcea65ad895",
   "metadata": {},
   "outputs": [
    {
     "data": {
      "text/plain": [
       "array([ 248.12176443,  427.75759709,  735.77818637, 1778.94270965,\n",
       "       4109.97552643, 4607.44127617, 2745.93611773, 1503.36581632,\n",
       "        936.71376694,  645.73377986,  455.18597761,  321.77088064,\n",
       "        262.49132159,  206.99896001,  190.37199988])"
      ]
     },
     "execution_count": 9,
     "metadata": {},
     "output_type": "execute_result"
    }
   ],
   "source": [
    "h_uproot4.values()"
   ]
  },
  {
   "cell_type": "code",
   "execution_count": 10,
   "id": "973df7e7-7967-443f-83d6-50dd97aa5a36",
   "metadata": {},
   "outputs": [
    {
     "data": {
      "text/plain": [
       "array([1015.97519593, 1306.01067327, 1782.76263924, 2832.63723311,\n",
       "       4901.21405608, 5786.11031405, 4478.64506779, 3007.57676843,\n",
       "       2089.07209832, 1444.75171208,  972.53840974,  712.85777276,\n",
       "        483.7273806 ,  399.72204074,  314.81994928])"
      ]
     },
     "execution_count": 10,
     "metadata": {},
     "output_type": "execute_result"
    }
   ],
   "source": [
    "h_uproot3.values()"
   ]
  },
  {
   "cell_type": "code",
   "execution_count": 11,
   "id": "a36d8105-aa4e-484c-91af-223bafb6b112",
   "metadata": {},
   "outputs": [
    {
     "data": {
      "text/plain": [
       "array([554.89968599, 565.09373417, 514.7011082 , 742.9436098 ,\n",
       "       912.75277706, 872.52191482, 620.70081857, 379.23291724,\n",
       "       242.50200173, 297.79237009, 136.87272205,  77.46898662,\n",
       "        58.09824404,  37.51571514,  33.05636384])"
      ]
     },
     "execution_count": 11,
     "metadata": {},
     "output_type": "execute_result"
    }
   ],
   "source": [
    "h_uproot2.values()"
   ]
  },
  {
   "cell_type": "code",
   "execution_count": 12,
   "id": "4ea6eb53-840a-4c18-8391-7b20faf3fe32",
   "metadata": {},
   "outputs": [
    {
     "data": {
      "text/plain": [
       "array([6147.54771931, 5947.75718154, 5001.14281065, 4543.6267559 ,\n",
       "       4760.61041269, 3959.93103909, 3488.14477339, 2298.60274838,\n",
       "       1466.37302152, 1258.19780512,  766.53231483,  494.10869973,\n",
       "        430.87905342,  241.24759106,  171.98615034])"
      ]
     },
     "execution_count": 12,
     "metadata": {},
     "output_type": "execute_result"
    }
   ],
   "source": [
    "h_uproot1.values()"
   ]
  },
  {
   "cell_type": "code",
   "execution_count": null,
   "id": "38371550-7b04-4d16-9320-b5801eaf2329",
   "metadata": {},
   "outputs": [],
   "source": []
  }
 ],
 "metadata": {
  "kernelspec": {
   "display_name": "Python 3 (ipykernel)",
   "language": "python",
   "name": "python3"
  },
  "language_info": {
   "codemirror_mode": {
    "name": "ipython",
    "version": 3
   },
   "file_extension": ".py",
   "mimetype": "text/x-python",
   "name": "python",
   "nbconvert_exporter": "python",
   "pygments_lexer": "ipython3",
   "version": "3.10.15"
  }
 },
 "nbformat": 4,
 "nbformat_minor": 5
}
