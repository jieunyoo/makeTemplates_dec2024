{
 "cells": [
  {
   "cell_type": "code",
   "execution_count": 1,
   "id": "a578f2a3-7981-4f89-a463-71ed2718fac6",
   "metadata": {},
   "outputs": [],
   "source": [
    "#pip install --user setuptools --upgrade"
   ]
  },
  {
   "cell_type": "code",
   "execution_count": 2,
   "id": "3ee6750b-f7f9-46dc-bbb7-53a6e71f7bca",
   "metadata": {
    "tags": []
   },
   "outputs": [],
   "source": [
    "import glob\n",
    "import os\n",
    "import json\n",
    "import pickle  \n",
    "import yaml\n",
    "import numpy as np\n",
    "import pandas as pd\n",
    "pd.options.mode.chained_assignment = None\n",
    "import pyarrow.parquet as pq\n",
    "import hist as hist2\n",
    "import matplotlib.pyplot as plt\n",
    "import mplhep as hep\n",
    "plt.style.use(hep.style.CMS)\n",
    "import utils_farouk2 as utils\n",
    "plt.rcParams.update({\"font.size\": 20})\n",
    "import pickle as pkl\n",
    "import uproot\n",
    "import pandas as pd\n",
    "import boost_histogram as bh\n",
    "from utils_farouk2 import plot_hists"
   ]
  },
  {
   "cell_type": "code",
   "execution_count": 3,
   "id": "6abf257f-6cd5-440b-98d3-6c9c5843c335",
   "metadata": {
    "tags": []
   },
   "outputs": [],
   "source": [
    "year = \"2017\"\n",
    "samples_dir=\"/uscms/home/jieun201/nobackup/YOURWORKINGAREA/oct4_wjet_2017/oct3_2017_826pm_2017\"\n",
    "\n",
    "samples = [ \n",
    "            \"TTbar\", \"SingleTop\",\n",
    "           \"WJetsLNu\",\n",
    "           \"DYJets\",      \n",
    "          \"WZQQ\",  \n",
    "          \"Diboson\", \n",
    "    \"EWKvjets\",\n",
    "        \"QCD\",\n",
    " \n",
    "          ]\n",
    "samples_to_plot = samples\n",
    "channels = [\"ele\", \"mu\"]\n"
   ]
  },
  {
   "cell_type": "code",
   "execution_count": null,
   "id": "abd31205-5d21-40cd-810e-48df93600396",
   "metadata": {},
   "outputs": [
    {
     "name": "stdout",
     "output_type": "stream",
     "text": [
      "luminosity 41476.02\n",
      "ATTENTION: SingleElectron_Run2017B will be skipped\n",
      "ATTENTION: SingleElectron_Run2017C will be skipped\n",
      "ATTENTION: SingleElectron_Run2017D will be skipped\n",
      "ATTENTION: SingleElectron_Run2017E will be skipped\n",
      "ATTENTION: SingleElectron_Run2017F will be skipped\n",
      "ATTENTION: SingleMuon_Run2017B will be skipped\n",
      "ATTENTION: SingleMuon_Run2017C will be skipped\n",
      "ATTENTION: SingleMuon_Run2017D will be skipped\n",
      "ATTENTION: SingleMuon_Run2017E will be skipped\n",
      "ATTENTION: SingleMuon_Run2017F will be skipped\n",
      "luminosity 41475.26\n"
     ]
    }
   ],
   "source": [
    "events_dict = utils.event_skimmer_noInference(year, channels, samples_dir, samples, \"all\", add_qcd_score=False, add_top_score=False, add_inclusive_score=False)\n",
    "h = hist2.Hist(hist2.axis.Regular(15, 40, 180, name=\"var\", label=r\"jet softdrop mass [GeV]\", overflow=True))\n",
    "\n",
    "for sample in samples_to_plot:\n",
    "    print('sample', sample)\n",
    "        \n",
    "    for ch in channels:\n",
    "      \n",
    "        df = events_dict[ch][sample] \n",
    "        df = df[       (df[\"lep_fj_dr\"] > 1.0 )   & (df[\"numberBJets_Medium_OutsideWFatJet\"] > 0)     & (df['met_pt']> 30) \n",
    "        &   (df[\"numberLeptons\"] == 1) \n",
    "        & (df[\"fj_pt\"] > 250) & (df[\"fj_pt\"] < 2000) \n",
    "        & ~(df[\"WJet_deltaR_W\"] < 0.8) \n",
    "        & (df[\"VScore_WJet\"] < 0.9)  \n",
    "        ]  \n",
    "\n",
    "\n",
    "        h.fill( var=df[\"fj_msoftdrop\"],weight=df[\"event_weight\"] )\n",
    "        \n",
    "h_uproot = uproot.to_writable(h)\n",
    "file = uproot.recreate(f\"/home/jieun201/may18/boostedhiggs/python/dec2_redo2017/catp1_fail_nominal.root\")\n",
    "file['catp1_fail_nominal']=h_uproot\n",
    "#*****\n",
    "h"
   ]
  },
  {
   "cell_type": "code",
   "execution_count": null,
   "id": "21b1e3b9-1234-4f13-bd24-2724820e9261",
   "metadata": {},
   "outputs": [],
   "source": []
  }
 ],
 "metadata": {
  "kernelspec": {
   "display_name": "Python 3 (ipykernel)",
   "language": "python",
   "name": "py3-preamble"
  },
  "language_info": {
   "codemirror_mode": {
    "name": "ipython",
    "version": 3
   },
   "file_extension": ".py",
   "mimetype": "text/x-python",
   "name": "python",
   "nbconvert_exporter": "python",
   "pygments_lexer": "ipython3",
   "version": "3.10.15"
  }
 },
 "nbformat": 4,
 "nbformat_minor": 5
}
