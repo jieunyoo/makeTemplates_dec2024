{
 "cells": [
  {
   "cell_type": "code",
   "execution_count": 1,
   "id": "8da002aa-9d84-4e08-925f-6165f60ca4f9",
   "metadata": {},
   "outputs": [],
   "source": [
    "import uproot\n",
    "import pandas as pd\n",
    "import boost_histogram as bh\n"
   ]
  },
  {
   "cell_type": "code",
   "execution_count": 2,
   "id": "784ac2ac-cbd2-4a0f-a8cf-020398156388",
   "metadata": {},
   "outputs": [],
   "source": [
    "file1 = uproot.open('/home/jieun201/may18/boostedhiggs/python/oct3_2016APV_MC/catp1_fail_nominal.root')\n",
    "file2 = uproot.open('/home/jieun201/may18/boostedhiggs/python/oct3_2016APV_MC/catp1_pass_nominal.root')\n",
    "file3 = uproot.open('/home/jieun201/may18/boostedhiggs/python/oct3_2016APV_MC/catp2_fail_nominal.root')\n",
    "file4 = uproot.open('/home/jieun201/may18/boostedhiggs/python/oct3_2016APV_MC/catp2_pass_nominal.root')\n",
    "file5 = uproot.open('/home/jieun201/may18/boostedhiggs/python/oct3_2016APV_MC/data_obs_fail_nominal.root')\n",
    "file6 = uproot.open('/home/jieun201/may18/boostedhiggs/python/oct3_2016APV_MC/data_obs_pass_nominal.root')\n"
   ]
  },
  {
   "cell_type": "code",
   "execution_count": 3,
   "id": "b5b740d7-4ade-4134-8943-10e8a0dcb532",
   "metadata": {},
   "outputs": [],
   "source": [
    "outFile = uproot.recreate(\"temp.root\")"
   ]
  },
  {
   "cell_type": "code",
   "execution_count": 4,
   "id": "81081f79-c6e7-480d-b24e-eb3763db8569",
   "metadata": {},
   "outputs": [],
   "source": [
    "h_uproot1 = uproot.to_writable(file1['catp1_fail_nominal'])\n",
    "h_uproot2 = uproot.to_writable(file2['catp1_pass_nominal'])\n",
    "h_uproot3 = uproot.to_writable(file3['catp2_fail_nominal'])\n",
    "h_uproot4 = uproot.to_writable(file4['catp2_pass_nominal'])\n",
    "h_uproot5 = uproot.to_writable(file5['data_obs_fail_nominal'])\n",
    "h_uproot6 = uproot.to_writable(file6['data_obs_pass_nominal'])"
   ]
  },
  {
   "cell_type": "code",
   "execution_count": 5,
   "id": "68ec3165-c1bd-4f9f-b3a8-7f111f535d9a",
   "metadata": {},
   "outputs": [],
   "source": [
    "outFile['catp1_fail_nominal']=h_uproot1\n",
    "outFile['catp1_pass_nominal']=h_uproot2\n",
    "outFile['catp2_fail_nominal']=h_uproot3\n",
    "outFile['catp2_pass_nominal']=h_uproot4\n",
    "outFile['data_obs_fail_nominal']=h_uproot5\n",
    "outFile['data_obs_pass_nominal']=h_uproot6"
   ]
  },
  {
   "cell_type": "code",
   "execution_count": 6,
   "id": "96f63e4c-f182-4036-9c8d-a68b11095e57",
   "metadata": {},
   "outputs": [
    {
     "data": {
      "text/plain": [
       "['catp1_fail_nominal;1',\n",
       " 'catp1_pass_nominal;1',\n",
       " 'catp2_fail_nominal;1',\n",
       " 'catp2_pass_nominal;1',\n",
       " 'data_obs_fail_nominal;1',\n",
       " 'data_obs_pass_nominal;1']"
      ]
     },
     "execution_count": 6,
     "metadata": {},
     "output_type": "execute_result"
    }
   ],
   "source": [
    "outFile.keys()"
   ]
  },
  {
   "cell_type": "code",
   "execution_count": 7,
   "id": "8e89ecfa-60c4-449c-828e-91923b2bc218",
   "metadata": {},
   "outputs": [
    {
     "data": {
      "text/plain": [
       "array([ 485.,  553.,  767., 1203., 2105., 2085., 1324.,  827.,  607.,\n",
       "        439.,  293.,  240.,  156.,  126.,  116.])"
      ]
     },
     "execution_count": 7,
     "metadata": {},
     "output_type": "execute_result"
    }
   ],
   "source": [
    "h_uproot6.values()"
   ]
  },
  {
   "cell_type": "code",
   "execution_count": 8,
   "id": "d95ec41e-5492-495a-b16e-1eb83f73b9a9",
   "metadata": {},
   "outputs": [
    {
     "data": {
      "text/plain": [
       "array([2800., 2716., 2785., 2983., 3426., 3355., 2518., 1833., 1362.,\n",
       "        861.,  669.,  450.,  262.,  207.,  186.])"
      ]
     },
     "execution_count": 8,
     "metadata": {},
     "output_type": "execute_result"
    }
   ],
   "source": [
    "h_uproot5.values()"
   ]
  },
  {
   "cell_type": "code",
   "execution_count": 9,
   "id": "aa8e08ab-acf6-4a1b-9b95-bbcea65ad895",
   "metadata": {},
   "outputs": [
    {
     "data": {
      "text/plain": [
       "array([ 120.43492622,  198.00303361,  367.59290534,  892.36993993,\n",
       "       1998.87117969, 2034.10455032, 1150.22764294,  660.18522385,\n",
       "        441.06636041,  312.03304604,  227.32662906,  160.54830737,\n",
       "        118.24516738,  107.7571817 ,  100.98488413])"
      ]
     },
     "execution_count": 9,
     "metadata": {},
     "output_type": "execute_result"
    }
   ],
   "source": [
    "h_uproot4.values()"
   ]
  },
  {
   "cell_type": "code",
   "execution_count": 10,
   "id": "973df7e7-7967-443f-83d6-50dd97aa5a36",
   "metadata": {},
   "outputs": [
    {
     "data": {
      "text/plain": [
       "array([ 374.77178258,  479.28820902,  658.50084277, 1049.81146657,\n",
       "       1741.9004547 , 1916.54533207, 1423.70546022,  960.53847378,\n",
       "        684.85844636,  492.38951048,  332.34042203,  235.32635463,\n",
       "        168.38184893,  131.82099931,  113.50758928])"
      ]
     },
     "execution_count": 10,
     "metadata": {},
     "output_type": "execute_result"
    }
   ],
   "source": [
    "h_uproot3.values()"
   ]
  },
  {
   "cell_type": "code",
   "execution_count": 11,
   "id": "a36d8105-aa4e-484c-91af-223bafb6b112",
   "metadata": {},
   "outputs": [
    {
     "data": {
      "text/plain": [
       "array([200.12842356, 397.79011985, 254.27271125, 303.79818223,\n",
       "       504.47908982, 459.20557135, 271.62250218, 171.39513312,\n",
       "       126.62198484,  85.40932251,  57.7794333 ,  43.104758  ,\n",
       "        25.61206496,  21.51507986,  21.39335841])"
      ]
     },
     "execution_count": 11,
     "metadata": {},
     "output_type": "execute_result"
    }
   ],
   "source": [
    "h_uproot2.values()"
   ]
  },
  {
   "cell_type": "code",
   "execution_count": 12,
   "id": "4ea6eb53-840a-4c18-8391-7b20faf3fe32",
   "metadata": {},
   "outputs": [
    {
     "data": {
      "text/plain": [
       "array([2302.48937961, 1674.91438302, 1993.28725659, 1728.91205957,\n",
       "       1661.74738321, 1309.08043779,  918.24669526,  859.42749509,\n",
       "        698.2219657 ,  357.32441991,  254.40949764,  175.25110311,\n",
       "        117.32814088,   75.49994996,   62.39321947])"
      ]
     },
     "execution_count": 12,
     "metadata": {},
     "output_type": "execute_result"
    }
   ],
   "source": [
    "h_uproot1.values()"
   ]
  },
  {
   "cell_type": "code",
   "execution_count": null,
   "id": "38371550-7b04-4d16-9320-b5801eaf2329",
   "metadata": {},
   "outputs": [],
   "source": []
  }
 ],
 "metadata": {
  "kernelspec": {
   "display_name": "Python 3 (ipykernel)",
   "language": "python",
   "name": "python3"
  },
  "language_info": {
   "codemirror_mode": {
    "name": "ipython",
    "version": 3
   },
   "file_extension": ".py",
   "mimetype": "text/x-python",
   "name": "python",
   "nbconvert_exporter": "python",
   "pygments_lexer": "ipython3",
   "version": "3.10.15"
  }
 },
 "nbformat": 4,
 "nbformat_minor": 5
}
