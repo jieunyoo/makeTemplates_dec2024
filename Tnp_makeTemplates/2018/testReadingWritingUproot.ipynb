{
 "cells": [
  {
   "cell_type": "code",
   "execution_count": 1,
   "id": "8da002aa-9d84-4e08-925f-6165f60ca4f9",
   "metadata": {},
   "outputs": [],
   "source": [
    "import uproot\n",
    "import pandas as pd\n",
    "import boost_histogram as bh\n"
   ]
  },
  {
   "cell_type": "code",
   "execution_count": 2,
   "id": "784ac2ac-cbd2-4a0f-a8cf-020398156388",
   "metadata": {},
   "outputs": [],
   "source": [
    "file1 = uproot.open('/home/jieun201/may18/boostedhiggs/python/oct3_2018_MC/catp1_fail_nominal.root')\n",
    "file2 = uproot.open('/home/jieun201/may18/boostedhiggs/python/oct3_2018_MC/catp1_pass_nominal.root')\n",
    "file3 = uproot.open('/home/jieun201/may18/boostedhiggs/python/oct3_2018_MC/catp2_fail_nominal.root')\n",
    "file4 = uproot.open('/home/jieun201/may18/boostedhiggs/python/oct3_2018_MC/catp2_pass_nominal.root')\n",
    "file5 = uproot.open('/home/jieun201/may18/boostedhiggs/python/oct3_2018_MC/data_obs_fail_nominal.root')\n",
    "file6 = uproot.open('/home/jieun201/may18/boostedhiggs/python/oct3_2018_MC/data_obs_pass_nominal.root')\n"
   ]
  },
  {
   "cell_type": "code",
   "execution_count": 3,
   "id": "b5b740d7-4ade-4134-8943-10e8a0dcb532",
   "metadata": {},
   "outputs": [],
   "source": [
    "outFile = uproot.recreate(\"temp.root\")"
   ]
  },
  {
   "cell_type": "code",
   "execution_count": 4,
   "id": "81081f79-c6e7-480d-b24e-eb3763db8569",
   "metadata": {},
   "outputs": [],
   "source": [
    "h_uproot1 = uproot.to_writable(file1['catp1_fail_nominal'])\n",
    "h_uproot2 = uproot.to_writable(file2['catp1_pass_nominal'])\n",
    "h_uproot3 = uproot.to_writable(file3['catp2_fail_nominal'])\n",
    "h_uproot4 = uproot.to_writable(file4['catp2_pass_nominal'])\n",
    "h_uproot5 = uproot.to_writable(file5['data_obs_fail_nominal'])\n",
    "h_uproot6 = uproot.to_writable(file6['data_obs_pass_nominal'])"
   ]
  },
  {
   "cell_type": "code",
   "execution_count": 5,
   "id": "68ec3165-c1bd-4f9f-b3a8-7f111f535d9a",
   "metadata": {},
   "outputs": [],
   "source": [
    "outFile['catp1_fail_nominal']=h_uproot1\n",
    "outFile['catp1_pass_nominal']=h_uproot2\n",
    "outFile['catp2_fail_nominal']=h_uproot3\n",
    "outFile['catp2_pass_nominal']=h_uproot4\n",
    "outFile['data_obs_fail_nominal']=h_uproot5\n",
    "outFile['data_obs_pass_nominal']=h_uproot6"
   ]
  },
  {
   "cell_type": "code",
   "execution_count": 6,
   "id": "96f63e4c-f182-4036-9c8d-a68b11095e57",
   "metadata": {},
   "outputs": [
    {
     "data": {
      "text/plain": [
       "['catp1_fail_nominal;1',\n",
       " 'catp1_pass_nominal;1',\n",
       " 'catp2_fail_nominal;1',\n",
       " 'catp2_pass_nominal;1',\n",
       " 'data_obs_fail_nominal;1',\n",
       " 'data_obs_pass_nominal;1']"
      ]
     },
     "execution_count": 6,
     "metadata": {},
     "output_type": "execute_result"
    }
   ],
   "source": [
    "outFile.keys()"
   ]
  },
  {
   "cell_type": "code",
   "execution_count": 7,
   "id": "8e89ecfa-60c4-449c-828e-91923b2bc218",
   "metadata": {},
   "outputs": [
    {
     "data": {
      "text/plain": [
       "array([1356., 1490., 1985., 3571., 6147., 5754., 3555., 2351., 1629.,\n",
       "       1143.,  795.,  589.,  458.,  396.,  368.])"
      ]
     },
     "execution_count": 7,
     "metadata": {},
     "output_type": "execute_result"
    }
   ],
   "source": [
    "h_uproot6.values()"
   ]
  },
  {
   "cell_type": "code",
   "execution_count": 8,
   "id": "d95ec41e-5492-495a-b16e-1eb83f73b9a9",
   "metadata": {},
   "outputs": [
    {
     "data": {
      "text/plain": [
       "array([ 8955.,  8896.,  9136., 10348., 11891., 11140.,  8362.,  5928.,\n",
       "        4435.,  2991.,  2075.,  1511.,  1056.,   835.,   639.])"
      ]
     },
     "execution_count": 8,
     "metadata": {},
     "output_type": "execute_result"
    }
   ],
   "source": [
    "h_uproot5.values()"
   ]
  },
  {
   "cell_type": "code",
   "execution_count": 9,
   "id": "aa8e08ab-acf6-4a1b-9b95-bbcea65ad895",
   "metadata": {},
   "outputs": [
    {
     "data": {
      "text/plain": [
       "array([ 388.38028239,  638.61968542, 1134.54424045, 2783.65147032,\n",
       "       6199.5495562 , 6280.69567458, 3534.73428514, 1993.27675271,\n",
       "       1325.86653599,  913.37514466,  664.46462527,  491.84494484,\n",
       "        357.85908806,  318.41571437,  319.72238096])"
      ]
     },
     "execution_count": 9,
     "metadata": {},
     "output_type": "execute_result"
    }
   ],
   "source": [
    "h_uproot4.values()"
   ]
  },
  {
   "cell_type": "code",
   "execution_count": 10,
   "id": "973df7e7-7967-443f-83d6-50dd97aa5a36",
   "metadata": {},
   "outputs": [
    {
     "data": {
      "text/plain": [
       "array([1419.60471627, 1861.20901419, 2498.19309368, 4033.51591317,\n",
       "       6677.60314529, 7488.11031576, 5496.44128356, 3768.85836201,\n",
       "       2640.78424804, 1857.83850415, 1284.76574034,  903.94911652,\n",
       "        629.80380209,  501.12573544,  439.49867446])"
      ]
     },
     "execution_count": 10,
     "metadata": {},
     "output_type": "execute_result"
    }
   ],
   "source": [
    "h_uproot3.values()"
   ]
  },
  {
   "cell_type": "code",
   "execution_count": 11,
   "id": "a36d8105-aa4e-484c-91af-223bafb6b112",
   "metadata": {},
   "outputs": [
    {
     "data": {
      "text/plain": [
       "array([ 627.44030965,  697.581217  ,  746.58903063,  924.09617749,\n",
       "       1273.37454192, 1187.34256991,  819.3386139 ,  516.26424698,\n",
       "        358.43020104,  544.53916186,  158.53339757,  113.93490556,\n",
       "         77.76662037,   67.41280199,   58.95655352])"
      ]
     },
     "execution_count": 11,
     "metadata": {},
     "output_type": "execute_result"
    }
   ],
   "source": [
    "h_uproot2.values()"
   ]
  },
  {
   "cell_type": "code",
   "execution_count": 12,
   "id": "4ea6eb53-840a-4c18-8391-7b20faf3fe32",
   "metadata": {},
   "outputs": [
    {
     "data": {
      "text/plain": [
       "array([8773.8570116 , 7678.47588693, 8048.3542681 , 7460.50933655,\n",
       "       6309.10905257, 5486.39138204, 4550.60308309, 2977.31352309,\n",
       "       2271.88628886, 1326.17093454,  942.27246884,  615.93414009,\n",
       "        430.03170727,  300.77961134,  227.38070489])"
      ]
     },
     "execution_count": 12,
     "metadata": {},
     "output_type": "execute_result"
    }
   ],
   "source": [
    "h_uproot1.values()"
   ]
  },
  {
   "cell_type": "code",
   "execution_count": null,
   "id": "38371550-7b04-4d16-9320-b5801eaf2329",
   "metadata": {},
   "outputs": [],
   "source": []
  }
 ],
 "metadata": {
  "kernelspec": {
   "display_name": "Python 3 (ipykernel)",
   "language": "python",
   "name": "python3"
  },
  "language_info": {
   "codemirror_mode": {
    "name": "ipython",
    "version": 3
   },
   "file_extension": ".py",
   "mimetype": "text/x-python",
   "name": "python",
   "nbconvert_exporter": "python",
   "pygments_lexer": "ipython3",
   "version": "3.10.15"
  }
 },
 "nbformat": 4,
 "nbformat_minor": 5
}
