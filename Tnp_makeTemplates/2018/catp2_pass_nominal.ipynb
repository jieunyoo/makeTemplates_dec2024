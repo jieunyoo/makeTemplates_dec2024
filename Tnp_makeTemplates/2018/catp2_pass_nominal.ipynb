{
 "cells": [
  {
   "cell_type": "code",
   "execution_count": 1,
   "id": "3ee6750b-f7f9-46dc-bbb7-53a6e71f7bca",
   "metadata": {
    "tags": []
   },
   "outputs": [],
   "source": [
    "import glob\n",
    "import os\n",
    "import json\n",
    "import pickle  \n",
    "import yaml\n",
    "import numpy as np\n",
    "import pandas as pd\n",
    "pd.options.mode.chained_assignment = None\n",
    "import pyarrow.parquet as pq\n",
    "import hist as hist2\n",
    "import matplotlib.pyplot as plt\n",
    "import mplhep as hep\n",
    "plt.style.use(hep.style.CMS)\n",
    "import utils_farouk2 as utils\n",
    "plt.rcParams.update({\"font.size\": 20})\n",
    "import pickle as pkl\n",
    "import uproot\n",
    "import pandas as pd\n",
    "import boost_histogram as bh\n",
    "from utils_farouk2 import plot_hists"
   ]
  },
  {
   "cell_type": "code",
   "execution_count": 2,
   "id": "6abf257f-6cd5-440b-98d3-6c9c5843c335",
   "metadata": {
    "tags": []
   },
   "outputs": [],
   "source": [
    "year = \"2018\"\n",
    "samples_dir=\"/uscms/home/jieun201/nobackup/YOURWORKINGAREA/oct4_wjet_2018/oct3_2018_826pm_2018\"\n",
    "\n",
    "samples = [  \n",
    "            \"TTbar\", \"SingleTop\",\n",
    "           \"WJetsLNu\",\n",
    "           \"DYJets\",      \n",
    "          \"WZQQ\",  \n",
    "          \"Diboson\", \n",
    "    \"EWKvjets\",\n",
    "        \"QCD\",\n",
    "\n",
    "          ]\n",
    "samples_to_plot = samples\n",
    "channels = [\"ele\", \"mu\"]\n"
   ]
  },
  {
   "cell_type": "code",
   "execution_count": 3,
   "id": "abd31205-5d21-40cd-810e-48df93600396",
   "metadata": {},
   "outputs": [
    {
     "name": "stdout",
     "output_type": "stream",
     "text": [
      "luminosity 59816.23\n",
      "ATTENTION: EGamma_Run2018A will be skipped\n",
      "ATTENTION: EGamma_Run2018B will be skipped\n",
      "ATTENTION: EGamma_Run2018C will be skipped\n",
      "ATTENTION: EGamma_Run2018D will be skipped\n",
      "ATTENTION: SingleMuon_Run2018A will be skipped\n",
      "ATTENTION: SingleMuon_Run2018B will be skipped\n",
      "ATTENTION: SingleMuon_Run2018C will be skipped\n",
      "ATTENTION: SingleMuon_Run2018D will be skipped\n",
      "luminosity 59781.96\n",
      "ATTENTION: EGamma_Run2018A will be skipped\n",
      "ATTENTION: EGamma_Run2018B will be skipped\n",
      "ATTENTION: EGamma_Run2018C will be skipped\n",
      "ATTENTION: EGamma_Run2018D will be skipped\n",
      "ATTENTION: SingleMuon_Run2018A will be skipped\n",
      "ATTENTION: SingleMuon_Run2018B will be skipped\n",
      "ATTENTION: SingleMuon_Run2018C will be skipped\n",
      "ATTENTION: SingleMuon_Run2018D will be skipped\n",
      "sample TTbar\n",
      "sample SingleTop\n",
      "sample WJetsLNu\n",
      "sample DYJets\n",
      "sample WZQQ\n",
      "sample Diboson\n",
      "sample EWKvjets\n",
      "sample QCD\n"
     ]
    },
    {
     "data": {
      "text/html": [
       "<html>\n",
       "<div style=\"display:flex; align-items:center;\">\n",
       "<div style=\"width:290px;\">\n",
       "<svg xmlns=\"http://www.w3.org/2000/svg\" viewBox=\"-10 -105 270 120\">\n",
       "<line x1=\"-5\" y1=\"0\" x2=\"255\" y2=\"0\" style=\"fill:none;stroke-width:2;stroke:currentColor\"/>\n",
       "<text text-anchor=\"middle\" x=\"0\" y=\"15\" style=\"fill:currentColor;\">\n",
       "40\n",
       "</text>\n",
       "<text text-anchor=\"middle\" x=\"250\" y=\"15\" style=\"fill:currentColor;\">\n",
       "180\n",
       "</text>\n",
       "<text text-anchor=\"middle\" x=\"125.0\" y=\"15\" style=\"fill:currentColor;\">\n",
       "jet softdrop mass [GeV]\n",
       "</text>\n",
       "<polyline points=\"  0,0   0,-6.18 16.6667,-6.18 16.6667,-10.2 33.3333,-10.2 33.3333,-18.1  50,-18.1  50,-44.3 66.6667,-44.3 66.6667,-98.7 83.3333,-98.7 83.3333,-100 100,-100 100,-56.3 116.667,-56.3 116.667,-31.7 133.333,-31.7 133.333,-21.1 150,-21.1 150,-14.5 166.667,-14.5 166.667,-10.6 183.333,-10.6 183.333,-7.83 200,-7.83 200,-5.7 216.667,-5.7 216.667,-5.07 233.333,-5.07 233.333,-5.09 250,-5.09 250,0\" style=\"fill:none; stroke:currentColor;\"/>\n",
       "</svg>\n",
       "</div>\n",
       "<div style=\"flex=grow:1;\">\n",
       "Regular(15, 40, 180, name='var', label='jet softdrop mass [GeV]')<br/>\n",
       "<hr style=\"margin-top:.2em; margin-bottom:.2em;\"/>\n",
       "Double() Σ=27345.000381374077 <em>(29124.91585845943 with flow)</em>\n",
       "\n",
       "</div>\n",
       "</div>\n",
       "</html>"
      ],
      "text/plain": [
       "Hist(Regular(15, 40, 180, name='var', label='jet softdrop mass [GeV]'), storage=Double()) # Sum: 27345.000381374077 (29124.91585845943 with flow)"
      ]
     },
     "execution_count": 3,
     "metadata": {},
     "output_type": "execute_result"
    }
   ],
   "source": [
    "events_dict = utils.event_skimmer_noInference(year, channels, samples_dir, samples, \"all\", add_qcd_score=False, add_top_score=False, add_inclusive_score=False)\n",
    "h = hist2.Hist(hist2.axis.Regular(15, 40, 180, name=\"var\", label=r\"jet softdrop mass [GeV]\", overflow=True))\n",
    "\n",
    "for sample in samples_to_plot:\n",
    "    print('sample', sample)\n",
    "        \n",
    "    for ch in channels:\n",
    "      \n",
    "        df = events_dict[ch][sample] \n",
    "        df = df[       (df[\"lep_fj_dr\"] > 1.0 )   & (df[\"numberBJets_Medium_OutsideWFatJet\"] > 0)     & (df['met_pt']> 30) \n",
    "        &   (df[\"numberLeptons\"] == 1) \n",
    "        & (df[\"fj_pt\"] > 250) & (df[\"fj_pt\"] < 2000) \n",
    "        & (df[\"WJet_deltaR_W\"] < 0.8) & (df[\"VScore_WJet\"] > 0.9)  \n",
    "        ]  \n",
    "\n",
    "\n",
    "        h.fill( var=df[\"fj_msoftdrop\"],weight=df[\"event_weight\"] )\n",
    "        \n",
    "h_uproot = uproot.to_writable(h)\n",
    "file = uproot.recreate(f\"/home/jieun201/may18/boostedhiggs/python/oct3_2018_MC/catp2_pass_nominal.root\")\n",
    "file['catp2_pass_nominal']=h_uproot\n",
    "#*****\n",
    "h"
   ]
  },
  {
   "cell_type": "code",
   "execution_count": null,
   "id": "21b1e3b9-1234-4f13-bd24-2724820e9261",
   "metadata": {},
   "outputs": [],
   "source": []
  }
 ],
 "metadata": {
  "kernelspec": {
   "display_name": "Python 3 (ipykernel)",
   "language": "python",
   "name": "py3-preamble"
  },
  "language_info": {
   "codemirror_mode": {
    "name": "ipython",
    "version": 3
   },
   "file_extension": ".py",
   "mimetype": "text/x-python",
   "name": "python",
   "nbconvert_exporter": "python",
   "pygments_lexer": "ipython3",
   "version": "3.10.15"
  }
 },
 "nbformat": 4,
 "nbformat_minor": 5
}
