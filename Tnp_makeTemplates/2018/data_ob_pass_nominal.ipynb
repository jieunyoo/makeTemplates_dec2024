{
 "cells": [
  {
   "cell_type": "code",
   "execution_count": 1,
   "id": "3ee6750b-f7f9-46dc-bbb7-53a6e71f7bca",
   "metadata": {
    "tags": []
   },
   "outputs": [],
   "source": [
    "import glob\n",
    "import os\n",
    "import json\n",
    "import pickle  \n",
    "import yaml\n",
    "import numpy as np\n",
    "import pandas as pd\n",
    "pd.options.mode.chained_assignment = None\n",
    "import pyarrow.parquet as pq\n",
    "import hist as hist2\n",
    "import matplotlib.pyplot as plt\n",
    "import mplhep as hep\n",
    "plt.style.use(hep.style.CMS)\n",
    "import utils_farouk2 as utils\n",
    "plt.rcParams.update({\"font.size\": 20})\n",
    "import pickle as pkl\n",
    "import uproot\n",
    "import pandas as pd\n",
    "import boost_histogram as bh\n",
    "from utils_farouk2 import plot_hists"
   ]
  },
  {
   "cell_type": "code",
   "execution_count": 2,
   "id": "6abf257f-6cd5-440b-98d3-6c9c5843c335",
   "metadata": {
    "tags": []
   },
   "outputs": [],
   "source": [
    "year = \"2018\"\n",
    "samples_dir=\"/uscms/home/jieun201/nobackup/YOURWORKINGAREA/wJet/2018/data/\"\n",
    "\n",
    "samples = [  \n",
    "           \"Data\",\n",
    "          ]\n",
    "samples_to_plot = samples\n",
    "channels = [\"ele\", \"mu\"]\n"
   ]
  },
  {
   "cell_type": "code",
   "execution_count": 3,
   "id": "abd31205-5d21-40cd-810e-48df93600396",
   "metadata": {},
   "outputs": [
    {
     "name": "stdout",
     "output_type": "stream",
     "text": [
      "luminosity 59816.23\n",
      "is data\n",
      "is data\n",
      "is data\n",
      "is data\n",
      "is data\n",
      "is data\n",
      "is data\n",
      "is data\n",
      "luminosity 59781.96\n",
      "is data\n",
      "is data\n",
      "is data\n",
      "is data\n",
      "is data\n",
      "is data\n",
      "is data\n",
      "is data\n",
      "sample Data\n"
     ]
    },
    {
     "data": {
      "text/html": [
       "<html>\n",
       "<div style=\"display:flex; align-items:center;\">\n",
       "<div style=\"width:290px;\">\n",
       "<svg xmlns=\"http://www.w3.org/2000/svg\" viewBox=\"-10 -105 270 120\">\n",
       "<line x1=\"-5\" y1=\"0\" x2=\"255\" y2=\"0\" style=\"fill:none;stroke-width:2;stroke:currentColor\"/>\n",
       "<text text-anchor=\"middle\" x=\"0\" y=\"15\" style=\"fill:currentColor;\">\n",
       "40\n",
       "</text>\n",
       "<text text-anchor=\"middle\" x=\"250\" y=\"15\" style=\"fill:currentColor;\">\n",
       "180\n",
       "</text>\n",
       "<text text-anchor=\"middle\" x=\"125.0\" y=\"15\" style=\"fill:currentColor;\">\n",
       "jet softdrop mass [GeV]\n",
       "</text>\n",
       "<polyline points=\"  0,0   0,-22.1 16.6667,-22.1 16.6667,-24.2 33.3333,-24.2 33.3333,-32.3  50,-32.3  50,-58.1 66.6667,-58.1 66.6667,-100 83.3333,-100 83.3333,-93.6 100,-93.6 100,-57.8 116.667,-57.8 116.667,-38.2 133.333,-38.2 133.333,-26.5 150,-26.5 150,-18.6 166.667,-18.6 166.667,-12.9 183.333,-12.9 183.333,-9.58 200,-9.58 200,-7.45 216.667,-7.45 216.667,-6.44 233.333,-6.44 233.333,-5.99 250,-5.99 250,0\" style=\"fill:none; stroke:currentColor;\"/>\n",
       "</svg>\n",
       "</div>\n",
       "<div style=\"flex=grow:1;\">\n",
       "Regular(15, 40, 180, name='var', label='jet softdrop mass [GeV]')<br/>\n",
       "<hr style=\"margin-top:.2em; margin-bottom:.2em;\"/>\n",
       "Double() Σ=31587.0 <em>(38706.0 with flow)</em>\n",
       "\n",
       "</div>\n",
       "</div>\n",
       "</html>"
      ],
      "text/plain": [
       "Hist(Regular(15, 40, 180, name='var', label='jet softdrop mass [GeV]'), storage=Double()) # Sum: 31587.0 (38706.0 with flow)"
      ]
     },
     "execution_count": 3,
     "metadata": {},
     "output_type": "execute_result"
    }
   ],
   "source": [
    "events_dict = utils.event_skimmer_noInference(year, channels, samples_dir, samples, \"all\", add_qcd_score=False, add_top_score=False, add_inclusive_score=False)\n",
    "h = hist2.Hist(hist2.axis.Regular(15, 40, 180, name=\"var\", label=r\"jet softdrop mass [GeV]\", overflow=True))\n",
    "\n",
    "for sample in samples_to_plot:\n",
    "    print('sample', sample)\n",
    "        \n",
    "    for ch in channels:\n",
    "      \n",
    "        df = events_dict[ch][sample] \n",
    "        df = df[       (df[\"lep_fj_dr\"] > 1.0 )   & (df[\"numberBJets_Medium_OutsideWFatJet\"] > 0)     & (df['met_pt']> 30) \n",
    "        &   (df[\"numberLeptons\"] == 1) \n",
    "        & (df[\"fj_pt\"] > 250) & (df[\"fj_pt\"] < 2000) \n",
    "         & (df[\"VScore_WJet\"] > 0.9)  \n",
    "        ]  \n",
    "        h.fill( var=df[\"fj_msoftdrop\"],weight=df[\"event_weight\"] )\n",
    "\n",
    "\n",
    "h_uproot = uproot.to_writable(h)\n",
    "file = uproot.recreate(f\"/home/jieun201/may18/boostedhiggs/python/oct3_2018_MC/data_obs_pass_nominal.root\")\n",
    "file['data_obs_pass_nominal']=h_uproot\n",
    "#*****\n",
    "h\n"
   ]
  },
  {
   "cell_type": "code",
   "execution_count": 4,
   "id": "534f29af-7b32-48ef-9ec2-006d19f3dd09",
   "metadata": {},
   "outputs": [
    {
     "data": {
      "text/plain": [
       "array([1356., 1490., 1985., 3571., 6147., 5754., 3555., 2351., 1629.,\n",
       "       1143.,  795.,  589.,  458.,  396.,  368.])"
      ]
     },
     "execution_count": 4,
     "metadata": {},
     "output_type": "execute_result"
    }
   ],
   "source": [
    "h.view()\n"
   ]
  },
  {
   "cell_type": "code",
   "execution_count": null,
   "id": "a01668c9-145d-41e0-862c-6f52791d4456",
   "metadata": {},
   "outputs": [],
   "source": []
  }
 ],
 "metadata": {
  "kernelspec": {
   "display_name": "Python 3 (ipykernel)",
   "language": "python",
   "name": "py3-preamble"
  },
  "language_info": {
   "codemirror_mode": {
    "name": "ipython",
    "version": 3
   },
   "file_extension": ".py",
   "mimetype": "text/x-python",
   "name": "python",
   "nbconvert_exporter": "python",
   "pygments_lexer": "ipython3",
   "version": "3.10.15"
  }
 },
 "nbformat": 4,
 "nbformat_minor": 5
}
