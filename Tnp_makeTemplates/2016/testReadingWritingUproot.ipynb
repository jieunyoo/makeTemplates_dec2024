{
 "cells": [
  {
   "cell_type": "code",
   "execution_count": 1,
   "id": "8da002aa-9d84-4e08-925f-6165f60ca4f9",
   "metadata": {},
   "outputs": [],
   "source": [
    "import uproot\n",
    "import pandas as pd\n",
    "import boost_histogram as bh\n"
   ]
  },
  {
   "cell_type": "code",
   "execution_count": 2,
   "id": "784ac2ac-cbd2-4a0f-a8cf-020398156388",
   "metadata": {},
   "outputs": [],
   "source": [
    "file1 = uproot.open('/home/jieun201/may18/boostedhiggs/python/dec2_redo2016/catp1_fail_nominal.root')\n",
    "file2 = uproot.open('/home/jieun201/may18/boostedhiggs/python/dec2_redo2016/catp1_pass_nominal.root')\n",
    "file3 = uproot.open('/home/jieun201/may18/boostedhiggs/python/dec2_redo2016/catp2_fail_nominal.root')\n",
    "file4 = uproot.open('/home/jieun201/may18/boostedhiggs/python/dec2_redo2016/catp2_pass_nominal.root')\n",
    "file5 = uproot.open('/home/jieun201/may18/boostedhiggs/python/dec2_redo2016/data_obs_fail_nominal.root')\n",
    "file6 = uproot.open('/home/jieun201/may18/boostedhiggs/python/dec2_redo2016/data_obs_pass_nominal.root')\n"
   ]
  },
  {
   "cell_type": "code",
   "execution_count": 3,
   "id": "b5b740d7-4ade-4134-8943-10e8a0dcb532",
   "metadata": {},
   "outputs": [],
   "source": [
    "outFile = uproot.recreate(\"temp.root\")"
   ]
  },
  {
   "cell_type": "code",
   "execution_count": 4,
   "id": "81081f79-c6e7-480d-b24e-eb3763db8569",
   "metadata": {},
   "outputs": [],
   "source": [
    "h_uproot1 = uproot.to_writable(file1['catp1_fail_nominal'])\n",
    "h_uproot2 = uproot.to_writable(file2['catp1_pass_nominal'])\n",
    "h_uproot3 = uproot.to_writable(file3['catp2_fail_nominal'])\n",
    "h_uproot4 = uproot.to_writable(file4['catp2_pass_nominal'])\n",
    "h_uproot5 = uproot.to_writable(file5['data_obs_fail_nominal'])\n",
    "h_uproot6 = uproot.to_writable(file6['data_obs_pass_nominal'])"
   ]
  },
  {
   "cell_type": "code",
   "execution_count": 5,
   "id": "68ec3165-c1bd-4f9f-b3a8-7f111f535d9a",
   "metadata": {},
   "outputs": [],
   "source": [
    "outFile['catp1_fail_nominal']=h_uproot1\n",
    "outFile['catp1_pass_nominal']=h_uproot2\n",
    "outFile['catp2_fail_nominal']=h_uproot3\n",
    "outFile['catp2_pass_nominal']=h_uproot4\n",
    "outFile['data_obs_fail_nominal']=h_uproot5\n",
    "outFile['data_obs_pass_nominal']=h_uproot6"
   ]
  },
  {
   "cell_type": "code",
   "execution_count": 6,
   "id": "96f63e4c-f182-4036-9c8d-a68b11095e57",
   "metadata": {},
   "outputs": [
    {
     "data": {
      "text/plain": [
       "['catp1_fail_nominal;1',\n",
       " 'catp1_pass_nominal;1',\n",
       " 'catp2_fail_nominal;1',\n",
       " 'catp2_pass_nominal;1',\n",
       " 'data_obs_fail_nominal;1',\n",
       " 'data_obs_pass_nominal;1']"
      ]
     },
     "execution_count": 6,
     "metadata": {},
     "output_type": "execute_result"
    }
   ],
   "source": [
    "outFile.keys()"
   ]
  },
  {
   "cell_type": "code",
   "execution_count": 7,
   "id": "8e89ecfa-60c4-449c-828e-91923b2bc218",
   "metadata": {},
   "outputs": [
    {
     "data": {
      "text/plain": [
       "array([ 383.,  459.,  600., 1009., 1709., 1744., 1238.,  737.,  519.,\n",
       "        360.,  244.,  191.,  127.,  105.,  101.])"
      ]
     },
     "execution_count": 7,
     "metadata": {},
     "output_type": "execute_result"
    }
   ],
   "source": [
    "h_uproot6.values()"
   ]
  },
  {
   "cell_type": "code",
   "execution_count": 8,
   "id": "d95ec41e-5492-495a-b16e-1eb83f73b9a9",
   "metadata": {},
   "outputs": [
    {
     "data": {
      "text/plain": [
       "array([2428., 2369., 2499., 2775., 3222., 3133., 2501., 1771., 1267.,\n",
       "        828.,  612.,  440.,  297.,  219.,  180.])"
      ]
     },
     "execution_count": 8,
     "metadata": {},
     "output_type": "execute_result"
    }
   ],
   "source": [
    "h_uproot5.values()"
   ]
  },
  {
   "cell_type": "code",
   "execution_count": 9,
   "id": "aa8e08ab-acf6-4a1b-9b95-bbcea65ad895",
   "metadata": {},
   "outputs": [
    {
     "data": {
      "text/plain": [
       "array([ 115.74174226,  191.11522524,  322.34410774,  797.47062038,\n",
       "       1808.104304  , 1924.0997042 , 1102.54062639,  612.54857372,\n",
       "        406.09442436,  296.96733017,  204.50389916,  141.3168283 ,\n",
       "        105.93240978,   91.56584697,   91.65493709])"
      ]
     },
     "execution_count": 9,
     "metadata": {},
     "output_type": "execute_result"
    }
   ],
   "source": [
    "h_uproot4.values()"
   ]
  },
  {
   "cell_type": "code",
   "execution_count": 10,
   "id": "973df7e7-7967-443f-83d6-50dd97aa5a36",
   "metadata": {},
   "outputs": [
    {
     "data": {
      "text/plain": [
       "array([ 352.36667169,  477.18022588,  631.57680624, 1014.79251503,\n",
       "       1676.78585182, 1908.23702418, 1431.9168884 ,  966.69962867,\n",
       "        676.20111699,  469.21250898,  327.86920766,  223.58324432,\n",
       "        163.74059183,  121.93705827,  107.19049462])"
      ]
     },
     "execution_count": 10,
     "metadata": {},
     "output_type": "execute_result"
    }
   ],
   "source": [
    "h_uproot3.values()"
   ]
  },
  {
   "cell_type": "code",
   "execution_count": 11,
   "id": "a36d8105-aa4e-484c-91af-223bafb6b112",
   "metadata": {},
   "outputs": [
    {
     "data": {
      "text/plain": [
       "array([225.17585489, 275.21311234, 297.00263678, 351.93551873,\n",
       "       400.78498414, 465.81196921, 241.09884929, 165.97349394,\n",
       "       112.71158811,  76.10382181,  53.48238141,  34.30499886,\n",
       "        26.17251578,  22.1342838 ,  19.24807605])"
      ]
     },
     "execution_count": 11,
     "metadata": {},
     "output_type": "execute_result"
    }
   ],
   "source": [
    "h_uproot2.values()"
   ]
  },
  {
   "cell_type": "code",
   "execution_count": 12,
   "id": "4ea6eb53-840a-4c18-8391-7b20faf3fe32",
   "metadata": {},
   "outputs": [
    {
     "data": {
      "text/plain": [
       "array([1854.91468551, 1659.09775834, 1776.02017926, 1685.15552147,\n",
       "       1665.42030245, 1239.9960179 , 1279.58429314,  810.88905456,\n",
       "        586.2868572 ,  354.77545658,  243.86593451,  159.57034091,\n",
       "        107.05839872,   78.37097513,   50.83605535])"
      ]
     },
     "execution_count": 12,
     "metadata": {},
     "output_type": "execute_result"
    }
   ],
   "source": [
    "h_uproot1.values()"
   ]
  },
  {
   "cell_type": "code",
   "execution_count": null,
   "id": "38371550-7b04-4d16-9320-b5801eaf2329",
   "metadata": {},
   "outputs": [],
   "source": []
  }
 ],
 "metadata": {
  "kernelspec": {
   "display_name": "Python 3 (ipykernel)",
   "language": "python",
   "name": "python3"
  },
  "language_info": {
   "codemirror_mode": {
    "name": "ipython",
    "version": 3
   },
   "file_extension": ".py",
   "mimetype": "text/x-python",
   "name": "python",
   "nbconvert_exporter": "python",
   "pygments_lexer": "ipython3",
   "version": "3.10.15"
  }
 },
 "nbformat": 4,
 "nbformat_minor": 5
}
