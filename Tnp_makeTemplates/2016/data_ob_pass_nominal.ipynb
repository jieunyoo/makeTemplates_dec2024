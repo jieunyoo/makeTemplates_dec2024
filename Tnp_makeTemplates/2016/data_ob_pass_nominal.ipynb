{
 "cells": [
  {
   "cell_type": "code",
   "execution_count": 1,
   "id": "3ee6750b-f7f9-46dc-bbb7-53a6e71f7bca",
   "metadata": {
    "tags": []
   },
   "outputs": [],
   "source": [
    "import glob\n",
    "import os\n",
    "import json\n",
    "import pickle  \n",
    "import yaml\n",
    "import numpy as np\n",
    "import pandas as pd\n",
    "pd.options.mode.chained_assignment = None\n",
    "import pyarrow.parquet as pq\n",
    "import hist as hist2\n",
    "import matplotlib.pyplot as plt\n",
    "import mplhep as hep\n",
    "plt.style.use(hep.style.CMS)\n",
    "import utils_farouk2 as utils\n",
    "plt.rcParams.update({\"font.size\": 20})\n",
    "import pickle as pkl\n",
    "import uproot\n",
    "import pandas as pd\n",
    "import boost_histogram as bh\n",
    "from utils_farouk2 import plot_hists"
   ]
  },
  {
   "cell_type": "code",
   "execution_count": 2,
   "id": "6abf257f-6cd5-440b-98d3-6c9c5843c335",
   "metadata": {
    "tags": []
   },
   "outputs": [],
   "source": [
    "year = \"2016\"\n",
    "samples_dir=\"/uscms/home/jieun201/nobackup/YOURWORKINGAREA/wJet/2016/aug16_wjetData_2016\"\n",
    "samples = [  \n",
    "           \"Data\",\n",
    "          ]\n",
    "samples_to_plot = samples\n",
    "channels = [\"ele\", \"mu\"]\n"
   ]
  },
  {
   "cell_type": "code",
   "execution_count": 3,
   "id": "abd31205-5d21-40cd-810e-48df93600396",
   "metadata": {},
   "outputs": [
    {
     "name": "stdout",
     "output_type": "stream",
     "text": [
      "luminosity 16809.96\n",
      "is data\n",
      "is data\n",
      "is data\n",
      "is data\n",
      "is data\n",
      "is data\n",
      "luminosity 16810.81\n",
      "is data\n",
      "is data\n",
      "is data\n",
      "is data\n",
      "is data\n",
      "is data\n",
      "sample Data\n"
     ]
    },
    {
     "data": {
      "text/html": [
       "<html>\n",
       "<div style=\"display:flex; align-items:center;\">\n",
       "<div style=\"width:290px;\">\n",
       "<svg xmlns=\"http://www.w3.org/2000/svg\" viewBox=\"-10 -105 270 120\">\n",
       "<line x1=\"-5\" y1=\"0\" x2=\"255\" y2=\"0\" style=\"fill:none;stroke-width:2;stroke:currentColor\"/>\n",
       "<text text-anchor=\"middle\" x=\"0\" y=\"15\" style=\"fill:currentColor;\">\n",
       "40\n",
       "</text>\n",
       "<text text-anchor=\"middle\" x=\"250\" y=\"15\" style=\"fill:currentColor;\">\n",
       "180\n",
       "</text>\n",
       "<text text-anchor=\"middle\" x=\"125.0\" y=\"15\" style=\"fill:currentColor;\">\n",
       "jet softdrop mass [GeV]\n",
       "</text>\n",
       "<polyline points=\"  0,0   0,-22 16.6667,-22 16.6667,-26.3 33.3333,-26.3 33.3333,-34.4  50,-34.4  50,-57.9 66.6667,-57.9 66.6667,-98 83.3333,-98 83.3333,-100 100,-100 100,-71 116.667,-71 116.667,-42.3 133.333,-42.3 133.333,-29.8 150,-29.8 150,-20.6 166.667,-20.6 166.667,-14 183.333,-14 183.333,-11 200,-11 200,-7.28 216.667,-7.28 216.667,-6.02 233.333,-6.02 233.333,-5.79 250,-5.79 250,0\" style=\"fill:none; stroke:currentColor;\"/>\n",
       "</svg>\n",
       "</div>\n",
       "<div style=\"flex=grow:1;\">\n",
       "Regular(15, 40, 180, name='var', label='jet softdrop mass [GeV]')<br/>\n",
       "<hr style=\"margin-top:.2em; margin-bottom:.2em;\"/>\n",
       "Double() Σ=9526.0 <em>(11610.0 with flow)</em>\n",
       "\n",
       "</div>\n",
       "</div>\n",
       "</html>"
      ],
      "text/plain": [
       "Hist(Regular(15, 40, 180, name='var', label='jet softdrop mass [GeV]'), storage=Double()) # Sum: 9526.0 (11610.0 with flow)"
      ]
     },
     "execution_count": 3,
     "metadata": {},
     "output_type": "execute_result"
    }
   ],
   "source": [
    "events_dict = utils.event_skimmer_noInference(year, channels, samples_dir, samples, \"all\", add_qcd_score=False, add_top_score=False, add_inclusive_score=False)\n",
    "h = hist2.Hist(hist2.axis.Regular(15, 40, 180, name=\"var\", label=r\"jet softdrop mass [GeV]\", overflow=True))\n",
    "\n",
    "for sample in samples_to_plot:\n",
    "    print('sample', sample)\n",
    "        \n",
    "    for ch in channels:\n",
    "      \n",
    "        df = events_dict[ch][sample] \n",
    "        df = df[       (df[\"lep_fj_dr\"] > 1.0 )   & (df[\"numberBJets_Medium_OutsideWFatJet\"] > 0)     & (df['met_pt']> 30) \n",
    "        &   (df[\"numberLeptons\"] == 1) \n",
    "        & (df[\"fj_pt\"] > 250) & (df[\"fj_pt\"] < 2000) \n",
    "         & (df[\"VScore_WJet\"] > 0.9)  \n",
    "        ]  \n",
    "        h.fill( var=df[\"fj_msoftdrop\"],weight=df[\"event_weight\"] )\n",
    "\n",
    "\n",
    "h_uproot = uproot.to_writable(h)\n",
    "file = uproot.recreate(f\"/home/jieun201/may18/boostedhiggs/python/dec2_redo2016/data_obs_pass_nominal.root\")\n",
    "file['data_obs_pass_nominal']=h_uproot\n",
    "#*****\n",
    "h\n"
   ]
  },
  {
   "cell_type": "code",
   "execution_count": 4,
   "id": "534f29af-7b32-48ef-9ec2-006d19f3dd09",
   "metadata": {},
   "outputs": [
    {
     "data": {
      "text/plain": [
       "array([ 383.,  459.,  600., 1009., 1709., 1744., 1238.,  737.,  519.,\n",
       "        360.,  244.,  191.,  127.,  105.,  101.])"
      ]
     },
     "execution_count": 4,
     "metadata": {},
     "output_type": "execute_result"
    }
   ],
   "source": [
    "h.view()\n"
   ]
  },
  {
   "cell_type": "code",
   "execution_count": null,
   "id": "a01668c9-145d-41e0-862c-6f52791d4456",
   "metadata": {},
   "outputs": [],
   "source": []
  }
 ],
 "metadata": {
  "kernelspec": {
   "display_name": "Python 3 (ipykernel)",
   "language": "python",
   "name": "py3-preamble"
  },
  "language_info": {
   "codemirror_mode": {
    "name": "ipython",
    "version": 3
   },
   "file_extension": ".py",
   "mimetype": "text/x-python",
   "name": "python",
   "nbconvert_exporter": "python",
   "pygments_lexer": "ipython3",
   "version": "3.10.15"
  }
 },
 "nbformat": 4,
 "nbformat_minor": 5
}
