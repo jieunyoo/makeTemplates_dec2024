{
 "cells": [
  {
   "cell_type": "code",
   "execution_count": 1,
   "id": "3ee6750b-f7f9-46dc-bbb7-53a6e71f7bca",
   "metadata": {
    "tags": []
   },
   "outputs": [],
   "source": [
    "import glob\n",
    "import os\n",
    "import json\n",
    "import pickle  \n",
    "import yaml\n",
    "import numpy as np\n",
    "import pandas as pd\n",
    "pd.options.mode.chained_assignment = None\n",
    "import pyarrow.parquet as pq\n",
    "import hist as hist2\n",
    "import matplotlib.pyplot as plt\n",
    "import mplhep as hep\n",
    "plt.style.use(hep.style.CMS)\n",
    "import utils_farouk2 as utils\n",
    "plt.rcParams.update({\"font.size\": 20})\n",
    "import pickle as pkl\n",
    "import uproot\n",
    "import pandas as pd\n",
    "import boost_histogram as bh\n",
    "from utils_farouk2 import plot_hists"
   ]
  },
  {
   "cell_type": "code",
   "execution_count": 2,
   "id": "6abf257f-6cd5-440b-98d3-6c9c5843c335",
   "metadata": {
    "tags": []
   },
   "outputs": [],
   "source": [
    "year = \"2016\"\n",
    "samples_dir=\"/uscms/home/jieun201/nobackup/YOURWORKINGAREA/oct4_wjet_2016/oct4_2016_2016\"\n",
    "\n",
    "samples = [ \n",
    "            \"TTbar\", \"SingleTop\",\n",
    "           \"WJetsLNu\",\n",
    "           \"DYJets\",      \n",
    "          \"WZQQ\",  \n",
    "          \"Diboson\", \n",
    "    \"EWKvjets\",\n",
    "        \"QCD\",\n",
    "          ]\n",
    "samples_to_plot = samples\n",
    "channels = [\"ele\", \"mu\"]\n",
    "\n"
   ]
  },
  {
   "cell_type": "code",
   "execution_count": 3,
   "id": "abd31205-5d21-40cd-810e-48df93600396",
   "metadata": {},
   "outputs": [
    {
     "name": "stdout",
     "output_type": "stream",
     "text": [
      "luminosity 16809.96\n",
      "luminosity 16810.81\n",
      "sample TTbar\n",
      "sample SingleTop\n",
      "sample WJetsLNu\n",
      "sample DYJets\n",
      "sample WZQQ\n",
      "sample Diboson\n",
      "sample EWKvjets\n",
      "sample QCD\n"
     ]
    },
    {
     "data": {
      "text/html": [
       "<html>\n",
       "<div style=\"display:flex; align-items:center;\">\n",
       "<div style=\"width:290px;\">\n",
       "<svg xmlns=\"http://www.w3.org/2000/svg\" viewBox=\"-10 -105 270 120\">\n",
       "<line x1=\"-5\" y1=\"0\" x2=\"255\" y2=\"0\" style=\"fill:none;stroke-width:2;stroke:currentColor\"/>\n",
       "<text text-anchor=\"middle\" x=\"0\" y=\"15\" style=\"fill:currentColor;\">\n",
       "40\n",
       "</text>\n",
       "<text text-anchor=\"middle\" x=\"250\" y=\"15\" style=\"fill:currentColor;\">\n",
       "180\n",
       "</text>\n",
       "<text text-anchor=\"middle\" x=\"125.0\" y=\"15\" style=\"fill:currentColor;\">\n",
       "jet softdrop mass [GeV]\n",
       "</text>\n",
       "<polyline points=\"  0,0   0,-48.3 16.6667,-48.3 16.6667,-59.1 33.3333,-59.1 33.3333,-63.8  50,-63.8  50,-75.6 66.6667,-75.6 66.6667,-86 83.3333,-86 83.3333,-100 100,-100 100,-51.8 116.667,-51.8 116.667,-35.6 133.333,-35.6 133.333,-24.2 150,-24.2 150,-16.3 166.667,-16.3 166.667,-11.5 183.333,-11.5 183.333,-7.36 200,-7.36 200,-5.62 216.667,-5.62 216.667,-4.75 233.333,-4.75 233.333,-4.13 250,-4.13 250,0\" style=\"fill:none; stroke:currentColor;\"/>\n",
       "</svg>\n",
       "</div>\n",
       "<div style=\"flex=grow:1;\">\n",
       "Regular(15, 40, 180, name='var', label='jet softdrop mass [GeV]')<br/>\n",
       "<hr style=\"margin-top:.2em; margin-bottom:.2em;\"/>\n",
       "Double() Σ=2767.154085133828 <em>(4055.1926874967903 with flow)</em>\n",
       "\n",
       "</div>\n",
       "</div>\n",
       "</html>"
      ],
      "text/plain": [
       "Hist(Regular(15, 40, 180, name='var', label='jet softdrop mass [GeV]'), storage=Double()) # Sum: 2767.154085133828 (4055.1926874967903 with flow)"
      ]
     },
     "execution_count": 3,
     "metadata": {},
     "output_type": "execute_result"
    }
   ],
   "source": [
    "events_dict = utils.event_skimmer_noInference(year, channels, samples_dir, samples, \"all\", add_qcd_score=False, add_top_score=False, add_inclusive_score=False)\n",
    "h = hist2.Hist(hist2.axis.Regular(15, 40, 180, name=\"var\", label=r\"jet softdrop mass [GeV]\", overflow=True))\n",
    "\n",
    "for sample in samples_to_plot:\n",
    "    print('sample', sample)\n",
    "        \n",
    "    for ch in channels:\n",
    "      \n",
    "        df = events_dict[ch][sample] \n",
    "        df = df[       (df[\"lep_fj_dr\"] > 1.0 )   & (df[\"numberBJets_Medium_OutsideWFatJet\"] > 0)     & (df['met_pt']> 30) \n",
    "        &   (df[\"numberLeptons\"] == 1) \n",
    "        & (df[\"fj_pt\"] > 250) & (df[\"fj_pt\"] < 2000) \n",
    "        & ~(df[\"WJet_deltaR_W\"] < 0.8) \n",
    "        & (df[\"VScore_WJet\"] > 0.9)  \n",
    "        ]  \n",
    "        h.fill( var=df[\"fj_msoftdrop\"],weight=df[\"event_weight\"] )\n",
    "\n",
    "\n",
    "h_uproot = uproot.to_writable(h)\n",
    "file = uproot.recreate(f\"/home/jieun201/may18/boostedhiggs/python/dec2_redo2016/catp1_pass_nominal.root\")\n",
    "file['catp1_pass_nominal']=h_uproot\n",
    "#*****\n",
    "h"
   ]
  },
  {
   "cell_type": "code",
   "execution_count": null,
   "id": "21b1e3b9-1234-4f13-bd24-2724820e9261",
   "metadata": {},
   "outputs": [],
   "source": []
  }
 ],
 "metadata": {
  "kernelspec": {
   "display_name": "Python 3 (ipykernel)",
   "language": "python",
   "name": "py3-preamble"
  },
  "language_info": {
   "codemirror_mode": {
    "name": "ipython",
    "version": 3
   },
   "file_extension": ".py",
   "mimetype": "text/x-python",
   "name": "python",
   "nbconvert_exporter": "python",
   "pygments_lexer": "ipython3",
   "version": "3.10.15"
  }
 },
 "nbformat": 4,
 "nbformat_minor": 5
}
