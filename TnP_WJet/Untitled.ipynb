{
 "cells": [
  {
   "cell_type": "code",
   "execution_count": 1,
   "id": "9d4efb5b-f9e6-46c8-8254-944ac13b0868",
   "metadata": {},
   "outputs": [],
   "source": [
    "import numpy"
   ]
  },
  {
   "cell_type": "code",
   "execution_count": 2,
   "id": "75c227cf-a936-4f05-9861-fb192ab13166",
   "metadata": {},
   "outputs": [],
   "source": [
    "from uncertainties import unumpy"
   ]
  },
  {
   "cell_type": "code",
   "execution_count": 4,
   "id": "025928bb-c895-464a-8d6c-cecf0d90e97f",
   "metadata": {},
   "outputs": [
    {
     "name": "stdout",
     "output_type": "stream",
     "text": [
      "[1.0+/-0.01 2.0+/-0.002]\n"
     ]
    }
   ],
   "source": [
    "arr = unumpy.uarray([1, 2], [0.01, 0.002])\n",
    "print(arr)\n"
   ]
  },
  {
   "cell_type": "code",
   "execution_count": 5,
   "id": "ed130708-aa9c-4472-a508-f0cdc86ea003",
   "metadata": {},
   "outputs": [],
   "source": [
    "mat = unumpy.umatrix([1, 2], [0.01, 0.002])"
   ]
  },
  {
   "cell_type": "code",
   "execution_count": 6,
   "id": "95537c4c-0a78-4515-b4b6-08753fb2a912",
   "metadata": {},
   "outputs": [
    {
     "data": {
      "text/plain": [
       "array([1., 2.])"
      ]
     },
     "execution_count": 6,
     "metadata": {},
     "output_type": "execute_result"
    }
   ],
   "source": [
    "unumpy.nominal_values(arr)"
   ]
  },
  {
   "cell_type": "code",
   "execution_count": 9,
   "id": "caf5577c-1762-486d-a5ac-56ea78e93b81",
   "metadata": {},
   "outputs": [
    {
     "data": {
      "text/plain": [
       "array([0.01 , 0.002])"
      ]
     },
     "execution_count": 9,
     "metadata": {},
     "output_type": "execute_result"
    }
   ],
   "source": [
    "unumpy.std_devs(arr)"
   ]
  },
  {
   "cell_type": "code",
   "execution_count": null,
   "id": "4a20f40f-c224-4a88-8814-072b1643d113",
   "metadata": {},
   "outputs": [],
   "source": []
  }
 ],
 "metadata": {
  "kernelspec": {
   "display_name": "Python 3 (ipykernel)",
   "language": "python",
   "name": "python3"
  },
  "language_info": {
   "codemirror_mode": {
    "name": "ipython",
    "version": 3
   },
   "file_extension": ".py",
   "mimetype": "text/x-python",
   "name": "python",
   "nbconvert_exporter": "python",
   "pygments_lexer": "ipython3",
   "version": "3.8.0"
  }
 },
 "nbformat": 4,
 "nbformat_minor": 5
}
