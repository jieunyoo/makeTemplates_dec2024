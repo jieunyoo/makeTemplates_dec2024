{
 "cells": [
  {
   "cell_type": "code",
   "execution_count": 1,
   "id": "baa2fe64-e565-4e5a-8849-23598a26b850",
   "metadata": {
    "scrolled": true
   },
   "outputs": [],
   "source": [
    "import uproot\n",
    "import pandas as pd\n",
    "import boost_histogram as bh\n",
    "outFile = uproot.recreate(f\"{2018}_TopCR.root\")\n",
    "\n"
   ]
  },
  {
   "cell_type": "code",
   "execution_count": 2,
   "id": "c3085f64-23ef-4cae-a76d-8e9546f70008",
   "metadata": {},
   "outputs": [
    {
     "data": {
      "text/plain": [
       "Hist(\n",
       "  StrCategory(['DYJets', 'SingleTop', 'TTbar', 'WJetsLNu'], growth=True, name='Sample'),\n",
       "  StrCategory(['pass_nominal', 'pass_weight_trigger_up', 'pass_weight_trigger_down', 'pass_weight_pdf_acceptance_DYJets_up', 'pass_weight_pdf_acceptance_DYJets_down', 'pass_weight_qcd_scale_DYJets_up', 'pass_weight_qcd_scale_DYJets_down', 'pass_top_reweighting_up', 'pass_top_reweighting_down', 'pass_weight_pileup_id_up', 'pass_weight_pileup_id_down', 'pass_weight_d1K_NLO_up', 'pass_weight_d1K_NLO_down', 'pass_weight_d2K_NLO_up', 'pass_weight_d2K_NLO_down', 'pass_weight_d3K_NLO_up', 'pass_weight_d3K_NLO_down', 'pass_weight_d1kappa_EW_up', 'pass_weight_d1kappa_EW_down', 'pass_weight_W_d2kappa_EW_up', 'pass_weight_W_d2kappa_EW_down', 'pass_weight_W_d3kappa_EW_up', 'pass_weight_W_d3kappa_EW_down', 'pass_weight_Z_d2kappa_EW_up', 'pass_weight_Z_d2kappa_EW_down', 'pass_weight_Z_d3kappa_EW_up', 'pass_weight_Z_d3kappa_EW_down', 'pass_weight_ele_id_up', 'pass_weight_ele_id_down', 'pass_weight_ele_reco_up', 'pass_weight_ele_reco_down', 'pass_weight_mu_isolation_up', 'pass_weight_mu_isolation_down', 'pass_weight_mu_id_up', 'pass_weight_mu_id_down', 'pass_weight_mu_trigger_iso_up', 'pass_weight_mu_trigger_iso_down', 'pass_weight_mu_trigger_noniso_up', 'pass_weight_mu_trigger_noniso_down', 'pass_weight_pileup_up', 'pass_weight_pileup_down', 'pass_weight_PSFSR_DYJets_up', 'pass_weight_PSFSR_DYJets_down', 'pass_weight_PSISR_DYJets_up', 'pass_weight_PSISR_DYJets_down', 'pass_weight_btagSFlightCorrelated_up', 'pass_weight_btagSFlightCorrelated_down', 'pass_weight_btagSFbcCorrelated_up', 'pass_weight_btagSFbcCorrelated_down', 'pass_weight_btagSFlight_up', 'pass_weight_btagSFlight_down', 'pass_weight_btagSFbc_up', 'pass_weight_btagSFbc_down', 'pass_JES_FlavorQCD_up', 'pass_JES_FlavorQCD_down', 'pass_JES_RelativeBal_up', 'pass_JES_RelativeBal_down', 'pass_JES_HF_up', 'pass_JES_HF_down', 'pass_JES_BBEC1_up', 'pass_JES_BBEC1_down', 'pass_JES_EC2_up', 'pass_JES_EC2_down', 'pass_JES_Absolute_up', 'pass_JES_Absolute_down', 'pass_JES_BBEC1_year_up', 'pass_JES_BBEC1_year_down', 'pass_JES_RelativeSample_year_up', 'pass_JES_RelativeSample_year_down', 'pass_JES_EC2_year_up', 'pass_JES_EC2_year_down', 'pass_JES_HF_year_up', 'pass_JES_HF_year_down', 'pass_JES_Absolute_year_up', 'pass_JES_Absolute_year_down', 'pass_JER_year_up', 'pass_JER_year_down', 'pass_UES_up', 'pass_UES_down', 'pass_weight_pdf_acceptance_SingleTop_up', 'pass_weight_pdf_acceptance_SingleTop_down', 'pass_weight_qcd_scale_SingleTop_up', 'pass_weight_qcd_scale_SingleTop_down', 'pass_weight_PSFSR_SingleTop_up', 'pass_weight_PSFSR_SingleTop_down', 'pass_weight_PSISR_SingleTop_up', 'pass_weight_PSISR_SingleTop_down', 'pass_weight_pdf_acceptance_TTbar_up', 'pass_weight_pdf_acceptance_TTbar_down', 'pass_weight_qcd_scale_TTbar_up', 'pass_weight_qcd_scale_TTbar_down', 'pass_weight_PSFSR_TTbar_up', 'pass_weight_PSFSR_TTbar_down', 'pass_weight_PSISR_TTbar_up', 'pass_weight_PSISR_TTbar_down', 'pass_weight_pdf_acceptance_WJetsLNu_up', 'pass_weight_pdf_acceptance_WJetsLNu_down', 'pass_weight_qcd_scale_WJetsLNu_up', 'pass_weight_qcd_scale_WJetsLNu_down', 'pass_weight_PSFSR_WJetsLNu_up', 'pass_weight_PSFSR_WJetsLNu_down', 'pass_weight_PSISR_WJetsLNu_up', 'pass_weight_PSISR_WJetsLNu_down'], growth=True, name='Systematic'),\n",
       "  StrCategory(['TopCR'], growth=True, name='Region'),\n",
       "  Variable([40, 70, 110, 140, 180], name='mass_observable', label='V reconstructed mass [GeV]'),\n",
       "  storage=Weight()) # Sum: WeightedSum(value=371353, variance=60658.2) (WeightedSum(value=373811, variance=61003.4) with flow)"
      ]
     },
     "execution_count": 2,
     "metadata": {},
     "output_type": "execute_result"
    }
   ],
   "source": [
    "obj = pd.read_pickle(r'/home/jieun201/boostedhiggs_may27/combine_nov26/2018/templates/hists_templates_2018_TopCR.pkl')\n",
    "obj"
   ]
  },
  {
   "cell_type": "code",
   "execution_count": null,
   "id": "6d12d871-c704-4214-b627-e1c9b495cb0b",
   "metadata": {},
   "outputs": [],
   "source": []
  },
  {
   "cell_type": "code",
   "execution_count": 3,
   "id": "cbba1e9c-3194-4303-af52-cb90839dba80",
   "metadata": {},
   "outputs": [
    {
     "data": {
      "text/html": [
       "<html>\n",
       "<div style=\"display:flex; align-items:center;\">\n",
       "<div style=\"width:290px;\">\n",
       "<svg xmlns=\"http://www.w3.org/2000/svg\" viewBox=\"-10 -105 270 120\">\n",
       "<line x1=\"-5\" y1=\"0\" x2=\"255\" y2=\"0\" style=\"fill:none;stroke-width:2;stroke:currentColor\"/>\n",
       "<text text-anchor=\"middle\" x=\"0\" y=\"15\" style=\"fill:currentColor;\">\n",
       "40\n",
       "</text>\n",
       "<text text-anchor=\"middle\" x=\"250\" y=\"15\" style=\"fill:currentColor;\">\n",
       "180\n",
       "</text>\n",
       "<text text-anchor=\"middle\" x=\"125.0\" y=\"15\" style=\"fill:currentColor;\">\n",
       "V reconstructed mass [GeV]\n",
       "</text>\n",
       "<polyline points=\"  0,0   0,-34.9 53.5714,-34.9 53.5714,-100 125,-100 125,-23.6 178.571,-23.6 178.571,-13.7 250,-13.7 250,0\" style=\"fill:none; stroke:currentColor;\"/>\n",
       "</svg>\n",
       "</div>\n",
       "<div style=\"flex=grow:1;\">\n",
       "Variable([40, 70, 110, 140, 180], name='mass_observable', label='V reconstructed mass [GeV]')<br/>\n",
       "<hr style=\"margin-top:.2em; margin-bottom:.2em;\"/>\n",
       "Weight() Σ=WeightedSum(value=4207.98, variance=641.949) <em>(WeightedSum(value=4234.52, variance=645.557) with flow)</em>\n",
       "\n",
       "</div>\n",
       "</div>\n",
       "</html>"
      ],
      "text/plain": [
       "Hist(Variable([40, 70, 110, 140, 180], name='mass_observable', label='V reconstructed mass [GeV]'), storage=Weight()) # Sum: WeightedSum(value=4207.98, variance=641.949) (WeightedSum(value=4234.52, variance=645.557) with flow)"
      ]
     },
     "execution_count": 3,
     "metadata": {},
     "output_type": "execute_result"
    }
   ],
   "source": [
    "#file1= uproot.open(\"/home/jieun201/boostedhiggs_may27/combine/templates/WH.root\")\n",
    "#file1.keys()\n",
    "sample15= obj[{\"Region\": \"TopCR\", \"Sample\": \"TTbar\"}]\n",
    "sample15\n",
    "\n",
    "\n",
    "\n",
    "hist1 = sample15[{\"Systematic\": \"pass_UES_up\"}]\n",
    "hist1\n",
    "#h = sample15['pass_weight_trigger_up']\n",
    "#h.to_hist().plot()"
   ]
  },
  {
   "cell_type": "code",
   "execution_count": null,
   "id": "17149405-ce49-4667-8c54-4463da3b20a1",
   "metadata": {},
   "outputs": [],
   "source": []
  },
  {
   "cell_type": "code",
   "execution_count": 4,
   "id": "18e68a59-7c3e-4507-9f0c-141fc9cb5a89",
   "metadata": {},
   "outputs": [],
   "source": [
    "def getPassList(sample):\n",
    "    systematicsList_pass = ['pass_nominal', 'pass_weight_pileup_up' , 'pass_weight_pileup_down', 'pass_weight_pileup_id_up' , 'pass_weight_pileup_id_down',\n",
    "                        f'pass_weight_pdf_acceptance_{sample}_up', f'pass_weight_pdf_acceptance_{sample}_down',\n",
    "f'pass_weight_qcd_scale_{sample}_up', f'pass_weight_qcd_scale_{sample}_down',\n",
    "'pass_top_reweighting_up', 'pass_top_reweighting_down',\n",
    "'pass_weight_d1K_NLO_up', 'pass_weight_d1K_NLO_down', 'pass_weight_d2K_NLO_up', 'pass_weight_d2K_NLO_down', 'pass_weight_d3K_NLO_up', \n",
    "'pass_weight_d3K_NLO_down', 'pass_weight_d1kappa_EW_up', 'pass_weight_d1kappa_EW_down', 'pass_weight_W_d2kappa_EW_up', 'pass_weight_W_d2kappa_EW_down', \n",
    "'pass_weight_W_d3kappa_EW_up', 'pass_weight_W_d3kappa_EW_down', 'pass_weight_Z_d2kappa_EW_up', 'pass_weight_Z_d2kappa_EW_down', \n",
    "'pass_weight_Z_d3kappa_EW_up', 'pass_weight_Z_d3kappa_EW_down',\n",
    "'pass_weight_btagSFlightCorrelated_up', 'pass_weight_btagSFlightCorrelated_down', 'pass_weight_btagSFbcCorrelated_up','pass_weight_btagSFbcCorrelated_down', \n",
    "'pass_weight_btagSFlight_up', 'pass_weight_btagSFlight_down', 'pass_weight_btagSFbc_up', 'pass_weight_btagSFbc_down',\n",
    "'pass_weight_ele_id_up', 'pass_weight_ele_id_down', 'pass_weight_ele_reco_up', 'pass_weight_ele_reco_down', \n",
    "'pass_weight_mu_isolation_up', 'pass_weight_mu_isolation_down', 'pass_weight_mu_id_up', 'pass_weight_mu_id_down',\n",
    "'pass_weight_mu_trigger_iso_up', 'pass_weight_mu_trigger_iso_down', 'pass_weight_mu_trigger_noniso_up', 'pass_weight_mu_trigger_noniso_down', \n",
    "\n",
    "#'pass_weight_L1Prefiring_up', 'pass_weight_L1Prefiring_down',\n",
    "\n",
    "'pass_weight_PSFSR_DYJets_up', 'pass_weight_PSFSR_DYJets_down', 'pass_weight_PSISR_DYJets_up', 'pass_weight_PSISR_DYJets_down',\n",
    "'pass_weight_PSFSR_WJetsLNu_up', 'pass_weight_PSFSR_WJetsLNu_down', 'pass_weight_PSISR_WJetsLNu_up', 'pass_weight_PSISR_WJetsLNu_down', \n",
    "'pass_weight_qcd_scale_TTbar_up', 'pass_weight_qcd_scale_TTbar_down',\n",
    "'pass_weight_pdf_acceptance_TTbar_up', 'pass_weight_pdf_acceptance_TTbar_down', \n",
    "'pass_weight_PSFSR_TTbar_up', 'pass_weight_PSFSR_TTbar_down', 'pass_weight_PSISR_TTbar_up', 'pass_weight_PSISR_TTbar_down', \n",
    "'pass_weight_pdf_acceptance_SingleTop_up', 'pass_weight_pdf_acceptance_SingleTop_down',\n",
    "'pass_weight_qcd_scale_SingleTop_up', 'pass_weight_qcd_scale_SingleTop_down',\n",
    "'pass_weight_PSFSR_SingleTop_up', 'pass_weight_PSFSR_SingleTop_down', 'pass_weight_PSISR_SingleTop_up', 'pass_weight_PSISR_SingleTop_down',\n",
    "\n",
    "'pass_top_reweighting_up', 'pass_top_reweighting_down',\n",
    "'pass_UES_up', 'pass_UES_down',\n",
    "\n",
    "'pass_JES_FlavorQCD_up', 'pass_JES_FlavorQCD_down', 'pass_JES_RelativeBal_up', 'pass_JES_RelativeBal_down', \n",
    "'pass_JES_HF_up', 'pass_JES_HF_down', 'pass_JES_BBEC1_up', 'pass_JES_BBEC1_down', 'pass_JES_EC2_up', 'pass_JES_EC2_down',\n",
    "'pass_JES_Absolute_up', 'pass_JES_Absolute_down', 'pass_JES_BBEC1_year_up', 'pass_JES_BBEC1_year_down', 'pass_JES_RelativeSample_year_up',\n",
    "'pass_JES_RelativeSample_year_down', 'pass_JES_EC2_year_up', 'pass_JES_EC2_year_down', 'pass_JES_HF_year_up', 'pass_JES_HF_year_down', \n",
    "'pass_JES_Absolute_year_up', 'pass_JES_Absolute_year_down', 'pass_JER_year_up', 'pass_JER_year_down',\n",
    "\n",
    "\n",
    "]\n",
    "    return systematicsList_pass\n",
    "                       \n",
    "\n",
    "def getFailList(sample):\n",
    "    systematicsList_fail = ['fail_nominal', 'fail_weight_pileup_up', 'fail_weight_pileup_down', 'fail_weight_pileup_id_up', 'fail_weight_pileup_id_down', \n",
    "f'fail_weight_pdf_acceptance_{sample}_up', f'fail_weight_pdf_acceptance_{sample}_down',           \n",
    "                        f'fail_weight_qcd_scale_{sample}_up', f'fail_weight_qcd_scale_{sample}_down',\n",
    "'fail_top_reweighting_up', 'fail_top_reweighting_down',\n",
    "\n",
    "'fail_weight_d1K_NLO_up', 'fail_weight_d1K_NLO_down', 'fail_weight_d2K_NLO_up', 'fail_weight_d2K_NLO_down', 'fail_weight_d3K_NLO_up', \n",
    "'fail_weight_d3K_NLO_down', 'fail_weight_d1kappa_EW_up', 'fail_weight_d1kappa_EW_down', 'fail_weight_W_d2kappa_EW_up', 'fail_weight_W_d2kappa_EW_down',\n",
    "'fail_weight_W_d3kappa_EW_up', 'fail_weight_W_d3kappa_EW_down', 'fail_weight_Z_d2kappa_EW_up', 'fail_weight_Z_d2kappa_EW_down', 'fail_weight_Z_d3kappa_EW_up', \n",
    "'fail_weight_Z_d3kappa_EW_down',\n",
    "'fail_weight_btagSFlightCorrelated_up', 'fail_weight_btagSFlightCorrelated_down', 'fail_weight_btagSFbcCorrelated_up', 'fail_weight_btagSFbcCorrelated_down', \n",
    " 'fail_weight_btagSFlight_up', 'fail_weight_btagSFlight_down', 'fail_weight_btagSFbc_up', 'fail_weight_btagSFbc_down',\n",
    "'fail_weight_ele_id_up', 'fail_weight_ele_id_down', 'fail_weight_ele_reco_up', 'fail_weight_ele_reco_down',\n",
    "'fail_weight_mu_isolation_up', 'fail_weight_mu_isolation_down', 'fail_weight_mu_id_up', 'fail_weight_mu_id_down',\n",
    "'fail_weight_mu_trigger_iso_up', 'fail_weight_mu_trigger_iso_down', 'fail_weight_mu_trigger_noniso_up', 'fail_weight_mu_trigger_noniso_down', \n",
    "#'fail_weight_L1Prefiring_up', 'fail_weight_L1Prefiring_down', \n",
    "'fail_weight_PSFSR_DYJets_up', 'fail_weight_PSFSR_DYJets_down', 'fail_weight_PSISR_DYJets_up', 'fail_weight_PSISR_DYJets_down', \n",
    "\n",
    "\n",
    "'fail_weight_PSFSR_WJetsLNu_up', 'fail_weight_PSFSR_WJetsLNu_down', 'fail_weight_PSISR_WJetsLNu_up', 'fail_weight_PSISR_WJetsLNu_down', \n",
    "\n",
    "\n",
    "'fail_weight_qcd_scale_TTbar_up', 'fail_weight_qcd_scale_TTbar_down',\n",
    "'fail_weight_pdf_acceptance_TTbar_up', 'fail_weight_pdf_acceptance_TTbar_down', \n",
    "'fail_weight_PSFSR_TTbar_up', 'fail_weight_PSFSR_TTbar_down', 'fail_weight_PSISR_TTbar_up', 'fail_weight_PSISR_TTbar_down',\n",
    "\n",
    "'fail_top_reweighting_up', 'fail_top_reweighting_down',\n",
    "\n",
    "'fail_weight_pdf_acceptance_SingleTop_up', 'fail_weight_pdf_acceptance_SingleTop_down',\n",
    "'fail_weight_qcd_scale_SingleTop_up', 'fail_weight_qcd_scale_SingleTop_down',\n",
    "'fail_weight_PSFSR_SingleTop_up', 'fail_weight_PSFSR_SingleTop_down', 'fail_weight_PSISR_SingleTop_up', 'fail_weight_PSISR_SingleTop_down',\n",
    "\n",
    "'fail_UES_up', 'fail_UES_down',\n",
    "'fail_JES_FlavorQCD_up', 'fail_JES_FlavorQCD_down', 'fail_JES_RelativeBal_up', 'fail_JES_RelativeBal_down', 'fail_JES_HF_up', 'fail_JES_HF_down',\n",
    "'fail_JES_BBEC1_up', 'fail_JES_BBEC1_down', 'fail_JES_EC2_up', 'fail_JES_EC2_down', 'fail_JES_Absolute_up', 'fail_JES_Absolute_down',\n",
    "'fail_JES_BBEC1_year_up', 'fail_JES_BBEC1_year_down', 'fail_JES_RelativeSample_year_up', 'fail_JES_RelativeSample_year_down',\n",
    "'fail_JES_EC2_year_up', 'fail_JES_EC2_year_down', 'fail_JES_HF_year_up', 'fail_JES_HF_year_down', 'fail_JES_Absolute_year_up',\n",
    "'fail_JES_Absolute_year_down', 'fail_JER_year_up', 'fail_JER_year_down',\n",
    "\n",
    "                        ]\n",
    "    return systematicsList_fail"
   ]
  },
  {
   "cell_type": "code",
   "execution_count": 5,
   "id": "e925ce73-3144-4ac1-b338-694762d619fc",
   "metadata": {},
   "outputs": [
    {
     "data": {
      "text/plain": [
       "Hist(\n",
       "  StrCategory(['DYJets', 'SingleTop', 'TTbar', 'WJetsLNu'], growth=True, name='Sample'),\n",
       "  StrCategory(['fail_nominal', 'fail_weight_trigger_up', 'fail_weight_trigger_down', 'fail_weight_pdf_acceptance_DYJets_up', 'fail_weight_pdf_acceptance_DYJets_down', 'fail_weight_qcd_scale_DYJets_up', 'fail_weight_qcd_scale_DYJets_down', 'fail_top_reweighting_up', 'fail_top_reweighting_down', 'fail_weight_pileup_id_up', 'fail_weight_pileup_id_down', 'fail_weight_d1K_NLO_up', 'fail_weight_d1K_NLO_down', 'fail_weight_d2K_NLO_up', 'fail_weight_d2K_NLO_down', 'fail_weight_d3K_NLO_up', 'fail_weight_d3K_NLO_down', 'fail_weight_d1kappa_EW_up', 'fail_weight_d1kappa_EW_down', 'fail_weight_W_d2kappa_EW_up', 'fail_weight_W_d2kappa_EW_down', 'fail_weight_W_d3kappa_EW_up', 'fail_weight_W_d3kappa_EW_down', 'fail_weight_Z_d2kappa_EW_up', 'fail_weight_Z_d2kappa_EW_down', 'fail_weight_Z_d3kappa_EW_up', 'fail_weight_Z_d3kappa_EW_down', 'fail_weight_ele_id_up', 'fail_weight_ele_id_down', 'fail_weight_ele_reco_up', 'fail_weight_ele_reco_down', 'fail_weight_mu_isolation_up', 'fail_weight_mu_isolation_down', 'fail_weight_mu_id_up', 'fail_weight_mu_id_down', 'fail_weight_mu_trigger_iso_up', 'fail_weight_mu_trigger_iso_down', 'fail_weight_mu_trigger_noniso_up', 'fail_weight_mu_trigger_noniso_down', 'fail_weight_pileup_up', 'fail_weight_pileup_down', 'fail_weight_PSFSR_DYJets_up', 'fail_weight_PSFSR_DYJets_down', 'fail_weight_PSISR_DYJets_up', 'fail_weight_PSISR_DYJets_down', 'fail_weight_btagSFlightCorrelated_up', 'fail_weight_btagSFlightCorrelated_down', 'fail_weight_btagSFbcCorrelated_up', 'fail_weight_btagSFbcCorrelated_down', 'fail_weight_btagSFlight_up', 'fail_weight_btagSFlight_down', 'fail_weight_btagSFbc_up', 'fail_weight_btagSFbc_down', 'fail_JES_FlavorQCD_up', 'fail_JES_FlavorQCD_down', 'fail_JES_RelativeBal_up', 'fail_JES_RelativeBal_down', 'fail_JES_HF_up', 'fail_JES_HF_down', 'fail_JES_BBEC1_up', 'fail_JES_BBEC1_down', 'fail_JES_EC2_up', 'fail_JES_EC2_down', 'fail_JES_Absolute_up', 'fail_JES_Absolute_down', 'fail_JES_BBEC1_year_up', 'fail_JES_BBEC1_year_down', 'fail_JES_RelativeSample_year_up', 'fail_JES_RelativeSample_year_down', 'fail_JES_EC2_year_up', 'fail_JES_EC2_year_down', 'fail_JES_HF_year_up', 'fail_JES_HF_year_down', 'fail_JES_Absolute_year_up', 'fail_JES_Absolute_year_down', 'fail_JER_year_up', 'fail_JER_year_down', 'fail_UES_up', 'fail_UES_down', 'fail_weight_pdf_acceptance_SingleTop_up', 'fail_weight_pdf_acceptance_SingleTop_down', 'fail_weight_qcd_scale_SingleTop_up', 'fail_weight_qcd_scale_SingleTop_down', 'fail_weight_PSFSR_SingleTop_up', 'fail_weight_PSFSR_SingleTop_down', 'fail_weight_PSISR_SingleTop_up', 'fail_weight_PSISR_SingleTop_down', 'fail_weight_pdf_acceptance_TTbar_up', 'fail_weight_pdf_acceptance_TTbar_down', 'fail_weight_qcd_scale_TTbar_up', 'fail_weight_qcd_scale_TTbar_down', 'fail_weight_PSFSR_TTbar_up', 'fail_weight_PSFSR_TTbar_down', 'fail_weight_PSISR_TTbar_up', 'fail_weight_PSISR_TTbar_down', 'fail_weight_pdf_acceptance_WJetsLNu_up', 'fail_weight_pdf_acceptance_WJetsLNu_down', 'fail_weight_qcd_scale_WJetsLNu_up', 'fail_weight_qcd_scale_WJetsLNu_down', 'fail_weight_PSFSR_WJetsLNu_up', 'fail_weight_PSFSR_WJetsLNu_down', 'fail_weight_PSISR_WJetsLNu_up', 'fail_weight_PSISR_WJetsLNu_down'], growth=True, name='Systematic'),\n",
       "  StrCategory(['TopCR'], growth=True, name='Region'),\n",
       "  Variable([40, 70, 110, 140, 180], name='mass_observable', label='V reconstructed mass [GeV]'),\n",
       "  storage=Weight()) # Sum: WeightedSum(value=1.02245e+06, variance=161353) (WeightedSum(value=1.0428e+06, variance=164455) with flow)"
      ]
     },
     "execution_count": 5,
     "metadata": {},
     "output_type": "execute_result"
    }
   ],
   "source": [
    "obj2 = pd.read_pickle(r'/home/jieun201/boostedhiggs_may27/combine_nov26/2018/templates/hists_templates_2018_TopCRfail.pkl')\n",
    "obj2"
   ]
  },
  {
   "cell_type": "code",
   "execution_count": 6,
   "id": "3ba7ffd1-563b-46d4-b93a-134e1abafb02",
   "metadata": {},
   "outputs": [
    {
     "data": {
      "text/plain": [
       "Hist(\n",
       "  StrCategory(['Data'], growth=True, name='Sample'),\n",
       "  StrCategory(['pass_nominal'], growth=True, name='Systematic'),\n",
       "  StrCategory(['TopCR'], growth=True, name='Region'),\n",
       "  Variable([40, 70, 110, 140, 180], name='mass_observable', label='V reconstructed mass [GeV]'),\n",
       "  storage=Weight()) # Sum: WeightedSum(value=4377, variance=4377)"
      ]
     },
     "execution_count": 6,
     "metadata": {},
     "output_type": "execute_result"
    }
   ],
   "source": [
    "real_data = pd.read_pickle(r'/home/jieun201/boostedhiggs_may27/combine_nov26/2018/templates/hists_templates_2018_data_pass_TopCR.pkl')\n",
    "real_data\n",
    "\n",
    "readInData = real_data[{\"Region\": \"TopCR\", \"Sample\": \"Data\"}]\n",
    "hist_data = readInData[{\"Systematic\": 'pass_nominal'}]\n",
    "hData = uproot.to_writable(hist_data)\n",
    "outFile['data_pass_nominal']=hData\n",
    "real_data"
   ]
  },
  {
   "cell_type": "code",
   "execution_count": 7,
   "id": "9d1f1dd5-3e3c-4714-92da-2a9264384bc0",
   "metadata": {},
   "outputs": [],
   "source": [
    "real_dataFail = pd.read_pickle(r'/home/jieun201/boostedhiggs_may27/combine_nov26/2018/templates/hists_templates_2018_data_fail_TopCR.pkl')\n",
    "real_dataFail\n",
    "readInDataFail = real_dataFail[{\"Region\": \"TopCR\", \"Sample\": \"Data\"}]\n",
    "hist_dataFail = readInDataFail[{\"Systematic\": 'fail_nominal'}]\n",
    "hDataFail = uproot.to_writable(hist_dataFail)\n",
    "outFile['data_fail_nominal']=hDataFail"
   ]
  },
  {
   "cell_type": "code",
   "execution_count": null,
   "id": "b7b3fc44-e610-4839-96ab-80811c9ffb20",
   "metadata": {},
   "outputs": [],
   "source": [
    "\n"
   ]
  },
  {
   "cell_type": "markdown",
   "id": "f48eac45-8522-4781-94fc-2e7670533753",
   "metadata": {},
   "source": [
    "also add in fakes"
   ]
  },
  {
   "cell_type": "code",
   "execution_count": null,
   "id": "0f54a535-99cf-44ac-a610-d9e99804abba",
   "metadata": {},
   "outputs": [],
   "source": []
  },
  {
   "cell_type": "code",
   "execution_count": null,
   "id": "0199a78f-8514-4626-a3df-a8edfa25625e",
   "metadata": {},
   "outputs": [],
   "source": []
  },
  {
   "cell_type": "code",
   "execution_count": null,
   "id": "7c44b778-c5c2-4fdb-a07f-b9170bcaaa9c",
   "metadata": {},
   "outputs": [],
   "source": []
  },
  {
   "cell_type": "code",
   "execution_count": null,
   "id": "907d4fa1-e465-4a5d-8bf4-3277c95ed91f",
   "metadata": {},
   "outputs": [],
   "source": []
  },
  {
   "cell_type": "code",
   "execution_count": null,
   "id": "896953a9-7a16-4e42-9fd6-e21754e275f0",
   "metadata": {},
   "outputs": [],
   "source": []
  },
  {
   "cell_type": "code",
   "execution_count": null,
   "id": "e2f15b55-f1cd-4ba5-adb0-db3d48dc515e",
   "metadata": {},
   "outputs": [],
   "source": []
  },
  {
   "cell_type": "code",
   "execution_count": 8,
   "id": "98dfe82b-68d8-407f-aac8-8cc981ff366c",
   "metadata": {},
   "outputs": [],
   "source": [
    "sample3= obj[{\"Region\": \"TopCR\", \"Sample\": \"WJetsLNu\"}]\n",
    "sample4 = obj2[{\"Region\": \"TopCR\", \"Sample\": \"WJetsLNu\"}]\n",
    "sample = 'WJetsLNu'\n",
    "\n",
    "for i in getPassList(sample):\n",
    "    hist1 = sample3[{\"Systematic\": i}]\n",
    "    h1 = uproot.to_writable(hist1)\n",
    "    outFile[f'{sample}_{i}']=h1\n",
    "\n",
    "for i in getFailList(sample):\n",
    "    hist1 = sample4[{\"Systematic\": i}]\n",
    "    h1 = uproot.to_writable(hist1)\n",
    "    outFile[f'{sample}_{i}']=h1"
   ]
  },
  {
   "cell_type": "code",
   "execution_count": 9,
   "id": "db23d3ae-3fb3-4c45-a211-f3ee0c02a73d",
   "metadata": {},
   "outputs": [],
   "source": [
    "sample13= obj[{\"Region\": \"TopCR\", \"Sample\": \"DYJets\"}]\n",
    "sample14 = obj2[{\"Region\": \"TopCR\", \"Sample\": \"DYJets\"}]\n",
    "sample = 'DYJets'\n",
    "\n",
    "for i in getPassList(sample):\n",
    "    hist1 = sample13[{\"Systematic\": i}]\n",
    "    h1 = uproot.to_writable(hist1)\n",
    "    outFile[f'{sample}_{i}']=h1\n",
    "\n",
    "for i in getFailList(sample):\n",
    "    hist1 = sample14[{\"Systematic\": i}]\n",
    "    h1 = uproot.to_writable(hist1)\n",
    "    outFile[f'{sample}_{i}']=h1\n"
   ]
  },
  {
   "cell_type": "code",
   "execution_count": 10,
   "id": "51484447-b17d-4fdd-9ec6-796f06330abb",
   "metadata": {},
   "outputs": [],
   "source": [
    "sample15= obj[{\"Region\": \"TopCR\", \"Sample\": \"TTbar\"}]\n",
    "sample16 = obj2[{\"Region\": \"TopCR\", \"Sample\": \"TTbar\"}]\n",
    "sample = 'TTbar'\n",
    "\n",
    "for i in getPassList(sample):\n",
    "    hist1 = sample15[{\"Systematic\": i}]\n",
    "    h1 = uproot.to_writable(hist1)\n",
    "    outFile[f'{sample}_{i}']=h1\n",
    "\n",
    "for i in getFailList(sample):\n",
    "    hist1 = sample16[{\"Systematic\": i}]\n",
    "    h1 = uproot.to_writable(hist1)\n",
    "    outFile[f'{sample}_{i}']=h1"
   ]
  },
  {
   "cell_type": "code",
   "execution_count": 11,
   "id": "09654d58-dac6-49e4-b372-f387ec6bd197",
   "metadata": {},
   "outputs": [],
   "source": [
    "sample17= obj[{\"Region\": \"TopCR\", \"Sample\": \"SingleTop\"}]\n",
    "sample18 = obj2[{\"Region\": \"TopCR\", \"Sample\": \"SingleTop\"}]\n",
    "sample = 'SingleTop'\n",
    "\n",
    "for i in getPassList(sample):\n",
    "    hist1 = sample17[{\"Systematic\": i}]\n",
    "    h1 = uproot.to_writable(hist1)\n",
    "    outFile[f'{sample}_{i}']=h1\n",
    "\n",
    "for i in getFailList(sample):\n",
    "    hist1 = sample18[{\"Systematic\": i}]\n",
    "    h1 = uproot.to_writable(hist1)\n",
    "    outFile[f'{sample}_{i}']=h1"
   ]
  },
  {
   "cell_type": "code",
   "execution_count": null,
   "id": "dc7199f4-66fb-49c6-8abf-a0cc23096d4e",
   "metadata": {},
   "outputs": [],
   "source": []
  },
  {
   "cell_type": "code",
   "execution_count": null,
   "id": "3268b3c5-69fa-4118-a177-15f9acf88cbe",
   "metadata": {},
   "outputs": [],
   "source": []
  },
  {
   "cell_type": "code",
   "execution_count": 12,
   "id": "78a961ab-3417-44a7-8511-2f821ec70363",
   "metadata": {},
   "outputs": [],
   "source": [
    "#hist2 = sample1[{\"Systematic\": \"pass_top_reweighting_down\"}]\n",
    "#h2 = uproot.to_writable(hist2)\n",
    "#outFile[f'{sample}_pass_top_reweighting_down']=h2\n",
    "\n",
    "\n"
   ]
  },
  {
   "cell_type": "code",
   "execution_count": 13,
   "id": "8f5c3560-11be-477b-a132-6f5db607f0e2",
   "metadata": {},
   "outputs": [],
   "source": [
    "#to double check plotting\n",
    "#file1= uproot.open(\"/home/jieun201/boostedhiggs_may27/combine/templates/WH.root\")\n",
    "#file1.keys()\n",
    "#h = file1['myhist']\n",
    "#h.to_hist().plot()"
   ]
  },
  {
   "cell_type": "code",
   "execution_count": null,
   "id": "2d5dda33-bf5b-4789-b551-1e768f98c432",
   "metadata": {},
   "outputs": [],
   "source": []
  }
 ],
 "metadata": {
  "kernelspec": {
   "display_name": "Python 3 (ipykernel)",
   "language": "python",
   "name": "python3"
  },
  "language_info": {
   "codemirror_mode": {
    "name": "ipython",
    "version": 3
   },
   "file_extension": ".py",
   "mimetype": "text/x-python",
   "name": "python",
   "nbconvert_exporter": "python",
   "pygments_lexer": "ipython3",
   "version": "3.10.15"
  }
 },
 "nbformat": 4,
 "nbformat_minor": 5
}
