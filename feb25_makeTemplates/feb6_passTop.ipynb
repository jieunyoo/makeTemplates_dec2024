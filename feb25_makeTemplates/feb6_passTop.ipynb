{
 "cells": [
  {
   "cell_type": "code",
   "execution_count": null,
   "id": "dd32ecc0-0453-4385-ad7f-a69fc97f93dc",
   "metadata": {},
   "outputs": [],
   "source": []
  },
  {
   "cell_type": "code",
   "execution_count": 1,
   "id": "ec6c4165-5d04-46d8-b6a3-beda838a2cff",
   "metadata": {},
   "outputs": [],
   "source": [
    "import argparse\n",
    "import glob\n",
    "import json\n",
    "import logging\n",
    "import os\n",
    "import pickle as pkl\n",
    "import warnings\n",
    "import hist as hist2\n",
    "import numpy as np\n",
    "import pandas as pd\n",
    "import pyarrow\n",
    "import yaml\n",
    "import math\n",
    "\n",
    "from utils import get_common_sample_name, get_finetuned_score, get_xsecweight\n",
    "\n",
    "from systematicsPass import get_systematic_dict, sigs\n",
    "\n",
    "logging.basicConfig(level=logging.INFO)\n",
    "warnings.filterwarnings(\"ignore\", message=\"Found duplicate branch \")\n",
    "pd.set_option(\"mode.chained_assignment\", None)\n",
    "\n",
    "\n",
    "from jieunR import fix_neg_yields, get_templates, mass_binning  #importing get_templates automatically it seems imports the other functions\n",
    "\n",
    "\n",
    "\n",
    "CATEGORY = 'pass'\n",
    "\n"
   ]
  },
  {
   "cell_type": "code",
   "execution_count": 2,
   "id": "2676f130-3778-4ea2-b179-e9cf1f6423f1",
   "metadata": {},
   "outputs": [
    {
     "name": "stderr",
     "output_type": "stream",
     "text": [
      "INFO:root:Processing year 2018 and mu channel\n",
      "INFO:root:Finding DYJetsToLL_LHEFilterPtZ-0To50 samples and should combine them under DYJets\n",
      "INFO:root:Applying fj_mass selection on 872 events\n",
      "INFO:root:Applying TopCR selection on 861 events\n",
      "INFO:root:Will fill the histograms with the remaining 0 events\n"
     ]
    },
    {
     "name": "stdout",
     "output_type": "stream",
     "text": [
      "above nominal Series([], dtype: float64)\n",
      "syst pass_weight_PSFSR\n",
      "syst pass_weight_PSISR\n"
     ]
    },
    {
     "name": "stderr",
     "output_type": "stream",
     "text": [
      "INFO:root:Finding DYJetsToLL_LHEFilterPtZ-100To250 samples and should combine them under DYJets\n",
      "INFO:root:Applying fj_mass selection on 27734 events\n",
      "INFO:root:Applying TopCR selection on 27318 events\n",
      "INFO:root:Will fill the histograms with the remaining 0 events\n"
     ]
    },
    {
     "name": "stdout",
     "output_type": "stream",
     "text": [
      "above nominal Series([], dtype: float64)\n",
      "syst pass_weight_PSFSR\n",
      "syst pass_weight_PSISR\n"
     ]
    },
    {
     "name": "stderr",
     "output_type": "stream",
     "text": [
      "INFO:root:Finding DYJetsToLL_LHEFilterPtZ-250To400 samples and should combine them under DYJets\n",
      "INFO:root:Applying fj_mass selection on 124441 events\n",
      "INFO:root:Applying TopCR selection on 122068 events\n",
      "INFO:root:Will fill the histograms with the remaining 2 events\n"
     ]
    },
    {
     "name": "stdout",
     "output_type": "stream",
     "text": [
      "above nominal 64211   -0.020524\n",
      "95965    0.030262\n",
      "dtype: float64\n",
      "syst pass_weight_PSFSR\n",
      "syst pass_weight_PSISR\n"
     ]
    },
    {
     "name": "stderr",
     "output_type": "stream",
     "text": [
      "INFO:root:Finding DYJetsToLL_LHEFilterPtZ-400To650 samples and should combine them under DYJets\n",
      "INFO:root:Applying fj_mass selection on 45249 events\n",
      "INFO:root:Applying TopCR selection on 42295 events\n",
      "INFO:root:Will fill the histograms with the remaining 0 events\n"
     ]
    },
    {
     "name": "stdout",
     "output_type": "stream",
     "text": [
      "above nominal Series([], dtype: float64)\n",
      "syst pass_weight_PSFSR\n",
      "syst pass_weight_PSISR\n"
     ]
    },
    {
     "name": "stderr",
     "output_type": "stream",
     "text": [
      "INFO:root:Finding DYJetsToLL_LHEFilterPtZ-50To100 samples and should combine them under DYJets\n",
      "INFO:root:Applying fj_mass selection on 3562 events\n",
      "INFO:root:Applying TopCR selection on 3521 events\n",
      "INFO:root:Will fill the histograms with the remaining 0 events\n"
     ]
    },
    {
     "name": "stdout",
     "output_type": "stream",
     "text": [
      "above nominal Series([], dtype: float64)\n",
      "syst pass_weight_PSFSR\n",
      "syst pass_weight_PSISR\n"
     ]
    },
    {
     "name": "stderr",
     "output_type": "stream",
     "text": [
      "INFO:root:Finding DYJetsToLL_LHEFilterPtZ-650ToInf samples and should combine them under DYJets\n",
      "INFO:root:Applying fj_mass selection on 72573 events\n",
      "INFO:root:Applying TopCR selection on 59194 events\n",
      "INFO:root:Will fill the histograms with the remaining 3 events\n"
     ]
    },
    {
     "name": "stdout",
     "output_type": "stream",
     "text": [
      "above nominal 1672     0.001049\n",
      "6552    -0.001459\n",
      "62633    0.001230\n",
      "dtype: float64\n",
      "syst pass_weight_PSFSR\n",
      "syst pass_weight_PSISR\n"
     ]
    },
    {
     "name": "stderr",
     "output_type": "stream",
     "text": [
      "INFO:root:Finding EWKWminus_WToQQ samples and should combine them under EWKvjets\n",
      "INFO:root:Applying fj_mass selection on 132 events\n",
      "INFO:root:Applying TopCR selection on 129 events\n",
      "INFO:root:Will fill the histograms with the remaining 0 events\n"
     ]
    },
    {
     "name": "stdout",
     "output_type": "stream",
     "text": [
      "above nominal Series([], dtype: float64)\n",
      "syst pass_weight_PSFSR\n",
      "syst pass_weight_PSISR\n"
     ]
    },
    {
     "name": "stderr",
     "output_type": "stream",
     "text": [
      "INFO:root:Finding EWKWplus_WToQQ samples and should combine them under EWKvjets\n",
      "INFO:root:Applying fj_mass selection on 253 events\n",
      "INFO:root:Applying TopCR selection on 250 events\n",
      "INFO:root:Will fill the histograms with the remaining 0 events\n"
     ]
    },
    {
     "name": "stdout",
     "output_type": "stream",
     "text": [
      "above nominal Series([], dtype: float64)\n",
      "syst pass_weight_PSFSR\n",
      "syst pass_weight_PSISR\n"
     ]
    },
    {
     "name": "stderr",
     "output_type": "stream",
     "text": [
      "INFO:root:Finding EWKZ_ZToQQ samples and should combine them under EWKvjets\n",
      "INFO:root:Applying fj_mass selection on 3 events\n",
      "INFO:root:Applying TopCR selection on 3 events\n",
      "INFO:root:Will fill the histograms with the remaining 0 events\n"
     ]
    },
    {
     "name": "stdout",
     "output_type": "stream",
     "text": [
      "above nominal Series([], dtype: float64)\n",
      "syst pass_weight_PSFSR\n",
      "syst pass_weight_PSISR\n"
     ]
    },
    {
     "name": "stderr",
     "output_type": "stream",
     "text": [
      "INFO:root:Finding GluGluHToWW_Pt-200ToInf_M-125 samples and should combine them under ggF\n",
      "INFO:root:Applying fj_mass selection on 5438 events\n",
      "INFO:root:Applying TopCR selection on 5322 events\n",
      "INFO:root:Will fill the histograms with the remaining 2 events\n"
     ]
    },
    {
     "name": "stdout",
     "output_type": "stream",
     "text": [
      "above nominal 3118    0.009085\n",
      "4432    0.013888\n",
      "dtype: float64\n",
      "syst pass_weight_PSFSR\n",
      "syst pass_weight_PSISR\n"
     ]
    },
    {
     "name": "stderr",
     "output_type": "stream",
     "text": [
      "INFO:root:Finding ST_s-channel_4f_hadronicDecays samples and should combine them under SingleTop\n",
      "INFO:root:Applying fj_mass selection on 326 events\n",
      "INFO:root:Applying TopCR selection on 303 events\n",
      "INFO:root:Will fill the histograms with the remaining 0 events\n"
     ]
    },
    {
     "name": "stdout",
     "output_type": "stream",
     "text": [
      "above nominal Series([], dtype: float64)\n",
      "syst pass_weight_PSFSR\n",
      "syst pass_weight_PSISR\n"
     ]
    },
    {
     "name": "stderr",
     "output_type": "stream",
     "text": [
      "INFO:root:Finding ST_s-channel_4f_leptonDecays samples and should combine them under SingleTop\n",
      "INFO:root:Applying fj_mass selection on 12213 events\n",
      "INFO:root:Applying TopCR selection on 11505 events\n",
      "INFO:root:Will fill the histograms with the remaining 0 events\n"
     ]
    },
    {
     "name": "stdout",
     "output_type": "stream",
     "text": [
      "above nominal Series([], dtype: float64)\n",
      "syst pass_weight_PSFSR\n",
      "syst pass_weight_PSISR\n"
     ]
    },
    {
     "name": "stderr",
     "output_type": "stream",
     "text": [
      "INFO:root:Finding ST_t-channel_antitop_4f_InclusiveDecays samples and should combine them under SingleTop\n",
      "INFO:root:Applying fj_mass selection on 10343 events\n",
      "INFO:root:Applying TopCR selection on 10011 events\n",
      "INFO:root:Will fill the histograms with the remaining 0 events\n"
     ]
    },
    {
     "name": "stdout",
     "output_type": "stream",
     "text": [
      "above nominal Series([], dtype: float64)\n",
      "syst pass_weight_PSFSR\n",
      "syst pass_weight_PSISR\n"
     ]
    },
    {
     "name": "stderr",
     "output_type": "stream",
     "text": [
      "INFO:root:Finding ST_t-channel_top_4f_InclusiveDecays samples and should combine them under SingleTop\n",
      "INFO:root:Applying fj_mass selection on 24399 events\n",
      "INFO:root:Applying TopCR selection on 23498 events\n",
      "INFO:root:Will fill the histograms with the remaining 2 events\n"
     ]
    },
    {
     "name": "stdout",
     "output_type": "stream",
     "text": [
      "above nominal 4692     0.038037\n",
      "17166    0.040107\n",
      "dtype: float64\n",
      "syst pass_weight_PSFSR\n",
      "syst pass_weight_PSISR\n"
     ]
    },
    {
     "name": "stderr",
     "output_type": "stream",
     "text": [
      "INFO:root:Finding ST_tW_antitop_5f_inclusiveDecays samples and should combine them under SingleTop\n",
      "INFO:root:Applying fj_mass selection on 7869 events\n",
      "INFO:root:Applying TopCR selection on 7600 events\n",
      "INFO:root:Will fill the histograms with the remaining 5 events\n"
     ]
    },
    {
     "name": "stdout",
     "output_type": "stream",
     "text": [
      "above nominal 3069    0.238172\n",
      "4716    0.324036\n",
      "5679    0.202757\n",
      "6722    0.228897\n",
      "6917    0.232989\n",
      "dtype: float64\n",
      "syst pass_weight_PSFSR\n",
      "syst pass_weight_PSISR\n"
     ]
    },
    {
     "name": "stderr",
     "output_type": "stream",
     "text": [
      "INFO:root:Finding ST_tW_top_5f_inclusiveDecays samples and should combine them under SingleTop\n",
      "INFO:root:Applying fj_mass selection on 8209 events\n",
      "INFO:root:Applying TopCR selection on 7937 events\n",
      "INFO:root:Will fill the histograms with the remaining 8 events\n"
     ]
    },
    {
     "name": "stdout",
     "output_type": "stream",
     "text": [
      "above nominal 234     0.287562\n",
      "1745    0.228281\n",
      "1917    0.225677\n",
      "3540    0.220174\n",
      "3764    0.263327\n",
      "5090    0.223087\n",
      "5737    0.278163\n",
      "6998    0.291504\n",
      "dtype: float64\n",
      "syst pass_weight_PSFSR\n",
      "syst pass_weight_PSISR\n"
     ]
    },
    {
     "name": "stderr",
     "output_type": "stream",
     "text": [
      "INFO:root:Finding TTTo2L2Nu samples and should combine them under TTbar\n",
      "INFO:root:Applying fj_mass selection on 201395 events\n",
      "INFO:root:Applying TopCR selection on 194961 events\n",
      "INFO:root:Will fill the histograms with the remaining 64 events\n"
     ]
    },
    {
     "name": "stdout",
     "output_type": "stream",
     "text": [
      "above nominal 3823      0.044481\n",
      "5395      0.042723\n",
      "11146     0.051858\n",
      "18394     0.053068\n",
      "19390     0.046419\n",
      "            ...   \n",
      "199706    0.049793\n",
      "200142    0.048724\n",
      "200370    0.050022\n",
      "200393    0.048631\n",
      "200606    0.049320\n",
      "Length: 64, dtype: float64\n",
      "syst pass_weight_PSFSR\n",
      "syst pass_weight_PSISR\n"
     ]
    },
    {
     "name": "stderr",
     "output_type": "stream",
     "text": [
      "INFO:root:Finding TTToHadronic samples and should combine them under TTbar\n",
      "INFO:root:Applying fj_mass selection on 5862 events\n",
      "INFO:root:Applying TopCR selection on 5388 events\n",
      "INFO:root:Will fill the histograms with the remaining 3 events\n"
     ]
    },
    {
     "name": "stdout",
     "output_type": "stream",
     "text": [
      "above nominal 547     0.220276\n",
      "2964    0.227074\n",
      "4148    0.232102\n",
      "dtype: float64\n",
      "syst pass_weight_PSFSR\n",
      "syst pass_weight_PSISR\n"
     ]
    },
    {
     "name": "stderr",
     "output_type": "stream",
     "text": [
      "INFO:root:Finding TTToSemiLeptonic samples and should combine them under TTbar\n",
      "INFO:root:Applying fj_mass selection on 592153 events\n",
      "INFO:root:Applying TopCR selection on 545783 events\n",
      "INFO:root:Will fill the histograms with the remaining 230 events\n"
     ]
    },
    {
     "name": "stdout",
     "output_type": "stream",
     "text": [
      "above nominal 667       0.164112\n",
      "746       0.126129\n",
      "3894      0.136998\n",
      "9818      0.200030\n",
      "10727     0.167171\n",
      "            ...   \n",
      "575200    0.173487\n",
      "578027    0.161268\n",
      "581007    0.170871\n",
      "586416    0.159649\n",
      "589042    0.169990\n",
      "Length: 230, dtype: float64\n",
      "syst pass_weight_PSFSR\n",
      "syst pass_weight_PSISR\n"
     ]
    },
    {
     "name": "stderr",
     "output_type": "stream",
     "text": [
      "INFO:root:Finding VBFHToWWToAny_M-125_TuneCP5_withDipoleRecoil samples and should combine them under VBF\n",
      "INFO:root:Applying fj_mass selection on 790 events\n",
      "INFO:root:Applying TopCR selection on 772 events\n",
      "INFO:root:Will fill the histograms with the remaining 0 events\n"
     ]
    },
    {
     "name": "stdout",
     "output_type": "stream",
     "text": [
      "above nominal Series([], dtype: float64)\n",
      "syst pass_weight_PSFSR\n",
      "syst pass_weight_PSISR\n",
      "fj genHT 0      222.0\n",
      "1      300.0\n",
      "2      568.0\n",
      "3      292.0\n",
      "4      328.0\n",
      "       ...  \n",
      "785    574.0\n",
      "786    142.0\n",
      "787    204.5\n",
      "788    570.0\n",
      "789    251.5\n",
      "Name: fj_genH_pt, Length: 772, dtype: float32\n",
      "nominal Series([], dtype: float64)\n"
     ]
    },
    {
     "name": "stderr",
     "output_type": "stream",
     "text": [
      "INFO:root:Finding WJetsToLNu_HT-100To200 samples and should combine them under WJetsLNu\n",
      "INFO:root:Finding WJetsToLNu_HT-1200To2500 samples and should combine them under WJetsLNu\n",
      "INFO:root:Applying fj_mass selection on 199104 events\n",
      "INFO:root:Applying TopCR selection on 150765 events\n",
      "INFO:root:Will fill the histograms with the remaining 15 events\n"
     ]
    },
    {
     "name": "stdout",
     "output_type": "stream",
     "text": [
      "above nominal 20        0.015373\n",
      "9178      0.012532\n",
      "32242     0.014786\n",
      "41032     0.015609\n",
      "41702     0.010610\n",
      "44494     0.014780\n",
      "47734     0.015374\n",
      "53666     0.014728\n",
      "64957     0.015650\n",
      "85740     0.014447\n",
      "108198    0.014148\n",
      "108340    0.019938\n",
      "166327    0.015826\n",
      "180981    0.013349\n",
      "197528    0.018378\n",
      "dtype: float64\n",
      "syst pass_weight_PSFSR\n",
      "syst pass_weight_PSISR\n"
     ]
    },
    {
     "name": "stderr",
     "output_type": "stream",
     "text": [
      "INFO:root:Finding WJetsToLNu_HT-200To400 samples and should combine them under WJetsLNu\n",
      "INFO:root:Applying fj_mass selection on 15696 events\n",
      "INFO:root:Applying TopCR selection on 15682 events\n",
      "INFO:root:Will fill the histograms with the remaining 0 events\n"
     ]
    },
    {
     "name": "stdout",
     "output_type": "stream",
     "text": [
      "above nominal Series([], dtype: float64)\n",
      "syst pass_weight_PSFSR\n",
      "syst pass_weight_PSISR\n"
     ]
    },
    {
     "name": "stderr",
     "output_type": "stream",
     "text": [
      "INFO:root:Finding WJetsToLNu_HT-2500ToInf samples and should combine them under WJetsLNu\n",
      "INFO:root:Applying fj_mass selection on 67566 events\n",
      "INFO:root:Applying TopCR selection on 41006 events\n",
      "INFO:root:Will fill the histograms with the remaining 4 events\n"
     ]
    },
    {
     "name": "stdout",
     "output_type": "stream",
     "text": [
      "above nominal 1221     0.000396\n",
      "17428    0.000379\n",
      "35988    0.000370\n",
      "45780    0.001361\n",
      "dtype: float64\n",
      "syst pass_weight_PSFSR\n",
      "syst pass_weight_PSISR\n"
     ]
    },
    {
     "name": "stderr",
     "output_type": "stream",
     "text": [
      "INFO:root:Finding WJetsToLNu_HT-400To600 samples and should combine them under WJetsLNu\n",
      "INFO:root:Applying fj_mass selection on 42481 events\n",
      "INFO:root:Applying TopCR selection on 42220 events\n",
      "INFO:root:Will fill the histograms with the remaining 1 events\n"
     ]
    },
    {
     "name": "stdout",
     "output_type": "stream",
     "text": [
      "above nominal 35766    0.548597\n",
      "dtype: float64\n",
      "syst pass_weight_PSFSR\n",
      "syst pass_weight_PSISR\n"
     ]
    },
    {
     "name": "stderr",
     "output_type": "stream",
     "text": [
      "INFO:root:Finding WJetsToLNu_HT-600To800 samples and should combine them under WJetsLNu\n",
      "INFO:root:Applying fj_mass selection on 98603 events\n",
      "INFO:root:Applying TopCR selection on 95511 events\n",
      "INFO:root:Will fill the histograms with the remaining 6 events\n"
     ]
    },
    {
     "name": "stdout",
     "output_type": "stream",
     "text": [
      "above nominal 3250     0.127340\n",
      "26472    0.121355\n",
      "35593    0.179226\n",
      "44455    0.130454\n",
      "60120    0.135260\n",
      "79506    0.122664\n",
      "dtype: float64\n",
      "syst pass_weight_PSFSR\n",
      "syst pass_weight_PSISR\n"
     ]
    },
    {
     "name": "stderr",
     "output_type": "stream",
     "text": [
      "INFO:root:Finding WJetsToLNu_HT-800To1200 samples and should combine them under WJetsLNu\n",
      "INFO:root:Applying fj_mass selection on 155169 events\n",
      "INFO:root:Applying TopCR selection on 138843 events\n",
      "INFO:root:Will fill the histograms with the remaining 7 events\n"
     ]
    },
    {
     "name": "stdout",
     "output_type": "stream",
     "text": [
      "above nominal 17929     0.057006\n",
      "26561     0.060090\n",
      "37581     0.055607\n",
      "42543     0.086144\n",
      "61667     0.044183\n",
      "79882     0.056308\n",
      "101118    0.054966\n",
      "dtype: float64\n",
      "syst pass_weight_PSFSR\n",
      "syst pass_weight_PSISR\n"
     ]
    },
    {
     "name": "stderr",
     "output_type": "stream",
     "text": [
      "INFO:root:Finding WW samples and should combine them under Diboson\n",
      "INFO:root:Applying fj_mass selection on 562 events\n",
      "INFO:root:Applying TopCR selection on 549 events\n",
      "INFO:root:Will fill the histograms with the remaining 0 events\n"
     ]
    },
    {
     "name": "stdout",
     "output_type": "stream",
     "text": [
      "above nominal Series([], dtype: float64)\n",
      "syst pass_weight_PSFSR\n",
      "syst pass_weight_PSISR\n"
     ]
    },
    {
     "name": "stderr",
     "output_type": "stream",
     "text": [
      "INFO:root:Finding WZ samples and should combine them under Diboson\n",
      "INFO:root:Applying fj_mass selection on 463 events\n",
      "INFO:root:Applying TopCR selection on 448 events\n",
      "INFO:root:Will fill the histograms with the remaining 0 events\n"
     ]
    },
    {
     "name": "stdout",
     "output_type": "stream",
     "text": [
      "above nominal Series([], dtype: float64)\n",
      "syst pass_weight_PSFSR\n",
      "syst pass_weight_PSISR\n"
     ]
    },
    {
     "name": "stderr",
     "output_type": "stream",
     "text": [
      "INFO:root:Finding ZZ samples and should combine them under Diboson\n",
      "INFO:root:Applying fj_mass selection on 189 events\n",
      "INFO:root:Applying TopCR selection on 188 events\n",
      "INFO:root:Will fill the histograms with the remaining 0 events\n"
     ]
    },
    {
     "name": "stdout",
     "output_type": "stream",
     "text": [
      "above nominal Series([], dtype: float64)\n",
      "syst pass_weight_PSFSR\n",
      "syst pass_weight_PSISR\n"
     ]
    },
    {
     "name": "stderr",
     "output_type": "stream",
     "text": [
      "INFO:root:Finding GluGluZH_HToWW_M-125_TuneCP5_13TeV-powheg-pythia8 samples and should combine them under ZH\n",
      "INFO:root:Applying fj_mass selection on 29034 events\n",
      "INFO:root:Applying TopCR selection on 28710 events\n",
      "INFO:root:Will fill the histograms with the remaining 66 events\n"
     ]
    },
    {
     "name": "stdout",
     "output_type": "stream",
     "text": [
      "above nominal 412      0.000106\n",
      "857      0.000097\n",
      "1685     0.000058\n",
      "3074     0.000095\n",
      "3768     0.000086\n",
      "           ...   \n",
      "25270    0.000063\n",
      "25766    0.000072\n",
      "26751    0.000060\n",
      "28495    0.000102\n",
      "28854    0.000069\n",
      "Length: 66, dtype: float64\n",
      "syst pass_weight_PSFSR\n",
      "syst pass_weight_PSISR\n",
      "fj genHT 0        476.0\n",
      "1        245.5\n",
      "2        267.0\n",
      "3        264.0\n",
      "4        443.0\n",
      "         ...  \n",
      "29029    339.0\n",
      "29030    243.5\n",
      "29031    301.0\n",
      "29032    241.0\n",
      "29033    270.0\n",
      "Name: fj_genH_pt, Length: 28710, dtype: float32\n",
      "nominal 412      0.000085\n",
      "857      0.000078\n",
      "1685     0.000047\n",
      "3074     0.000076\n",
      "3768     0.000069\n",
      "           ...   \n",
      "25270    0.000050\n",
      "25766    0.000061\n",
      "26751    0.000048\n",
      "28495    0.000086\n",
      "28854    0.000055\n",
      "Length: 66, dtype: float64\n"
     ]
    },
    {
     "name": "stderr",
     "output_type": "stream",
     "text": [
      "INFO:root:Finding HWplusJ_HToWW_M-125 samples and should combine them under WH\n",
      "INFO:root:Applying fj_mass selection on 15176 events\n",
      "INFO:root:Applying TopCR selection on 15039 events\n",
      "INFO:root:Will fill the histograms with the remaining 21 events\n"
     ]
    },
    {
     "name": "stdout",
     "output_type": "stream",
     "text": [
      "above nominal 402      0.001206\n",
      "603      0.001450\n",
      "2257     0.001131\n",
      "2579     0.000953\n",
      "2665     0.001226\n",
      "2878     0.001474\n",
      "5803     0.001263\n",
      "6035     0.001190\n",
      "6085     0.001197\n",
      "6607     0.001207\n",
      "6856     0.001187\n",
      "7974     0.001214\n",
      "8164     0.001235\n",
      "8461     0.001189\n",
      "8713     0.001194\n",
      "9285     0.001114\n",
      "10269    0.001922\n",
      "11803    0.001031\n",
      "12223    0.001215\n",
      "13024    0.001091\n",
      "13691    0.001347\n",
      "dtype: float64\n",
      "syst pass_weight_PSFSR\n",
      "syst pass_weight_PSISR\n",
      "fj genHT 0        309.00\n",
      "1        538.00\n",
      "2        110.75\n",
      "3        304.00\n",
      "4        650.00\n",
      "          ...  \n",
      "15171    195.50\n",
      "15172    374.00\n",
      "15173    308.00\n",
      "15174    288.00\n",
      "15175    367.00\n",
      "Name: fj_genH_pt, Length: 15039, dtype: float32\n",
      "nominal 402      0.000968\n",
      "603      0.001164\n",
      "2257     0.000955\n",
      "2579     0.000765\n",
      "2665     0.000984\n",
      "2878     0.001184\n",
      "5803     0.001014\n",
      "6035     0.000955\n",
      "6085     0.000961\n",
      "6607     0.000969\n",
      "6856     0.000953\n",
      "7974     0.000975\n",
      "8164     0.000991\n",
      "8461     0.000955\n",
      "8713     0.000959\n",
      "9285     0.000940\n",
      "10269    0.001543\n",
      "11803    0.000828\n",
      "12223    0.000976\n",
      "13024    0.000876\n",
      "13691    0.001082\n",
      "dtype: float64\n"
     ]
    },
    {
     "name": "stderr",
     "output_type": "stream",
     "text": [
      "INFO:root:Finding HWminusJ_HToWW_M-125 samples and should combine them under WH\n",
      "INFO:root:Applying fj_mass selection on 13642 events\n",
      "INFO:root:Applying TopCR selection on 13495 events\n",
      "INFO:root:Will fill the histograms with the remaining 24 events\n"
     ]
    },
    {
     "name": "stdout",
     "output_type": "stream",
     "text": [
      "above nominal 876      0.000900\n",
      "1142     0.000640\n",
      "1319     0.000690\n",
      "1846     0.000711\n",
      "2572     0.000720\n",
      "2991     0.000678\n",
      "3189     0.000708\n",
      "3655     0.000620\n",
      "4085     0.000720\n",
      "4947     0.000689\n",
      "5839     0.000650\n",
      "5973     0.000620\n",
      "6564     0.001128\n",
      "6991     0.000695\n",
      "7386     0.000989\n",
      "7836     0.000746\n",
      "8651     0.000704\n",
      "9457     0.000688\n",
      "10646    0.000706\n",
      "10722    0.000702\n",
      "10882    0.000682\n",
      "11462    0.000675\n",
      "12571    0.000685\n",
      "12603    0.000757\n",
      "dtype: float64\n",
      "syst pass_weight_PSFSR\n",
      "syst pass_weight_PSISR\n",
      "fj genHT 0        234.0\n",
      "1        396.0\n",
      "2        197.0\n",
      "3        381.0\n",
      "4        233.0\n",
      "         ...  \n",
      "13637    462.0\n",
      "13638    327.0\n",
      "13639    309.0\n",
      "13640    389.0\n",
      "13641    429.0\n",
      "Name: fj_genH_pt, Length: 13495, dtype: float32\n",
      "nominal 876      0.000723\n",
      "1142     0.000514\n",
      "1319     0.000554\n",
      "1846     0.000571\n",
      "2572     0.000608\n",
      "2991     0.000545\n",
      "3189     0.000598\n",
      "3655     0.000498\n",
      "4085     0.000578\n",
      "4947     0.000582\n",
      "5839     0.000548\n",
      "5973     0.000497\n",
      "6564     0.000906\n",
      "6991     0.000558\n",
      "7386     0.000835\n",
      "7836     0.000599\n",
      "8651     0.000565\n",
      "9457     0.000581\n",
      "10646    0.000567\n",
      "10722    0.000563\n",
      "10882    0.000548\n",
      "11462    0.000570\n",
      "12571    0.000578\n",
      "12603    0.000608\n",
      "dtype: float64\n"
     ]
    },
    {
     "name": "stderr",
     "output_type": "stream",
     "text": [
      "INFO:root:Finding HZJ_HToWW_M-125 samples and should combine them under ZH\n",
      "INFO:root:Applying fj_mass selection on 21349 events\n",
      "INFO:root:Applying TopCR selection on 21131 events\n",
      "INFO:root:Will fill the histograms with the remaining 51 events\n"
     ]
    },
    {
     "name": "stdout",
     "output_type": "stream",
     "text": [
      "above nominal 730      0.000811\n",
      "1088     0.000848\n",
      "1245     0.000818\n",
      "2573     0.001086\n",
      "3582     0.001058\n",
      "3602     0.001242\n",
      "3831     0.000815\n",
      "4175     0.001621\n",
      "4511     0.000781\n",
      "4579     0.000886\n",
      "4984     0.000829\n",
      "5437     0.001039\n",
      "5757     0.000837\n",
      "6409     0.000843\n",
      "6480     0.001032\n",
      "7356     0.001289\n",
      "7690     0.001054\n",
      "7867     0.000816\n",
      "8617     0.000806\n",
      "9458     0.000756\n",
      "9884     0.000935\n",
      "10010    0.000753\n",
      "10492    0.001146\n",
      "10707    0.000969\n",
      "11071    0.000939\n",
      "11565    0.000834\n",
      "11641    0.000816\n",
      "11804    0.001243\n",
      "11914    0.001047\n",
      "13503    0.000833\n",
      "13642    0.000746\n",
      "14346    0.000833\n",
      "14409    0.000835\n",
      "16398    0.001289\n",
      "16877    0.000822\n",
      "17625    0.000931\n",
      "17954    0.000845\n",
      "18590    0.001132\n",
      "19165    0.000814\n",
      "19337    0.000818\n",
      "19432    0.001179\n",
      "19952    0.000769\n",
      "19992    0.001174\n",
      "20074    0.000834\n",
      "20267    0.000901\n",
      "20652    0.000708\n",
      "20814    0.000898\n",
      "20823    0.001326\n",
      "20862    0.000778\n",
      "21176    0.001144\n",
      "21277    0.001117\n",
      "dtype: float64\n",
      "syst pass_weight_PSFSR\n",
      "syst pass_weight_PSISR\n",
      "fj genHT 0        428.0\n",
      "1        398.0\n",
      "2        274.0\n",
      "3        524.0\n",
      "4        373.0\n",
      "         ...  \n",
      "21344    366.0\n",
      "21345    338.0\n",
      "21346    280.0\n",
      "21347    480.0\n",
      "21348    360.0\n",
      "Name: fj_genH_pt, Length: 21131, dtype: float32\n",
      "nominal 730      0.000651\n",
      "1088     0.000681\n",
      "1245     0.000691\n",
      "2573     0.000917\n",
      "3582     0.000849\n",
      "3602     0.000997\n",
      "3831     0.000654\n",
      "4175     0.001302\n",
      "4511     0.000627\n",
      "4579     0.000711\n",
      "4984     0.000700\n",
      "5437     0.000834\n",
      "5757     0.000707\n",
      "6409     0.000712\n",
      "6480     0.000829\n",
      "7356     0.001035\n",
      "7690     0.000890\n",
      "7867     0.000656\n",
      "8617     0.000647\n",
      "9458     0.000607\n",
      "9884     0.000751\n",
      "10010    0.000605\n",
      "10492    0.000920\n",
      "10707    0.000778\n",
      "11071    0.000754\n",
      "11565    0.000670\n",
      "11641    0.000655\n",
      "11804    0.000998\n",
      "11914    0.000884\n",
      "13503    0.000669\n",
      "13642    0.000599\n",
      "14346    0.000669\n",
      "14409    0.000670\n",
      "16398    0.001088\n",
      "16877    0.000660\n",
      "17625    0.000748\n",
      "17954    0.000679\n",
      "18590    0.000909\n",
      "19165    0.000654\n",
      "19337    0.000656\n",
      "19432    0.000947\n",
      "19952    0.000618\n",
      "19992    0.000942\n",
      "20074    0.000669\n",
      "20267    0.000724\n",
      "20652    0.000568\n",
      "20814    0.000721\n",
      "20823    0.001065\n",
      "20862    0.000625\n",
      "21176    0.000919\n",
      "21277    0.000897\n",
      "dtype: float64\n"
     ]
    },
    {
     "name": "stderr",
     "output_type": "stream",
     "text": [
      "INFO:root:Finding ttHToNonbb_M125 samples and should combine them under ttH\n",
      "INFO:root:Applying fj_mass selection on 23372 events\n",
      "INFO:root:Applying TopCR selection on 20912 events\n",
      "INFO:root:Will fill the histograms with the remaining 236 events\n"
     ]
    },
    {
     "name": "stdout",
     "output_type": "stream",
     "text": [
      "above nominal 470      0.007176\n",
      "641      0.006134\n",
      "1217     0.005442\n",
      "1248     0.006500\n",
      "1457     0.005842\n",
      "           ...   \n",
      "23101    0.008655\n",
      "23123    0.005285\n",
      "23178    0.006117\n",
      "23241    0.005883\n",
      "23271    0.006395\n",
      "Length: 236, dtype: float64\n",
      "syst pass_weight_PSFSR\n",
      "syst pass_weight_PSISR\n",
      "fj genHT 0        292.00\n",
      "1        176.00\n",
      "2        594.00\n",
      "3        270.00\n",
      "4        232.00\n",
      "          ...  \n",
      "23366     72.25\n",
      "23367    148.50\n",
      "23369     83.00\n",
      "23370    255.00\n",
      "23371    305.00\n",
      "Name: fj_genH_pt, Length: 20912, dtype: float32\n",
      "nominal 470      0.005762\n",
      "641      0.004925\n",
      "1217     0.004369\n",
      "1248     0.005219\n",
      "1457     0.004933\n",
      "           ...   \n",
      "23101    0.006950\n",
      "23123    0.004243\n",
      "23178    0.004912\n",
      "23241    0.004967\n",
      "23271    0.005399\n",
      "Length: 236, dtype: float64\n"
     ]
    },
    {
     "name": "stderr",
     "output_type": "stream",
     "text": [
      "INFO:root:Processing year 2018 and ele channel\n",
      "INFO:root:Finding DYJetsToLL_LHEFilterPtZ-0To50 samples and should combine them under DYJets\n",
      "INFO:root:Applying fj_mass selection on 822 events\n",
      "INFO:root:Applying TopCR selection on 818 events\n",
      "INFO:root:Will fill the histograms with the remaining 0 events\n"
     ]
    },
    {
     "name": "stdout",
     "output_type": "stream",
     "text": [
      "above nominal Series([], dtype: float64)\n",
      "syst pass_weight_PSFSR\n",
      "syst pass_weight_PSISR\n"
     ]
    },
    {
     "name": "stderr",
     "output_type": "stream",
     "text": [
      "INFO:root:Finding DYJetsToLL_LHEFilterPtZ-100To250 samples and should combine them under DYJets\n",
      "INFO:root:Applying fj_mass selection on 34266 events\n",
      "INFO:root:Applying TopCR selection on 33796 events\n",
      "INFO:root:Will fill the histograms with the remaining 0 events\n"
     ]
    },
    {
     "name": "stdout",
     "output_type": "stream",
     "text": [
      "above nominal Series([], dtype: float64)\n",
      "syst pass_weight_PSFSR\n",
      "syst pass_weight_PSISR\n"
     ]
    },
    {
     "name": "stderr",
     "output_type": "stream",
     "text": [
      "INFO:root:Finding DYJetsToLL_LHEFilterPtZ-250To400 samples and should combine them under DYJets\n",
      "INFO:root:Applying fj_mass selection on 307085 events\n",
      "INFO:root:Applying TopCR selection on 303168 events\n",
      "INFO:root:Will fill the histograms with the remaining 3 events\n"
     ]
    },
    {
     "name": "stdout",
     "output_type": "stream",
     "text": [
      "above nominal 171146    0.019097\n",
      "179804   -0.018674\n",
      "190469   -0.025903\n",
      "dtype: float64\n",
      "syst pass_weight_PSFSR\n",
      "syst pass_weight_PSISR\n"
     ]
    },
    {
     "name": "stderr",
     "output_type": "stream",
     "text": [
      "INFO:root:Finding DYJetsToLL_LHEFilterPtZ-400To650 samples and should combine them under DYJets\n",
      "INFO:root:Applying fj_mass selection on 98445 events\n",
      "INFO:root:Applying TopCR selection on 92737 events\n",
      "INFO:root:Will fill the histograms with the remaining 0 events\n"
     ]
    },
    {
     "name": "stdout",
     "output_type": "stream",
     "text": [
      "above nominal Series([], dtype: float64)\n",
      "syst pass_weight_PSFSR\n",
      "syst pass_weight_PSISR\n"
     ]
    },
    {
     "name": "stderr",
     "output_type": "stream",
     "text": [
      "INFO:root:Finding DYJetsToLL_LHEFilterPtZ-50To100 samples and should combine them under DYJets\n",
      "INFO:root:Applying fj_mass selection on 2864 events\n",
      "INFO:root:Applying TopCR selection on 2825 events\n",
      "INFO:root:Will fill the histograms with the remaining 0 events\n"
     ]
    },
    {
     "name": "stdout",
     "output_type": "stream",
     "text": [
      "above nominal Series([], dtype: float64)\n",
      "syst pass_weight_PSFSR\n",
      "syst pass_weight_PSISR\n"
     ]
    },
    {
     "name": "stderr",
     "output_type": "stream",
     "text": [
      "INFO:root:Finding DYJetsToLL_LHEFilterPtZ-650ToInf samples and should combine them under DYJets\n",
      "INFO:root:Applying fj_mass selection on 122449 events\n",
      "INFO:root:Applying TopCR selection on 100504 events\n",
      "INFO:root:Will fill the histograms with the remaining 1 events\n"
     ]
    },
    {
     "name": "stdout",
     "output_type": "stream",
     "text": [
      "above nominal 33948    0.001029\n",
      "dtype: float64\n",
      "syst pass_weight_PSFSR\n",
      "syst pass_weight_PSISR\n"
     ]
    },
    {
     "name": "stderr",
     "output_type": "stream",
     "text": [
      "INFO:root:Finding EWKWminus_WToQQ samples and should combine them under EWKvjets\n",
      "INFO:root:Applying fj_mass selection on 61 events\n",
      "INFO:root:Applying TopCR selection on 60 events\n",
      "INFO:root:Will fill the histograms with the remaining 0 events\n"
     ]
    },
    {
     "name": "stdout",
     "output_type": "stream",
     "text": [
      "above nominal Series([], dtype: float64)\n",
      "syst pass_weight_PSFSR\n",
      "syst pass_weight_PSISR\n"
     ]
    },
    {
     "name": "stderr",
     "output_type": "stream",
     "text": [
      "INFO:root:Finding EWKWplus_WToQQ samples and should combine them under EWKvjets\n",
      "INFO:root:Applying fj_mass selection on 108 events\n",
      "INFO:root:Applying TopCR selection on 105 events\n",
      "INFO:root:Will fill the histograms with the remaining 0 events\n"
     ]
    },
    {
     "name": "stdout",
     "output_type": "stream",
     "text": [
      "above nominal Series([], dtype: float64)\n",
      "syst pass_weight_PSFSR\n",
      "syst pass_weight_PSISR\n"
     ]
    },
    {
     "name": "stderr",
     "output_type": "stream",
     "text": [
      "INFO:root:Finding EWKZ_ZToQQ samples and should combine them under EWKvjets\n",
      "INFO:root:Applying fj_mass selection on 1 events\n",
      "INFO:root:Applying TopCR selection on 1 events\n",
      "INFO:root:Will fill the histograms with the remaining 0 events\n"
     ]
    },
    {
     "name": "stdout",
     "output_type": "stream",
     "text": [
      "above nominal Series([], dtype: float64)\n",
      "syst pass_weight_PSFSR\n",
      "syst pass_weight_PSISR\n"
     ]
    },
    {
     "name": "stderr",
     "output_type": "stream",
     "text": [
      "INFO:root:Finding GluGluHToWW_Pt-200ToInf_M-125 samples and should combine them under ggF\n",
      "INFO:root:Applying fj_mass selection on 3059 events\n",
      "INFO:root:Applying TopCR selection on 2974 events\n",
      "INFO:root:Will fill the histograms with the remaining 1 events\n"
     ]
    },
    {
     "name": "stdout",
     "output_type": "stream",
     "text": [
      "above nominal 417    0.019226\n",
      "dtype: float64\n",
      "syst pass_weight_PSFSR\n",
      "syst pass_weight_PSISR\n"
     ]
    },
    {
     "name": "stderr",
     "output_type": "stream",
     "text": [
      "INFO:root:Finding ST_s-channel_4f_hadronicDecays samples and should combine them under SingleTop\n",
      "INFO:root:Applying fj_mass selection on 44 events\n",
      "INFO:root:Applying TopCR selection on 41 events\n",
      "INFO:root:Will fill the histograms with the remaining 0 events\n"
     ]
    },
    {
     "name": "stdout",
     "output_type": "stream",
     "text": [
      "above nominal Series([], dtype: float64)\n",
      "syst pass_weight_PSFSR\n",
      "syst pass_weight_PSISR\n"
     ]
    },
    {
     "name": "stderr",
     "output_type": "stream",
     "text": [
      "INFO:root:Finding ST_s-channel_4f_leptonDecays samples and should combine them under SingleTop\n",
      "INFO:root:Applying fj_mass selection on 7618 events\n",
      "INFO:root:Applying TopCR selection on 7190 events\n",
      "INFO:root:Will fill the histograms with the remaining 0 events\n"
     ]
    },
    {
     "name": "stdout",
     "output_type": "stream",
     "text": [
      "above nominal Series([], dtype: float64)\n",
      "syst pass_weight_PSFSR\n",
      "syst pass_weight_PSISR\n"
     ]
    },
    {
     "name": "stderr",
     "output_type": "stream",
     "text": [
      "INFO:root:Finding ST_t-channel_antitop_4f_InclusiveDecays samples and should combine them under SingleTop\n",
      "INFO:root:Applying fj_mass selection on 5578 events\n",
      "INFO:root:Applying TopCR selection on 5407 events\n",
      "INFO:root:Will fill the histograms with the remaining 0 events\n"
     ]
    },
    {
     "name": "stdout",
     "output_type": "stream",
     "text": [
      "above nominal Series([], dtype: float64)\n",
      "syst pass_weight_PSFSR\n",
      "syst pass_weight_PSISR\n"
     ]
    },
    {
     "name": "stderr",
     "output_type": "stream",
     "text": [
      "INFO:root:Finding ST_t-channel_top_4f_InclusiveDecays samples and should combine them under SingleTop\n",
      "INFO:root:Applying fj_mass selection on 13418 events\n",
      "INFO:root:Applying TopCR selection on 12899 events\n",
      "INFO:root:Will fill the histograms with the remaining 1 events\n"
     ]
    },
    {
     "name": "stdout",
     "output_type": "stream",
     "text": [
      "above nominal 2246    0.058592\n",
      "dtype: float64\n",
      "syst pass_weight_PSFSR\n",
      "syst pass_weight_PSISR\n"
     ]
    },
    {
     "name": "stderr",
     "output_type": "stream",
     "text": [
      "INFO:root:Finding ST_tW_antitop_5f_inclusiveDecays samples and should combine them under SingleTop\n",
      "INFO:root:Applying fj_mass selection on 5411 events\n",
      "INFO:root:Applying TopCR selection on 5248 events\n",
      "INFO:root:Will fill the histograms with the remaining 3 events\n"
     ]
    },
    {
     "name": "stdout",
     "output_type": "stream",
     "text": [
      "above nominal 1697    0.256448\n",
      "2053    0.206415\n",
      "3471    0.236793\n",
      "dtype: float64\n",
      "syst pass_weight_PSFSR\n",
      "syst pass_weight_PSISR\n"
     ]
    },
    {
     "name": "stderr",
     "output_type": "stream",
     "text": [
      "INFO:root:Finding ST_tW_top_5f_inclusiveDecays samples and should combine them under SingleTop\n",
      "INFO:root:Applying fj_mass selection on 5488 events\n",
      "INFO:root:Applying TopCR selection on 5301 events\n",
      "INFO:root:Will fill the histograms with the remaining 6 events\n"
     ]
    },
    {
     "name": "stdout",
     "output_type": "stream",
     "text": [
      "above nominal 1286    0.260437\n",
      "1750    0.230865\n",
      "1898    0.227592\n",
      "2657    0.301797\n",
      "3445    0.194516\n",
      "5045    0.210869\n",
      "dtype: float64\n",
      "syst pass_weight_PSFSR\n",
      "syst pass_weight_PSISR\n"
     ]
    },
    {
     "name": "stderr",
     "output_type": "stream",
     "text": [
      "INFO:root:Finding TTTo2L2Nu samples and should combine them under TTbar\n",
      "INFO:root:Applying fj_mass selection on 127388 events\n",
      "INFO:root:Applying TopCR selection on 123412 events\n",
      "INFO:root:Will fill the histograms with the remaining 24 events\n"
     ]
    },
    {
     "name": "stdout",
     "output_type": "stream",
     "text": [
      "above nominal 3953      0.051566\n",
      "24182     0.043914\n",
      "36342     0.049094\n",
      "41594     0.049359\n",
      "43769     0.051111\n",
      "49569     0.070456\n",
      "56572     0.043002\n",
      "63888     0.052564\n",
      "65957     0.048282\n",
      "66357     0.051388\n",
      "75831     0.056084\n",
      "84119     0.042181\n",
      "88643     0.049078\n",
      "89264     0.061344\n",
      "90602     0.043788\n",
      "94628     0.053123\n",
      "98867     0.060654\n",
      "101070    0.051795\n",
      "109400    0.048123\n",
      "115720    0.045591\n",
      "116461    0.056370\n",
      "116692    0.048500\n",
      "119386    0.052102\n",
      "125977   -0.049739\n",
      "dtype: float64\n",
      "syst pass_weight_PSFSR\n",
      "syst pass_weight_PSISR\n"
     ]
    },
    {
     "name": "stderr",
     "output_type": "stream",
     "text": [
      "INFO:root:Finding TTToHadronic samples and should combine them under TTbar\n",
      "INFO:root:Applying fj_mass selection on 1042 events\n",
      "INFO:root:Applying TopCR selection on 983 events\n",
      "INFO:root:Will fill the histograms with the remaining 0 events\n"
     ]
    },
    {
     "name": "stdout",
     "output_type": "stream",
     "text": [
      "above nominal Series([], dtype: float64)\n",
      "syst pass_weight_PSFSR\n",
      "syst pass_weight_PSISR\n"
     ]
    },
    {
     "name": "stderr",
     "output_type": "stream",
     "text": [
      "INFO:root:Finding TTToSemiLeptonic samples and should combine them under TTbar\n",
      "INFO:root:Applying fj_mass selection on 393426 events\n",
      "INFO:root:Applying TopCR selection on 362896 events\n",
      "INFO:root:Will fill the histograms with the remaining 115 events\n"
     ]
    },
    {
     "name": "stdout",
     "output_type": "stream",
     "text": [
      "above nominal 2298      0.168138\n",
      "4577      0.158463\n",
      "6627      0.182391\n",
      "8171      0.160887\n",
      "8689      0.183335\n",
      "            ...   \n",
      "376681    0.193487\n",
      "377451    0.164845\n",
      "379805    0.143492\n",
      "386705    0.153876\n",
      "389611   -0.160399\n",
      "Length: 115, dtype: float64\n",
      "syst pass_weight_PSFSR\n",
      "syst pass_weight_PSISR\n"
     ]
    },
    {
     "name": "stderr",
     "output_type": "stream",
     "text": [
      "INFO:root:Finding VBFHToWWToAny_M-125_TuneCP5_withDipoleRecoil samples and should combine them under VBF\n",
      "INFO:root:Applying fj_mass selection on 438 events\n",
      "INFO:root:Applying TopCR selection on 432 events\n",
      "INFO:root:Will fill the histograms with the remaining 0 events\n"
     ]
    },
    {
     "name": "stdout",
     "output_type": "stream",
     "text": [
      "above nominal Series([], dtype: float64)\n",
      "syst pass_weight_PSFSR\n",
      "syst pass_weight_PSISR\n",
      "fj genHT 0      285.0\n",
      "1      493.0\n",
      "2      359.0\n",
      "3      238.0\n",
      "4      234.0\n",
      "       ...  \n",
      "433    411.0\n",
      "434    414.0\n",
      "435    289.0\n",
      "436    342.0\n",
      "437    430.0\n",
      "Name: fj_genH_pt, Length: 432, dtype: float32\n",
      "nominal Series([], dtype: float64)\n"
     ]
    },
    {
     "name": "stderr",
     "output_type": "stream",
     "text": [
      "INFO:root:Finding WJetsToLNu_HT-100To200 samples and should combine them under WJetsLNu\n",
      "INFO:root:Finding WJetsToLNu_HT-1200To2500 samples and should combine them under WJetsLNu\n",
      "INFO:root:Applying fj_mass selection on 127243 events\n",
      "INFO:root:Applying TopCR selection on 96304 events\n",
      "INFO:root:Will fill the histograms with the remaining 14 events\n"
     ]
    },
    {
     "name": "stdout",
     "output_type": "stream",
     "text": [
      "above nominal 2848      0.015149\n",
      "13710     0.015221\n",
      "15439     0.014534\n",
      "20582     0.014786\n",
      "28701     0.018953\n",
      "51488     0.021568\n",
      "57402     0.015387\n",
      "58082     0.014525\n",
      "58202     0.013594\n",
      "74634     0.010903\n",
      "76825     0.018112\n",
      "78883     0.015379\n",
      "83096     0.017532\n",
      "117212    0.010672\n",
      "dtype: float64\n",
      "syst pass_weight_PSFSR\n",
      "syst pass_weight_PSISR\n"
     ]
    },
    {
     "name": "stderr",
     "output_type": "stream",
     "text": [
      "INFO:root:Finding WJetsToLNu_HT-200To400 samples and should combine them under WJetsLNu\n",
      "INFO:root:Applying fj_mass selection on 12059 events\n",
      "INFO:root:Applying TopCR selection on 12052 events\n",
      "INFO:root:Will fill the histograms with the remaining 0 events\n"
     ]
    },
    {
     "name": "stdout",
     "output_type": "stream",
     "text": [
      "above nominal Series([], dtype: float64)\n",
      "syst pass_weight_PSFSR\n",
      "syst pass_weight_PSISR\n"
     ]
    },
    {
     "name": "stderr",
     "output_type": "stream",
     "text": [
      "INFO:root:Finding WJetsToLNu_HT-2500ToInf samples and should combine them under WJetsLNu\n",
      "INFO:root:Applying fj_mass selection on 42883 events\n",
      "INFO:root:Applying TopCR selection on 26079 events\n",
      "INFO:root:Will fill the histograms with the remaining 1 events\n"
     ]
    },
    {
     "name": "stdout",
     "output_type": "stream",
     "text": [
      "above nominal 21191    0.000325\n",
      "dtype: float64\n",
      "syst pass_weight_PSFSR\n",
      "syst pass_weight_PSISR\n"
     ]
    },
    {
     "name": "stderr",
     "output_type": "stream",
     "text": [
      "INFO:root:Finding WJetsToLNu_HT-400To600 samples and should combine them under WJetsLNu\n",
      "INFO:root:Applying fj_mass selection on 28540 events\n",
      "INFO:root:Applying TopCR selection on 28343 events\n",
      "INFO:root:Will fill the histograms with the remaining 1 events\n"
     ]
    },
    {
     "name": "stdout",
     "output_type": "stream",
     "text": [
      "above nominal 18169    0.543883\n",
      "dtype: float64\n",
      "syst pass_weight_PSFSR\n",
      "syst pass_weight_PSISR\n"
     ]
    },
    {
     "name": "stderr",
     "output_type": "stream",
     "text": [
      "INFO:root:Finding WJetsToLNu_HT-600To800 samples and should combine them under WJetsLNu\n",
      "INFO:root:Applying fj_mass selection on 64626 events\n",
      "INFO:root:Applying TopCR selection on 62395 events\n",
      "INFO:root:Will fill the histograms with the remaining 3 events\n"
     ]
    },
    {
     "name": "stdout",
     "output_type": "stream",
     "text": [
      "above nominal 9069     0.142927\n",
      "25387    0.170549\n",
      "60986    0.129140\n",
      "dtype: float64\n",
      "syst pass_weight_PSFSR\n",
      "syst pass_weight_PSISR\n"
     ]
    },
    {
     "name": "stderr",
     "output_type": "stream",
     "text": [
      "INFO:root:Finding WJetsToLNu_HT-800To1200 samples and should combine them under WJetsLNu\n",
      "INFO:root:Applying fj_mass selection on 100818 events\n",
      "INFO:root:Applying TopCR selection on 90119 events\n",
      "INFO:root:Will fill the histograms with the remaining 10 events\n"
     ]
    },
    {
     "name": "stdout",
     "output_type": "stream",
     "text": [
      "above nominal 5940     0.054430\n",
      "13139    0.055396\n",
      "21404    0.056977\n",
      "66143    0.056242\n",
      "66767    0.055716\n",
      "68349    0.040170\n",
      "75926    0.054960\n",
      "85757    0.057072\n",
      "88366    0.053217\n",
      "95531    0.057163\n",
      "dtype: float64\n",
      "syst pass_weight_PSFSR\n",
      "syst pass_weight_PSISR\n"
     ]
    },
    {
     "name": "stderr",
     "output_type": "stream",
     "text": [
      "INFO:root:Finding WW samples and should combine them under Diboson\n",
      "INFO:root:Applying fj_mass selection on 372 events\n",
      "INFO:root:Applying TopCR selection on 362 events\n",
      "INFO:root:Will fill the histograms with the remaining 1 events\n"
     ]
    },
    {
     "name": "stdout",
     "output_type": "stream",
     "text": [
      "above nominal 106    0.891526\n",
      "dtype: float64\n",
      "syst pass_weight_PSFSR\n",
      "syst pass_weight_PSISR\n"
     ]
    },
    {
     "name": "stderr",
     "output_type": "stream",
     "text": [
      "INFO:root:Finding WZ samples and should combine them under Diboson\n",
      "INFO:root:Applying fj_mass selection on 587 events\n",
      "INFO:root:Applying TopCR selection on 575 events\n",
      "INFO:root:Will fill the histograms with the remaining 0 events\n"
     ]
    },
    {
     "name": "stdout",
     "output_type": "stream",
     "text": [
      "above nominal Series([], dtype: float64)\n",
      "syst pass_weight_PSFSR\n",
      "syst pass_weight_PSISR\n"
     ]
    },
    {
     "name": "stderr",
     "output_type": "stream",
     "text": [
      "INFO:root:Finding ZZ samples and should combine them under Diboson\n",
      "INFO:root:Applying fj_mass selection on 340 events\n",
      "INFO:root:Applying TopCR selection on 338 events\n",
      "INFO:root:Will fill the histograms with the remaining 0 events\n"
     ]
    },
    {
     "name": "stdout",
     "output_type": "stream",
     "text": [
      "above nominal Series([], dtype: float64)\n",
      "syst pass_weight_PSFSR\n",
      "syst pass_weight_PSISR\n"
     ]
    },
    {
     "name": "stderr",
     "output_type": "stream",
     "text": [
      "INFO:root:Finding GluGluZH_HToWW_M-125_TuneCP5_13TeV-powheg-pythia8 samples and should combine them under ZH\n",
      "INFO:root:Applying fj_mass selection on 18560 events\n",
      "INFO:root:Applying TopCR selection on 18377 events\n",
      "INFO:root:Will fill the histograms with the remaining 41 events\n"
     ]
    },
    {
     "name": "stdout",
     "output_type": "stream",
     "text": [
      "above nominal 65       0.000074\n",
      "189      0.000074\n",
      "318      0.000076\n",
      "408      0.000077\n",
      "630      0.000105\n",
      "753      0.000075\n",
      "1102     0.000072\n",
      "1302     0.000062\n",
      "2989     0.000075\n",
      "3627     0.000088\n",
      "3851     0.000088\n",
      "5136     0.000079\n",
      "5473     0.000075\n",
      "6351     0.000075\n",
      "8534     0.000078\n",
      "8639     0.000073\n",
      "8951     0.000074\n",
      "9338     0.000096\n",
      "9999     0.000094\n",
      "10073    0.000074\n",
      "10128    0.000078\n",
      "10262    0.000087\n",
      "10463    0.000075\n",
      "10564    0.000073\n",
      "10962    0.000074\n",
      "11764    0.000066\n",
      "12121    0.000092\n",
      "12768    0.000089\n",
      "12832    0.000073\n",
      "13014    0.000068\n",
      "13208    0.000101\n",
      "13741    0.000078\n",
      "14392    0.000074\n",
      "15405    0.000073\n",
      "15986    0.000066\n",
      "16740    0.000076\n",
      "16772    0.000075\n",
      "17363    0.000101\n",
      "17945    0.000074\n",
      "18226    0.000074\n",
      "18333    0.000074\n",
      "dtype: float64\n",
      "syst pass_weight_PSFSR\n",
      "syst pass_weight_PSISR\n",
      "fj genHT 0        223.5\n",
      "1        296.0\n",
      "2        167.5\n",
      "3        323.0\n",
      "4        221.0\n",
      "         ...  \n",
      "18555    354.0\n",
      "18556    365.0\n",
      "18557    235.0\n",
      "18558    244.0\n",
      "18559    224.0\n",
      "Name: fj_genH_pt, Length: 18377, dtype: float32\n",
      "nominal 65       0.000060\n",
      "189      0.000062\n",
      "318      0.000061\n",
      "408      0.000060\n",
      "630      0.000088\n",
      "753      0.000060\n",
      "1102     0.000058\n",
      "1302     0.000048\n",
      "2989     0.000060\n",
      "3627     0.000069\n",
      "3851     0.000071\n",
      "5136     0.000064\n",
      "5473     0.000063\n",
      "6351     0.000060\n",
      "8534     0.000062\n",
      "8639     0.000060\n",
      "8951     0.000062\n",
      "9338     0.000077\n",
      "9999     0.000074\n",
      "10073    0.000059\n",
      "10128    0.000061\n",
      "10262    0.000070\n",
      "10463    0.000060\n",
      "10564    0.000057\n",
      "10962    0.000058\n",
      "11764    0.000053\n",
      "12121    0.000075\n",
      "12768    0.000075\n",
      "12832    0.000057\n",
      "13014    0.000054\n",
      "13208    0.000081\n",
      "13741    0.000066\n",
      "14392    0.000063\n",
      "15405    0.000062\n",
      "15986    0.000056\n",
      "16740    0.000064\n",
      "16772    0.000060\n",
      "17363    0.000082\n",
      "17945    0.000060\n",
      "18226    0.000060\n",
      "18333    0.000059\n",
      "dtype: float64\n"
     ]
    },
    {
     "name": "stderr",
     "output_type": "stream",
     "text": [
      "INFO:root:Finding HWplusJ_HToWW_M-125 samples and should combine them under WH\n",
      "INFO:root:Applying fj_mass selection on 8626 events\n",
      "INFO:root:Applying TopCR selection on 8540 events\n",
      "INFO:root:Will fill the histograms with the remaining 8 events\n"
     ]
    },
    {
     "name": "stdout",
     "output_type": "stream",
     "text": [
      "above nominal 1172    0.001332\n",
      "3846    0.001452\n",
      "3857    0.001177\n",
      "3979    0.001254\n",
      "5773    0.001362\n",
      "6229    0.001514\n",
      "7139    0.001046\n",
      "7205    0.001975\n",
      "dtype: float64\n",
      "syst pass_weight_PSFSR\n",
      "syst pass_weight_PSISR\n",
      "fj genHT 0       254.00\n",
      "1       302.00\n",
      "2       510.00\n",
      "3       494.00\n",
      "4       550.00\n",
      "         ...  \n",
      "8621     84.75\n",
      "8622    421.00\n",
      "8623    136.00\n",
      "8624    351.00\n",
      "8625    495.00\n",
      "Name: fj_genH_pt, Length: 8540, dtype: float32\n",
      "nominal 1172    0.001131\n",
      "3846    0.001165\n",
      "3857    0.000992\n",
      "3979    0.000980\n",
      "5773    0.001099\n",
      "6229    0.001182\n",
      "7139    0.000839\n",
      "7205    0.001584\n",
      "dtype: float64\n"
     ]
    },
    {
     "name": "stderr",
     "output_type": "stream",
     "text": [
      "INFO:root:Finding HWminusJ_HToWW_M-125 samples and should combine them under WH\n",
      "INFO:root:Applying fj_mass selection on 7865 events\n",
      "INFO:root:Applying TopCR selection on 7800 events\n",
      "INFO:root:Will fill the histograms with the remaining 14 events\n"
     ]
    },
    {
     "name": "stdout",
     "output_type": "stream",
     "text": [
      "above nominal 277     0.000844\n",
      "1147    0.000692\n",
      "1500    0.000713\n",
      "1654    0.000865\n",
      "2214    0.000712\n",
      "2946    0.000740\n",
      "3455    0.001359\n",
      "4231    0.001141\n",
      "4784    0.001030\n",
      "5921    0.000733\n",
      "6124    0.000649\n",
      "6151    0.000998\n",
      "6389    0.000693\n",
      "6987    0.000706\n",
      "dtype: float64\n",
      "syst pass_weight_PSFSR\n",
      "syst pass_weight_PSISR\n",
      "fj genHT 0       443.0\n",
      "1       496.0\n",
      "2       396.0\n",
      "3       185.5\n",
      "4       344.0\n",
      "        ...  \n",
      "7860    173.5\n",
      "7861    360.0\n",
      "7862    384.0\n",
      "7863    305.0\n",
      "7864    202.5\n",
      "Name: fj_genH_pt, Length: 7800, dtype: float32\n",
      "nominal 277     0.000677\n",
      "1147    0.000555\n",
      "1500    0.000573\n",
      "1654    0.000671\n",
      "2214    0.000557\n",
      "2946    0.000593\n",
      "3455    0.001061\n",
      "4231    0.000916\n",
      "4784    0.000828\n",
      "5921    0.000592\n",
      "6124    0.000521\n",
      "6151    0.000806\n",
      "6389    0.000556\n",
      "6987    0.000599\n",
      "dtype: float64\n"
     ]
    },
    {
     "name": "stderr",
     "output_type": "stream",
     "text": [
      "INFO:root:Finding HZJ_HToWW_M-125 samples and should combine them under ZH\n",
      "INFO:root:Applying fj_mass selection on 13457 events\n",
      "INFO:root:Applying TopCR selection on 13326 events\n",
      "INFO:root:Will fill the histograms with the remaining 22 events\n"
     ]
    },
    {
     "name": "stdout",
     "output_type": "stream",
     "text": [
      "above nominal 167      0.000846\n",
      "265      0.000771\n",
      "628      0.000878\n",
      "1479     0.000794\n",
      "1683     0.001587\n",
      "2214     0.000837\n",
      "4713     0.000853\n",
      "4784     0.000821\n",
      "5884     0.000833\n",
      "6733     0.000942\n",
      "6748     0.000766\n",
      "6973     0.000841\n",
      "7449     0.000823\n",
      "8519     0.000817\n",
      "8859     0.001282\n",
      "9130     0.000837\n",
      "9695     0.000820\n",
      "10084    0.001146\n",
      "10950    0.001551\n",
      "11707    0.000810\n",
      "13151    0.000858\n",
      "13247    0.000899\n",
      "dtype: float64\n",
      "syst pass_weight_PSFSR\n",
      "syst pass_weight_PSISR\n",
      "fj genHT 0        268.0\n",
      "1        275.0\n",
      "2        251.5\n",
      "3        290.0\n",
      "4        358.0\n",
      "         ...  \n",
      "13452    196.5\n",
      "13453    261.0\n",
      "13454    403.0\n",
      "13455    292.0\n",
      "13456    316.0\n",
      "Name: fj_genH_pt, Length: 13326, dtype: float32\n",
      "nominal 167      0.000695\n",
      "265      0.000594\n",
      "628      0.000720\n",
      "1479     0.000616\n",
      "1683     0.001273\n",
      "2214     0.000671\n",
      "4713     0.000656\n",
      "4784     0.000663\n",
      "5884     0.000667\n",
      "6733     0.000757\n",
      "6748     0.000618\n",
      "6973     0.000676\n",
      "7449     0.000674\n",
      "8519     0.000656\n",
      "8859     0.000987\n",
      "9130     0.000706\n",
      "9695     0.000640\n",
      "10084    0.000967\n",
      "10950    0.001311\n",
      "11707    0.000649\n",
      "13151    0.000704\n",
      "13247    0.000722\n",
      "dtype: float64\n"
     ]
    },
    {
     "name": "stderr",
     "output_type": "stream",
     "text": [
      "INFO:root:Finding ttHToNonbb_M125 samples and should combine them under ttH\n",
      "INFO:root:Applying fj_mass selection on 13892 events\n",
      "INFO:root:Applying TopCR selection on 12372 events\n",
      "INFO:root:Will fill the histograms with the remaining 96 events\n"
     ]
    },
    {
     "name": "stdout",
     "output_type": "stream",
     "text": [
      "above nominal 150      0.007212\n",
      "157     -0.006053\n",
      "656      0.005260\n",
      "942      0.007105\n",
      "1063     0.006055\n",
      "           ...   \n",
      "13502    0.005261\n",
      "13596    0.007267\n",
      "13715    0.007841\n",
      "13810    0.006050\n",
      "13884    0.005795\n",
      "Length: 96, dtype: float64\n",
      "syst pass_weight_PSFSR\n",
      "syst pass_weight_PSISR\n",
      "fj genHT 1         69.750\n",
      "2        121.500\n",
      "3        280.000\n",
      "4        104.500\n",
      "5        454.000\n",
      "          ...   \n",
      "13885    159.500\n",
      "13886    369.000\n",
      "13887    195.500\n",
      "13889    300.000\n",
      "13890     46.625\n",
      "Name: fj_genH_pt, Length: 12372, dtype: float32\n",
      "nominal 150      0.005778\n",
      "157     -0.004657\n",
      "656      0.004225\n",
      "942      0.005701\n",
      "1063     0.005105\n",
      "           ...   \n",
      "13502    0.004443\n",
      "13596    0.005831\n",
      "13715    0.006281\n",
      "13810    0.004881\n",
      "13884    0.004655\n",
      "Length: 96, dtype: float64\n",
      "got neg bins\n",
      "TopCR, DYJets, has 1 bins with negative yield.. will set them to 0\n",
      "hists Hist(\n",
      "  StrCategory(['DYJets', 'ggF', 'SingleTop', 'TTbar', 'WJetsLNu', 'ZH', 'WH', 'ttH', 'Diboson'], growth=True, name='Sample'),\n",
      "  StrCategory(['pass_nominal', 'pass_weight_PSFSR_DYJets_up', 'pass_weight_PSFSR_DYJets_down', 'pass_weight_PSISR_DYJets_up', 'pass_weight_PSISR_DYJets_down', 'pass_weight_pileup_id_up', 'pass_weight_pileup_id_down', 'pass_weight_d1K_NLO_up', 'pass_weight_d1K_NLO_down', 'pass_weight_d2K_NLO_up', 'pass_weight_d2K_NLO_down', 'pass_weight_d3K_NLO_up', 'pass_weight_d3K_NLO_down', 'pass_weight_d1kappa_EW_up', 'pass_weight_d1kappa_EW_down', 'pass_weight_W_d2kappa_EW_up', 'pass_weight_W_d2kappa_EW_down', 'pass_weight_W_d3kappa_EW_up', 'pass_weight_W_d3kappa_EW_down', 'pass_weight_Z_d2kappa_EW_up', 'pass_weight_Z_d2kappa_EW_down', 'pass_weight_Z_d3kappa_EW_up', 'pass_weight_Z_d3kappa_EW_down', 'pass_weight_ele_id_up', 'pass_weight_ele_id_down', 'pass_weight_ele_reco_up', 'pass_weight_ele_reco_down', 'pass_weight_mu_isolation_up', 'pass_weight_mu_isolation_down', 'pass_weight_mu_id_up', 'pass_weight_mu_id_down', 'pass_weight_mu_trigger_iso_up', 'pass_weight_mu_trigger_iso_down', 'pass_weight_mu_trigger_noniso_up', 'pass_weight_mu_trigger_noniso_down', 'pass_weight_pileup_up', 'pass_weight_pileup_down', 'pass_weight_btagSFlightCorrelated_up', 'pass_weight_btagSFlightCorrelated_down', 'pass_weight_btagSFbcCorrelated_up', 'pass_weight_btagSFbcCorrelated_down', 'pass_weight_btagSFlight_up', 'pass_weight_btagSFlight_down', 'pass_weight_btagSFbc_up', 'pass_weight_btagSFbc_down', 'pass_weight_Vtagger_up', 'pass_weight_Vtagger_down', 'pass_weight_pdf_acceptance_DYJets_up', 'pass_weight_pdf_acceptance_DYJets_down', 'pass_weight_qcd_scale_DYJets_up', 'pass_weight_qcd_scale_DYJets_down', 'pass_weight_trigger_up', 'pass_weight_trigger_down', 'pass_top_reweighting_up', 'pass_top_reweighting_down', 'pass_JMR_sig_2018_up', 'pass_JMR_sig_2018_down', 'pass_JMS_sig_2018_up', 'pass_JMS_sig_2018_down', 'pass_JMR_ttbar_2018_up', 'pass_JMR_ttbar_2018_down', 'pass_JMS_ttbar_2018_up', 'pass_JMS_ttbar_2018_down', 'pass_JMR_wjets_2018_up', 'pass_JMR_wjets_2018_down', 'pass_JMS_wjets_2018_up', 'pass_JMS_wjets_2018_down', 'pass_JES_FlavorQCD_up', 'pass_JES_FlavorQCD_down', 'pass_JES_RelativeBal_up', 'pass_JES_RelativeBal_down', 'pass_JES_HF_up', 'pass_JES_HF_down', 'pass_JES_BBEC1_up', 'pass_JES_BBEC1_down', 'pass_JES_EC2_up', 'pass_JES_EC2_down', 'pass_JES_Absolute_up', 'pass_JES_Absolute_down', 'pass_JES_BBEC1_year_up', 'pass_JES_BBEC1_year_down', 'pass_JES_RelativeSample_year_up', 'pass_JES_RelativeSample_year_down', 'pass_JES_EC2_year_up', 'pass_JES_EC2_year_down', 'pass_JES_HF_year_up', 'pass_JES_HF_year_down', 'pass_JES_Absolute_year_up', 'pass_JES_Absolute_year_down', 'pass_JER_year_up', 'pass_JER_year_down', 'pass_UES_up', 'pass_UES_down', 'pass_weight_PSFSR_ggF_up', 'pass_weight_PSFSR_ggF_down', 'pass_weight_PSISR_ggF_up', 'pass_weight_PSISR_ggF_down', 'pass_weight_pdf_acceptance_ggF_up', 'pass_weight_pdf_acceptance_ggF_down', 'pass_weight_qcd_scale_ggF_up', 'pass_weight_qcd_scale_ggF_down', 'pass_weight_PSFSR_SingleTop_up', 'pass_weight_PSFSR_SingleTop_down', 'pass_weight_PSISR_SingleTop_up', 'pass_weight_PSISR_SingleTop_down', 'pass_weight_pdf_acceptance_SingleTop_up', 'pass_weight_pdf_acceptance_SingleTop_down', 'pass_weight_qcd_scale_SingleTop_up', 'pass_weight_qcd_scale_SingleTop_down', 'pass_weight_PSFSR_TTbar_up', 'pass_weight_PSFSR_TTbar_down', 'pass_weight_PSISR_TTbar_up', 'pass_weight_PSISR_TTbar_down', 'pass_weight_pdf_acceptance_TTbar_up', 'pass_weight_pdf_acceptance_TTbar_down', 'pass_weight_qcd_scale_TTbar_up', 'pass_weight_qcd_scale_TTbar_down', 'pass_weight_PSFSR_WJetsLNu_up', 'pass_weight_PSFSR_WJetsLNu_down', 'pass_weight_PSISR_WJetsLNu_up', 'pass_weight_PSISR_WJetsLNu_down', 'pass_weight_pdf_acceptance_WJetsLNu_up', 'pass_weight_pdf_acceptance_WJetsLNu_down', 'pass_weight_qcd_scale_WJetsLNu_up', 'pass_weight_qcd_scale_WJetsLNu_down', 'pass_weight_PSFSR_ZH_up', 'pass_weight_PSFSR_ZH_down', 'pass_weight_PSISR_ZH_up', 'pass_weight_PSISR_ZH_down', 'pass_EW_up', 'pass_EW_down', 'pass_weight_pdf_acceptance_ZH_up', 'pass_weight_pdf_acceptance_ZH_down', 'pass_weight_qcd_scale_ZH_up', 'pass_weight_qcd_scale_ZH_down', 'pass_weight_PSFSR_WH_up', 'pass_weight_PSFSR_WH_down', 'pass_weight_PSISR_WH_up', 'pass_weight_PSISR_WH_down', 'pass_weight_pdf_acceptance_WH_up', 'pass_weight_pdf_acceptance_WH_down', 'pass_weight_qcd_scale_WH_up', 'pass_weight_qcd_scale_WH_down', 'pass_weight_PSFSR_ttH_up', 'pass_weight_PSFSR_ttH_down', 'pass_weight_PSISR_ttH_up', 'pass_weight_PSISR_ttH_down', 'pass_weight_pdf_acceptance_ttH_up', 'pass_weight_pdf_acceptance_ttH_down', 'pass_weight_qcd_scale_ttH_up', 'pass_weight_qcd_scale_ttH_down', 'pass_weight_PSFSR_Diboson_up', 'pass_weight_PSFSR_Diboson_down', 'pass_weight_PSISR_Diboson_up', 'pass_weight_PSISR_Diboson_down', 'pass_weight_pdf_acceptance_Diboson_up', 'pass_weight_pdf_acceptance_Diboson_down', 'pass_weight_qcd_scale_Diboson_up', 'pass_weight_qcd_scale_Diboson_down'], growth=True, name='Systematic'),\n",
      "  StrCategory(['TopCR'], growth=True, name='Region'),\n",
      "  Variable([40, 180], name='mass_observable', label='V reconstructed mass [GeV]'),\n",
      "  storage=Weight()) # Sum: WeightedSum(value=5371.46, variance=792.004) (WeightedSum(value=5427.18, variance=798.181) with flow)\n"
     ]
    }
   ],
   "source": [
    "years = ['2018']\n",
    "\n",
    "outdir = 'templates'\n",
    "\n",
    "channels = 'mu','ele'\n",
    "#channels = ['mu']\n",
    "\n",
    "\n",
    "with open(\"simplePass_TopCR.yaml\", \"r\") as stream:\n",
    "    config = yaml.safe_load(stream)\n",
    "\n",
    "if len(years) == 4:\n",
    "    save_as = \"Run2\"\n",
    "else:\n",
    "    save_as = \"_\".join(years)\n",
    "\n",
    "if len(channels) == 1:\n",
    "    save_as += f\"_{channels[0]}_\"\n",
    "\n",
    "os.system(f\"mkdir -p {outdir}\")\n",
    "\n",
    "hists = get_templates( years, channels, config[\"samples\"], config[\"samples_dir\"], config[\"regions_sel\"], config[\"model_path\"],)\n",
    "\n",
    "fix_neg_yields(hists)\n",
    "\n",
    "#with open(f\"{outdir}/hists_templates_{save_as}.pkl\", \"wb\") as fp:\n",
    "with open(f\"{outdir}/hists_templates_{save_as}_TopCR_pass.pkl\", \"wb\") as fp:\n",
    "    print('hists', hists)\n",
    "    pkl.dump(hists, fp)\n",
    "\n"
   ]
  },
  {
   "cell_type": "code",
   "execution_count": 3,
   "id": "411e06fa-20da-4f40-96bd-8bce7251cc21",
   "metadata": {},
   "outputs": [],
   "source": [
    "obj = pd.read_pickle(r'/home/jieun201/boostedhiggs_may27/combine_nov26/2018/templates/hists_templates_2018_TopCR_pass.pkl')"
   ]
  },
  {
   "cell_type": "code",
   "execution_count": 4,
   "id": "f3d28c6c-5524-42ba-bc29-c687f1c7b2ab",
   "metadata": {},
   "outputs": [
    {
     "data": {
      "text/plain": [
       "Hist(\n",
       "  StrCategory(['DYJets', 'ggF', 'SingleTop', 'TTbar', 'WJetsLNu', 'ZH', 'WH', 'ttH', 'Diboson'], growth=True, name='Sample'),\n",
       "  StrCategory(['pass_nominal', 'pass_weight_PSFSR_DYJets_up', 'pass_weight_PSFSR_DYJets_down', 'pass_weight_PSISR_DYJets_up', 'pass_weight_PSISR_DYJets_down', 'pass_weight_pileup_id_up', 'pass_weight_pileup_id_down', 'pass_weight_d1K_NLO_up', 'pass_weight_d1K_NLO_down', 'pass_weight_d2K_NLO_up', 'pass_weight_d2K_NLO_down', 'pass_weight_d3K_NLO_up', 'pass_weight_d3K_NLO_down', 'pass_weight_d1kappa_EW_up', 'pass_weight_d1kappa_EW_down', 'pass_weight_W_d2kappa_EW_up', 'pass_weight_W_d2kappa_EW_down', 'pass_weight_W_d3kappa_EW_up', 'pass_weight_W_d3kappa_EW_down', 'pass_weight_Z_d2kappa_EW_up', 'pass_weight_Z_d2kappa_EW_down', 'pass_weight_Z_d3kappa_EW_up', 'pass_weight_Z_d3kappa_EW_down', 'pass_weight_ele_id_up', 'pass_weight_ele_id_down', 'pass_weight_ele_reco_up', 'pass_weight_ele_reco_down', 'pass_weight_mu_isolation_up', 'pass_weight_mu_isolation_down', 'pass_weight_mu_id_up', 'pass_weight_mu_id_down', 'pass_weight_mu_trigger_iso_up', 'pass_weight_mu_trigger_iso_down', 'pass_weight_mu_trigger_noniso_up', 'pass_weight_mu_trigger_noniso_down', 'pass_weight_pileup_up', 'pass_weight_pileup_down', 'pass_weight_btagSFlightCorrelated_up', 'pass_weight_btagSFlightCorrelated_down', 'pass_weight_btagSFbcCorrelated_up', 'pass_weight_btagSFbcCorrelated_down', 'pass_weight_btagSFlight_up', 'pass_weight_btagSFlight_down', 'pass_weight_btagSFbc_up', 'pass_weight_btagSFbc_down', 'pass_weight_Vtagger_up', 'pass_weight_Vtagger_down', 'pass_weight_pdf_acceptance_DYJets_up', 'pass_weight_pdf_acceptance_DYJets_down', 'pass_weight_qcd_scale_DYJets_up', 'pass_weight_qcd_scale_DYJets_down', 'pass_weight_trigger_up', 'pass_weight_trigger_down', 'pass_top_reweighting_up', 'pass_top_reweighting_down', 'pass_JMR_sig_2018_up', 'pass_JMR_sig_2018_down', 'pass_JMS_sig_2018_up', 'pass_JMS_sig_2018_down', 'pass_JMR_ttbar_2018_up', 'pass_JMR_ttbar_2018_down', 'pass_JMS_ttbar_2018_up', 'pass_JMS_ttbar_2018_down', 'pass_JMR_wjets_2018_up', 'pass_JMR_wjets_2018_down', 'pass_JMS_wjets_2018_up', 'pass_JMS_wjets_2018_down', 'pass_JES_FlavorQCD_up', 'pass_JES_FlavorQCD_down', 'pass_JES_RelativeBal_up', 'pass_JES_RelativeBal_down', 'pass_JES_HF_up', 'pass_JES_HF_down', 'pass_JES_BBEC1_up', 'pass_JES_BBEC1_down', 'pass_JES_EC2_up', 'pass_JES_EC2_down', 'pass_JES_Absolute_up', 'pass_JES_Absolute_down', 'pass_JES_BBEC1_year_up', 'pass_JES_BBEC1_year_down', 'pass_JES_RelativeSample_year_up', 'pass_JES_RelativeSample_year_down', 'pass_JES_EC2_year_up', 'pass_JES_EC2_year_down', 'pass_JES_HF_year_up', 'pass_JES_HF_year_down', 'pass_JES_Absolute_year_up', 'pass_JES_Absolute_year_down', 'pass_JER_year_up', 'pass_JER_year_down', 'pass_UES_up', 'pass_UES_down', 'pass_weight_PSFSR_ggF_up', 'pass_weight_PSFSR_ggF_down', 'pass_weight_PSISR_ggF_up', 'pass_weight_PSISR_ggF_down', 'pass_weight_pdf_acceptance_ggF_up', 'pass_weight_pdf_acceptance_ggF_down', 'pass_weight_qcd_scale_ggF_up', 'pass_weight_qcd_scale_ggF_down', 'pass_weight_PSFSR_SingleTop_up', 'pass_weight_PSFSR_SingleTop_down', 'pass_weight_PSISR_SingleTop_up', 'pass_weight_PSISR_SingleTop_down', 'pass_weight_pdf_acceptance_SingleTop_up', 'pass_weight_pdf_acceptance_SingleTop_down', 'pass_weight_qcd_scale_SingleTop_up', 'pass_weight_qcd_scale_SingleTop_down', 'pass_weight_PSFSR_TTbar_up', 'pass_weight_PSFSR_TTbar_down', 'pass_weight_PSISR_TTbar_up', 'pass_weight_PSISR_TTbar_down', 'pass_weight_pdf_acceptance_TTbar_up', 'pass_weight_pdf_acceptance_TTbar_down', 'pass_weight_qcd_scale_TTbar_up', 'pass_weight_qcd_scale_TTbar_down', 'pass_weight_PSFSR_WJetsLNu_up', 'pass_weight_PSFSR_WJetsLNu_down', 'pass_weight_PSISR_WJetsLNu_up', 'pass_weight_PSISR_WJetsLNu_down', 'pass_weight_pdf_acceptance_WJetsLNu_up', 'pass_weight_pdf_acceptance_WJetsLNu_down', 'pass_weight_qcd_scale_WJetsLNu_up', 'pass_weight_qcd_scale_WJetsLNu_down', 'pass_weight_PSFSR_ZH_up', 'pass_weight_PSFSR_ZH_down', 'pass_weight_PSISR_ZH_up', 'pass_weight_PSISR_ZH_down', 'pass_EW_up', 'pass_EW_down', 'pass_weight_pdf_acceptance_ZH_up', 'pass_weight_pdf_acceptance_ZH_down', 'pass_weight_qcd_scale_ZH_up', 'pass_weight_qcd_scale_ZH_down', 'pass_weight_PSFSR_WH_up', 'pass_weight_PSFSR_WH_down', 'pass_weight_PSISR_WH_up', 'pass_weight_PSISR_WH_down', 'pass_weight_pdf_acceptance_WH_up', 'pass_weight_pdf_acceptance_WH_down', 'pass_weight_qcd_scale_WH_up', 'pass_weight_qcd_scale_WH_down', 'pass_weight_PSFSR_ttH_up', 'pass_weight_PSFSR_ttH_down', 'pass_weight_PSISR_ttH_up', 'pass_weight_PSISR_ttH_down', 'pass_weight_pdf_acceptance_ttH_up', 'pass_weight_pdf_acceptance_ttH_down', 'pass_weight_qcd_scale_ttH_up', 'pass_weight_qcd_scale_ttH_down', 'pass_weight_PSFSR_Diboson_up', 'pass_weight_PSFSR_Diboson_down', 'pass_weight_PSISR_Diboson_up', 'pass_weight_PSISR_Diboson_down', 'pass_weight_pdf_acceptance_Diboson_up', 'pass_weight_pdf_acceptance_Diboson_down', 'pass_weight_qcd_scale_Diboson_up', 'pass_weight_qcd_scale_Diboson_down'], growth=True, name='Systematic'),\n",
       "  StrCategory(['TopCR'], growth=True, name='Region'),\n",
       "  Variable([40, 180], name='mass_observable', label='V reconstructed mass [GeV]'),\n",
       "  storage=Weight()) # Sum: WeightedSum(value=5371.46, variance=792.004) (WeightedSum(value=5427.18, variance=798.181) with flow)"
      ]
     },
     "execution_count": 4,
     "metadata": {},
     "output_type": "execute_result"
    }
   ],
   "source": [
    "obj"
   ]
  },
  {
   "cell_type": "code",
   "execution_count": 5,
   "id": "8dc8ebbc-0800-47c9-90e0-4d70e1c79552",
   "metadata": {},
   "outputs": [
    {
     "data": {
      "text/html": [
       "<html>\n",
       "<div style=\"display:flex; align-items:center;\">\n",
       "<div style=\"width:290px;\">\n",
       "<svg xmlns=\"http://www.w3.org/2000/svg\" viewBox=\"-10 -105 270 120\">\n",
       "<line x1=\"-5\" y1=\"0\" x2=\"255\" y2=\"0\" style=\"fill:none;stroke-width:2;stroke:currentColor\"/>\n",
       "<text text-anchor=\"middle\" x=\"0\" y=\"15\" style=\"fill:currentColor;\">\n",
       "40\n",
       "</text>\n",
       "<text text-anchor=\"middle\" x=\"250\" y=\"15\" style=\"fill:currentColor;\">\n",
       "180\n",
       "</text>\n",
       "<text text-anchor=\"middle\" x=\"125.0\" y=\"15\" style=\"fill:currentColor;\">\n",
       "V reconstructed mass [GeV]\n",
       "</text>\n",
       "<polyline points=\"  0,0   0,-100 250,-100 250,0\" style=\"fill:none; stroke:currentColor;\"/>\n",
       "</svg>\n",
       "</div>\n",
       "<div style=\"flex=grow:1;\">\n",
       "Variable([40, 180], name='mass_observable', label='V reconstructed mass [GeV]')<br/>\n",
       "<hr style=\"margin-top:.2em; margin-bottom:.2em;\"/>\n",
       "Weight() Σ=WeightedSum(value=0.702987, variance=0.49419)\n",
       "\n",
       "</div>\n",
       "</div>\n",
       "</html>"
      ],
      "text/plain": [
       "Hist(Variable([40, 180], name='mass_observable', label='V reconstructed mass [GeV]'), storage=Weight()) # Sum: WeightedSum(value=0.702987, variance=0.49419)"
      ]
     },
     "execution_count": 5,
     "metadata": {},
     "output_type": "execute_result"
    }
   ],
   "source": [
    "#sample2 = obj[{\"Region\": \"SR1\", \"Sample\": \"ZH\", \"Systematic\": \"pass_JMS_2017_down\"}]\n",
    "sample2 = obj[{\"Region\": \"TopCR\", \"Sample\": \"Diboson\", \"Systematic\": \"pass_UES_down\"}]\n",
    "\n",
    "sample2"
   ]
  },
  {
   "cell_type": "code",
   "execution_count": 6,
   "id": "9fe6d315-439c-433d-8d33-49a2f356fefb",
   "metadata": {},
   "outputs": [
    {
     "data": {
      "text/html": [
       "<html>\n",
       "<div style=\"display:flex; align-items:center;\">\n",
       "<div style=\"width:290px;\">\n",
       "<svg xmlns=\"http://www.w3.org/2000/svg\" viewBox=\"-10 -105 270 120\">\n",
       "<line x1=\"-5\" y1=\"0\" x2=\"255\" y2=\"0\" style=\"fill:none;stroke-width:2;stroke:currentColor\"/>\n",
       "<text text-anchor=\"middle\" x=\"0\" y=\"15\" style=\"fill:currentColor;\">\n",
       "40\n",
       "</text>\n",
       "<text text-anchor=\"middle\" x=\"250\" y=\"15\" style=\"fill:currentColor;\">\n",
       "180\n",
       "</text>\n",
       "<text text-anchor=\"middle\" x=\"125.0\" y=\"15\" style=\"fill:currentColor;\">\n",
       "V reconstructed mass [GeV]\n",
       "</text>\n",
       "<polyline points=\"  0,0   0,-100 250,-100 250,0\" style=\"fill:none; stroke:currentColor;\"/>\n",
       "</svg>\n",
       "</div>\n",
       "<div style=\"flex=grow:1;\">\n",
       "Variable([40, 180], name='mass_observable', label='V reconstructed mass [GeV]')<br/>\n",
       "<hr style=\"margin-top:.2em; margin-bottom:.2em;\"/>\n",
       "Weight() Σ=WeightedSum(value=46.8674, variance=6.08878) <em>(WeightedSum(value=47.3791, variance=6.14806) with flow)</em>\n",
       "\n",
       "</div>\n",
       "</div>\n",
       "</html>"
      ],
      "text/plain": [
       "Hist(Variable([40, 180], name='mass_observable', label='V reconstructed mass [GeV]'), storage=Weight()) # Sum: WeightedSum(value=46.8674, variance=6.08878) (WeightedSum(value=47.3791, variance=6.14806) with flow)"
      ]
     },
     "execution_count": 6,
     "metadata": {},
     "output_type": "execute_result"
    }
   ],
   "source": [
    "sample2 = obj[{\"Region\": \"TopCR\", \"Sample\": \"TTbar\", \"Systematic\": \"pass_nominal\"}]\n",
    "sample2"
   ]
  },
  {
   "cell_type": "code",
   "execution_count": 7,
   "id": "08abe576-66fe-4d23-bf5b-e70b8e2e815b",
   "metadata": {},
   "outputs": [
    {
     "ename": "KeyError",
     "evalue": "\"'SR1' not in axis\"",
     "output_type": "error",
     "traceback": [
      "\u001b[0;31m---------------------------------------------------------------------------\u001b[0m",
      "\u001b[0;31mKeyError\u001b[0m                                  Traceback (most recent call last)",
      "Cell \u001b[0;32mIn[7], line 2\u001b[0m\n\u001b[1;32m      1\u001b[0m \u001b[38;5;66;03m#sample2 = obj[{\"Region\": \"SR1\", \"Sample\": \"ZH\", \"Systematic\": \"pass_JMS_2017_up\"}]\u001b[39;00m\n\u001b[0;32m----> 2\u001b[0m sample2 \u001b[38;5;241m=\u001b[39m \u001b[43mobj\u001b[49m\u001b[43m[\u001b[49m\u001b[43m{\u001b[49m\u001b[38;5;124;43m\"\u001b[39;49m\u001b[38;5;124;43mRegion\u001b[39;49m\u001b[38;5;124;43m\"\u001b[39;49m\u001b[43m:\u001b[49m\u001b[43m \u001b[49m\u001b[38;5;124;43m\"\u001b[39;49m\u001b[38;5;124;43mSR1\u001b[39;49m\u001b[38;5;124;43m\"\u001b[39;49m\u001b[43m,\u001b[49m\u001b[43m \u001b[49m\u001b[38;5;124;43m\"\u001b[39;49m\u001b[38;5;124;43mSample\u001b[39;49m\u001b[38;5;124;43m\"\u001b[39;49m\u001b[43m:\u001b[49m\u001b[43m \u001b[49m\u001b[38;5;124;43m\"\u001b[39;49m\u001b[38;5;124;43mZH\u001b[39;49m\u001b[38;5;124;43m\"\u001b[39;49m\u001b[43m,\u001b[49m\u001b[43m \u001b[49m\u001b[38;5;124;43m\"\u001b[39;49m\u001b[38;5;124;43mSystematic\u001b[39;49m\u001b[38;5;124;43m\"\u001b[39;49m\u001b[43m:\u001b[49m\u001b[43m \u001b[49m\u001b[38;5;124;43m\"\u001b[39;49m\u001b[38;5;124;43mpass_UES_up\u001b[39;49m\u001b[38;5;124;43m\"\u001b[39;49m\u001b[43m}\u001b[49m\u001b[43m]\u001b[49m\n\u001b[1;32m      6\u001b[0m sample2\n",
      "File \u001b[0;32m~/.local/lib/python3.10/site-packages/hist/basehist.py:417\u001b[0m, in \u001b[0;36mBaseHist.__getitem__\u001b[0;34m(self, index)\u001b[0m\n\u001b[1;32m    410\u001b[0m \u001b[38;5;28;01mdef\u001b[39;00m\u001b[38;5;250m \u001b[39m\u001b[38;5;21m__getitem__\u001b[39m(  \u001b[38;5;66;03m# type: ignore[override]\u001b[39;00m\n\u001b[1;32m    411\u001b[0m     \u001b[38;5;28mself\u001b[39m, index: IndexingExpr\n\u001b[1;32m    412\u001b[0m ) \u001b[38;5;241m-\u001b[39m\u001b[38;5;241m>\u001b[39m Self \u001b[38;5;241m|\u001b[39m \u001b[38;5;28mfloat\u001b[39m \u001b[38;5;241m|\u001b[39m bh\u001b[38;5;241m.\u001b[39maccumulators\u001b[38;5;241m.\u001b[39mAccumulator:\n\u001b[1;32m    413\u001b[0m \u001b[38;5;250m    \u001b[39m\u001b[38;5;124;03m\"\"\"\u001b[39;00m\n\u001b[1;32m    414\u001b[0m \u001b[38;5;124;03m    Get histogram item.\u001b[39;00m\n\u001b[1;32m    415\u001b[0m \u001b[38;5;124;03m    \"\"\"\u001b[39;00m\n\u001b[0;32m--> 417\u001b[0m     \u001b[38;5;28;01mreturn\u001b[39;00m \u001b[38;5;28;43msuper\u001b[39;49m\u001b[43m(\u001b[49m\u001b[43m)\u001b[49m\u001b[38;5;241;43m.\u001b[39;49m\u001b[38;5;21;43m__getitem__\u001b[39;49m\u001b[43m(\u001b[49m\u001b[38;5;28;43mself\u001b[39;49m\u001b[38;5;241;43m.\u001b[39;49m\u001b[43m_index_transform\u001b[49m\u001b[43m(\u001b[49m\u001b[43mindex\u001b[49m\u001b[43m)\u001b[49m\u001b[43m)\u001b[49m\n",
      "File \u001b[0;32m~/.local/lib/python3.10/site-packages/boost_histogram/_internal/hist.py:817\u001b[0m, in \u001b[0;36mHistogram.__getitem__\u001b[0;34m(self, index)\u001b[0m\n\u001b[1;32m    816\u001b[0m \u001b[38;5;28;01mdef\u001b[39;00m\u001b[38;5;250m \u001b[39m\u001b[38;5;21m__getitem__\u001b[39m(\u001b[38;5;28mself\u001b[39m: H, index: IndexingExpr) \u001b[38;5;241m-\u001b[39m\u001b[38;5;241m>\u001b[39m H \u001b[38;5;241m|\u001b[39m \u001b[38;5;28mfloat\u001b[39m \u001b[38;5;241m|\u001b[39m Accumulator:\n\u001b[0;32m--> 817\u001b[0m     indexes \u001b[38;5;241m=\u001b[39m \u001b[38;5;28;43mself\u001b[39;49m\u001b[38;5;241;43m.\u001b[39;49m\u001b[43m_compute_commonindex\u001b[49m\u001b[43m(\u001b[49m\u001b[43mindex\u001b[49m\u001b[43m)\u001b[49m\n\u001b[1;32m    819\u001b[0m     \u001b[38;5;66;03m# If this is (now) all integers, return the bin contents\u001b[39;00m\n\u001b[1;32m    820\u001b[0m     \u001b[38;5;66;03m# But don't try *dict!\u001b[39;00m\n\u001b[1;32m    821\u001b[0m     \u001b[38;5;28;01mif\u001b[39;00m \u001b[38;5;129;01mnot\u001b[39;00m \u001b[38;5;28mhasattr\u001b[39m(indexes, \u001b[38;5;124m\"\u001b[39m\u001b[38;5;124mitems\u001b[39m\u001b[38;5;124m\"\u001b[39m) \u001b[38;5;129;01mand\u001b[39;00m \u001b[38;5;28mall\u001b[39m(\n\u001b[1;32m    822\u001b[0m         \u001b[38;5;28misinstance\u001b[39m(a, SupportsIndex) \u001b[38;5;28;01mfor\u001b[39;00m a \u001b[38;5;129;01min\u001b[39;00m indexes\n\u001b[1;32m    823\u001b[0m     ):\n",
      "File \u001b[0;32m~/.local/lib/python3.10/site-packages/boost_histogram/_internal/hist.py:731\u001b[0m, in \u001b[0;36mHistogram._compute_commonindex\u001b[0;34m(self, index)\u001b[0m\n\u001b[1;32m    729\u001b[0m         indexes[i] \u001b[38;5;241m=\u001b[39m [\u001b[38;5;28mself\u001b[39m\u001b[38;5;241m.\u001b[39m_compute_uhi_index(ind, i) \u001b[38;5;28;01mfor\u001b[39;00m ind \u001b[38;5;129;01min\u001b[39;00m indexes[i]]\n\u001b[1;32m    730\u001b[0m     \u001b[38;5;28;01melse\u001b[39;00m:\n\u001b[0;32m--> 731\u001b[0m         indexes[i] \u001b[38;5;241m=\u001b[39m \u001b[38;5;28;43mself\u001b[39;49m\u001b[38;5;241;43m.\u001b[39;49m\u001b[43m_compute_uhi_index\u001b[49m\u001b[43m(\u001b[49m\u001b[43mindexes\u001b[49m\u001b[43m[\u001b[49m\u001b[43mi\u001b[49m\u001b[43m]\u001b[49m\u001b[43m,\u001b[49m\u001b[43m \u001b[49m\u001b[43mi\u001b[49m\u001b[43m)\u001b[49m\n\u001b[1;32m    733\u001b[0m \u001b[38;5;28;01mreturn\u001b[39;00m indexes\n",
      "File \u001b[0;32m~/.local/lib/python3.10/site-packages/boost_histogram/_internal/hist.py:683\u001b[0m, in \u001b[0;36mHistogram._compute_uhi_index\u001b[0;34m(self, index, axis)\u001b[0m\n\u001b[1;32m    679\u001b[0m \u001b[38;5;66;03m# General locators\u001b[39;00m\n\u001b[1;32m    680\u001b[0m \u001b[38;5;66;03m# Note that MyPy doesn't like these very much - the fix\u001b[39;00m\n\u001b[1;32m    681\u001b[0m \u001b[38;5;66;03m# will be to properly set input types\u001b[39;00m\n\u001b[1;32m    682\u001b[0m \u001b[38;5;28;01mif\u001b[39;00m \u001b[38;5;28mcallable\u001b[39m(index):\n\u001b[0;32m--> 683\u001b[0m     \u001b[38;5;28;01mreturn\u001b[39;00m \u001b[43mindex\u001b[49m\u001b[43m(\u001b[49m\u001b[38;5;28;43mself\u001b[39;49m\u001b[38;5;241;43m.\u001b[39;49m\u001b[43maxes\u001b[49m\u001b[43m[\u001b[49m\u001b[43maxis\u001b[49m\u001b[43m]\u001b[49m\u001b[43m)\u001b[49m\n\u001b[1;32m    685\u001b[0m \u001b[38;5;28;01mif\u001b[39;00m \u001b[38;5;28misinstance\u001b[39m(index, \u001b[38;5;28mfloat\u001b[39m):\n\u001b[1;32m    686\u001b[0m     \u001b[38;5;28;01mraise\u001b[39;00m \u001b[38;5;167;01mTypeError\u001b[39;00m(\u001b[38;5;124mf\u001b[39m\u001b[38;5;124m\"\u001b[39m\u001b[38;5;124mIndex \u001b[39m\u001b[38;5;132;01m{\u001b[39;00mindex\u001b[38;5;132;01m}\u001b[39;00m\u001b[38;5;124m must be an integer, not float\u001b[39m\u001b[38;5;124m\"\u001b[39m)\n",
      "File \u001b[0;32m~/.local/lib/python3.10/site-packages/boost_histogram/tag.py:78\u001b[0m, in \u001b[0;36mloc.__call__\u001b[0;34m(self, axis)\u001b[0m\n\u001b[1;32m     77\u001b[0m \u001b[38;5;28;01mdef\u001b[39;00m\u001b[38;5;250m \u001b[39m\u001b[38;5;21m__call__\u001b[39m(\u001b[38;5;28mself\u001b[39m, axis: AxisLike) \u001b[38;5;241m-\u001b[39m\u001b[38;5;241m>\u001b[39m \u001b[38;5;28mint\u001b[39m:\n\u001b[0;32m---> 78\u001b[0m     \u001b[38;5;28;01mreturn\u001b[39;00m \u001b[43maxis\u001b[49m\u001b[38;5;241;43m.\u001b[39;49m\u001b[43mindex\u001b[49m\u001b[43m(\u001b[49m\u001b[38;5;28;43mself\u001b[39;49m\u001b[38;5;241;43m.\u001b[39;49m\u001b[43mvalue\u001b[49m\u001b[43m)\u001b[49m \u001b[38;5;241m+\u001b[39m \u001b[38;5;28mself\u001b[39m\u001b[38;5;241m.\u001b[39moffset\n",
      "File \u001b[0;32m~/.local/lib/python3.10/site-packages/boost_histogram/_internal/axis.py:652\u001b[0m, in \u001b[0;36mStrCategory.index\u001b[0;34m(self, value)\u001b[0m\n\u001b[1;32m    647\u001b[0m \u001b[38;5;250m\u001b[39m\u001b[38;5;124;03m\"\"\"\u001b[39;00m\n\u001b[1;32m    648\u001b[0m \u001b[38;5;124;03mReturn the fractional index(es) given a value (or values) on the axis.\u001b[39;00m\n\u001b[1;32m    649\u001b[0m \u001b[38;5;124;03m\"\"\"\u001b[39;00m\n\u001b[1;32m    651\u001b[0m \u001b[38;5;28;01mif\u001b[39;00m _isstr(value):\n\u001b[0;32m--> 652\u001b[0m     \u001b[38;5;28;01mreturn\u001b[39;00m \u001b[38;5;28;43mself\u001b[39;49m\u001b[38;5;241;43m.\u001b[39;49m\u001b[43m_ax\u001b[49m\u001b[38;5;241;43m.\u001b[39;49m\u001b[43mindex\u001b[49m\u001b[43m(\u001b[49m\u001b[43mvalue\u001b[49m\u001b[43m)\u001b[49m  \u001b[38;5;66;03m# type: ignore[no-any-return]\u001b[39;00m\n\u001b[1;32m    654\u001b[0m msg \u001b[38;5;241m=\u001b[39m \u001b[38;5;124mf\u001b[39m\u001b[38;5;124m\"\u001b[39m\u001b[38;5;124mindex(\u001b[39m\u001b[38;5;132;01m{\u001b[39;00mvalue\u001b[38;5;132;01m}\u001b[39;00m\u001b[38;5;124m) must be a string or iterable of strings for a StrCategory axis\u001b[39m\u001b[38;5;124m\"\u001b[39m\n\u001b[1;32m    655\u001b[0m \u001b[38;5;28;01mraise\u001b[39;00m \u001b[38;5;167;01mTypeError\u001b[39;00m(msg)\n",
      "\u001b[0;31mKeyError\u001b[0m: \"'SR1' not in axis\""
     ]
    }
   ],
   "source": [
    "#sample2 = obj[{\"Region\": \"SR1\", \"Sample\": \"ZH\", \"Systematic\": \"pass_JMS_2017_up\"}]\n",
    "sample2 = obj[{\"Region\": \"SR1\", \"Sample\": \"ZH\", \"Systematic\": \"pass_UES_up\"}]\n",
    "\n",
    "\n",
    "\n",
    "sample2"
   ]
  },
  {
   "cell_type": "code",
   "execution_count": null,
   "id": "7eb47f87-27e3-4e90-be0b-5c061b741a4a",
   "metadata": {},
   "outputs": [],
   "source": [
    "\n",
    "\n",
    "sample2 = obj[{\"Region\": \"SR1\", \"Sample\": \"ZH\", \"Systematic\": \"pass_nominal\"}]\n",
    "sample2"
   ]
  },
  {
   "cell_type": "code",
   "execution_count": null,
   "id": "798d42af-49f8-45a2-8a5c-82833fcc4118",
   "metadata": {},
   "outputs": [],
   "source": []
  }
 ],
 "metadata": {
  "kernelspec": {
   "display_name": "Python 3 (ipykernel)",
   "language": "python",
   "name": "py3-preamble"
  },
  "language_info": {
   "codemirror_mode": {
    "name": "ipython",
    "version": 3
   },
   "file_extension": ".py",
   "mimetype": "text/x-python",
   "name": "python",
   "nbconvert_exporter": "python",
   "pygments_lexer": "ipython3",
   "version": "3.10.16"
  }
 },
 "nbformat": 4,
 "nbformat_minor": 5
}
