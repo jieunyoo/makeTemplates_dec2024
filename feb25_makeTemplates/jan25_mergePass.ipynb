{
 "cells": [
  {
   "cell_type": "markdown",
   "id": "d80858dc-939c-4414-9700-f2bdd46224d6",
   "metadata": {},
   "source": [
    "# use this to merge ALL histograms for a certain year, e.g,. year it is 2018"
   ]
  },
  {
   "cell_type": "markdown",
   "id": "28e62501-8454-4b0e-95c9-9a06bc2f78f1",
   "metadata": {},
   "source": [
    "note\n",
    " f\"weight_L1Prefiring_{year}\", is not for 2018, delete from this\n"
   ]
  },
  {
   "cell_type": "code",
   "execution_count": null,
   "id": "f83a8fb7-01e0-4ac5-904e-cf137c11aa67",
   "metadata": {},
   "outputs": [],
   "source": [
    "import uproot\n",
    "import pandas as pd\n",
    "import boost_histogram as bh"
   ]
  },
  {
   "cell_type": "code",
   "execution_count": 1,
   "id": "baa2fe64-e565-4e5a-8849-23598a26b850",
   "metadata": {
    "scrolled": true
   },
   "outputs": [],
   "source": [
    "import uproot\n",
    "import pandas as pd\n",
    "import boost_histogram as bh\n",
    "outFile = uproot.recreate(\"2018_pass.root\")"
   ]
  },
  {
   "cell_type": "code",
   "execution_count": 2,
   "id": "6842c93f-8da3-44a4-8a74-60766f732f36",
   "metadata": {},
   "outputs": [
    {
     "data": {
      "text/plain": [
       "Hist(\n",
       "  StrCategory(['DYJets', 'ggF', 'SingleTop', 'TTbar', 'VBF', 'WJetsLNu', 'Diboson', 'ZH', 'WH', 'ttH', 'EWKvjets'], growth=True, name='Sample'),\n",
       "  StrCategory(['pass_nominal', 'pass_weight_PSFSR_DYJets_up', 'pass_weight_PSFSR_DYJets_down', 'pass_weight_PSISR_DYJets_up', 'pass_weight_PSISR_DYJets_down', 'pass_weight_pileup_id_up', 'pass_weight_pileup_id_down', 'pass_weight_d1K_NLO_up', 'pass_weight_d1K_NLO_down', 'pass_weight_d2K_NLO_up', 'pass_weight_d2K_NLO_down', 'pass_weight_d3K_NLO_up', 'pass_weight_d3K_NLO_down', 'pass_weight_d1kappa_EW_up', 'pass_weight_d1kappa_EW_down', 'pass_weight_W_d2kappa_EW_up', 'pass_weight_W_d2kappa_EW_down', 'pass_weight_W_d3kappa_EW_up', 'pass_weight_W_d3kappa_EW_down', 'pass_weight_Z_d2kappa_EW_up', 'pass_weight_Z_d2kappa_EW_down', 'pass_weight_Z_d3kappa_EW_up', 'pass_weight_Z_d3kappa_EW_down', 'pass_weight_ele_id_up', 'pass_weight_ele_id_down', 'pass_weight_ele_reco_up', 'pass_weight_ele_reco_down', 'pass_weight_mu_isolation_up', 'pass_weight_mu_isolation_down', 'pass_weight_mu_id_up', 'pass_weight_mu_id_down', 'pass_weight_mu_trigger_iso_up', 'pass_weight_mu_trigger_iso_down', 'pass_weight_mu_trigger_noniso_up', 'pass_weight_mu_trigger_noniso_down', 'pass_weight_pileup_up', 'pass_weight_pileup_down', 'pass_weight_btagSFlightCorrelated_up', 'pass_weight_btagSFlightCorrelated_down', 'pass_weight_btagSFbcCorrelated_up', 'pass_weight_btagSFbcCorrelated_down', 'pass_weight_btagSFlight_up', 'pass_weight_btagSFlight_down', 'pass_weight_btagSFbc_up', 'pass_weight_btagSFbc_down', 'pass_weight_Vtagger_up', 'pass_weight_Vtagger_down', 'pass_weight_pdf_acceptance_DYJets_up', 'pass_weight_pdf_acceptance_DYJets_down', 'pass_weight_qcd_scale_DYJets_up', 'pass_weight_qcd_scale_DYJets_down', 'pass_weight_trigger_up', 'pass_weight_trigger_down', 'pass_top_reweighting_up', 'pass_top_reweighting_down', 'pass_JMR_sig_2018_up', 'pass_JMR_sig_2018_down', 'pass_JMS_sig_2018_up', 'pass_JMS_sig_2018_down', 'pass_JMR_ttbar_2018_up', 'pass_JMR_ttbar_2018_down', 'pass_JMS_ttbar_2018_up', 'pass_JMS_ttbar_2018_down', 'pass_JMR_wjets_2018_up', 'pass_JMR_wjets_2018_down', 'pass_JMS_wjets_2018_up', 'pass_JMS_wjets_2018_down', 'pass_JES_FlavorQCD_up', 'pass_JES_FlavorQCD_down', 'pass_JES_RelativeBal_up', 'pass_JES_RelativeBal_down', 'pass_JES_HF_up', 'pass_JES_HF_down', 'pass_JES_BBEC1_up', 'pass_JES_BBEC1_down', 'pass_JES_EC2_up', 'pass_JES_EC2_down', 'pass_JES_Absolute_up', 'pass_JES_Absolute_down', 'pass_JES_BBEC1_year_up', 'pass_JES_BBEC1_year_down', 'pass_JES_RelativeSample_year_up', 'pass_JES_RelativeSample_year_down', 'pass_JES_EC2_year_up', 'pass_JES_EC2_year_down', 'pass_JES_HF_year_up', 'pass_JES_HF_year_down', 'pass_JES_Absolute_year_up', 'pass_JES_Absolute_year_down', 'pass_JER_year_up', 'pass_JER_year_down', 'pass_UES_up', 'pass_UES_down', 'pass_weight_PSFSR_ggF_up', 'pass_weight_PSFSR_ggF_down', 'pass_weight_PSISR_ggF_up', 'pass_weight_PSISR_ggF_down', 'pass_weight_pdf_acceptance_ggF_up', 'pass_weight_pdf_acceptance_ggF_down', 'pass_weight_qcd_scale_ggF_up', 'pass_weight_qcd_scale_ggF_down', 'pass_weight_PSFSR_SingleTop_up', 'pass_weight_PSFSR_SingleTop_down', 'pass_weight_PSISR_SingleTop_up', 'pass_weight_PSISR_SingleTop_down', 'pass_weight_pdf_acceptance_SingleTop_up', 'pass_weight_pdf_acceptance_SingleTop_down', 'pass_weight_qcd_scale_SingleTop_up', 'pass_weight_qcd_scale_SingleTop_down', 'pass_weight_PSFSR_TTbar_up', 'pass_weight_PSFSR_TTbar_down', 'pass_weight_PSISR_TTbar_up', 'pass_weight_PSISR_TTbar_down', 'pass_weight_pdf_acceptance_TTbar_up', 'pass_weight_pdf_acceptance_TTbar_down', 'pass_weight_qcd_scale_TTbar_up', 'pass_weight_qcd_scale_TTbar_down', 'pass_weight_PSFSR_VBF_up', 'pass_weight_PSFSR_VBF_down', 'pass_weight_PSISR_VBF_up', 'pass_weight_PSISR_VBF_down', 'pass_EW_up', 'pass_EW_down', 'pass_weight_pdf_acceptance_VBF_up', 'pass_weight_pdf_acceptance_VBF_down', 'pass_weight_qcd_scale_VBF_up', 'pass_weight_qcd_scale_VBF_down', 'pass_weight_PSFSR_WJetsLNu_up', 'pass_weight_PSFSR_WJetsLNu_down', 'pass_weight_PSISR_WJetsLNu_up', 'pass_weight_PSISR_WJetsLNu_down', 'pass_weight_pdf_acceptance_WJetsLNu_up', 'pass_weight_pdf_acceptance_WJetsLNu_down', 'pass_weight_qcd_scale_WJetsLNu_up', 'pass_weight_qcd_scale_WJetsLNu_down', 'pass_weight_PSFSR_Diboson_up', 'pass_weight_PSFSR_Diboson_down', 'pass_weight_PSISR_Diboson_up', 'pass_weight_PSISR_Diboson_down', 'pass_weight_pdf_acceptance_Diboson_up', 'pass_weight_pdf_acceptance_Diboson_down', 'pass_weight_qcd_scale_Diboson_up', 'pass_weight_qcd_scale_Diboson_down', 'pass_weight_PSFSR_ZH_up', 'pass_weight_PSFSR_ZH_down', 'pass_weight_PSISR_ZH_up', 'pass_weight_PSISR_ZH_down', 'pass_weight_pdf_acceptance_ZH_up', 'pass_weight_pdf_acceptance_ZH_down', 'pass_weight_qcd_scale_ZH_up', 'pass_weight_qcd_scale_ZH_down', 'pass_weight_PSFSR_WH_up', 'pass_weight_PSFSR_WH_down', 'pass_weight_PSISR_WH_up', 'pass_weight_PSISR_WH_down', 'pass_weight_pdf_acceptance_WH_up', 'pass_weight_pdf_acceptance_WH_down', 'pass_weight_qcd_scale_WH_up', 'pass_weight_qcd_scale_WH_down', 'pass_weight_PSFSR_ttH_up', 'pass_weight_PSFSR_ttH_down', 'pass_weight_PSISR_ttH_up', 'pass_weight_PSISR_ttH_down', 'pass_weight_pdf_acceptance_ttH_up', 'pass_weight_pdf_acceptance_ttH_down', 'pass_weight_qcd_scale_ttH_up', 'pass_weight_qcd_scale_ttH_down', 'pass_weight_PSFSR_EWKvjets_up', 'pass_weight_PSFSR_EWKvjets_down', 'pass_weight_PSISR_EWKvjets_up', 'pass_weight_PSISR_EWKvjets_down', 'pass_weight_pdf_acceptance_EWKvjets_up', 'pass_weight_pdf_acceptance_EWKvjets_down', 'pass_weight_qcd_scale_EWKvjets_up', 'pass_weight_qcd_scale_EWKvjets_down'], growth=True, name='Systematic'),\n",
       "  StrCategory(['SR1'], growth=True, name='Region'),\n",
       "  Variable([40, 70, 110, 140, 180], name='mass_observable', label='V reconstructed mass [GeV]'),\n",
       "  storage=Weight()) # Sum: WeightedSum(value=18102.4, variance=3225.37) (WeightedSum(value=18320.2, variance=3268.38) with flow)"
      ]
     },
     "execution_count": 2,
     "metadata": {},
     "output_type": "execute_result"
    }
   ],
   "source": [
    "obj = pd.read_pickle(r'/home/jieun201/boostedhiggs_may27/combine_nov26/2018/templates/hists_templates_2018_pass.pkl')\n",
    "obj"
   ]
  },
  {
   "cell_type": "code",
   "execution_count": 3,
   "id": "6cad6a8f-12bd-43ec-89a8-d8b58fe34875",
   "metadata": {},
   "outputs": [],
   "source": [
    "def getPassList(sample):\n",
    "    systematicsList_pass = ['pass_nominal', \n",
    "                           # 'pass_JMR_2018_up', 'pass_JMR_2018_down',      'pass_JMS_2018_up', 'pass_JMS_2018_down',\n",
    "                            'pass_EW_up', 'pass_EW_down',\n",
    "                            'pass_JMR_sig_2018_up', 'pass_JMR_sig_2018_down',      'pass_JMS_sig_2018_up', 'pass_JMS_sig_2018_down',\n",
    "                            'pass_JMR_wjets_2018_up', 'pass_JMR_wjets_2018_down',      'pass_JMS_wjets_2018_up', 'pass_JMS_wjets_2018_down',\n",
    "                            'pass_JMR_ttbar_2018_up', 'pass_JMR_ttbar_2018_down',      'pass_JMS_ttbar_2018_up', 'pass_JMS_ttbar_2018_down',\n",
    "\n",
    "                            \n",
    "                  #          'pass_weight_L1Prefiring_up', 'pass_weight_L1Prefiring_down',\n",
    " 'pass_weight_Vtagger_up', 'pass_weight_Vtagger_down',                            \n",
    " 'pass_weight_pileup_up' , 'pass_weight_pileup_down', 'pass_weight_pileup_id_up' , 'pass_weight_pileup_id_down',                           \n",
    "'pass_top_reweighting_up', 'pass_top_reweighting_down',\n",
    "    'pass_weight_trigger_up', 'pass_weight_trigger_down',\n",
    "'pass_weight_d1K_NLO_up', 'pass_weight_d1K_NLO_down', 'pass_weight_d2K_NLO_up', 'pass_weight_d2K_NLO_down', 'pass_weight_d3K_NLO_up', \n",
    "'pass_weight_d3K_NLO_down', 'pass_weight_d1kappa_EW_up', 'pass_weight_d1kappa_EW_down', 'pass_weight_W_d2kappa_EW_up', 'pass_weight_W_d2kappa_EW_down', \n",
    "'pass_weight_W_d3kappa_EW_up', 'pass_weight_W_d3kappa_EW_down', 'pass_weight_Z_d2kappa_EW_up', 'pass_weight_Z_d2kappa_EW_down', \n",
    "'pass_weight_Z_d3kappa_EW_up', 'pass_weight_Z_d3kappa_EW_down',\n",
    "      \n",
    "'pass_weight_btagSFlightCorrelated_up', 'pass_weight_btagSFlightCorrelated_down', 'pass_weight_btagSFbcCorrelated_up','pass_weight_btagSFbcCorrelated_down', \n",
    "'pass_weight_btagSFlight_up', 'pass_weight_btagSFlight_down', 'pass_weight_btagSFbc_up', 'pass_weight_btagSFbc_down',\n",
    "      \n",
    "'pass_weight_ele_id_up', 'pass_weight_ele_id_down', 'pass_weight_ele_reco_up', 'pass_weight_ele_reco_down', \n",
    "'pass_weight_mu_isolation_up', 'pass_weight_mu_isolation_down', 'pass_weight_mu_id_up', 'pass_weight_mu_id_down',\n",
    "'pass_weight_mu_trigger_iso_up', 'pass_weight_mu_trigger_iso_down', 'pass_weight_mu_trigger_noniso_up', 'pass_weight_mu_trigger_noniso_down', \n",
    "\n",
    "'pass_weight_PSFSR_WH_up', 'pass_weight_PSFSR_WH_down', 'pass_weight_PSISR_WH_up', 'pass_weight_PSISR_WH_down', \n",
    "'pass_weight_PSFSR_ZH_up', 'pass_weight_PSFSR_ZH_down', 'pass_weight_PSISR_ZH_up', 'pass_weight_PSISR_ZH_down',\n",
    "'pass_weight_PSFSR_VBF_up', 'pass_weight_PSFSR_VBF_down', 'pass_weight_PSISR_VBF_up', 'pass_weight_PSISR_VBF_down',\n",
    "'pass_weight_PSFSR_WJetsLNu_up', 'pass_weight_PSFSR_WJetsLNu_down', 'pass_weight_PSISR_WJetsLNu_up', 'pass_weight_PSISR_WJetsLNu_down', \n",
    "'pass_weight_PSFSR_ttH_up', 'pass_weight_PSFSR_ttH_down','pass_weight_PSISR_ttH_up', 'pass_weight_PSISR_ttH_down',\n",
    "'pass_weight_PSFSR_ggF_up', 'pass_weight_PSFSR_ggF_down', 'pass_weight_PSISR_ggF_up', 'pass_weight_PSISR_ggF_down',\n",
    "'pass_weight_PSFSR_TTbar_up', 'pass_weight_PSFSR_TTbar_down', 'pass_weight_PSISR_TTbar_up', 'pass_weight_PSISR_TTbar_down',                           \n",
    "'pass_weight_PSFSR_SingleTop_up', 'pass_weight_PSFSR_SingleTop_down', 'pass_weight_PSISR_SingleTop_up', 'pass_weight_PSISR_SingleTop_down',\n",
    "                            \n",
    "'pass_weight_qcd_scale_TTbar_up', 'pass_weight_qcd_scale_TTbar_down','pass_weight_pdf_acceptance_TTbar_up', 'pass_weight_pdf_acceptance_TTbar_down',\n",
    "'pass_weight_qcd_scale_SingleTop_up', 'pass_weight_qcd_scale_SingleTop_down',\n",
    "'pass_weight_qcd_scale_WJetsLNu_up', 'pass_weight_qcd_scale_WJetsLNu_down','pass_weight_pdf_acceptance_WJetsLNu_up', 'pass_weight_pdf_acceptance_WJetsLNu_down',                            \n",
    "\n",
    "'pass_weight_qcd_scale_ZH_up', 'pass_weight_qcd_scale_ZH_down','pass_weight_pdf_acceptance_ZH_up', 'pass_weight_pdf_acceptance_ZH_down',\n",
    "'pass_weight_qcd_scale_WH_up', 'pass_weight_qcd_scale_WH_down','pass_weight_pdf_acceptance_WH_up', 'pass_weight_pdf_acceptance_WH_down',\n",
    "'pass_weight_qcd_scale_ggF_up', 'pass_weight_qcd_scale_ggF_down','pass_weight_pdf_acceptance_ggF_up', 'pass_weight_pdf_acceptance_ggF_down', \n",
    "'pass_weight_qcd_scale_VBF_up', 'pass_weight_qcd_scale_VBF_down','pass_weight_pdf_acceptance_VBF_up', 'pass_weight_pdf_acceptance_VBF_down', \n",
    "'pass_weight_qcd_scale_ttH_up', 'pass_weight_qcd_scale_ttH_down','pass_weight_pdf_acceptance_ttH_up', 'pass_weight_pdf_acceptance_ttH_down', \n",
    "\n",
    "'pass_UES_up', 'pass_UES_down',\n",
    "'pass_JES_FlavorQCD_up', 'pass_JES_FlavorQCD_down', 'pass_JES_RelativeBal_up', 'pass_JES_RelativeBal_down', \n",
    "'pass_JES_HF_up', 'pass_JES_HF_down', 'pass_JES_BBEC1_up', 'pass_JES_BBEC1_down', 'pass_JES_EC2_up', 'pass_JES_EC2_down',\n",
    "'pass_JES_Absolute_up', 'pass_JES_Absolute_down', 'pass_JES_BBEC1_year_up', 'pass_JES_BBEC1_year_down', 'pass_JES_RelativeSample_year_up',\n",
    "'pass_JES_RelativeSample_year_down', 'pass_JES_EC2_year_up', 'pass_JES_EC2_year_down', 'pass_JES_HF_year_up', 'pass_JES_HF_year_down', \n",
    "'pass_JES_Absolute_year_up', 'pass_JES_Absolute_year_down', 'pass_JER_year_up', 'pass_JER_year_down',]\n",
    "\n",
    "    return systematicsList_pass\n",
    "    \n",
    "                       "
   ]
  },
  {
   "cell_type": "code",
   "execution_count": null,
   "id": "e925ce73-3144-4ac1-b338-694762d619fc",
   "metadata": {},
   "outputs": [],
   "source": []
  },
  {
   "cell_type": "markdown",
   "id": "1e0f02d3-de9b-4a6c-83f8-288c0b8d1143",
   "metadata": {},
   "source": [
    "# process data"
   ]
  },
  {
   "cell_type": "code",
   "execution_count": 4,
   "id": "6d068c84-5c7c-4656-9acb-ca0574300967",
   "metadata": {},
   "outputs": [],
   "source": [
    "real_data = pd.read_pickle(r'/home/jieun201/boostedhiggs_may27/combine_nov26/2018/templates/hists_templates_2018_data_pass.pkl')\n",
    "\n",
    "readInData = real_data[{\"Region\": \"SR1\", \"Sample\": \"Data\"}]\n",
    "hist_data = readInData[{\"Systematic\": 'pass_nominal'}]\n",
    "hData = uproot.to_writable(hist_data)\n",
    "outFile['data_pass_nominal']=hData\n"
   ]
  },
  {
   "cell_type": "markdown",
   "id": "debdf62b-d4a9-4f5c-b91d-6b49d6a1c4e8",
   "metadata": {},
   "source": [
    "# process Fakes"
   ]
  },
  {
   "cell_type": "code",
   "execution_count": 5,
   "id": "b7b3fc44-e610-4839-96ab-80811c9ffb20",
   "metadata": {},
   "outputs": [],
   "source": [
    "\n",
    "#  StrCategory(['fail_nominal', 'fail_fakes_SF_Up', 'fail_fakes_SF_Down', 'fail_fakes_DR_Up', 'fail_fakes_DR_Down']\n",
    "\n",
    "fakePass1 = pd.read_pickle(r'/home/jieun201/boostedhiggs_may27/combine_nov26/2018/templates/hists_templates_2018_fake_pass.pkl')\n",
    "fakePass_2 = fakePass1[{\"Region\": \"SR1\", \"Sample\": \"Fake\", \"Systematic\": \"pass_nominal\"}]\n",
    "fakePassHist2 = uproot.to_writable(fakePass_2)\n",
    "outFile['fake_pass_nominal'] = fakePassHist2\n",
    "\n",
    "fakePass_3 = fakePass1[{\"Region\": \"SR1\", \"Sample\": \"Fake\", \"Systematic\": \"pass_fakes_SF_Up\"}]\n",
    "fakePassHist3 = uproot.to_writable(fakePass_3)\n",
    "outFile['fake_pass_fakes_SF_Up'] = fakePassHist3\n",
    "\n",
    "fakePass_4 = fakePass1[{\"Region\": \"SR1\", \"Sample\": \"Fake\", \"Systematic\": \"pass_fakes_SF_Down\"}]\n",
    "fakePassHist4 = uproot.to_writable(fakePass_4)\n",
    "outFile['fake_pass_fakes_SF_Down'] = fakePassHist4\n",
    "\n",
    "fakePass_5 = fakePass1[{\"Region\": \"SR1\", \"Sample\": \"Fake\", \"Systematic\": \"pass_fakes_DR_Up\"}]\n",
    "fakePassHist5 = uproot.to_writable(fakePass_5)\n",
    "outFile['fake_pass_fakes_DR_Up'] = fakePassHist5\n",
    "\n",
    "fakePass_6 = fakePass1[{\"Region\": \"SR1\", \"Sample\": \"Fake\", \"Systematic\": \"pass_fakes_DR_Down\"}]\n",
    "fakePassHist6 = uproot.to_writable(fakePass_6)\n",
    "outFile['fake_pass_fakes_DR_Down'] = fakePassHist6\n",
    "\n"
   ]
  },
  {
   "cell_type": "code",
   "execution_count": null,
   "id": "01d6915d-23fe-44a1-b0c9-acd6f4ee2b68",
   "metadata": {},
   "outputs": [],
   "source": []
  },
  {
   "cell_type": "markdown",
   "id": "61f26c25-c3c1-4ec0-9046-3a7a8603f28f",
   "metadata": {},
   "source": [
    "# finally, process rest of MC samples"
   ]
  },
  {
   "cell_type": "code",
   "execution_count": null,
   "id": "091eefc8-d299-4091-8d2e-952a88ee692c",
   "metadata": {},
   "outputs": [],
   "source": []
  },
  {
   "cell_type": "code",
   "execution_count": 6,
   "id": "12524eac-aad2-49f0-8c32-393bdf4ffd00",
   "metadata": {},
   "outputs": [],
   "source": [
    "sample1 = obj[{\"Region\": \"SR1\", \"Sample\": \"WH\"}]\n",
    "\n",
    "#WH\n",
    "sample = 'WH'\n",
    "for i in getPassList('WH'):\n",
    "    hist1 = sample1[{\"Systematic\": i}]\n",
    "    h1 = uproot.to_writable(hist1)\n",
    "    outFile[f'{sample}_{i}']=h1\n",
    "\n",
    "sample3= obj[{\"Region\": \"SR1\", \"Sample\": \"WJetsLNu\"}]\n",
    "sample = 'WJetsLNu'\n",
    "for i in getPassList(sample):\n",
    "    hist1 = sample3[{\"Systematic\": i}]\n",
    "    h1 = uproot.to_writable(hist1)\n",
    "    outFile[f'{sample}_{i}']=h1\n",
    "\n",
    "sample5= obj[{\"Region\": \"SR1\", \"Sample\": \"ggF\"}]\n",
    "sample = 'ggF'\n",
    "for i in getPassList(sample):\n",
    "    hist1 = sample5[{\"Systematic\": i}]\n",
    "    h1 = uproot.to_writable(hist1)\n",
    "    outFile[f'{sample}_{i}']=h1\n",
    "\n",
    "sample7= obj[{\"Region\": \"SR1\", \"Sample\": \"VBF\"}]\n",
    "sample = 'VBF'\n",
    "for i in getPassList(sample):\n",
    "    hist1 = sample7[{\"Systematic\": i}]\n",
    "    h1 = uproot.to_writable(hist1)\n",
    "    outFile[f'{sample}_{i}']=h1\n",
    "\n",
    "\n",
    "sample9= obj[{\"Region\": \"SR1\", \"Sample\": \"ttH\"}]\n",
    "sample = 'ttH'\n",
    "for i in getPassList(sample):\n",
    "    hist1 = sample9[{\"Systematic\": i}]\n",
    "    h1 = uproot.to_writable(hist1)\n",
    "    outFile[f'{sample}_{i}']=h1\n",
    "\n",
    "sample11= obj[{\"Region\": \"SR1\", \"Sample\": \"ZH\"}]\n",
    "sample = 'ZH'\n",
    "for i in getPassList(sample):\n",
    "    hist1 = sample11[{\"Systematic\": i}]\n",
    "    h1 = uproot.to_writable(hist1)\n",
    "    outFile[f'{sample}_{i}']=h1\n",
    "\n",
    "\n",
    "sample13= obj[{\"Region\": \"SR1\", \"Sample\": \"DYJets\"}]\n",
    "sample = 'DYJets'\n",
    "for i in getPassList(sample):\n",
    "    hist1 = sample13[{\"Systematic\": i}]\n",
    "    h1 = uproot.to_writable(hist1)\n",
    "    outFile[f'{sample}_{i}']=h1\n",
    "\n",
    "sample15= obj[{\"Region\": \"SR1\", \"Sample\": \"TTbar\"}]\n",
    "sample = 'TTbar'\n",
    "for i in getPassList(sample):\n",
    "    hist1 = sample15[{\"Systematic\": i}]\n",
    "    h1 = uproot.to_writable(hist1)\n",
    "    outFile[f'{sample}_{i}']=h1\n",
    "\n",
    "\n",
    "    \n",
    "sample17= obj[{\"Region\": \"SR1\", \"Sample\": \"SingleTop\"}]\n",
    "sample = 'SingleTop'\n",
    "for i in getPassList(sample):\n",
    "    hist1 = sample17[{\"Systematic\": i}]\n",
    "    h1 = uproot.to_writable(hist1)\n",
    "    outFile[f'{sample}_{i}']=h1\n",
    "\n",
    "sample27= obj[{\"Region\": \"SR1\", \"Sample\": \"Diboson\"}]\n",
    "sample = 'Diboson'\n",
    "for i in getPassList(sample):\n",
    "    hist1 = sample27[{\"Systematic\": i}]\n",
    "    h1 = uproot.to_writable(hist1)\n",
    "    outFile[f'{sample}_{i}']=h1\n",
    "\n",
    "sample29= obj[{\"Region\": \"SR1\", \"Sample\": \"EWKvjets\"}]\n",
    "#remove fail EWKvjets as there are no events\n",
    "sample = 'EWKvjets'\n",
    "for i in getPassList(sample):\n",
    "    hist1 = sample29[{\"Systematic\": i}]\n",
    "    h1 = uproot.to_writable(hist1)\n",
    "    outFile[f'{sample}_{i}']=h1"
   ]
  },
  {
   "cell_type": "code",
   "execution_count": null,
   "id": "dc7199f4-66fb-49c6-8abf-a0cc23096d4e",
   "metadata": {},
   "outputs": [],
   "source": []
  },
  {
   "cell_type": "code",
   "execution_count": null,
   "id": "3268b3c5-69fa-4118-a177-15f9acf88cbe",
   "metadata": {},
   "outputs": [],
   "source": []
  },
  {
   "cell_type": "markdown",
   "id": "6df8dab2-ee64-46c9-a9c8-123f1aaed1b9",
   "metadata": {},
   "source": [
    "# just various debugging things can ignore below"
   ]
  },
  {
   "cell_type": "code",
   "execution_count": null,
   "id": "fe7da78c-b5db-4b7c-836b-7b78a460bfcc",
   "metadata": {},
   "outputs": [],
   "source": [
    "#sample2 = obj[{\"Region\": \"SR1\", \"Sample\": \"WJetsLNu\"}]\n",
    "#sample2 = obj[{\"Region\": \"SR1\", \"Sample\": \"WJetsLNu\"}]\n",
    "\n",
    "\n",
    "#hist1 = sample1[{\"Systematic\": \"pass_JES_BBEC1_year_up\"}]\n",
    "#hist1\n",
    "\n"
   ]
  },
  {
   "cell_type": "code",
   "execution_count": null,
   "id": "78a961ab-3417-44a7-8511-2f821ec70363",
   "metadata": {},
   "outputs": [],
   "source": [
    "#hist2 = sample1[{\"Systematic\": \"pass_top_reweighting_down\"}]\n",
    "#h2 = uproot.to_writable(hist2)\n",
    "#outFile[f'{sample}_pass_top_reweighting_down']=h2\n",
    "\n",
    "\n"
   ]
  },
  {
   "cell_type": "code",
   "execution_count": null,
   "id": "8f5c3560-11be-477b-a132-6f5db607f0e2",
   "metadata": {},
   "outputs": [],
   "source": [
    "#to double check plotting\n",
    "#file1= uproot.open(\"/home/jieun201/boostedhiggs_may27/combine/templates/WH.root\")\n",
    "#file1.keys()\n",
    "#h = file1['myhist']\n",
    "#h.to_hist().plot()"
   ]
  },
  {
   "cell_type": "code",
   "execution_count": null,
   "id": "2d5dda33-bf5b-4789-b551-1e768f98c432",
   "metadata": {},
   "outputs": [],
   "source": []
  },
  {
   "cell_type": "code",
   "execution_count": null,
   "id": "24fd9d28-67eb-487f-b0fd-1c703a081a78",
   "metadata": {},
   "outputs": [],
   "source": []
  },
  {
   "cell_type": "code",
   "execution_count": null,
   "id": "7fbc8e91-e2a0-4b3c-8c5c-647e5be1c7ba",
   "metadata": {
    "scrolled": true
   },
   "outputs": [],
   "source": [
    "file1= uproot.open(\"/home/jieun201/boostedhiggs_may27/combine_nov26/2018/2018_pass.root\")\n",
    "file1.keys()\n",
    "#h = file1['myhist']\n",
    "#h.to_hist().plot()"
   ]
  },
  {
   "cell_type": "code",
   "execution_count": null,
   "id": "5ef3769a-365e-43eb-9384-61bf9082856e",
   "metadata": {},
   "outputs": [],
   "source": [
    "h = file1['Diboson_pass_weight_Vtagger_down;1']\n",
    "h.to_hist()"
   ]
  },
  {
   "cell_type": "code",
   "execution_count": null,
   "id": "aaf2b924-e325-4032-85fa-5aa4df02a1b5",
   "metadata": {},
   "outputs": [],
   "source": [
    "h = file1['Diboson_pass_weight_Vtagger_up;1']\n",
    "h.to_hist()"
   ]
  },
  {
   "cell_type": "code",
   "execution_count": null,
   "id": "78d71f19-9168-4e8a-9ed2-d9fa4590ae24",
   "metadata": {},
   "outputs": [],
   "source": [
    "h = file1['TTbar_pass_nominal;1']\n",
    "h.to_hist()"
   ]
  },
  {
   "cell_type": "code",
   "execution_count": null,
   "id": "cd594053-8611-40aa-9e12-4deca26119b4",
   "metadata": {},
   "outputs": [],
   "source": [
    "h = file1['TTbar_pass_top_reweighting_down;1']\n",
    "h.to_hist()"
   ]
  },
  {
   "cell_type": "code",
   "execution_count": null,
   "id": "3f0389cb-90c0-40bb-a247-108e7a490699",
   "metadata": {},
   "outputs": [],
   "source": [
    "h = file1['WJetsLNu_pass_UES_down']\n",
    "h.to_hist()"
   ]
  },
  {
   "cell_type": "code",
   "execution_count": null,
   "id": "66cf42f0-3131-4b6b-a675-8e65cab30d73",
   "metadata": {},
   "outputs": [],
   "source": [
    "#h = file1['TTbar_pass_weight_pileup_id_down']\n",
    "h = file1['WJetsLNu_pass_UES_up']\n",
    "h.to_hist()"
   ]
  },
  {
   "cell_type": "code",
   "execution_count": null,
   "id": "208cb2dc-4a13-42bf-b3c9-322f24366d1e",
   "metadata": {},
   "outputs": [],
   "source": [
    "h = file1['TTbar_pass_weight_pileup_id_up']\n",
    "h.to_hist()"
   ]
  },
  {
   "cell_type": "code",
   "execution_count": null,
   "id": "3069ccd5-be8d-4c86-9395-3a59947b7a4d",
   "metadata": {},
   "outputs": [],
   "source": [
    "h = file1['WJetsLNu_pass_weight_PSFSR_WJetsLNu_up']\n",
    "h.to_hist()"
   ]
  },
  {
   "cell_type": "code",
   "execution_count": null,
   "id": "4a7444fb-5a62-44e8-913d-e1db402167bd",
   "metadata": {},
   "outputs": [],
   "source": []
  },
  {
   "cell_type": "code",
   "execution_count": null,
   "id": "f2a30537-6e32-4e99-a308-dea662ed9c84",
   "metadata": {},
   "outputs": [],
   "source": [
    "h = file1['ZH_pass_JMS_2017_down']\n",
    "#h.to_hist().plot()\n",
    "#shapeBkg_WQQ_SR1fail2018_CMS_pileup_2018DownPdf\n",
    "h.to_hist()"
   ]
  },
  {
   "cell_type": "code",
   "execution_count": null,
   "id": "c1c56ac2-8c9f-4aea-ac24-836362af2b8b",
   "metadata": {},
   "outputs": [],
   "source": [
    "h = file1['ZH_pass_JMS_2017_up']\n",
    "#h.to_hist().plot()\n",
    "#shapeBkg_WQQ_SR1fail2018_CMS_pileup_2018DownPdf\n",
    "h.to_hist()"
   ]
  },
  {
   "cell_type": "code",
   "execution_count": null,
   "id": "2a441738-f8c4-447e-b6a1-0da04cc23099",
   "metadata": {},
   "outputs": [],
   "source": [
    "h = file1['ZH_pass_nominal']\n",
    "h.to_hist()"
   ]
  },
  {
   "cell_type": "code",
   "execution_count": null,
   "id": "de0284a4-3401-48ba-8256-0a5c178c1901",
   "metadata": {},
   "outputs": [],
   "source": [
    "h_vals = h.values()\n",
    "h_vals"
   ]
  },
  {
   "cell_type": "code",
   "execution_count": null,
   "id": "215b9200-5051-4375-81a6-db197ef6fecf",
   "metadata": {},
   "outputs": [],
   "source": [
    "import numpy as np\n",
    "np.array(h_vals)"
   ]
  },
  {
   "cell_type": "code",
   "execution_count": null,
   "id": "9909c7e7-3ef5-46df-94e3-3dea30571d40",
   "metadata": {},
   "outputs": [],
   "source": [
    "#hewk1 = file1['EWKvjets_pass_nominal']\n",
    "#hewk1.to_hist().plot(label='up')\n",
    "\n",
    "#eliminate ewkv jets are \"pass\" has 0.02 events in one bin, and fail has 0 events"
   ]
  },
  {
   "cell_type": "code",
   "execution_count": null,
   "id": "a59aba90-8d23-48bf-933b-3f1e2df66326",
   "metadata": {},
   "outputs": [],
   "source": [
    "import matplotlib.pyplot as plt\n",
    "\n",
    "h = file1['TTbar_pass_weight_Vtagger_up']\n",
    "h.to_hist().plot(label='up')\n",
    "\n",
    "\n",
    "h2 = file1['TTbar_pass_weight_Vtagger_down']\n",
    "h2.to_hist().plot(label='down')\n",
    "#h = file1['WJetsLNu_pass_weight_btagSFlight_up']\n",
    "#h.to_hist().plot()\n",
    "\n",
    "h3 = file1['TTbar_pass_nominal']\n",
    "h3.to_hist().plot(label='nominal')\n",
    "plt.legend()\n"
   ]
  },
  {
   "cell_type": "code",
   "execution_count": null,
   "id": "3349d642-0251-4c12-9e93-41d491e5ebe0",
   "metadata": {},
   "outputs": [],
   "source": [
    "h = file1['TTbar_pass_weight_PSFSR_TTbar_up']\n",
    "h.to_hist().plot(label='up')\n",
    "\n",
    "\n",
    "h2 = file1['TTbar_pass_weight_PSFSR_TTbar_down']\n",
    "h2.to_hist().plot(label='down')\n",
    "#h = file1['WJetsLNu_pass_weight_btagSFlight_up']\n",
    "#h.to_hist().plot()\n",
    "\n",
    "h3 = file1['TTbar_pass_nominal']\n",
    "h3.to_hist().plot(label='nominal')\n",
    "plt.legend()\n"
   ]
  },
  {
   "cell_type": "code",
   "execution_count": null,
   "id": "6d2a5655-565c-4a0d-95b5-e2adf16bedfd",
   "metadata": {},
   "outputs": [],
   "source": [
    "h = file1['WJetsLNu_pass_weight_PSFSR_WJetsLNu_up']\n",
    "h.to_hist().plot(label='up')\n",
    "\n",
    "\n",
    "h2 = file1['WJetsLNu_pass_weight_PSFSR_WJetsLNu_down']\n",
    "#h2.to_hist().plot(label='down')\n",
    "#h = file1['WJetsLNu_pass_weight_btagSFlight_up']\n",
    "#h.to_hist().plot()\n",
    "\n",
    "h3 = file1['WJetsLNu_pass_nominal']\n",
    "h3.to_hist().plot(label='nominal')\n",
    "plt.legend()\n"
   ]
  },
  {
   "cell_type": "code",
   "execution_count": null,
   "id": "efa3dc2f-9fb7-4cc1-953a-d3a9136cf9ca",
   "metadata": {},
   "outputs": [],
   "source": [
    "h = file1['TTbar_pass_weight_pileup_up']\n",
    "h.to_hist().plot(label='up')\n",
    "import matplotlib.pyplot as plt\n",
    "h2 = file1['TTbar_pass_weight_pileup_down']\n",
    "h2.to_hist().plot(label='down')\n",
    "#h = file1['WJetsLNu_pass_weight_btagSFlight_up']\n",
    "#h.to_hist().plot()\n",
    "h3 = file1['TTbar_pass_nominal']\n",
    "h3.to_hist().plot(label='nominal')\n",
    "plt.legend()\n"
   ]
  },
  {
   "cell_type": "code",
   "execution_count": null,
   "id": "a8649e36-103f-4799-9624-825bd6eb0d17",
   "metadata": {},
   "outputs": [],
   "source": [
    "h = file1['TTbar_pass_weight_qcd_scale_TTbar_up;1']\n",
    "h.to_hist().plot(label='up')\n",
    "import matplotlib.pyplot as plt\n",
    "h2 = file1['TTbar_pass_weight_qcd_scale_TTbar_down;1']\n",
    "h2.to_hist().plot(label='down')\n",
    "#h = file1['WJetsLNu_pass_weight_btagSFlight_up']\n",
    "#h.to_hist().plot()\n",
    "h3 = file1['TTbar_pass_nominal']\n",
    "h3.to_hist().plot(label='nominal')\n",
    "plt.legend()\n"
   ]
  },
  {
   "cell_type": "code",
   "execution_count": null,
   "id": "8da49774-5525-4a70-82ba-89f0972f87cb",
   "metadata": {},
   "outputs": [],
   "source": [
    "h = file1['ZH_pass_weight_qcd_scale_ZH_up;1']\n",
    "h.to_hist().plot(label='up')\n",
    "import matplotlib.pyplot as plt\n",
    "h2 = file1['ZH_pass_weight_qcd_scale_ZH_down;1']\n",
    "h2.to_hist().plot(label='down')\n",
    "#h = file1['WJetsLNu_pass_weight_btagSFlight_up']\n",
    "#h.to_hist().plot()\n",
    "h3 = file1['ZH_pass_nominal']\n",
    "h3.to_hist().plot(label='nominal')\n",
    "plt.legend()\n"
   ]
  },
  {
   "cell_type": "code",
   "execution_count": null,
   "id": "8f3b5fc5-06e3-441d-8ea2-47f5f6a2a88c",
   "metadata": {},
   "outputs": [],
   "source": [
    "h = file1['ZH_pass_weight_btagSFlightCorrelated_up']\n",
    "h.to_hist().plot(label='up')\n",
    "import matplotlib.pyplot as plt\n",
    "#h2 = file1['ZH_pass_weight_btagSFlightCorrelated_down']\n",
    "#h2.to_hist().plot(label='down')\n",
    "#h = file1['WJetsLNu_pass_weight_btagSFlight_up']\n",
    "#h.to_hist().plot()\n",
    "h3 = file1['ZH_pass_nominal']\n",
    "h3.to_hist().plot(label='nominal')\n",
    "plt.legend()\n"
   ]
  },
  {
   "cell_type": "code",
   "execution_count": null,
   "id": "0f77092b-51c7-4f19-a47e-6dfc002bf8a9",
   "metadata": {},
   "outputs": [],
   "source": []
  },
  {
   "cell_type": "code",
   "execution_count": null,
   "id": "36827665-d478-4a70-963f-0ab07d1264e9",
   "metadata": {},
   "outputs": [],
   "source": []
  }
 ],
 "metadata": {
  "kernelspec": {
   "display_name": "Python 3 (ipykernel)",
   "language": "python",
   "name": "python3"
  },
  "language_info": {
   "codemirror_mode": {
    "name": "ipython",
    "version": 3
   },
   "file_extension": ".py",
   "mimetype": "text/x-python",
   "name": "python",
   "nbconvert_exporter": "python",
   "pygments_lexer": "ipython3",
   "version": "3.10.16"
  }
 },
 "nbformat": 4,
 "nbformat_minor": 5
}
