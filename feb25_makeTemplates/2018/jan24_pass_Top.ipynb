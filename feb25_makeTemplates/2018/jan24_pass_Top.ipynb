{
 "cells": [
  {
   "cell_type": "code",
   "execution_count": null,
   "id": "dd32ecc0-0453-4385-ad7f-a69fc97f93dc",
   "metadata": {},
   "outputs": [],
   "source": []
  },
  {
   "cell_type": "code",
   "execution_count": 9,
   "id": "ec6c4165-5d04-46d8-b6a3-beda838a2cff",
   "metadata": {},
   "outputs": [],
   "source": [
    "import argparse\n",
    "import glob\n",
    "import json\n",
    "import logging\n",
    "import os\n",
    "import pickle as pkl\n",
    "import warnings\n",
    "import hist as hist2\n",
    "import numpy as np\n",
    "import pandas as pd\n",
    "import pyarrow\n",
    "import yaml\n",
    "import math\n",
    "\n",
    "from utils import get_common_sample_name, get_finetuned_score, get_xsecweight\n",
    "\n",
    "from systematicsPass import get_systematic_dict, sigs\n",
    "\n",
    "logging.basicConfig(level=logging.INFO)\n",
    "warnings.filterwarnings(\"ignore\", message=\"Found duplicate branch \")\n",
    "pd.set_option(\"mode.chained_assignment\", None)\n",
    "\n",
    "\n",
    "from jieun3 import fix_neg_yields, get_templates, mass_binning  #importing get_templates automatically it seems imports the other functions\n",
    "\n",
    "\n",
    "\n",
    "CATEGORY = 'pass'\n",
    "\n"
   ]
  },
  {
   "cell_type": "code",
   "execution_count": 2,
   "id": "2676f130-3778-4ea2-b179-e9cf1f6423f1",
   "metadata": {},
   "outputs": [
    {
     "name": "stderr",
     "output_type": "stream",
     "text": [
      "INFO:root:Processing year 2018 and mu channel\n",
      "INFO:root:Finding DYJetsToLL_LHEFilterPtZ-0To50 samples and should combine them under DYJets\n",
      "INFO:root:Applying fj_mass selection on 871 events\n",
      "INFO:root:Applying TopCR selection on 864 events\n",
      "INFO:root:Will fill the histograms with the remaining 6 events\n"
     ]
    },
    {
     "name": "stdout",
     "output_type": "stream",
     "text": [
      "syst pass_weight_PSFSR\n",
      "syst pass_weight_PSISR\n"
     ]
    },
    {
     "name": "stderr",
     "output_type": "stream",
     "text": [
      "INFO:root:Finding DYJetsToLL_LHEFilterPtZ-100To250 samples and should combine them under DYJets\n",
      "INFO:root:Applying fj_mass selection on 27737 events\n",
      "INFO:root:Applying TopCR selection on 27450 events\n",
      "INFO:root:Will fill the histograms with the remaining 279 events\n"
     ]
    },
    {
     "name": "stdout",
     "output_type": "stream",
     "text": [
      "syst pass_weight_PSFSR\n",
      "syst pass_weight_PSISR\n"
     ]
    },
    {
     "name": "stderr",
     "output_type": "stream",
     "text": [
      "INFO:root:Finding DYJetsToLL_LHEFilterPtZ-250To400 samples and should combine them under DYJets\n",
      "INFO:root:Applying fj_mass selection on 124445 events\n",
      "INFO:root:Applying TopCR selection on 122654 events\n",
      "INFO:root:Will fill the histograms with the remaining 1648 events\n"
     ]
    },
    {
     "name": "stdout",
     "output_type": "stream",
     "text": [
      "syst pass_weight_PSFSR\n",
      "syst pass_weight_PSISR\n"
     ]
    },
    {
     "name": "stderr",
     "output_type": "stream",
     "text": [
      "INFO:root:Finding DYJetsToLL_LHEFilterPtZ-400To650 samples and should combine them under DYJets\n",
      "INFO:root:Applying fj_mass selection on 45232 events\n",
      "INFO:root:Applying TopCR selection on 42933 events\n",
      "INFO:root:Will fill the histograms with the remaining 986 events\n"
     ]
    },
    {
     "name": "stdout",
     "output_type": "stream",
     "text": [
      "syst pass_weight_PSFSR\n",
      "syst pass_weight_PSISR\n"
     ]
    },
    {
     "name": "stderr",
     "output_type": "stream",
     "text": [
      "INFO:root:Finding DYJetsToLL_LHEFilterPtZ-50To100 samples and should combine them under DYJets\n",
      "INFO:root:Applying fj_mass selection on 3563 events\n",
      "INFO:root:Applying TopCR selection on 3536 events\n",
      "INFO:root:Will fill the histograms with the remaining 34 events\n"
     ]
    },
    {
     "name": "stdout",
     "output_type": "stream",
     "text": [
      "syst pass_weight_PSFSR\n",
      "syst pass_weight_PSISR\n"
     ]
    },
    {
     "name": "stderr",
     "output_type": "stream",
     "text": [
      "INFO:root:Finding DYJetsToLL_LHEFilterPtZ-650ToInf samples and should combine them under DYJets\n",
      "INFO:root:Applying fj_mass selection on 72541 events\n",
      "INFO:root:Applying TopCR selection on 60702 events\n",
      "INFO:root:Will fill the histograms with the remaining 1989 events\n"
     ]
    },
    {
     "name": "stdout",
     "output_type": "stream",
     "text": [
      "syst pass_weight_PSFSR\n",
      "syst pass_weight_PSISR\n"
     ]
    },
    {
     "name": "stderr",
     "output_type": "stream",
     "text": [
      "INFO:root:Finding EWKWminus_WToQQ samples and should combine them under EWKvjets\n",
      "INFO:root:Applying fj_mass selection on 131 events\n",
      "INFO:root:Applying TopCR selection on 128 events\n",
      "INFO:root:Will fill the histograms with the remaining 13 events\n"
     ]
    },
    {
     "name": "stdout",
     "output_type": "stream",
     "text": [
      "syst pass_weight_PSFSR\n",
      "syst pass_weight_PSISR\n"
     ]
    },
    {
     "name": "stderr",
     "output_type": "stream",
     "text": [
      "INFO:root:Finding EWKWplus_WToQQ samples and should combine them under EWKvjets\n",
      "INFO:root:Applying fj_mass selection on 253 events\n",
      "INFO:root:Applying TopCR selection on 249 events\n",
      "INFO:root:Will fill the histograms with the remaining 25 events\n"
     ]
    },
    {
     "name": "stdout",
     "output_type": "stream",
     "text": [
      "syst pass_weight_PSFSR\n",
      "syst pass_weight_PSISR\n"
     ]
    },
    {
     "name": "stderr",
     "output_type": "stream",
     "text": [
      "INFO:root:Finding EWKZ_ZToQQ samples and should combine them under EWKvjets\n",
      "INFO:root:Applying fj_mass selection on 3 events\n",
      "INFO:root:Applying TopCR selection on 3 events\n",
      "INFO:root:Will fill the histograms with the remaining 0 events\n"
     ]
    },
    {
     "name": "stdout",
     "output_type": "stream",
     "text": [
      "syst pass_weight_PSFSR\n",
      "syst pass_weight_PSISR\n"
     ]
    },
    {
     "name": "stderr",
     "output_type": "stream",
     "text": [
      "INFO:root:Finding ST_s-channel_4f_hadronicDecays samples and should combine them under SingleTop\n",
      "INFO:root:Applying fj_mass selection on 326 events\n",
      "INFO:root:Applying TopCR selection on 304 events\n",
      "INFO:root:Will fill the histograms with the remaining 13 events\n"
     ]
    },
    {
     "name": "stdout",
     "output_type": "stream",
     "text": [
      "syst pass_weight_PSFSR\n",
      "syst pass_weight_PSISR\n"
     ]
    },
    {
     "name": "stderr",
     "output_type": "stream",
     "text": [
      "INFO:root:Finding ST_s-channel_4f_leptonDecays samples and should combine them under SingleTop\n",
      "INFO:root:Applying fj_mass selection on 12215 events\n",
      "INFO:root:Applying TopCR selection on 11610 events\n",
      "INFO:root:Will fill the histograms with the remaining 799 events\n"
     ]
    },
    {
     "name": "stdout",
     "output_type": "stream",
     "text": [
      "syst pass_weight_PSFSR\n",
      "syst pass_weight_PSISR\n"
     ]
    },
    {
     "name": "stderr",
     "output_type": "stream",
     "text": [
      "INFO:root:Finding ST_t-channel_antitop_4f_InclusiveDecays samples and should combine them under SingleTop\n",
      "INFO:root:Applying fj_mass selection on 10347 events\n",
      "INFO:root:Applying TopCR selection on 10095 events\n",
      "INFO:root:Will fill the histograms with the remaining 823 events\n"
     ]
    },
    {
     "name": "stdout",
     "output_type": "stream",
     "text": [
      "syst pass_weight_PSFSR\n",
      "syst pass_weight_PSISR\n"
     ]
    },
    {
     "name": "stderr",
     "output_type": "stream",
     "text": [
      "INFO:root:Finding ST_t-channel_top_4f_InclusiveDecays samples and should combine them under SingleTop\n",
      "INFO:root:Applying fj_mass selection on 24418 events\n",
      "INFO:root:Applying TopCR selection on 23703 events\n",
      "INFO:root:Will fill the histograms with the remaining 2226 events\n"
     ]
    },
    {
     "name": "stdout",
     "output_type": "stream",
     "text": [
      "syst pass_weight_PSFSR\n",
      "syst pass_weight_PSISR\n"
     ]
    },
    {
     "name": "stderr",
     "output_type": "stream",
     "text": [
      "INFO:root:Finding ST_tW_antitop_5f_inclusiveDecays samples and should combine them under SingleTop\n",
      "INFO:root:Applying fj_mass selection on 7871 events\n",
      "INFO:root:Applying TopCR selection on 7664 events\n",
      "INFO:root:Will fill the histograms with the remaining 1050 events\n"
     ]
    },
    {
     "name": "stdout",
     "output_type": "stream",
     "text": [
      "syst pass_weight_PSFSR\n",
      "syst pass_weight_PSISR\n"
     ]
    },
    {
     "name": "stderr",
     "output_type": "stream",
     "text": [
      "INFO:root:Finding ST_tW_top_5f_inclusiveDecays samples and should combine them under SingleTop\n",
      "INFO:root:Applying fj_mass selection on 8208 events\n",
      "INFO:root:Applying TopCR selection on 7997 events\n",
      "INFO:root:Will fill the histograms with the remaining 1092 events\n"
     ]
    },
    {
     "name": "stdout",
     "output_type": "stream",
     "text": [
      "syst pass_weight_PSFSR\n",
      "syst pass_weight_PSISR\n"
     ]
    },
    {
     "name": "stderr",
     "output_type": "stream",
     "text": [
      "INFO:root:Finding TTTo2L2Nu samples and should combine them under TTbar\n",
      "INFO:root:Applying fj_mass selection on 201404 events\n",
      "INFO:root:Applying TopCR selection on 196333 events\n",
      "INFO:root:Will fill the histograms with the remaining 22554 events\n"
     ]
    },
    {
     "name": "stdout",
     "output_type": "stream",
     "text": [
      "syst pass_weight_PSFSR\n",
      "syst pass_weight_PSISR\n"
     ]
    },
    {
     "name": "stderr",
     "output_type": "stream",
     "text": [
      "INFO:root:Finding TTToHadronic samples and should combine them under TTbar\n",
      "INFO:root:Applying fj_mass selection on 5865 events\n",
      "INFO:root:Applying TopCR selection on 5508 events\n",
      "INFO:root:Will fill the histograms with the remaining 478 events\n"
     ]
    },
    {
     "name": "stdout",
     "output_type": "stream",
     "text": [
      "syst pass_weight_PSFSR\n",
      "syst pass_weight_PSISR\n"
     ]
    },
    {
     "name": "stderr",
     "output_type": "stream",
     "text": [
      "INFO:root:Finding TTToSemiLeptonic samples and should combine them under TTbar\n",
      "INFO:root:Applying fj_mass selection on 592199 events\n",
      "INFO:root:Applying TopCR selection on 558872 events\n",
      "INFO:root:Will fill the histograms with the remaining 58616 events\n"
     ]
    },
    {
     "name": "stdout",
     "output_type": "stream",
     "text": [
      "syst pass_weight_PSFSR\n",
      "syst pass_weight_PSISR\n"
     ]
    },
    {
     "name": "stderr",
     "output_type": "stream",
     "text": [
      "INFO:root:Finding WJetsToLNu_HT-100To200 samples and should combine them under WJetsLNu\n",
      "INFO:root:Finding WJetsToLNu_HT-1200To2500 samples and should combine them under WJetsLNu\n",
      "INFO:root:Applying fj_mass selection on 199106 events\n",
      "INFO:root:Applying TopCR selection on 155712 events\n",
      "INFO:root:Will fill the histograms with the remaining 6192 events\n"
     ]
    },
    {
     "name": "stdout",
     "output_type": "stream",
     "text": [
      "syst pass_weight_PSFSR\n",
      "syst pass_weight_PSISR\n"
     ]
    },
    {
     "name": "stderr",
     "output_type": "stream",
     "text": [
      "INFO:root:Finding WJetsToLNu_HT-200To400 samples and should combine them under WJetsLNu\n",
      "INFO:root:Applying fj_mass selection on 15692 events\n",
      "INFO:root:Applying TopCR selection on 15688 events\n",
      "INFO:root:Will fill the histograms with the remaining 24 events\n"
     ]
    },
    {
     "name": "stdout",
     "output_type": "stream",
     "text": [
      "syst pass_weight_PSFSR\n",
      "syst pass_weight_PSISR\n"
     ]
    },
    {
     "name": "stderr",
     "output_type": "stream",
     "text": [
      "INFO:root:Finding WJetsToLNu_HT-2500ToInf samples and should combine them under WJetsLNu\n",
      "INFO:root:Applying fj_mass selection on 67557 events\n",
      "INFO:root:Applying TopCR selection on 42282 events\n",
      "INFO:root:Will fill the histograms with the remaining 2757 events\n"
     ]
    },
    {
     "name": "stdout",
     "output_type": "stream",
     "text": [
      "syst pass_weight_PSFSR\n",
      "syst pass_weight_PSISR\n"
     ]
    },
    {
     "name": "stderr",
     "output_type": "stream",
     "text": [
      "INFO:root:Finding WJetsToLNu_HT-400To600 samples and should combine them under WJetsLNu\n",
      "INFO:root:Applying fj_mass selection on 42484 events\n",
      "INFO:root:Applying TopCR selection on 42320 events\n",
      "INFO:root:Will fill the histograms with the remaining 271 events\n"
     ]
    },
    {
     "name": "stdout",
     "output_type": "stream",
     "text": [
      "syst pass_weight_PSFSR\n",
      "syst pass_weight_PSISR\n"
     ]
    },
    {
     "name": "stderr",
     "output_type": "stream",
     "text": [
      "INFO:root:Finding WJetsToLNu_HT-600To800 samples and should combine them under WJetsLNu\n",
      "INFO:root:Applying fj_mass selection on 98597 events\n",
      "INFO:root:Applying TopCR selection on 96397 events\n",
      "INFO:root:Will fill the histograms with the remaining 1618 events\n"
     ]
    },
    {
     "name": "stdout",
     "output_type": "stream",
     "text": [
      "syst pass_weight_PSFSR\n",
      "syst pass_weight_PSISR\n"
     ]
    },
    {
     "name": "stderr",
     "output_type": "stream",
     "text": [
      "INFO:root:Finding WJetsToLNu_HT-800To1200 samples and should combine them under WJetsLNu\n",
      "INFO:root:Applying fj_mass selection on 155149 events\n",
      "INFO:root:Applying TopCR selection on 142044 events\n",
      "INFO:root:Will fill the histograms with the remaining 3739 events\n"
     ]
    },
    {
     "name": "stdout",
     "output_type": "stream",
     "text": [
      "syst pass_weight_PSFSR\n",
      "syst pass_weight_PSISR\n"
     ]
    },
    {
     "name": "stderr",
     "output_type": "stream",
     "text": [
      "INFO:root:Finding WW samples and should combine them under Diboson\n",
      "INFO:root:Applying fj_mass selection on 562 events\n",
      "INFO:root:Applying TopCR selection on 555 events\n",
      "INFO:root:Will fill the histograms with the remaining 6 events\n"
     ]
    },
    {
     "name": "stdout",
     "output_type": "stream",
     "text": [
      "syst pass_weight_PSFSR\n",
      "syst pass_weight_PSISR\n"
     ]
    },
    {
     "name": "stderr",
     "output_type": "stream",
     "text": [
      "INFO:root:Finding WZ samples and should combine them under Diboson\n",
      "INFO:root:Applying fj_mass selection on 464 events\n",
      "INFO:root:Applying TopCR selection on 456 events\n",
      "INFO:root:Will fill the histograms with the remaining 4 events\n"
     ]
    },
    {
     "name": "stdout",
     "output_type": "stream",
     "text": [
      "syst pass_weight_PSFSR\n",
      "syst pass_weight_PSISR\n"
     ]
    },
    {
     "name": "stderr",
     "output_type": "stream",
     "text": [
      "INFO:root:Finding ZZ samples and should combine them under Diboson\n",
      "INFO:root:Applying fj_mass selection on 189 events\n",
      "INFO:root:Applying TopCR selection on 189 events\n",
      "INFO:root:Will fill the histograms with the remaining 8 events\n"
     ]
    },
    {
     "name": "stdout",
     "output_type": "stream",
     "text": [
      "syst pass_weight_PSFSR\n",
      "syst pass_weight_PSISR\n"
     ]
    },
    {
     "name": "stderr",
     "output_type": "stream",
     "text": [
      "INFO:root:Processing year 2018 and ele channel\n",
      "INFO:root:Finding DYJetsToLL_LHEFilterPtZ-0To50 samples and should combine them under DYJets\n",
      "INFO:root:Applying fj_mass selection on 824 events\n",
      "INFO:root:Applying TopCR selection on 821 events\n",
      "INFO:root:Will fill the histograms with the remaining 2 events\n"
     ]
    },
    {
     "name": "stdout",
     "output_type": "stream",
     "text": [
      "syst pass_weight_PSFSR\n",
      "syst pass_weight_PSISR\n"
     ]
    },
    {
     "name": "stderr",
     "output_type": "stream",
     "text": [
      "INFO:root:Finding DYJetsToLL_LHEFilterPtZ-100To250 samples and should combine them under DYJets\n",
      "INFO:root:Applying fj_mass selection on 34263 events\n",
      "INFO:root:Applying TopCR selection on 33902 events\n",
      "INFO:root:Will fill the histograms with the remaining 319 events\n"
     ]
    },
    {
     "name": "stdout",
     "output_type": "stream",
     "text": [
      "syst pass_weight_PSFSR\n",
      "syst pass_weight_PSISR\n"
     ]
    },
    {
     "name": "stderr",
     "output_type": "stream",
     "text": [
      "INFO:root:Finding DYJetsToLL_LHEFilterPtZ-250To400 samples and should combine them under DYJets\n",
      "INFO:root:Applying fj_mass selection on 307122 events\n",
      "INFO:root:Applying TopCR selection on 304176 events\n",
      "INFO:root:Will fill the histograms with the remaining 3727 events\n"
     ]
    },
    {
     "name": "stdout",
     "output_type": "stream",
     "text": [
      "syst pass_weight_PSFSR\n",
      "syst pass_weight_PSISR\n"
     ]
    },
    {
     "name": "stderr",
     "output_type": "stream",
     "text": [
      "INFO:root:Finding DYJetsToLL_LHEFilterPtZ-400To650 samples and should combine them under DYJets\n",
      "INFO:root:Applying fj_mass selection on 98496 events\n",
      "INFO:root:Applying TopCR selection on 94094 events\n",
      "INFO:root:Will fill the histograms with the remaining 1962 events\n"
     ]
    },
    {
     "name": "stdout",
     "output_type": "stream",
     "text": [
      "syst pass_weight_PSFSR\n",
      "syst pass_weight_PSISR\n"
     ]
    },
    {
     "name": "stderr",
     "output_type": "stream",
     "text": [
      "INFO:root:Finding DYJetsToLL_LHEFilterPtZ-50To100 samples and should combine them under DYJets\n",
      "INFO:root:Applying fj_mass selection on 2862 events\n",
      "INFO:root:Applying TopCR selection on 2836 events\n",
      "INFO:root:Will fill the histograms with the remaining 19 events\n"
     ]
    },
    {
     "name": "stdout",
     "output_type": "stream",
     "text": [
      "syst pass_weight_PSFSR\n",
      "syst pass_weight_PSISR\n"
     ]
    },
    {
     "name": "stderr",
     "output_type": "stream",
     "text": [
      "INFO:root:Finding DYJetsToLL_LHEFilterPtZ-650ToInf samples and should combine them under DYJets\n",
      "INFO:root:Applying fj_mass selection on 122461 events\n",
      "INFO:root:Applying TopCR selection on 103114 events\n",
      "INFO:root:Will fill the histograms with the remaining 3002 events\n"
     ]
    },
    {
     "name": "stdout",
     "output_type": "stream",
     "text": [
      "syst pass_weight_PSFSR\n",
      "syst pass_weight_PSISR\n"
     ]
    },
    {
     "name": "stderr",
     "output_type": "stream",
     "text": [
      "INFO:root:Finding EWKWminus_WToQQ samples and should combine them under EWKvjets\n",
      "INFO:root:Applying fj_mass selection on 60 events\n",
      "INFO:root:Applying TopCR selection on 60 events\n",
      "INFO:root:Will fill the histograms with the remaining 4 events\n"
     ]
    },
    {
     "name": "stdout",
     "output_type": "stream",
     "text": [
      "syst pass_weight_PSFSR\n",
      "syst pass_weight_PSISR\n"
     ]
    },
    {
     "name": "stderr",
     "output_type": "stream",
     "text": [
      "INFO:root:Finding EWKWplus_WToQQ samples and should combine them under EWKvjets\n",
      "INFO:root:Applying fj_mass selection on 112 events\n",
      "INFO:root:Applying TopCR selection on 107 events\n",
      "INFO:root:Will fill the histograms with the remaining 9 events\n"
     ]
    },
    {
     "name": "stdout",
     "output_type": "stream",
     "text": [
      "syst pass_weight_PSFSR\n",
      "syst pass_weight_PSISR\n"
     ]
    },
    {
     "name": "stderr",
     "output_type": "stream",
     "text": [
      "INFO:root:Finding EWKZ_ZToQQ samples and should combine them under EWKvjets\n",
      "INFO:root:Applying fj_mass selection on 1 events\n",
      "INFO:root:Applying TopCR selection on 1 events\n",
      "INFO:root:Will fill the histograms with the remaining 0 events\n"
     ]
    },
    {
     "name": "stdout",
     "output_type": "stream",
     "text": [
      "syst pass_weight_PSFSR\n",
      "syst pass_weight_PSISR\n"
     ]
    },
    {
     "name": "stderr",
     "output_type": "stream",
     "text": [
      "INFO:root:Finding ST_s-channel_4f_hadronicDecays samples and should combine them under SingleTop\n",
      "INFO:root:Applying fj_mass selection on 46 events\n",
      "INFO:root:Applying TopCR selection on 43 events\n",
      "INFO:root:Will fill the histograms with the remaining 6 events\n"
     ]
    },
    {
     "name": "stdout",
     "output_type": "stream",
     "text": [
      "syst pass_weight_PSFSR\n",
      "syst pass_weight_PSISR\n"
     ]
    },
    {
     "name": "stderr",
     "output_type": "stream",
     "text": [
      "INFO:root:Finding ST_s-channel_4f_leptonDecays samples and should combine them under SingleTop\n",
      "INFO:root:Applying fj_mass selection on 7609 events\n",
      "INFO:root:Applying TopCR selection on 7291 events\n",
      "INFO:root:Will fill the histograms with the remaining 543 events\n"
     ]
    },
    {
     "name": "stdout",
     "output_type": "stream",
     "text": [
      "syst pass_weight_PSFSR\n",
      "syst pass_weight_PSISR\n"
     ]
    },
    {
     "name": "stderr",
     "output_type": "stream",
     "text": [
      "INFO:root:Finding ST_t-channel_antitop_4f_InclusiveDecays samples and should combine them under SingleTop\n",
      "INFO:root:Applying fj_mass selection on 5590 events\n",
      "INFO:root:Applying TopCR selection on 5462 events\n",
      "INFO:root:Will fill the histograms with the remaining 462 events\n"
     ]
    },
    {
     "name": "stdout",
     "output_type": "stream",
     "text": [
      "syst pass_weight_PSFSR\n",
      "syst pass_weight_PSISR\n"
     ]
    },
    {
     "name": "stderr",
     "output_type": "stream",
     "text": [
      "INFO:root:Finding ST_t-channel_top_4f_InclusiveDecays samples and should combine them under SingleTop\n",
      "INFO:root:Applying fj_mass selection on 13440 events\n",
      "INFO:root:Applying TopCR selection on 13023 events\n",
      "INFO:root:Will fill the histograms with the remaining 1182 events\n"
     ]
    },
    {
     "name": "stdout",
     "output_type": "stream",
     "text": [
      "syst pass_weight_PSFSR\n",
      "syst pass_weight_PSISR\n"
     ]
    },
    {
     "name": "stderr",
     "output_type": "stream",
     "text": [
      "INFO:root:Finding ST_tW_antitop_5f_inclusiveDecays samples and should combine them under SingleTop\n",
      "INFO:root:Applying fj_mass selection on 5401 events\n",
      "INFO:root:Applying TopCR selection on 5264 events\n",
      "INFO:root:Will fill the histograms with the remaining 721 events\n"
     ]
    },
    {
     "name": "stdout",
     "output_type": "stream",
     "text": [
      "syst pass_weight_PSFSR\n",
      "syst pass_weight_PSISR\n"
     ]
    },
    {
     "name": "stderr",
     "output_type": "stream",
     "text": [
      "INFO:root:Finding ST_tW_top_5f_inclusiveDecays samples and should combine them under SingleTop\n",
      "INFO:root:Applying fj_mass selection on 5491 events\n",
      "INFO:root:Applying TopCR selection on 5343 events\n",
      "INFO:root:Will fill the histograms with the remaining 719 events\n"
     ]
    },
    {
     "name": "stdout",
     "output_type": "stream",
     "text": [
      "syst pass_weight_PSFSR\n",
      "syst pass_weight_PSISR\n"
     ]
    },
    {
     "name": "stderr",
     "output_type": "stream",
     "text": [
      "INFO:root:Finding TTTo2L2Nu samples and should combine them under TTbar\n",
      "INFO:root:Applying fj_mass selection on 127417 events\n",
      "INFO:root:Applying TopCR selection on 124335 events\n",
      "INFO:root:Will fill the histograms with the remaining 14481 events\n"
     ]
    },
    {
     "name": "stdout",
     "output_type": "stream",
     "text": [
      "syst pass_weight_PSFSR\n",
      "syst pass_weight_PSISR\n"
     ]
    },
    {
     "name": "stderr",
     "output_type": "stream",
     "text": [
      "INFO:root:Finding TTToHadronic samples and should combine them under TTbar\n",
      "INFO:root:Applying fj_mass selection on 1042 events\n",
      "INFO:root:Applying TopCR selection on 998 events\n",
      "INFO:root:Will fill the histograms with the remaining 116 events\n"
     ]
    },
    {
     "name": "stdout",
     "output_type": "stream",
     "text": [
      "syst pass_weight_PSFSR\n",
      "syst pass_weight_PSISR\n"
     ]
    },
    {
     "name": "stderr",
     "output_type": "stream",
     "text": [
      "INFO:root:Finding TTToSemiLeptonic samples and should combine them under TTbar\n",
      "INFO:root:Applying fj_mass selection on 393468 events\n",
      "INFO:root:Applying TopCR selection on 371245 events\n",
      "INFO:root:Will fill the histograms with the remaining 39211 events\n"
     ]
    },
    {
     "name": "stdout",
     "output_type": "stream",
     "text": [
      "syst pass_weight_PSFSR\n",
      "syst pass_weight_PSISR\n"
     ]
    },
    {
     "name": "stderr",
     "output_type": "stream",
     "text": [
      "INFO:root:Finding WJetsToLNu_HT-100To200 samples and should combine them under WJetsLNu\n",
      "INFO:root:Finding WJetsToLNu_HT-1200To2500 samples and should combine them under WJetsLNu\n",
      "INFO:root:Applying fj_mass selection on 127251 events\n",
      "INFO:root:Applying TopCR selection on 99347 events\n",
      "INFO:root:Will fill the histograms with the remaining 3884 events\n"
     ]
    },
    {
     "name": "stdout",
     "output_type": "stream",
     "text": [
      "syst pass_weight_PSFSR\n",
      "syst pass_weight_PSISR\n"
     ]
    },
    {
     "name": "stderr",
     "output_type": "stream",
     "text": [
      "INFO:root:Finding WJetsToLNu_HT-200To400 samples and should combine them under WJetsLNu\n",
      "INFO:root:Applying fj_mass selection on 12076 events\n",
      "INFO:root:Applying TopCR selection on 12070 events\n",
      "INFO:root:Will fill the histograms with the remaining 18 events\n"
     ]
    },
    {
     "name": "stdout",
     "output_type": "stream",
     "text": [
      "syst pass_weight_PSFSR\n",
      "syst pass_weight_PSISR\n"
     ]
    },
    {
     "name": "stderr",
     "output_type": "stream",
     "text": [
      "INFO:root:Finding WJetsToLNu_HT-2500ToInf samples and should combine them under WJetsLNu\n",
      "INFO:root:Applying fj_mass selection on 42882 events\n",
      "INFO:root:Applying TopCR selection on 26873 events\n",
      "INFO:root:Will fill the histograms with the remaining 1836 events\n"
     ]
    },
    {
     "name": "stdout",
     "output_type": "stream",
     "text": [
      "syst pass_weight_PSFSR\n",
      "syst pass_weight_PSISR\n"
     ]
    },
    {
     "name": "stderr",
     "output_type": "stream",
     "text": [
      "INFO:root:Finding WJetsToLNu_HT-400To600 samples and should combine them under WJetsLNu\n",
      "INFO:root:Applying fj_mass selection on 28548 events\n",
      "INFO:root:Applying TopCR selection on 28405 events\n",
      "INFO:root:Will fill the histograms with the remaining 180 events\n"
     ]
    },
    {
     "name": "stdout",
     "output_type": "stream",
     "text": [
      "syst pass_weight_PSFSR\n",
      "syst pass_weight_PSISR\n"
     ]
    },
    {
     "name": "stderr",
     "output_type": "stream",
     "text": [
      "INFO:root:Finding WJetsToLNu_HT-600To800 samples and should combine them under WJetsLNu\n",
      "INFO:root:Applying fj_mass selection on 64597 events\n",
      "INFO:root:Applying TopCR selection on 63019 events\n",
      "INFO:root:Will fill the histograms with the remaining 1085 events\n"
     ]
    },
    {
     "name": "stdout",
     "output_type": "stream",
     "text": [
      "syst pass_weight_PSFSR\n",
      "syst pass_weight_PSISR\n"
     ]
    },
    {
     "name": "stderr",
     "output_type": "stream",
     "text": [
      "INFO:root:Finding WJetsToLNu_HT-800To1200 samples and should combine them under WJetsLNu\n",
      "INFO:root:Applying fj_mass selection on 100796 events\n",
      "INFO:root:Applying TopCR selection on 92083 events\n",
      "INFO:root:Will fill the histograms with the remaining 2487 events\n"
     ]
    },
    {
     "name": "stdout",
     "output_type": "stream",
     "text": [
      "syst pass_weight_PSFSR\n",
      "syst pass_weight_PSISR\n"
     ]
    },
    {
     "name": "stderr",
     "output_type": "stream",
     "text": [
      "INFO:root:Finding WW samples and should combine them under Diboson\n",
      "INFO:root:Applying fj_mass selection on 373 events\n",
      "INFO:root:Applying TopCR selection on 366 events\n",
      "INFO:root:Will fill the histograms with the remaining 3 events\n"
     ]
    },
    {
     "name": "stdout",
     "output_type": "stream",
     "text": [
      "syst pass_weight_PSFSR\n",
      "syst pass_weight_PSISR\n"
     ]
    },
    {
     "name": "stderr",
     "output_type": "stream",
     "text": [
      "INFO:root:Finding WZ samples and should combine them under Diboson\n",
      "INFO:root:Applying fj_mass selection on 588 events\n",
      "INFO:root:Applying TopCR selection on 581 events\n",
      "INFO:root:Will fill the histograms with the remaining 6 events\n"
     ]
    },
    {
     "name": "stdout",
     "output_type": "stream",
     "text": [
      "syst pass_weight_PSFSR\n",
      "syst pass_weight_PSISR\n"
     ]
    },
    {
     "name": "stderr",
     "output_type": "stream",
     "text": [
      "INFO:root:Finding ZZ samples and should combine them under Diboson\n",
      "INFO:root:Applying fj_mass selection on 340 events\n",
      "INFO:root:Applying TopCR selection on 339 events\n",
      "INFO:root:Will fill the histograms with the remaining 8 events\n"
     ]
    },
    {
     "name": "stdout",
     "output_type": "stream",
     "text": [
      "syst pass_weight_PSFSR\n",
      "syst pass_weight_PSISR\n",
      "hists Hist(\n",
      "  StrCategory(['DYJets', 'EWKvjets', 'SingleTop', 'TTbar', 'WJetsLNu', 'Diboson'], growth=True, name='Sample'),\n",
      "  StrCategory(['pass_nominal', 'pass_weight_PSFSR_DYJets_up', 'pass_weight_PSFSR_DYJets_down', 'pass_weight_PSISR_DYJets_up', 'pass_weight_PSISR_DYJets_down', 'pass_weight_pileup_id_up', 'pass_weight_pileup_id_down', 'pass_weight_d1K_NLO_up', 'pass_weight_d1K_NLO_down', 'pass_weight_d2K_NLO_up', 'pass_weight_d2K_NLO_down', 'pass_weight_d3K_NLO_up', 'pass_weight_d3K_NLO_down', 'pass_weight_d1kappa_EW_up', 'pass_weight_d1kappa_EW_down', 'pass_weight_W_d2kappa_EW_up', 'pass_weight_W_d2kappa_EW_down', 'pass_weight_W_d3kappa_EW_up', 'pass_weight_W_d3kappa_EW_down', 'pass_weight_Z_d2kappa_EW_up', 'pass_weight_Z_d2kappa_EW_down', 'pass_weight_Z_d3kappa_EW_up', 'pass_weight_Z_d3kappa_EW_down', 'pass_weight_ele_id_up', 'pass_weight_ele_id_down', 'pass_weight_ele_reco_up', 'pass_weight_ele_reco_down', 'pass_weight_mu_isolation_up', 'pass_weight_mu_isolation_down', 'pass_weight_mu_id_up', 'pass_weight_mu_id_down', 'pass_weight_mu_trigger_iso_up', 'pass_weight_mu_trigger_iso_down', 'pass_weight_mu_trigger_noniso_up', 'pass_weight_mu_trigger_noniso_down', 'pass_weight_pileup_up', 'pass_weight_pileup_down', 'pass_weight_btagSFlightCorrelated_up', 'pass_weight_btagSFlightCorrelated_down', 'pass_weight_btagSFbcCorrelated_up', 'pass_weight_btagSFbcCorrelated_down', 'pass_weight_btagSFlight_up', 'pass_weight_btagSFlight_down', 'pass_weight_btagSFbc_up', 'pass_weight_btagSFbc_down', 'pass_weight_pdf_acceptance_DYJets_up', 'pass_weight_pdf_acceptance_DYJets_down', 'pass_weight_qcd_scale_DYJets_up', 'pass_weight_qcd_scale_DYJets_down', 'pass_weight_trigger_up', 'pass_weight_trigger_down', 'pass_top_reweighting_up', 'pass_top_reweighting_down', 'pass_JMR_2018_up', 'pass_JMR_2018_down', 'pass_JMS_2018_up', 'pass_JMS_2018_down', 'pass_JES_FlavorQCD_up', 'pass_JES_FlavorQCD_down', 'pass_JES_RelativeBal_up', 'pass_JES_RelativeBal_down', 'pass_JES_HF_up', 'pass_JES_HF_down', 'pass_JES_BBEC1_up', 'pass_JES_BBEC1_down', 'pass_JES_EC2_up', 'pass_JES_EC2_down', 'pass_JES_Absolute_up', 'pass_JES_Absolute_down', 'pass_JES_BBEC1_year_up', 'pass_JES_BBEC1_year_down', 'pass_JES_RelativeSample_year_up', 'pass_JES_RelativeSample_year_down', 'pass_JES_EC2_year_up', 'pass_JES_EC2_year_down', 'pass_JES_HF_year_up', 'pass_JES_HF_year_down', 'pass_JES_Absolute_year_up', 'pass_JES_Absolute_year_down', 'pass_JER_year_up', 'pass_JER_year_down', 'pass_UES_up', 'pass_UES_down', 'pass_weight_PSFSR_EWKvjets_up', 'pass_weight_PSFSR_EWKvjets_down', 'pass_weight_PSISR_EWKvjets_up', 'pass_weight_PSISR_EWKvjets_down', 'pass_weight_pdf_acceptance_EWKvjets_up', 'pass_weight_pdf_acceptance_EWKvjets_down', 'pass_weight_qcd_scale_EWKvjets_up', 'pass_weight_qcd_scale_EWKvjets_down', 'pass_weight_PSFSR_SingleTop_up', 'pass_weight_PSFSR_SingleTop_down', 'pass_weight_PSISR_SingleTop_up', 'pass_weight_PSISR_SingleTop_down', 'pass_weight_pdf_acceptance_SingleTop_up', 'pass_weight_pdf_acceptance_SingleTop_down', 'pass_weight_qcd_scale_SingleTop_up', 'pass_weight_qcd_scale_SingleTop_down', 'pass_weight_PSFSR_TTbar_up', 'pass_weight_PSFSR_TTbar_down', 'pass_weight_PSISR_TTbar_up', 'pass_weight_PSISR_TTbar_down', 'pass_weight_pdf_acceptance_TTbar_up', 'pass_weight_pdf_acceptance_TTbar_down', 'pass_weight_qcd_scale_TTbar_up', 'pass_weight_qcd_scale_TTbar_down', 'pass_weight_PSFSR_WJetsLNu_up', 'pass_weight_PSFSR_WJetsLNu_down', 'pass_weight_PSISR_WJetsLNu_up', 'pass_weight_PSISR_WJetsLNu_down', 'pass_weight_pdf_acceptance_WJetsLNu_up', 'pass_weight_pdf_acceptance_WJetsLNu_down', 'pass_weight_qcd_scale_WJetsLNu_up', 'pass_weight_qcd_scale_WJetsLNu_down', 'pass_weight_PSFSR_Diboson_up', 'pass_weight_PSFSR_Diboson_down', 'pass_weight_PSISR_Diboson_up', 'pass_weight_PSISR_Diboson_down', 'pass_weight_pdf_acceptance_Diboson_up', 'pass_weight_pdf_acceptance_Diboson_down', 'pass_weight_qcd_scale_Diboson_up', 'pass_weight_qcd_scale_Diboson_down'], growth=True, name='Systematic'),\n",
      "  StrCategory(['TopCR'], growth=True, name='Region'),\n",
      "  Variable([40, 70, 110, 140, 180], name='mass_observable', label='V reconstructed mass [GeV]'),\n",
      "  storage=Weight()) # Sum: WeightedSum(value=1.61298e+06, variance=272802) (WeightedSum(value=1.6545e+06, variance=279443) with flow)\n"
     ]
    }
   ],
   "source": [
    "years = ['2018']\n",
    "\n",
    "outdir = 'templates'\n",
    "\n",
    "channels = 'mu','ele'\n",
    "#channels = ['mu']\n",
    "\n",
    "\n",
    "with open(\"simplePass_TopCR.yaml\", \"r\") as stream:\n",
    "    config = yaml.safe_load(stream)\n",
    "\n",
    "if len(years) == 4:\n",
    "    save_as = \"Run2\"\n",
    "else:\n",
    "    save_as = \"_\".join(years)\n",
    "\n",
    "if len(channels) == 1:\n",
    "    save_as += f\"_{channels[0]}_\"\n",
    "\n",
    "os.system(f\"mkdir -p {outdir}\")\n",
    "\n",
    "hists = get_templates( years, channels, config[\"samples\"], config[\"samples_dir\"], config[\"regions_sel\"], config[\"model_path\"],)\n",
    "\n",
    "fix_neg_yields(hists)\n",
    "\n",
    "#with open(f\"{outdir}/hists_templates_{save_as}.pkl\", \"wb\") as fp:\n",
    "with open(f\"{outdir}/hists_templates_{save_as}_TopCR_pass.pkl\", \"wb\") as fp:\n",
    "    print('hists', hists)\n",
    "    pkl.dump(hists, fp)\n",
    "\n"
   ]
  },
  {
   "cell_type": "code",
   "execution_count": 21,
   "id": "411e06fa-20da-4f40-96bd-8bce7251cc21",
   "metadata": {},
   "outputs": [],
   "source": [
    "obj = pd.read_pickle(r'/home/jieun201/boostedhiggs_may27/combine_nov26/2018/templates/hists_templates_2018_TopCR_pass.pkl')"
   ]
  },
  {
   "cell_type": "code",
   "execution_count": 22,
   "id": "f3d28c6c-5524-42ba-bc29-c687f1c7b2ab",
   "metadata": {},
   "outputs": [
    {
     "data": {
      "text/plain": [
       "Hist(\n",
       "  StrCategory(['DYJets', 'EWKvjets', 'SingleTop', 'TTbar', 'WJetsLNu', 'Diboson'], growth=True, name='Sample'),\n",
       "  StrCategory(['pass_nominal', 'pass_weight_PSFSR_DYJets_up', 'pass_weight_PSFSR_DYJets_down', 'pass_weight_PSISR_DYJets_up', 'pass_weight_PSISR_DYJets_down', 'pass_weight_pileup_id_up', 'pass_weight_pileup_id_down', 'pass_weight_d1K_NLO_up', 'pass_weight_d1K_NLO_down', 'pass_weight_d2K_NLO_up', 'pass_weight_d2K_NLO_down', 'pass_weight_d3K_NLO_up', 'pass_weight_d3K_NLO_down', 'pass_weight_d1kappa_EW_up', 'pass_weight_d1kappa_EW_down', 'pass_weight_W_d2kappa_EW_up', 'pass_weight_W_d2kappa_EW_down', 'pass_weight_W_d3kappa_EW_up', 'pass_weight_W_d3kappa_EW_down', 'pass_weight_Z_d2kappa_EW_up', 'pass_weight_Z_d2kappa_EW_down', 'pass_weight_Z_d3kappa_EW_up', 'pass_weight_Z_d3kappa_EW_down', 'pass_weight_ele_id_up', 'pass_weight_ele_id_down', 'pass_weight_ele_reco_up', 'pass_weight_ele_reco_down', 'pass_weight_mu_isolation_up', 'pass_weight_mu_isolation_down', 'pass_weight_mu_id_up', 'pass_weight_mu_id_down', 'pass_weight_mu_trigger_iso_up', 'pass_weight_mu_trigger_iso_down', 'pass_weight_mu_trigger_noniso_up', 'pass_weight_mu_trigger_noniso_down', 'pass_weight_pileup_up', 'pass_weight_pileup_down', 'pass_weight_btagSFlightCorrelated_up', 'pass_weight_btagSFlightCorrelated_down', 'pass_weight_btagSFbcCorrelated_up', 'pass_weight_btagSFbcCorrelated_down', 'pass_weight_btagSFlight_up', 'pass_weight_btagSFlight_down', 'pass_weight_btagSFbc_up', 'pass_weight_btagSFbc_down', 'pass_weight_pdf_acceptance_DYJets_up', 'pass_weight_pdf_acceptance_DYJets_down', 'pass_weight_qcd_scale_DYJets_up', 'pass_weight_qcd_scale_DYJets_down', 'pass_weight_trigger_up', 'pass_weight_trigger_down', 'pass_top_reweighting_up', 'pass_top_reweighting_down', 'pass_JMR_2018_up', 'pass_JMR_2018_down', 'pass_JMS_2018_up', 'pass_JMS_2018_down', 'pass_JES_FlavorQCD_up', 'pass_JES_FlavorQCD_down', 'pass_JES_RelativeBal_up', 'pass_JES_RelativeBal_down', 'pass_JES_HF_up', 'pass_JES_HF_down', 'pass_JES_BBEC1_up', 'pass_JES_BBEC1_down', 'pass_JES_EC2_up', 'pass_JES_EC2_down', 'pass_JES_Absolute_up', 'pass_JES_Absolute_down', 'pass_JES_BBEC1_year_up', 'pass_JES_BBEC1_year_down', 'pass_JES_RelativeSample_year_up', 'pass_JES_RelativeSample_year_down', 'pass_JES_EC2_year_up', 'pass_JES_EC2_year_down', 'pass_JES_HF_year_up', 'pass_JES_HF_year_down', 'pass_JES_Absolute_year_up', 'pass_JES_Absolute_year_down', 'pass_JER_year_up', 'pass_JER_year_down', 'pass_UES_up', 'pass_UES_down', 'pass_weight_PSFSR_EWKvjets_up', 'pass_weight_PSFSR_EWKvjets_down', 'pass_weight_PSISR_EWKvjets_up', 'pass_weight_PSISR_EWKvjets_down', 'pass_weight_pdf_acceptance_EWKvjets_up', 'pass_weight_pdf_acceptance_EWKvjets_down', 'pass_weight_qcd_scale_EWKvjets_up', 'pass_weight_qcd_scale_EWKvjets_down', 'pass_weight_PSFSR_SingleTop_up', 'pass_weight_PSFSR_SingleTop_down', 'pass_weight_PSISR_SingleTop_up', 'pass_weight_PSISR_SingleTop_down', 'pass_weight_pdf_acceptance_SingleTop_up', 'pass_weight_pdf_acceptance_SingleTop_down', 'pass_weight_qcd_scale_SingleTop_up', 'pass_weight_qcd_scale_SingleTop_down', 'pass_weight_PSFSR_TTbar_up', 'pass_weight_PSFSR_TTbar_down', 'pass_weight_PSISR_TTbar_up', 'pass_weight_PSISR_TTbar_down', 'pass_weight_pdf_acceptance_TTbar_up', 'pass_weight_pdf_acceptance_TTbar_down', 'pass_weight_qcd_scale_TTbar_up', 'pass_weight_qcd_scale_TTbar_down', 'pass_weight_PSFSR_WJetsLNu_up', 'pass_weight_PSFSR_WJetsLNu_down', 'pass_weight_PSISR_WJetsLNu_up', 'pass_weight_PSISR_WJetsLNu_down', 'pass_weight_pdf_acceptance_WJetsLNu_up', 'pass_weight_pdf_acceptance_WJetsLNu_down', 'pass_weight_qcd_scale_WJetsLNu_up', 'pass_weight_qcd_scale_WJetsLNu_down', 'pass_weight_PSFSR_Diboson_up', 'pass_weight_PSFSR_Diboson_down', 'pass_weight_PSISR_Diboson_up', 'pass_weight_PSISR_Diboson_down', 'pass_weight_pdf_acceptance_Diboson_up', 'pass_weight_pdf_acceptance_Diboson_down', 'pass_weight_qcd_scale_Diboson_up', 'pass_weight_qcd_scale_Diboson_down'], growth=True, name='Systematic'),\n",
       "  StrCategory(['TopCR'], growth=True, name='Region'),\n",
       "  Variable([40, 70, 110, 140, 180], name='mass_observable', label='V reconstructed mass [GeV]'),\n",
       "  storage=Weight()) # Sum: WeightedSum(value=1.61298e+06, variance=272802) (WeightedSum(value=1.6545e+06, variance=279443) with flow)"
      ]
     },
     "execution_count": 22,
     "metadata": {},
     "output_type": "execute_result"
    }
   ],
   "source": [
    "obj"
   ]
  },
  {
   "cell_type": "code",
   "execution_count": 26,
   "id": "8dc8ebbc-0800-47c9-90e0-4d70e1c79552",
   "metadata": {},
   "outputs": [
    {
     "data": {
      "text/html": [
       "<html>\n",
       "<div style=\"display:flex; align-items:center;\">\n",
       "<div style=\"width:290px;\">\n",
       "<svg xmlns=\"http://www.w3.org/2000/svg\" viewBox=\"-10 -105 270 120\">\n",
       "<line x1=\"-5\" y1=\"0\" x2=\"255\" y2=\"0\" style=\"fill:none;stroke-width:2;stroke:currentColor\"/>\n",
       "<text text-anchor=\"middle\" x=\"0\" y=\"15\" style=\"fill:currentColor;\">\n",
       "40\n",
       "</text>\n",
       "<text text-anchor=\"middle\" x=\"250\" y=\"15\" style=\"fill:currentColor;\">\n",
       "180\n",
       "</text>\n",
       "<text text-anchor=\"middle\" x=\"125.0\" y=\"15\" style=\"fill:currentColor;\">\n",
       "V reconstructed mass [GeV]\n",
       "</text>\n",
       "<polyline points=\"  0,0   0,-63.1 53.5714,-63.1 53.5714,-100 125,-100 125,-26.3 178.571,-26.3 178.571,-11.6 250,-11.6 250,0\" style=\"fill:none; stroke:currentColor;\"/>\n",
       "</svg>\n",
       "</div>\n",
       "<div style=\"flex=grow:1;\">\n",
       "Variable([40, 70, 110, 140, 180], name='mass_observable', label='V reconstructed mass [GeV]')<br/>\n",
       "<hr style=\"margin-top:.2em; margin-bottom:.2em;\"/>\n",
       "Weight() Σ=WeightedSum(value=1020.23, variance=228.442) <em>(WeightedSum(value=1043.69, variance=232.756) with flow)</em>\n",
       "\n",
       "</div>\n",
       "</div>\n",
       "</html>"
      ],
      "text/plain": [
       "Hist(Variable([40, 70, 110, 140, 180], name='mass_observable', label='V reconstructed mass [GeV]'), storage=Weight()) # Sum: WeightedSum(value=1020.23, variance=228.442) (WeightedSum(value=1043.69, variance=232.756) with flow)"
      ]
     },
     "execution_count": 26,
     "metadata": {},
     "output_type": "execute_result"
    }
   ],
   "source": [
    "#sample2 = obj[{\"Region\": \"SR1\", \"Sample\": \"ZH\", \"Systematic\": \"pass_JMS_2017_down\"}]\n",
    "sample2 = obj[{\"Region\": \"TopCR\", \"Sample\": \"SingleTop\", \"Systematic\": \"pass_UES_down\"}]\n",
    "\n",
    "sample2"
   ]
  },
  {
   "cell_type": "code",
   "execution_count": 25,
   "id": "9fe6d315-439c-433d-8d33-49a2f356fefb",
   "metadata": {},
   "outputs": [
    {
     "data": {
      "text/html": [
       "<html>\n",
       "<div style=\"display:flex; align-items:center;\">\n",
       "<div style=\"width:290px;\">\n",
       "<svg xmlns=\"http://www.w3.org/2000/svg\" viewBox=\"-10 -105 270 120\">\n",
       "<line x1=\"-5\" y1=\"0\" x2=\"255\" y2=\"0\" style=\"fill:none;stroke-width:2;stroke:currentColor\"/>\n",
       "<text text-anchor=\"middle\" x=\"0\" y=\"15\" style=\"fill:currentColor;\">\n",
       "40\n",
       "</text>\n",
       "<text text-anchor=\"middle\" x=\"250\" y=\"15\" style=\"fill:currentColor;\">\n",
       "180\n",
       "</text>\n",
       "<text text-anchor=\"middle\" x=\"125.0\" y=\"15\" style=\"fill:currentColor;\">\n",
       "V reconstructed mass [GeV]\n",
       "</text>\n",
       "<polyline points=\"  0,0   0,-62.9 53.5714,-62.9 53.5714,-100 125,-100 125,-37.8 178.571,-37.8 178.571,-17 250,-17 250,0\" style=\"fill:none; stroke:currentColor;\"/>\n",
       "</svg>\n",
       "</div>\n",
       "<div style=\"flex=grow:1;\">\n",
       "Variable([40, 70, 110, 140, 180], name='mass_observable', label='V reconstructed mass [GeV]')<br/>\n",
       "<hr style=\"margin-top:.2em; margin-bottom:.2em;\"/>\n",
       "Weight() Σ=WeightedSum(value=17925.5, variance=2970.35) <em>(WeightedSum(value=18360.2, variance=3036.77) with flow)</em>\n",
       "\n",
       "</div>\n",
       "</div>\n",
       "</html>"
      ],
      "text/plain": [
       "Hist(Variable([40, 70, 110, 140, 180], name='mass_observable', label='V reconstructed mass [GeV]'), storage=Weight()) # Sum: WeightedSum(value=17925.5, variance=2970.35) (WeightedSum(value=18360.2, variance=3036.77) with flow)"
      ]
     },
     "execution_count": 25,
     "metadata": {},
     "output_type": "execute_result"
    }
   ],
   "source": [
    "sample2 = obj[{\"Region\": \"TopCR\", \"Sample\": \"TTbar\", \"Systematic\": \"pass_nominal\"}]\n",
    "sample2"
   ]
  },
  {
   "cell_type": "code",
   "execution_count": 6,
   "id": "eec6258b-68f6-4ad4-b749-ded30501324e",
   "metadata": {},
   "outputs": [
    {
     "data": {
      "text/html": [
       "<html>\n",
       "<div style=\"display:flex; align-items:center;\">\n",
       "<div style=\"width:290px;\">\n",
       "<svg xmlns=\"http://www.w3.org/2000/svg\" viewBox=\"-10 -105 270 120\">\n",
       "<line x1=\"-5\" y1=\"0\" x2=\"255\" y2=\"0\" style=\"fill:none;stroke-width:2;stroke:currentColor\"/>\n",
       "<text text-anchor=\"middle\" x=\"0\" y=\"15\" style=\"fill:currentColor;\">\n",
       "40\n",
       "</text>\n",
       "<text text-anchor=\"middle\" x=\"250\" y=\"15\" style=\"fill:currentColor;\">\n",
       "180\n",
       "</text>\n",
       "<text text-anchor=\"middle\" x=\"125.0\" y=\"15\" style=\"fill:currentColor;\">\n",
       "V reconstructed mass [GeV]\n",
       "</text>\n",
       "<polyline points=\"  0,0   0,-4.59 53.5714,-4.59 53.5714,-100 125,-100 125,-18.3 178.571,-18.3 178.571,-1.92 250,-1.92 250,0\" style=\"fill:none; stroke:currentColor;\"/>\n",
       "</svg>\n",
       "</div>\n",
       "<div style=\"flex=grow:1;\">\n",
       "Variable([40, 70, 110, 140, 180], name='mass_observable', label='V reconstructed mass [GeV]')<br/>\n",
       "<hr style=\"margin-top:.2em; margin-bottom:.2em;\"/>\n",
       "Weight() Σ=WeightedSum(value=1.32533, variance=0.000649518) <em>(WeightedSum(value=1.32588, variance=0.000649755) with flow)</em>\n",
       "\n",
       "</div>\n",
       "</div>\n",
       "</html>"
      ],
      "text/plain": [
       "Hist(Variable([40, 70, 110, 140, 180], name='mass_observable', label='V reconstructed mass [GeV]'), storage=Weight()) # Sum: WeightedSum(value=1.32533, variance=0.000649518) (WeightedSum(value=1.32588, variance=0.000649755) with flow)"
      ]
     },
     "execution_count": 6,
     "metadata": {},
     "output_type": "execute_result"
    }
   ],
   "source": [
    "sample2 = obj[{\"Region\": \"SR1\", \"Sample\": \"ZH\", \"Systematic\": \"pass_nominal\"}]\n",
    "sample2"
   ]
  },
  {
   "cell_type": "code",
   "execution_count": 7,
   "id": "08abe576-66fe-4d23-bf5b-e70b8e2e815b",
   "metadata": {},
   "outputs": [
    {
     "data": {
      "text/html": [
       "<html>\n",
       "<div style=\"display:flex; align-items:center;\">\n",
       "<div style=\"width:290px;\">\n",
       "<svg xmlns=\"http://www.w3.org/2000/svg\" viewBox=\"-10 -105 270 120\">\n",
       "<line x1=\"-5\" y1=\"0\" x2=\"255\" y2=\"0\" style=\"fill:none;stroke-width:2;stroke:currentColor\"/>\n",
       "<text text-anchor=\"middle\" x=\"0\" y=\"15\" style=\"fill:currentColor;\">\n",
       "40\n",
       "</text>\n",
       "<text text-anchor=\"middle\" x=\"250\" y=\"15\" style=\"fill:currentColor;\">\n",
       "180\n",
       "</text>\n",
       "<text text-anchor=\"middle\" x=\"125.0\" y=\"15\" style=\"fill:currentColor;\">\n",
       "V reconstructed mass [GeV]\n",
       "</text>\n",
       "<polyline points=\"  0,0   0,-4.46 53.5714,-4.46 53.5714,-100 125,-100 125,-18.6 178.571,-18.6 178.571,-1.95 250,-1.95 250,0\" style=\"fill:none; stroke:currentColor;\"/>\n",
       "</svg>\n",
       "</div>\n",
       "<div style=\"flex=grow:1;\">\n",
       "Variable([40, 70, 110, 140, 180], name='mass_observable', label='V reconstructed mass [GeV]')<br/>\n",
       "<hr style=\"margin-top:.2em; margin-bottom:.2em;\"/>\n",
       "Weight() Σ=WeightedSum(value=1.33271, variance=0.000653577) <em>(WeightedSum(value=1.33326, variance=0.000653814) with flow)</em>\n",
       "\n",
       "</div>\n",
       "</div>\n",
       "</html>"
      ],
      "text/plain": [
       "Hist(Variable([40, 70, 110, 140, 180], name='mass_observable', label='V reconstructed mass [GeV]'), storage=Weight()) # Sum: WeightedSum(value=1.33271, variance=0.000653577) (WeightedSum(value=1.33326, variance=0.000653814) with flow)"
      ]
     },
     "execution_count": 7,
     "metadata": {},
     "output_type": "execute_result"
    }
   ],
   "source": [
    "#sample2 = obj[{\"Region\": \"SR1\", \"Sample\": \"ZH\", \"Systematic\": \"pass_JMS_2017_up\"}]\n",
    "sample2 = obj[{\"Region\": \"SR1\", \"Sample\": \"ZH\", \"Systematic\": \"pass_UES_up\"}]\n",
    "\n",
    "\n",
    "\n",
    "sample2"
   ]
  },
  {
   "cell_type": "code",
   "execution_count": 8,
   "id": "7eb47f87-27e3-4e90-be0b-5c061b741a4a",
   "metadata": {},
   "outputs": [
    {
     "data": {
      "text/html": [
       "<html>\n",
       "<div style=\"display:flex; align-items:center;\">\n",
       "<div style=\"width:290px;\">\n",
       "<svg xmlns=\"http://www.w3.org/2000/svg\" viewBox=\"-10 -105 270 120\">\n",
       "<line x1=\"-5\" y1=\"0\" x2=\"255\" y2=\"0\" style=\"fill:none;stroke-width:2;stroke:currentColor\"/>\n",
       "<text text-anchor=\"middle\" x=\"0\" y=\"15\" style=\"fill:currentColor;\">\n",
       "40\n",
       "</text>\n",
       "<text text-anchor=\"middle\" x=\"250\" y=\"15\" style=\"fill:currentColor;\">\n",
       "180\n",
       "</text>\n",
       "<text text-anchor=\"middle\" x=\"125.0\" y=\"15\" style=\"fill:currentColor;\">\n",
       "V reconstructed mass [GeV]\n",
       "</text>\n",
       "<polyline points=\"  0,0   0,-4.59 53.5714,-4.59 53.5714,-100 125,-100 125,-18.3 178.571,-18.3 178.571,-1.92 250,-1.92 250,0\" style=\"fill:none; stroke:currentColor;\"/>\n",
       "</svg>\n",
       "</div>\n",
       "<div style=\"flex=grow:1;\">\n",
       "Variable([40, 70, 110, 140, 180], name='mass_observable', label='V reconstructed mass [GeV]')<br/>\n",
       "<hr style=\"margin-top:.2em; margin-bottom:.2em;\"/>\n",
       "Weight() Σ=WeightedSum(value=1.32533, variance=0.000649518) <em>(WeightedSum(value=1.32588, variance=0.000649755) with flow)</em>\n",
       "\n",
       "</div>\n",
       "</div>\n",
       "</html>"
      ],
      "text/plain": [
       "Hist(Variable([40, 70, 110, 140, 180], name='mass_observable', label='V reconstructed mass [GeV]'), storage=Weight()) # Sum: WeightedSum(value=1.32533, variance=0.000649518) (WeightedSum(value=1.32588, variance=0.000649755) with flow)"
      ]
     },
     "execution_count": 8,
     "metadata": {},
     "output_type": "execute_result"
    }
   ],
   "source": [
    "\n",
    "\n",
    "sample2 = obj[{\"Region\": \"SR1\", \"Sample\": \"ZH\", \"Systematic\": \"pass_nominal\"}]\n",
    "sample2"
   ]
  },
  {
   "cell_type": "code",
   "execution_count": null,
   "id": "798d42af-49f8-45a2-8a5c-82833fcc4118",
   "metadata": {},
   "outputs": [],
   "source": []
  }
 ],
 "metadata": {
  "kernelspec": {
   "display_name": "Python 3 (ipykernel)",
   "language": "python",
   "name": "py3-preamble"
  },
  "language_info": {
   "codemirror_mode": {
    "name": "ipython",
    "version": 3
   },
   "file_extension": ".py",
   "mimetype": "text/x-python",
   "name": "python",
   "nbconvert_exporter": "python",
   "pygments_lexer": "ipython3",
   "version": "3.10.16"
  }
 },
 "nbformat": 4,
 "nbformat_minor": 5
}
