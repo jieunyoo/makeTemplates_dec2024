{
 "cells": [
  {
   "cell_type": "code",
   "execution_count": 1,
   "id": "baa2fe64-e565-4e5a-8849-23598a26b850",
   "metadata": {
    "scrolled": true
   },
   "outputs": [],
   "source": [
    "import uproot\n",
    "import pandas as pd\n",
    "import boost_histogram as bh\n",
    "outFile = uproot.recreate(\"2018_TopCR.root\")"
   ]
  },
  {
   "cell_type": "code",
   "execution_count": 2,
   "id": "c3085f64-23ef-4cae-a76d-8e9546f70008",
   "metadata": {},
   "outputs": [
    {
     "data": {
      "text/plain": [
       "Hist(\n",
       "  StrCategory(['DYJets', 'ggF', 'ZH', 'WH', 'SingleTop', 'TTbar', 'WJetsLNu', 'ttH', 'Diboson'], growth=True, name='Sample'),\n",
       "  StrCategory(['pass_nominal', 'pass_weight_PSFSR_DYJets_up', 'pass_weight_PSFSR_DYJets_down', 'pass_weight_PSISR_DYJets_up', 'pass_weight_PSISR_DYJets_down', 'pass_weight_pileup_id_up', 'pass_weight_pileup_id_down', 'pass_weight_d1K_NLO_up', 'pass_weight_d1K_NLO_down', 'pass_weight_d2K_NLO_up', 'pass_weight_d2K_NLO_down', 'pass_weight_d3K_NLO_up', 'pass_weight_d3K_NLO_down', 'pass_weight_d1kappa_EW_up', 'pass_weight_d1kappa_EW_down', 'pass_weight_W_d2kappa_EW_up', 'pass_weight_W_d2kappa_EW_down', 'pass_weight_W_d3kappa_EW_up', 'pass_weight_W_d3kappa_EW_down', 'pass_weight_Z_d2kappa_EW_up', 'pass_weight_Z_d2kappa_EW_down', 'pass_weight_Z_d3kappa_EW_up', 'pass_weight_Z_d3kappa_EW_down', 'pass_weight_ele_id_up', 'pass_weight_ele_id_down', 'pass_weight_ele_reco_up', 'pass_weight_ele_reco_down', 'pass_weight_mu_isolation_up', 'pass_weight_mu_isolation_down', 'pass_weight_mu_id_up', 'pass_weight_mu_id_down', 'pass_weight_mu_trigger_iso_up', 'pass_weight_mu_trigger_iso_down', 'pass_weight_mu_trigger_noniso_up', 'pass_weight_mu_trigger_noniso_down', 'pass_weight_pileup_up', 'pass_weight_pileup_down', 'pass_weight_btagSFlightCorrelated_up', 'pass_weight_btagSFlightCorrelated_down', 'pass_weight_btagSFbcCorrelated_up', 'pass_weight_btagSFbcCorrelated_down', 'pass_weight_btagSFlight_up', 'pass_weight_btagSFlight_down', 'pass_weight_btagSFbc_up', 'pass_weight_btagSFbc_down', 'pass_weight_Vtagger_up', 'pass_weight_Vtagger_down', 'pass_weight_pdf_acceptance_DYJets_up', 'pass_weight_pdf_acceptance_DYJets_down', 'pass_weight_qcd_scale_DYJets_up', 'pass_weight_qcd_scale_DYJets_down', 'pass_weight_trigger_up', 'pass_weight_trigger_down', 'pass_top_reweighting_up', 'pass_top_reweighting_down', 'pass_JMR_sig_2018_up', 'pass_JMR_sig_2018_down', 'pass_JMS_sig_2018_up', 'pass_JMS_sig_2018_down', 'pass_JMR_ttbar_2018_up', 'pass_JMR_ttbar_2018_down', 'pass_JMS_ttbar_2018_up', 'pass_JMS_ttbar_2018_down', 'pass_JMR_wjets_2018_up', 'pass_JMR_wjets_2018_down', 'pass_JMS_wjets_2018_up', 'pass_JMS_wjets_2018_down', 'pass_JES_FlavorQCD_up', 'pass_JES_FlavorQCD_down', 'pass_JES_RelativeBal_up', 'pass_JES_RelativeBal_down', 'pass_JES_HF_up', 'pass_JES_HF_down', 'pass_JES_BBEC1_up', 'pass_JES_BBEC1_down', 'pass_JES_EC2_up', 'pass_JES_EC2_down', 'pass_JES_Absolute_up', 'pass_JES_Absolute_down', 'pass_JES_BBEC1_year_up', 'pass_JES_BBEC1_year_down', 'pass_JES_RelativeSample_year_up', 'pass_JES_RelativeSample_year_down', 'pass_JES_EC2_year_up', 'pass_JES_EC2_year_down', 'pass_JES_HF_year_up', 'pass_JES_HF_year_down', 'pass_JES_Absolute_year_up', 'pass_JES_Absolute_year_down', 'pass_JER_year_up', 'pass_JER_year_down', 'pass_UES_up', 'pass_UES_down', 'pass_weight_PSFSR_ggF_up', 'pass_weight_PSFSR_ggF_down', 'pass_weight_PSISR_ggF_up', 'pass_weight_PSISR_ggF_down', 'pass_weight_pdf_acceptance_ggF_up', 'pass_weight_pdf_acceptance_ggF_down', 'pass_weight_qcd_scale_ggF_up', 'pass_weight_qcd_scale_ggF_down', 'pass_weight_PSFSR_ZH_up', 'pass_weight_PSFSR_ZH_down', 'pass_weight_PSISR_ZH_up', 'pass_weight_PSISR_ZH_down', 'pass_weight_pdf_acceptance_ZH_up', 'pass_weight_pdf_acceptance_ZH_down', 'pass_weight_qcd_scale_ZH_up', 'pass_weight_qcd_scale_ZH_down', 'pass_weight_PSFSR_WH_up', 'pass_weight_PSFSR_WH_down', 'pass_weight_PSISR_WH_up', 'pass_weight_PSISR_WH_down', 'pass_weight_pdf_acceptance_WH_up', 'pass_weight_pdf_acceptance_WH_down', 'pass_weight_qcd_scale_WH_up', 'pass_weight_qcd_scale_WH_down', 'pass_weight_PSFSR_SingleTop_up', 'pass_weight_PSFSR_SingleTop_down', 'pass_weight_PSISR_SingleTop_up', 'pass_weight_PSISR_SingleTop_down', 'pass_weight_pdf_acceptance_SingleTop_up', 'pass_weight_pdf_acceptance_SingleTop_down', 'pass_weight_qcd_scale_SingleTop_up', 'pass_weight_qcd_scale_SingleTop_down', 'pass_weight_PSFSR_TTbar_up', 'pass_weight_PSFSR_TTbar_down', 'pass_weight_PSISR_TTbar_up', 'pass_weight_PSISR_TTbar_down', 'pass_weight_pdf_acceptance_TTbar_up', 'pass_weight_pdf_acceptance_TTbar_down', 'pass_weight_qcd_scale_TTbar_up', 'pass_weight_qcd_scale_TTbar_down', 'pass_weight_PSFSR_WJetsLNu_up', 'pass_weight_PSFSR_WJetsLNu_down', 'pass_weight_PSISR_WJetsLNu_up', 'pass_weight_PSISR_WJetsLNu_down', 'pass_weight_pdf_acceptance_WJetsLNu_up', 'pass_weight_pdf_acceptance_WJetsLNu_down', 'pass_weight_qcd_scale_WJetsLNu_up', 'pass_weight_qcd_scale_WJetsLNu_down', 'pass_weight_PSFSR_ttH_up', 'pass_weight_PSFSR_ttH_down', 'pass_weight_PSISR_ttH_up', 'pass_weight_PSISR_ttH_down', 'pass_weight_pdf_acceptance_ttH_up', 'pass_weight_pdf_acceptance_ttH_down', 'pass_weight_qcd_scale_ttH_up', 'pass_weight_qcd_scale_ttH_down', 'pass_weight_PSFSR_Diboson_up', 'pass_weight_PSFSR_Diboson_down', 'pass_weight_PSISR_Diboson_up', 'pass_weight_PSISR_Diboson_down', 'pass_weight_pdf_acceptance_Diboson_up', 'pass_weight_pdf_acceptance_Diboson_down', 'pass_weight_qcd_scale_Diboson_up', 'pass_weight_qcd_scale_Diboson_down'], growth=True, name='Systematic'),\n",
       "  StrCategory(['TopCR'], growth=True, name='Region'),\n",
       "  Variable([40, 180], name='mass_observable', label='V reconstructed mass [GeV]'),\n",
       "  storage=Weight()) # Sum: WeightedSum(value=5381.04, variance=791.44) (WeightedSum(value=5454.82, variance=804.107) with flow)"
      ]
     },
     "execution_count": 2,
     "metadata": {},
     "output_type": "execute_result"
    }
   ],
   "source": [
    "obj = pd.read_pickle(r'/home/jieun201/boostedhiggs_may27/combine_nov26/2018/templates/hists_templates_2018_TopCR_pass.pkl')\n",
    "obj\n",
    "#NOTE : no VBF in this region it fails it, remove from dictionary"
   ]
  },
  {
   "cell_type": "code",
   "execution_count": null,
   "id": "f635096d-0391-4212-b6a9-c949ebb87d0f",
   "metadata": {},
   "outputs": [],
   "source": [
    "#sample15= obj[{\"Region\": \"TopCR\", \"Sample\": \"Diboson\"}]\n",
    "#hist1 = sample15[{\"Systematic\": \"pass_UES_up\"}]"
   ]
  },
  {
   "cell_type": "code",
   "execution_count": 3,
   "id": "2743db12-bdbb-4cdf-aa2e-2103174e8080",
   "metadata": {},
   "outputs": [],
   "source": [
    "def getPassList(sample):\n",
    "    systematicsList_pass = ['pass_nominal', \n",
    "                        #    'pass_JMR_2018_up', 'pass_JMR_2018_down',      'pass_JMS_2018_up', 'pass_JMS_2018_down',\n",
    "  'pass_JMR_sig_2018_up', 'pass_JMR_sig_2018_down',      'pass_JMS_sig_2018_up', 'pass_JMS_sig_2018_down',\n",
    "    'pass_JMR_wjets_2018_up', 'pass_JMR_wjets_2018_down',      'pass_JMS_wjets_2018_up', 'pass_JMS_wjets_2018_down',\n",
    "    # 'pass_JMR_ttbar_2018_up', 'pass_JMR_ttbar_2018_down',      'pass_JMS_ttbar_2018_up', 'pass_JMS_ttbar_2018_down',\n",
    "      'pass_JMR_ttbar_2018_up', 'pass_JMR_ttbar_2018_down',      'pass_JMS_ttbar_2018_up', 'pass_JMS_ttbar_2018_down',\n",
    "\n",
    "                            \n",
    "                  #       'pass_weight_L1Prefiring_up', 'pass_weight_L1Prefiring_down',   \n",
    " 'pass_weight_Vtagger_up', 'pass_weight_Vtagger_down',                            \n",
    " 'pass_weight_pileup_up' , 'pass_weight_pileup_down', 'pass_weight_pileup_id_up' , 'pass_weight_pileup_id_down',                           \n",
    "'pass_top_reweighting_up', 'pass_top_reweighting_down',\n",
    "    'pass_weight_trigger_up', 'pass_weight_trigger_down',\n",
    "'pass_weight_d1K_NLO_up', 'pass_weight_d1K_NLO_down', 'pass_weight_d2K_NLO_up', 'pass_weight_d2K_NLO_down', 'pass_weight_d3K_NLO_up', \n",
    "'pass_weight_d3K_NLO_down', 'pass_weight_d1kappa_EW_up', 'pass_weight_d1kappa_EW_down', 'pass_weight_W_d2kappa_EW_up', 'pass_weight_W_d2kappa_EW_down', \n",
    "'pass_weight_W_d3kappa_EW_up', 'pass_weight_W_d3kappa_EW_down', 'pass_weight_Z_d2kappa_EW_up', 'pass_weight_Z_d2kappa_EW_down', \n",
    "'pass_weight_Z_d3kappa_EW_up', 'pass_weight_Z_d3kappa_EW_down',\n",
    "      \n",
    "'pass_weight_btagSFlightCorrelated_up', 'pass_weight_btagSFlightCorrelated_down', 'pass_weight_btagSFbcCorrelated_up','pass_weight_btagSFbcCorrelated_down', \n",
    "'pass_weight_btagSFlight_up', 'pass_weight_btagSFlight_down', 'pass_weight_btagSFbc_up', 'pass_weight_btagSFbc_down',\n",
    "      \n",
    "'pass_weight_ele_id_up', 'pass_weight_ele_id_down', 'pass_weight_ele_reco_up', 'pass_weight_ele_reco_down', \n",
    "'pass_weight_mu_isolation_up', 'pass_weight_mu_isolation_down', 'pass_weight_mu_id_up', 'pass_weight_mu_id_down',\n",
    "'pass_weight_mu_trigger_iso_up', 'pass_weight_mu_trigger_iso_down', 'pass_weight_mu_trigger_noniso_up', 'pass_weight_mu_trigger_noniso_down', \n",
    "\n",
    "'pass_weight_PSFSR_WH_up', 'pass_weight_PSFSR_WH_down', 'pass_weight_PSISR_WH_up', 'pass_weight_PSISR_WH_down', \n",
    "'pass_weight_PSFSR_ZH_up', 'pass_weight_PSFSR_ZH_down', 'pass_weight_PSISR_ZH_up', 'pass_weight_PSISR_ZH_down',\n",
    "#'pass_weight_PSFSR_VBF_up', 'pass_weight_PSFSR_VBF_down', 'pass_weight_PSISR_VBF_up', 'pass_weight_PSISR_VBF_down',\n",
    "'pass_weight_PSFSR_WJetsLNu_up', 'pass_weight_PSFSR_WJetsLNu_down', 'pass_weight_PSISR_WJetsLNu_up', 'pass_weight_PSISR_WJetsLNu_down', \n",
    "'pass_weight_PSFSR_ttH_up', 'pass_weight_PSFSR_ttH_down','pass_weight_PSISR_ttH_up', 'pass_weight_PSISR_ttH_down',\n",
    "'pass_weight_PSFSR_ggF_up', 'pass_weight_PSFSR_ggF_down', 'pass_weight_PSISR_ggF_up', 'pass_weight_PSISR_ggF_down',\n",
    "'pass_weight_PSFSR_TTbar_up', 'pass_weight_PSFSR_TTbar_down', 'pass_weight_PSISR_TTbar_up', 'pass_weight_PSISR_TTbar_down',                           \n",
    "'pass_weight_PSFSR_SingleTop_up', 'pass_weight_PSFSR_SingleTop_down', 'pass_weight_PSISR_SingleTop_up', 'pass_weight_PSISR_SingleTop_down',\n",
    "                            \n",
    "'pass_weight_qcd_scale_TTbar_up', 'pass_weight_qcd_scale_TTbar_down','pass_weight_pdf_acceptance_TTbar_up', 'pass_weight_pdf_acceptance_TTbar_down',\n",
    "'pass_weight_qcd_scale_SingleTop_up', 'pass_weight_qcd_scale_SingleTop_down',\n",
    "'pass_weight_qcd_scale_WJetsLNu_up', 'pass_weight_qcd_scale_WJetsLNu_down','pass_weight_pdf_acceptance_WJetsLNu_up', 'pass_weight_pdf_acceptance_WJetsLNu_down',                            \n",
    "\n",
    "'pass_weight_qcd_scale_ZH_up', 'pass_weight_qcd_scale_ZH_down','pass_weight_pdf_acceptance_ZH_up', 'pass_weight_pdf_acceptance_ZH_down',\n",
    "'pass_weight_qcd_scale_WH_up', 'pass_weight_qcd_scale_WH_down','pass_weight_pdf_acceptance_WH_up', 'pass_weight_pdf_acceptance_WH_down',\n",
    "'pass_weight_qcd_scale_ggF_up', 'pass_weight_qcd_scale_ggF_down','pass_weight_pdf_acceptance_ggF_up', 'pass_weight_pdf_acceptance_ggF_down', \n",
    "#'pass_weight_qcd_scale_VBF_up', 'pass_weight_qcd_scale_VBF_down','pass_weight_pdf_acceptance_VBF_up', 'pass_weight_pdf_acceptance_VBF_down', \n",
    "'pass_weight_qcd_scale_ttH_up', 'pass_weight_qcd_scale_ttH_down','pass_weight_pdf_acceptance_ttH_up', 'pass_weight_pdf_acceptance_ttH_down', \n",
    "\n",
    "'pass_UES_up', 'pass_UES_down',\n",
    "'pass_JES_FlavorQCD_up', 'pass_JES_FlavorQCD_down', 'pass_JES_RelativeBal_up', 'pass_JES_RelativeBal_down', \n",
    "'pass_JES_HF_up', 'pass_JES_HF_down', 'pass_JES_BBEC1_up', 'pass_JES_BBEC1_down', 'pass_JES_EC2_up', 'pass_JES_EC2_down',\n",
    "'pass_JES_Absolute_up', 'pass_JES_Absolute_down', 'pass_JES_BBEC1_year_up', 'pass_JES_BBEC1_year_down', 'pass_JES_RelativeSample_year_up',\n",
    "'pass_JES_RelativeSample_year_down', 'pass_JES_EC2_year_up', 'pass_JES_EC2_year_down', 'pass_JES_HF_year_up', 'pass_JES_HF_year_down', \n",
    "'pass_JES_Absolute_year_up', 'pass_JES_Absolute_year_down', 'pass_JER_year_up', 'pass_JER_year_down',]\n",
    "\n",
    "    return systematicsList_pass\n",
    "    \n",
    "                       "
   ]
  },
  {
   "cell_type": "code",
   "execution_count": 4,
   "id": "3ba7ffd1-563b-46d4-b93a-134e1abafb02",
   "metadata": {},
   "outputs": [],
   "source": [
    "real_data = pd.read_pickle(r'/home/jieun201/boostedhiggs_may27/combine_nov26/2018/templates/hists_templates_2018_data_pass_TopCR.pkl')\n",
    "real_data\n",
    "\n",
    "readInData = real_data[{\"Region\": \"TopCR\", \"Sample\": \"Data\"}]\n",
    "hist_data = readInData[{\"Systematic\": 'pass_nominal'}]\n",
    "hData = uproot.to_writable(hist_data)\n",
    "outFile['data_pass_nominal']=hData\n"
   ]
  },
  {
   "cell_type": "code",
   "execution_count": 5,
   "id": "e2f15b55-f1cd-4ba5-adb0-db3d48dc515e",
   "metadata": {},
   "outputs": [],
   "source": [
    "sample3= obj[{\"Region\": \"TopCR\", \"Sample\": \"WJetsLNu\"}]\n",
    "sample = 'WJetsLNu'\n",
    "for i in getPassList(sample):\n",
    "    hist1 = sample3[{\"Systematic\": i}]\n",
    "    h1 = uproot.to_writable(hist1)\n",
    "    outFile[f'{sample}_{i}']=h1\n",
    "\n",
    "sample5= obj[{\"Region\": \"TopCR\", \"Sample\": \"ggF\"}]\n",
    "sample = 'ggF'\n",
    "for i in getPassList(sample):\n",
    "    hist1 = sample5[{\"Systematic\": i}]\n",
    "    h1 = uproot.to_writable(hist1)\n",
    "    outFile[f'{sample}_{i}']=h1\n",
    "\n",
    "#sample7= obj[{\"Region\": \"TopCR\", \"Sample\": \"VBF\"}]\n",
    "#sample = 'VBF'\n",
    "#for i in getPassList(sample):\n",
    "#    hist1 = sample7[{\"Systematic\": i}]\n",
    "#    h1 = uproot.to_writable(hist1)\n",
    "#    outFile[f'{sample}_{i}']=h1\n",
    "\n",
    "\n",
    "sample9= obj[{\"Region\": \"TopCR\", \"Sample\": \"ttH\"}]\n",
    "sample = 'ttH'\n",
    "for i in getPassList(sample):\n",
    "    hist1 = sample9[{\"Systematic\": i}]\n",
    "    h1 = uproot.to_writable(hist1)\n",
    "    outFile[f'{sample}_{i}']=h1\n",
    "\n",
    "sample11= obj[{\"Region\": \"TopCR\", \"Sample\": \"ZH\"}]\n",
    "sample = 'ZH'\n",
    "for i in getPassList(sample):\n",
    "    hist1 = sample11[{\"Systematic\": i}]\n",
    "    h1 = uproot.to_writable(hist1)\n",
    "    outFile[f'{sample}_{i}']=h1\n",
    "\n",
    "\n",
    "sample1 = obj[{\"Region\": \"TopCR\", \"Sample\": \"WH\"}]\n",
    "#WH\n",
    "sample = 'WH'\n",
    "for i in getPassList('WH'):\n",
    "    hist1 = sample1[{\"Systematic\": i}]\n",
    "    h1 = uproot.to_writable(hist1)\n",
    "    outFile[f'{sample}_{i}']=h1\n",
    "\n",
    "\n",
    "sample13= obj[{\"Region\": \"TopCR\", \"Sample\": \"DYJets\"}]\n",
    "sample = 'DYJets'\n",
    "for i in getPassList(sample):\n",
    "    hist1 = sample13[{\"Systematic\": i}]\n",
    "    h1 = uproot.to_writable(hist1)\n",
    "    outFile[f'{sample}_{i}']=h1\n",
    "\n",
    "sample15= obj[{\"Region\": \"TopCR\", \"Sample\": \"TTbar\"}]\n",
    "sample = 'TTbar'\n",
    "for i in getPassList(sample):\n",
    "    hist1 = sample15[{\"Systematic\": i}]\n",
    "    h1 = uproot.to_writable(hist1)\n",
    "    outFile[f'{sample}_{i}']=h1\n",
    "\n",
    "    \n",
    "sample17= obj[{\"Region\": \"TopCR\", \"Sample\": \"SingleTop\"}]\n",
    "sample = 'SingleTop'\n",
    "for i in getPassList(sample):\n",
    "    hist1 = sample17[{\"Systematic\": i}]\n",
    "    h1 = uproot.to_writable(hist1)\n",
    "    outFile[f'{sample}_{i}']=h1\n",
    "\n",
    "sample27= obj[{\"Region\": \"TopCR\", \"Sample\": \"Diboson\"}]\n",
    "sample = 'Diboson'\n",
    "for i in getPassList(sample):\n",
    "    hist1 = sample27[{\"Systematic\": i}]\n",
    "    h1 = uproot.to_writable(hist1)\n",
    "    outFile[f'{sample}_{i}']=h1\n",
    "\n",
    "\n",
    "\n",
    "#with new top no ewk\n",
    "#sample29= obj[{\"Region\": \"TopCR\", \"Sample\": \"EWKvjets\"}]\n",
    "#remove fail EWKvjets as there are no events\n",
    "#sample = 'EWKvjets'\n",
    "#for i in getPassList(sample):\n",
    " #   hist1 = sample29[{\"Systematic\": i}]\n",
    "  #  h1 = uproot.to_writable(hist1)\n",
    "   # outFile[f'{sample}_{i}']=h1"
   ]
  },
  {
   "cell_type": "code",
   "execution_count": null,
   "id": "db23d3ae-3fb3-4c45-a211-f3ee0c02a73d",
   "metadata": {},
   "outputs": [],
   "source": []
  },
  {
   "cell_type": "code",
   "execution_count": null,
   "id": "51484447-b17d-4fdd-9ec6-796f06330abb",
   "metadata": {},
   "outputs": [],
   "source": []
  },
  {
   "cell_type": "code",
   "execution_count": null,
   "id": "3268b3c5-69fa-4118-a177-15f9acf88cbe",
   "metadata": {},
   "outputs": [],
   "source": [
    "import uproot\n",
    "import pandas as pd\n",
    "import boost_histogram as bh"
   ]
  },
  {
   "cell_type": "code",
   "execution_count": null,
   "id": "2d5dda33-bf5b-4789-b551-1e768f98c432",
   "metadata": {},
   "outputs": [],
   "source": [
    "file1= uproot.open(\"/home/jieun201/boostedhiggs_may27/combine_nov26/2018/2018_TopCR.root\")\n",
    "file1.keys()\n",
    "\n",
    "#h = file1['myhist']"
   ]
  },
  {
   "cell_type": "code",
   "execution_count": null,
   "id": "538a59fe-5ae3-4bea-b598-6d6f84b0d588",
   "metadata": {},
   "outputs": [],
   "source": [
    "h = file1['SingleTop_pass_nominal']\n",
    "h.to_hist().plot(label='down')"
   ]
  },
  {
   "cell_type": "code",
   "execution_count": null,
   "id": "e75a292e-440d-4451-9d3c-95b123c1c449",
   "metadata": {},
   "outputs": [],
   "source": [
    "import matplotlib.pyplot as plt\n",
    "h = file1['TTbar_pass_JMR_ttbar_2018_up']\n",
    "h.to_hist().plot(label='up')\n",
    "\n",
    "\n",
    "h2 = file1['TTbar_pass_JMR_ttbar_2018_down']\n",
    "h2.to_hist().plot(label='down')\n",
    "#h = file1['WJetsLNu_pass_weight_btagSFlight_up']\n",
    "#h.to_hist().plot()\n",
    "\n",
    "h3 = file1['TTbar_pass_nominal']\n",
    "h3.to_hist().plot(label='nominal')\n",
    "plt.legend()\n"
   ]
  },
  {
   "cell_type": "code",
   "execution_count": null,
   "id": "4a40ade9-0563-459a-8bf5-4d782929a25b",
   "metadata": {},
   "outputs": [],
   "source": []
  }
 ],
 "metadata": {
  "kernelspec": {
   "display_name": "Python 3 (ipykernel)",
   "language": "python",
   "name": "py3-preamble"
  },
  "language_info": {
   "codemirror_mode": {
    "name": "ipython",
    "version": 3
   },
   "file_extension": ".py",
   "mimetype": "text/x-python",
   "name": "python",
   "nbconvert_exporter": "python",
   "pygments_lexer": "ipython3",
   "version": "3.10.16"
  }
 },
 "nbformat": 4,
 "nbformat_minor": 5
}
