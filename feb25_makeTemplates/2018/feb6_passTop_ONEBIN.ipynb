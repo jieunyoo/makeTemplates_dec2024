{
 "cells": [
  {
   "cell_type": "code",
   "execution_count": null,
   "id": "dd32ecc0-0453-4385-ad7f-a69fc97f93dc",
   "metadata": {},
   "outputs": [],
   "source": []
  },
  {
   "cell_type": "code",
   "execution_count": 1,
   "id": "ec6c4165-5d04-46d8-b6a3-beda838a2cff",
   "metadata": {},
   "outputs": [],
   "source": [
    "import argparse\n",
    "import glob\n",
    "import json\n",
    "import logging\n",
    "import os\n",
    "import pickle as pkl\n",
    "import warnings\n",
    "import hist as hist2\n",
    "import numpy as np\n",
    "import pandas as pd\n",
    "import pyarrow\n",
    "import yaml\n",
    "import math\n",
    "\n",
    "from utils import get_common_sample_name, get_finetuned_score, get_xsecweight\n",
    "\n",
    "from systematicsPass import get_systematic_dict, sigs\n",
    "\n",
    "logging.basicConfig(level=logging.INFO)\n",
    "warnings.filterwarnings(\"ignore\", message=\"Found duplicate branch \")\n",
    "pd.set_option(\"mode.chained_assignment\", None)\n",
    "\n",
    "\n",
    "from jieunR import fix_neg_yields, get_templates, mass_binning  #importing get_templates automatically it seems imports the other functions\n",
    "\n",
    "\n",
    "\n",
    "CATEGORY = 'pass'\n",
    "\n"
   ]
  },
  {
   "cell_type": "code",
   "execution_count": 2,
   "id": "2676f130-3778-4ea2-b179-e9cf1f6423f1",
   "metadata": {},
   "outputs": [
    {
     "name": "stderr",
     "output_type": "stream",
     "text": [
      "INFO:root:Processing year 2018 and mu channel\n",
      "INFO:root:Finding DYJetsToLL_LHEFilterPtZ-0To50 samples and should combine them under DYJets\n",
      "INFO:root:Applying fj_mass selection on 871 events\n",
      "INFO:root:Applying TopCR selection on 864 events\n",
      "INFO:root:Will fill the histograms with the remaining 0 events\n"
     ]
    },
    {
     "name": "stdout",
     "output_type": "stream",
     "text": [
      "syst pass_weight_PSFSR\n",
      "syst pass_weight_PSISR\n"
     ]
    },
    {
     "name": "stderr",
     "output_type": "stream",
     "text": [
      "INFO:root:Finding DYJetsToLL_LHEFilterPtZ-100To250 samples and should combine them under DYJets\n",
      "INFO:root:Applying fj_mass selection on 27737 events\n",
      "INFO:root:Applying TopCR selection on 27450 events\n",
      "INFO:root:Will fill the histograms with the remaining 0 events\n"
     ]
    },
    {
     "name": "stdout",
     "output_type": "stream",
     "text": [
      "syst pass_weight_PSFSR\n",
      "syst pass_weight_PSISR\n"
     ]
    },
    {
     "name": "stderr",
     "output_type": "stream",
     "text": [
      "INFO:root:Finding DYJetsToLL_LHEFilterPtZ-250To400 samples and should combine them under DYJets\n",
      "INFO:root:Applying fj_mass selection on 124445 events\n",
      "INFO:root:Applying TopCR selection on 122654 events\n",
      "INFO:root:Will fill the histograms with the remaining 2 events\n"
     ]
    },
    {
     "name": "stdout",
     "output_type": "stream",
     "text": [
      "syst pass_weight_PSFSR\n",
      "syst pass_weight_PSISR\n"
     ]
    },
    {
     "name": "stderr",
     "output_type": "stream",
     "text": [
      "INFO:root:Finding DYJetsToLL_LHEFilterPtZ-400To650 samples and should combine them under DYJets\n",
      "INFO:root:Applying fj_mass selection on 45232 events\n",
      "INFO:root:Applying TopCR selection on 42933 events\n",
      "INFO:root:Will fill the histograms with the remaining 1 events\n"
     ]
    },
    {
     "name": "stdout",
     "output_type": "stream",
     "text": [
      "syst pass_weight_PSFSR\n",
      "syst pass_weight_PSISR\n"
     ]
    },
    {
     "name": "stderr",
     "output_type": "stream",
     "text": [
      "INFO:root:Finding DYJetsToLL_LHEFilterPtZ-50To100 samples and should combine them under DYJets\n",
      "INFO:root:Applying fj_mass selection on 3563 events\n",
      "INFO:root:Applying TopCR selection on 3536 events\n",
      "INFO:root:Will fill the histograms with the remaining 0 events\n"
     ]
    },
    {
     "name": "stdout",
     "output_type": "stream",
     "text": [
      "syst pass_weight_PSFSR\n",
      "syst pass_weight_PSISR\n"
     ]
    },
    {
     "name": "stderr",
     "output_type": "stream",
     "text": [
      "INFO:root:Finding DYJetsToLL_LHEFilterPtZ-650ToInf samples and should combine them under DYJets\n",
      "INFO:root:Applying fj_mass selection on 72541 events\n",
      "INFO:root:Applying TopCR selection on 60702 events\n",
      "INFO:root:Will fill the histograms with the remaining 3 events\n"
     ]
    },
    {
     "name": "stdout",
     "output_type": "stream",
     "text": [
      "syst pass_weight_PSFSR\n",
      "syst pass_weight_PSISR\n"
     ]
    },
    {
     "name": "stderr",
     "output_type": "stream",
     "text": [
      "INFO:root:Finding EWKWminus_WToQQ samples and should combine them under EWKvjets\n",
      "INFO:root:Applying fj_mass selection on 131 events\n",
      "INFO:root:Applying TopCR selection on 128 events\n",
      "INFO:root:Will fill the histograms with the remaining 0 events\n"
     ]
    },
    {
     "name": "stdout",
     "output_type": "stream",
     "text": [
      "syst pass_weight_PSFSR\n",
      "syst pass_weight_PSISR\n"
     ]
    },
    {
     "name": "stderr",
     "output_type": "stream",
     "text": [
      "INFO:root:Finding EWKWplus_WToQQ samples and should combine them under EWKvjets\n",
      "INFO:root:Applying fj_mass selection on 253 events\n",
      "INFO:root:Applying TopCR selection on 249 events\n",
      "INFO:root:Will fill the histograms with the remaining 0 events\n"
     ]
    },
    {
     "name": "stdout",
     "output_type": "stream",
     "text": [
      "syst pass_weight_PSFSR\n",
      "syst pass_weight_PSISR\n"
     ]
    },
    {
     "name": "stderr",
     "output_type": "stream",
     "text": [
      "INFO:root:Finding EWKZ_ZToQQ samples and should combine them under EWKvjets\n",
      "INFO:root:Applying fj_mass selection on 3 events\n",
      "INFO:root:Applying TopCR selection on 3 events\n",
      "INFO:root:Will fill the histograms with the remaining 0 events\n"
     ]
    },
    {
     "name": "stdout",
     "output_type": "stream",
     "text": [
      "syst pass_weight_PSFSR\n",
      "syst pass_weight_PSISR\n"
     ]
    },
    {
     "name": "stderr",
     "output_type": "stream",
     "text": [
      "INFO:root:Finding GluGluHToWW_Pt-200ToInf_M-125 samples and should combine them under ggF\n",
      "INFO:root:Applying fj_mass selection on 5444 events\n",
      "INFO:root:Applying TopCR selection on 5347 events\n",
      "INFO:root:Will fill the histograms with the remaining 2 events\n"
     ]
    },
    {
     "name": "stdout",
     "output_type": "stream",
     "text": [
      "syst pass_weight_PSFSR\n",
      "syst pass_weight_PSISR\n"
     ]
    },
    {
     "name": "stderr",
     "output_type": "stream",
     "text": [
      "INFO:root:Finding GluGluZH_HToWW_M-125_TuneCP5_13TeV-powheg-pythia8 samples and should combine them under ZH\n",
      "INFO:root:Applying fj_mass selection on 29039 events\n",
      "INFO:root:Applying TopCR selection on 28786 events\n",
      "INFO:root:Will fill the histograms with the remaining 69 events\n"
     ]
    },
    {
     "name": "stdout",
     "output_type": "stream",
     "text": [
      "syst pass_weight_PSFSR\n",
      "syst pass_weight_PSISR\n"
     ]
    },
    {
     "name": "stderr",
     "output_type": "stream",
     "text": [
      "INFO:root:Finding HWminusJ_HToWW_M-125 samples and should combine them under WH\n",
      "INFO:root:Applying fj_mass selection on 13641 events\n",
      "INFO:root:Applying TopCR selection on 13528 events\n",
      "INFO:root:Will fill the histograms with the remaining 24 events\n"
     ]
    },
    {
     "name": "stdout",
     "output_type": "stream",
     "text": [
      "syst pass_weight_PSFSR\n",
      "syst pass_weight_PSISR\n"
     ]
    },
    {
     "name": "stderr",
     "output_type": "stream",
     "text": [
      "INFO:root:Finding HWplusJ_HToWW_M-125 samples and should combine them under WH\n",
      "INFO:root:Applying fj_mass selection on 15164 events\n",
      "INFO:root:Applying TopCR selection on 15058 events\n",
      "INFO:root:Will fill the histograms with the remaining 22 events\n"
     ]
    },
    {
     "name": "stdout",
     "output_type": "stream",
     "text": [
      "syst pass_weight_PSFSR\n",
      "syst pass_weight_PSISR\n"
     ]
    },
    {
     "name": "stderr",
     "output_type": "stream",
     "text": [
      "INFO:root:Finding HZJ_HToWW_M-125 samples and should combine them under ZH\n",
      "INFO:root:Applying fj_mass selection on 21341 events\n",
      "INFO:root:Applying TopCR selection on 21173 events\n",
      "INFO:root:Will fill the histograms with the remaining 52 events\n"
     ]
    },
    {
     "name": "stdout",
     "output_type": "stream",
     "text": [
      "syst pass_weight_PSFSR\n",
      "syst pass_weight_PSISR\n"
     ]
    },
    {
     "name": "stderr",
     "output_type": "stream",
     "text": [
      "INFO:root:Finding ST_s-channel_4f_hadronicDecays samples and should combine them under SingleTop\n",
      "INFO:root:Applying fj_mass selection on 326 events\n",
      "INFO:root:Applying TopCR selection on 304 events\n",
      "INFO:root:Will fill the histograms with the remaining 0 events\n"
     ]
    },
    {
     "name": "stdout",
     "output_type": "stream",
     "text": [
      "syst pass_weight_PSFSR\n",
      "syst pass_weight_PSISR\n"
     ]
    },
    {
     "name": "stderr",
     "output_type": "stream",
     "text": [
      "INFO:root:Finding ST_s-channel_4f_leptonDecays samples and should combine them under SingleTop\n",
      "INFO:root:Applying fj_mass selection on 12215 events\n",
      "INFO:root:Applying TopCR selection on 11610 events\n",
      "INFO:root:Will fill the histograms with the remaining 0 events\n"
     ]
    },
    {
     "name": "stdout",
     "output_type": "stream",
     "text": [
      "syst pass_weight_PSFSR\n",
      "syst pass_weight_PSISR\n"
     ]
    },
    {
     "name": "stderr",
     "output_type": "stream",
     "text": [
      "INFO:root:Finding ST_t-channel_antitop_4f_InclusiveDecays samples and should combine them under SingleTop\n",
      "INFO:root:Applying fj_mass selection on 10347 events\n",
      "INFO:root:Applying TopCR selection on 10095 events\n",
      "INFO:root:Will fill the histograms with the remaining 0 events\n"
     ]
    },
    {
     "name": "stdout",
     "output_type": "stream",
     "text": [
      "syst pass_weight_PSFSR\n",
      "syst pass_weight_PSISR\n"
     ]
    },
    {
     "name": "stderr",
     "output_type": "stream",
     "text": [
      "INFO:root:Finding ST_t-channel_top_4f_InclusiveDecays samples and should combine them under SingleTop\n",
      "INFO:root:Applying fj_mass selection on 24418 events\n",
      "INFO:root:Applying TopCR selection on 23703 events\n",
      "INFO:root:Will fill the histograms with the remaining 2 events\n"
     ]
    },
    {
     "name": "stdout",
     "output_type": "stream",
     "text": [
      "syst pass_weight_PSFSR\n",
      "syst pass_weight_PSISR\n"
     ]
    },
    {
     "name": "stderr",
     "output_type": "stream",
     "text": [
      "INFO:root:Finding ST_tW_antitop_5f_inclusiveDecays samples and should combine them under SingleTop\n",
      "INFO:root:Applying fj_mass selection on 7871 events\n",
      "INFO:root:Applying TopCR selection on 7664 events\n",
      "INFO:root:Will fill the histograms with the remaining 5 events\n"
     ]
    },
    {
     "name": "stdout",
     "output_type": "stream",
     "text": [
      "syst pass_weight_PSFSR\n",
      "syst pass_weight_PSISR\n"
     ]
    },
    {
     "name": "stderr",
     "output_type": "stream",
     "text": [
      "INFO:root:Finding ST_tW_top_5f_inclusiveDecays samples and should combine them under SingleTop\n",
      "INFO:root:Applying fj_mass selection on 8208 events\n",
      "INFO:root:Applying TopCR selection on 7997 events\n",
      "INFO:root:Will fill the histograms with the remaining 8 events\n"
     ]
    },
    {
     "name": "stdout",
     "output_type": "stream",
     "text": [
      "syst pass_weight_PSFSR\n",
      "syst pass_weight_PSISR\n"
     ]
    },
    {
     "name": "stderr",
     "output_type": "stream",
     "text": [
      "INFO:root:Finding TTTo2L2Nu samples and should combine them under TTbar\n",
      "INFO:root:Applying fj_mass selection on 201404 events\n",
      "INFO:root:Applying TopCR selection on 196333 events\n",
      "INFO:root:Will fill the histograms with the remaining 64 events\n"
     ]
    },
    {
     "name": "stdout",
     "output_type": "stream",
     "text": [
      "syst pass_weight_PSFSR\n",
      "syst pass_weight_PSISR\n"
     ]
    },
    {
     "name": "stderr",
     "output_type": "stream",
     "text": [
      "INFO:root:Finding TTToHadronic samples and should combine them under TTbar\n",
      "INFO:root:Applying fj_mass selection on 5865 events\n",
      "INFO:root:Applying TopCR selection on 5508 events\n",
      "INFO:root:Will fill the histograms with the remaining 3 events\n"
     ]
    },
    {
     "name": "stdout",
     "output_type": "stream",
     "text": [
      "syst pass_weight_PSFSR\n",
      "syst pass_weight_PSISR\n"
     ]
    },
    {
     "name": "stderr",
     "output_type": "stream",
     "text": [
      "INFO:root:Finding TTToSemiLeptonic samples and should combine them under TTbar\n",
      "INFO:root:Applying fj_mass selection on 592199 events\n",
      "INFO:root:Applying TopCR selection on 558872 events\n",
      "INFO:root:Will fill the histograms with the remaining 232 events\n"
     ]
    },
    {
     "name": "stdout",
     "output_type": "stream",
     "text": [
      "syst pass_weight_PSFSR\n",
      "syst pass_weight_PSISR\n"
     ]
    },
    {
     "name": "stderr",
     "output_type": "stream",
     "text": [
      "INFO:root:Finding VBFHToWWToAny_M-125_TuneCP5_withDipoleRecoil samples and should combine them under VBF\n",
      "INFO:root:Applying fj_mass selection on 790 events\n",
      "INFO:root:Applying TopCR selection on 775 events\n",
      "INFO:root:Will fill the histograms with the remaining 0 events\n"
     ]
    },
    {
     "name": "stdout",
     "output_type": "stream",
     "text": [
      "syst pass_weight_PSFSR\n",
      "syst pass_weight_PSISR\n"
     ]
    },
    {
     "name": "stderr",
     "output_type": "stream",
     "text": [
      "INFO:root:Finding WJetsToLNu_HT-100To200 samples and should combine them under WJetsLNu\n",
      "INFO:root:Finding WJetsToLNu_HT-1200To2500 samples and should combine them under WJetsLNu\n",
      "INFO:root:Applying fj_mass selection on 199106 events\n",
      "INFO:root:Applying TopCR selection on 155712 events\n",
      "INFO:root:Will fill the histograms with the remaining 15 events\n"
     ]
    },
    {
     "name": "stdout",
     "output_type": "stream",
     "text": [
      "syst pass_weight_PSFSR\n",
      "syst pass_weight_PSISR\n"
     ]
    },
    {
     "name": "stderr",
     "output_type": "stream",
     "text": [
      "INFO:root:Finding WJetsToLNu_HT-200To400 samples and should combine them under WJetsLNu\n",
      "INFO:root:Applying fj_mass selection on 15692 events\n",
      "INFO:root:Applying TopCR selection on 15688 events\n",
      "INFO:root:Will fill the histograms with the remaining 0 events\n"
     ]
    },
    {
     "name": "stdout",
     "output_type": "stream",
     "text": [
      "syst pass_weight_PSFSR\n",
      "syst pass_weight_PSISR\n"
     ]
    },
    {
     "name": "stderr",
     "output_type": "stream",
     "text": [
      "INFO:root:Finding WJetsToLNu_HT-2500ToInf samples and should combine them under WJetsLNu\n",
      "INFO:root:Applying fj_mass selection on 67557 events\n",
      "INFO:root:Applying TopCR selection on 42282 events\n",
      "INFO:root:Will fill the histograms with the remaining 4 events\n"
     ]
    },
    {
     "name": "stdout",
     "output_type": "stream",
     "text": [
      "syst pass_weight_PSFSR\n",
      "syst pass_weight_PSISR\n"
     ]
    },
    {
     "name": "stderr",
     "output_type": "stream",
     "text": [
      "INFO:root:Finding WJetsToLNu_HT-400To600 samples and should combine them under WJetsLNu\n",
      "INFO:root:Applying fj_mass selection on 42484 events\n",
      "INFO:root:Applying TopCR selection on 42320 events\n",
      "INFO:root:Will fill the histograms with the remaining 1 events\n"
     ]
    },
    {
     "name": "stdout",
     "output_type": "stream",
     "text": [
      "syst pass_weight_PSFSR\n",
      "syst pass_weight_PSISR\n"
     ]
    },
    {
     "name": "stderr",
     "output_type": "stream",
     "text": [
      "INFO:root:Finding WJetsToLNu_HT-600To800 samples and should combine them under WJetsLNu\n",
      "INFO:root:Applying fj_mass selection on 98597 events\n",
      "INFO:root:Applying TopCR selection on 96397 events\n",
      "INFO:root:Will fill the histograms with the remaining 6 events\n"
     ]
    },
    {
     "name": "stdout",
     "output_type": "stream",
     "text": [
      "syst pass_weight_PSFSR\n",
      "syst pass_weight_PSISR\n"
     ]
    },
    {
     "name": "stderr",
     "output_type": "stream",
     "text": [
      "INFO:root:Finding WJetsToLNu_HT-800To1200 samples and should combine them under WJetsLNu\n",
      "INFO:root:Applying fj_mass selection on 155149 events\n",
      "INFO:root:Applying TopCR selection on 142044 events\n",
      "INFO:root:Will fill the histograms with the remaining 8 events\n"
     ]
    },
    {
     "name": "stdout",
     "output_type": "stream",
     "text": [
      "syst pass_weight_PSFSR\n",
      "syst pass_weight_PSISR\n"
     ]
    },
    {
     "name": "stderr",
     "output_type": "stream",
     "text": [
      "INFO:root:Finding WW samples and should combine them under Diboson\n",
      "INFO:root:Applying fj_mass selection on 562 events\n",
      "INFO:root:Applying TopCR selection on 555 events\n",
      "INFO:root:Will fill the histograms with the remaining 0 events\n"
     ]
    },
    {
     "name": "stdout",
     "output_type": "stream",
     "text": [
      "syst pass_weight_PSFSR\n",
      "syst pass_weight_PSISR\n"
     ]
    },
    {
     "name": "stderr",
     "output_type": "stream",
     "text": [
      "INFO:root:Finding WZ samples and should combine them under Diboson\n",
      "INFO:root:Applying fj_mass selection on 464 events\n",
      "INFO:root:Applying TopCR selection on 456 events\n",
      "INFO:root:Will fill the histograms with the remaining 0 events\n"
     ]
    },
    {
     "name": "stdout",
     "output_type": "stream",
     "text": [
      "syst pass_weight_PSFSR\n",
      "syst pass_weight_PSISR\n"
     ]
    },
    {
     "name": "stderr",
     "output_type": "stream",
     "text": [
      "INFO:root:Finding ZZ samples and should combine them under Diboson\n",
      "INFO:root:Applying fj_mass selection on 189 events\n",
      "INFO:root:Applying TopCR selection on 189 events\n",
      "INFO:root:Will fill the histograms with the remaining 0 events\n"
     ]
    },
    {
     "name": "stdout",
     "output_type": "stream",
     "text": [
      "syst pass_weight_PSFSR\n",
      "syst pass_weight_PSISR\n"
     ]
    },
    {
     "name": "stderr",
     "output_type": "stream",
     "text": [
      "INFO:root:Finding ttHToNonbb_M125 samples and should combine them under ttH\n",
      "INFO:root:Applying fj_mass selection on 23393 events\n",
      "INFO:root:Applying TopCR selection on 21428 events\n",
      "INFO:root:Will fill the histograms with the remaining 248 events\n"
     ]
    },
    {
     "name": "stdout",
     "output_type": "stream",
     "text": [
      "syst pass_weight_PSFSR\n",
      "syst pass_weight_PSISR\n"
     ]
    },
    {
     "name": "stderr",
     "output_type": "stream",
     "text": [
      "INFO:root:Processing year 2018 and ele channel\n",
      "INFO:root:Finding DYJetsToLL_LHEFilterPtZ-0To50 samples and should combine them under DYJets\n",
      "INFO:root:Applying fj_mass selection on 824 events\n",
      "INFO:root:Applying TopCR selection on 821 events\n",
      "INFO:root:Will fill the histograms with the remaining 0 events\n"
     ]
    },
    {
     "name": "stdout",
     "output_type": "stream",
     "text": [
      "syst pass_weight_PSFSR\n",
      "syst pass_weight_PSISR\n"
     ]
    },
    {
     "name": "stderr",
     "output_type": "stream",
     "text": [
      "INFO:root:Finding DYJetsToLL_LHEFilterPtZ-100To250 samples and should combine them under DYJets\n",
      "INFO:root:Applying fj_mass selection on 34263 events\n",
      "INFO:root:Applying TopCR selection on 33902 events\n",
      "INFO:root:Will fill the histograms with the remaining 0 events\n"
     ]
    },
    {
     "name": "stdout",
     "output_type": "stream",
     "text": [
      "syst pass_weight_PSFSR\n",
      "syst pass_weight_PSISR\n"
     ]
    },
    {
     "name": "stderr",
     "output_type": "stream",
     "text": [
      "INFO:root:Finding DYJetsToLL_LHEFilterPtZ-250To400 samples and should combine them under DYJets\n",
      "INFO:root:Applying fj_mass selection on 307122 events\n",
      "INFO:root:Applying TopCR selection on 304176 events\n",
      "INFO:root:Will fill the histograms with the remaining 3 events\n"
     ]
    },
    {
     "name": "stdout",
     "output_type": "stream",
     "text": [
      "syst pass_weight_PSFSR\n",
      "syst pass_weight_PSISR\n"
     ]
    },
    {
     "name": "stderr",
     "output_type": "stream",
     "text": [
      "INFO:root:Finding DYJetsToLL_LHEFilterPtZ-400To650 samples and should combine them under DYJets\n",
      "INFO:root:Applying fj_mass selection on 98496 events\n",
      "INFO:root:Applying TopCR selection on 94094 events\n",
      "INFO:root:Will fill the histograms with the remaining 0 events\n"
     ]
    },
    {
     "name": "stdout",
     "output_type": "stream",
     "text": [
      "syst pass_weight_PSFSR\n",
      "syst pass_weight_PSISR\n"
     ]
    },
    {
     "name": "stderr",
     "output_type": "stream",
     "text": [
      "INFO:root:Finding DYJetsToLL_LHEFilterPtZ-50To100 samples and should combine them under DYJets\n",
      "INFO:root:Applying fj_mass selection on 2862 events\n",
      "INFO:root:Applying TopCR selection on 2836 events\n",
      "INFO:root:Will fill the histograms with the remaining 0 events\n"
     ]
    },
    {
     "name": "stdout",
     "output_type": "stream",
     "text": [
      "syst pass_weight_PSFSR\n",
      "syst pass_weight_PSISR\n"
     ]
    },
    {
     "name": "stderr",
     "output_type": "stream",
     "text": [
      "INFO:root:Finding DYJetsToLL_LHEFilterPtZ-650ToInf samples and should combine them under DYJets\n",
      "INFO:root:Applying fj_mass selection on 122461 events\n",
      "INFO:root:Applying TopCR selection on 103114 events\n",
      "INFO:root:Will fill the histograms with the remaining 1 events\n"
     ]
    },
    {
     "name": "stdout",
     "output_type": "stream",
     "text": [
      "syst pass_weight_PSFSR\n",
      "syst pass_weight_PSISR\n"
     ]
    },
    {
     "name": "stderr",
     "output_type": "stream",
     "text": [
      "INFO:root:Finding EWKWminus_WToQQ samples and should combine them under EWKvjets\n",
      "INFO:root:Applying fj_mass selection on 60 events\n",
      "INFO:root:Applying TopCR selection on 60 events\n",
      "INFO:root:Will fill the histograms with the remaining 0 events\n"
     ]
    },
    {
     "name": "stdout",
     "output_type": "stream",
     "text": [
      "syst pass_weight_PSFSR\n",
      "syst pass_weight_PSISR\n"
     ]
    },
    {
     "name": "stderr",
     "output_type": "stream",
     "text": [
      "INFO:root:Finding EWKWplus_WToQQ samples and should combine them under EWKvjets\n",
      "INFO:root:Applying fj_mass selection on 112 events\n",
      "INFO:root:Applying TopCR selection on 107 events\n",
      "INFO:root:Will fill the histograms with the remaining 0 events\n"
     ]
    },
    {
     "name": "stdout",
     "output_type": "stream",
     "text": [
      "syst pass_weight_PSFSR\n",
      "syst pass_weight_PSISR\n"
     ]
    },
    {
     "name": "stderr",
     "output_type": "stream",
     "text": [
      "INFO:root:Finding EWKZ_ZToQQ samples and should combine them under EWKvjets\n",
      "INFO:root:Applying fj_mass selection on 1 events\n",
      "INFO:root:Applying TopCR selection on 1 events\n",
      "INFO:root:Will fill the histograms with the remaining 0 events\n"
     ]
    },
    {
     "name": "stdout",
     "output_type": "stream",
     "text": [
      "syst pass_weight_PSFSR\n",
      "syst pass_weight_PSISR\n"
     ]
    },
    {
     "name": "stderr",
     "output_type": "stream",
     "text": [
      "INFO:root:Finding GluGluHToWW_Pt-200ToInf_M-125 samples and should combine them under ggF\n",
      "INFO:root:Applying fj_mass selection on 3067 events\n",
      "INFO:root:Applying TopCR selection on 3014 events\n",
      "INFO:root:Will fill the histograms with the remaining 1 events\n"
     ]
    },
    {
     "name": "stdout",
     "output_type": "stream",
     "text": [
      "syst pass_weight_PSFSR\n",
      "syst pass_weight_PSISR\n"
     ]
    },
    {
     "name": "stderr",
     "output_type": "stream",
     "text": [
      "INFO:root:Finding GluGluZH_HToWW_M-125_TuneCP5_13TeV-powheg-pythia8 samples and should combine them under ZH\n",
      "INFO:root:Applying fj_mass selection on 18554 events\n",
      "INFO:root:Applying TopCR selection on 18402 events\n",
      "INFO:root:Will fill the histograms with the remaining 41 events\n"
     ]
    },
    {
     "name": "stdout",
     "output_type": "stream",
     "text": [
      "syst pass_weight_PSFSR\n",
      "syst pass_weight_PSISR\n"
     ]
    },
    {
     "name": "stderr",
     "output_type": "stream",
     "text": [
      "INFO:root:Finding HWminusJ_HToWW_M-125 samples and should combine them under WH\n",
      "INFO:root:Applying fj_mass selection on 7868 events\n",
      "INFO:root:Applying TopCR selection on 7816 events\n",
      "INFO:root:Will fill the histograms with the remaining 14 events\n"
     ]
    },
    {
     "name": "stdout",
     "output_type": "stream",
     "text": [
      "syst pass_weight_PSFSR\n",
      "syst pass_weight_PSISR\n"
     ]
    },
    {
     "name": "stderr",
     "output_type": "stream",
     "text": [
      "INFO:root:Finding HWplusJ_HToWW_M-125 samples and should combine them under WH\n",
      "INFO:root:Applying fj_mass selection on 8633 events\n",
      "INFO:root:Applying TopCR selection on 8576 events\n",
      "INFO:root:Will fill the histograms with the remaining 8 events\n"
     ]
    },
    {
     "name": "stdout",
     "output_type": "stream",
     "text": [
      "syst pass_weight_PSFSR\n",
      "syst pass_weight_PSISR\n"
     ]
    },
    {
     "name": "stderr",
     "output_type": "stream",
     "text": [
      "INFO:root:Finding HZJ_HToWW_M-125 samples and should combine them under ZH\n",
      "INFO:root:Applying fj_mass selection on 13458 events\n",
      "INFO:root:Applying TopCR selection on 13358 events\n",
      "INFO:root:Will fill the histograms with the remaining 21 events\n"
     ]
    },
    {
     "name": "stdout",
     "output_type": "stream",
     "text": [
      "syst pass_weight_PSFSR\n",
      "syst pass_weight_PSISR\n"
     ]
    },
    {
     "name": "stderr",
     "output_type": "stream",
     "text": [
      "INFO:root:Finding ST_s-channel_4f_hadronicDecays samples and should combine them under SingleTop\n",
      "INFO:root:Applying fj_mass selection on 46 events\n",
      "INFO:root:Applying TopCR selection on 43 events\n",
      "INFO:root:Will fill the histograms with the remaining 0 events\n"
     ]
    },
    {
     "name": "stdout",
     "output_type": "stream",
     "text": [
      "syst pass_weight_PSFSR\n",
      "syst pass_weight_PSISR\n"
     ]
    },
    {
     "name": "stderr",
     "output_type": "stream",
     "text": [
      "INFO:root:Finding ST_s-channel_4f_leptonDecays samples and should combine them under SingleTop\n",
      "INFO:root:Applying fj_mass selection on 7609 events\n",
      "INFO:root:Applying TopCR selection on 7291 events\n",
      "INFO:root:Will fill the histograms with the remaining 0 events\n"
     ]
    },
    {
     "name": "stdout",
     "output_type": "stream",
     "text": [
      "syst pass_weight_PSFSR\n",
      "syst pass_weight_PSISR\n"
     ]
    },
    {
     "name": "stderr",
     "output_type": "stream",
     "text": [
      "INFO:root:Finding ST_t-channel_antitop_4f_InclusiveDecays samples and should combine them under SingleTop\n",
      "INFO:root:Applying fj_mass selection on 5590 events\n",
      "INFO:root:Applying TopCR selection on 5462 events\n",
      "INFO:root:Will fill the histograms with the remaining 0 events\n"
     ]
    },
    {
     "name": "stdout",
     "output_type": "stream",
     "text": [
      "syst pass_weight_PSFSR\n",
      "syst pass_weight_PSISR\n"
     ]
    },
    {
     "name": "stderr",
     "output_type": "stream",
     "text": [
      "INFO:root:Finding ST_t-channel_top_4f_InclusiveDecays samples and should combine them under SingleTop\n",
      "INFO:root:Applying fj_mass selection on 13440 events\n",
      "INFO:root:Applying TopCR selection on 13023 events\n",
      "INFO:root:Will fill the histograms with the remaining 0 events\n"
     ]
    },
    {
     "name": "stdout",
     "output_type": "stream",
     "text": [
      "syst pass_weight_PSFSR\n",
      "syst pass_weight_PSISR\n"
     ]
    },
    {
     "name": "stderr",
     "output_type": "stream",
     "text": [
      "INFO:root:Finding ST_tW_antitop_5f_inclusiveDecays samples and should combine them under SingleTop\n",
      "INFO:root:Applying fj_mass selection on 5401 events\n",
      "INFO:root:Applying TopCR selection on 5264 events\n",
      "INFO:root:Will fill the histograms with the remaining 3 events\n"
     ]
    },
    {
     "name": "stdout",
     "output_type": "stream",
     "text": [
      "syst pass_weight_PSFSR\n",
      "syst pass_weight_PSISR\n"
     ]
    },
    {
     "name": "stderr",
     "output_type": "stream",
     "text": [
      "INFO:root:Finding ST_tW_top_5f_inclusiveDecays samples and should combine them under SingleTop\n",
      "INFO:root:Applying fj_mass selection on 5491 events\n",
      "INFO:root:Applying TopCR selection on 5343 events\n",
      "INFO:root:Will fill the histograms with the remaining 6 events\n"
     ]
    },
    {
     "name": "stdout",
     "output_type": "stream",
     "text": [
      "syst pass_weight_PSFSR\n",
      "syst pass_weight_PSISR\n"
     ]
    },
    {
     "name": "stderr",
     "output_type": "stream",
     "text": [
      "INFO:root:Finding TTTo2L2Nu samples and should combine them under TTbar\n",
      "INFO:root:Applying fj_mass selection on 127417 events\n",
      "INFO:root:Applying TopCR selection on 124335 events\n",
      "INFO:root:Will fill the histograms with the remaining 24 events\n"
     ]
    },
    {
     "name": "stdout",
     "output_type": "stream",
     "text": [
      "syst pass_weight_PSFSR\n",
      "syst pass_weight_PSISR\n"
     ]
    },
    {
     "name": "stderr",
     "output_type": "stream",
     "text": [
      "INFO:root:Finding TTToHadronic samples and should combine them under TTbar\n",
      "INFO:root:Applying fj_mass selection on 1042 events\n",
      "INFO:root:Applying TopCR selection on 998 events\n",
      "INFO:root:Will fill the histograms with the remaining 0 events\n"
     ]
    },
    {
     "name": "stdout",
     "output_type": "stream",
     "text": [
      "syst pass_weight_PSFSR\n",
      "syst pass_weight_PSISR\n"
     ]
    },
    {
     "name": "stderr",
     "output_type": "stream",
     "text": [
      "INFO:root:Finding TTToSemiLeptonic samples and should combine them under TTbar\n",
      "INFO:root:Applying fj_mass selection on 393468 events\n",
      "INFO:root:Applying TopCR selection on 371245 events\n",
      "INFO:root:Will fill the histograms with the remaining 117 events\n"
     ]
    },
    {
     "name": "stdout",
     "output_type": "stream",
     "text": [
      "syst pass_weight_PSFSR\n",
      "syst pass_weight_PSISR\n"
     ]
    },
    {
     "name": "stderr",
     "output_type": "stream",
     "text": [
      "INFO:root:Finding VBFHToWWToAny_M-125_TuneCP5_withDipoleRecoil samples and should combine them under VBF\n",
      "INFO:root:Applying fj_mass selection on 437 events\n",
      "INFO:root:Applying TopCR selection on 430 events\n",
      "INFO:root:Will fill the histograms with the remaining 0 events\n"
     ]
    },
    {
     "name": "stdout",
     "output_type": "stream",
     "text": [
      "syst pass_weight_PSFSR\n",
      "syst pass_weight_PSISR\n"
     ]
    },
    {
     "name": "stderr",
     "output_type": "stream",
     "text": [
      "INFO:root:Finding WJetsToLNu_HT-100To200 samples and should combine them under WJetsLNu\n",
      "INFO:root:Finding WJetsToLNu_HT-1200To2500 samples and should combine them under WJetsLNu\n",
      "INFO:root:Applying fj_mass selection on 127251 events\n",
      "INFO:root:Applying TopCR selection on 99347 events\n",
      "INFO:root:Will fill the histograms with the remaining 13 events\n"
     ]
    },
    {
     "name": "stdout",
     "output_type": "stream",
     "text": [
      "syst pass_weight_PSFSR\n",
      "syst pass_weight_PSISR\n"
     ]
    },
    {
     "name": "stderr",
     "output_type": "stream",
     "text": [
      "INFO:root:Finding WJetsToLNu_HT-200To400 samples and should combine them under WJetsLNu\n",
      "INFO:root:Applying fj_mass selection on 12076 events\n",
      "INFO:root:Applying TopCR selection on 12070 events\n",
      "INFO:root:Will fill the histograms with the remaining 0 events\n"
     ]
    },
    {
     "name": "stdout",
     "output_type": "stream",
     "text": [
      "syst pass_weight_PSFSR\n",
      "syst pass_weight_PSISR\n"
     ]
    },
    {
     "name": "stderr",
     "output_type": "stream",
     "text": [
      "INFO:root:Finding WJetsToLNu_HT-2500ToInf samples and should combine them under WJetsLNu\n",
      "INFO:root:Applying fj_mass selection on 42882 events\n",
      "INFO:root:Applying TopCR selection on 26873 events\n",
      "INFO:root:Will fill the histograms with the remaining 1 events\n"
     ]
    },
    {
     "name": "stdout",
     "output_type": "stream",
     "text": [
      "syst pass_weight_PSFSR\n",
      "syst pass_weight_PSISR\n"
     ]
    },
    {
     "name": "stderr",
     "output_type": "stream",
     "text": [
      "INFO:root:Finding WJetsToLNu_HT-400To600 samples and should combine them under WJetsLNu\n",
      "INFO:root:Applying fj_mass selection on 28548 events\n",
      "INFO:root:Applying TopCR selection on 28405 events\n",
      "INFO:root:Will fill the histograms with the remaining 1 events\n"
     ]
    },
    {
     "name": "stdout",
     "output_type": "stream",
     "text": [
      "syst pass_weight_PSFSR\n",
      "syst pass_weight_PSISR\n"
     ]
    },
    {
     "name": "stderr",
     "output_type": "stream",
     "text": [
      "INFO:root:Finding WJetsToLNu_HT-600To800 samples and should combine them under WJetsLNu\n",
      "INFO:root:Applying fj_mass selection on 64597 events\n",
      "INFO:root:Applying TopCR selection on 63019 events\n",
      "INFO:root:Will fill the histograms with the remaining 3 events\n"
     ]
    },
    {
     "name": "stdout",
     "output_type": "stream",
     "text": [
      "syst pass_weight_PSFSR\n",
      "syst pass_weight_PSISR\n"
     ]
    },
    {
     "name": "stderr",
     "output_type": "stream",
     "text": [
      "INFO:root:Finding WJetsToLNu_HT-800To1200 samples and should combine them under WJetsLNu\n",
      "INFO:root:Applying fj_mass selection on 100796 events\n",
      "INFO:root:Applying TopCR selection on 92083 events\n",
      "INFO:root:Will fill the histograms with the remaining 10 events\n"
     ]
    },
    {
     "name": "stdout",
     "output_type": "stream",
     "text": [
      "syst pass_weight_PSFSR\n",
      "syst pass_weight_PSISR\n"
     ]
    },
    {
     "name": "stderr",
     "output_type": "stream",
     "text": [
      "INFO:root:Finding WW samples and should combine them under Diboson\n",
      "INFO:root:Applying fj_mass selection on 373 events\n",
      "INFO:root:Applying TopCR selection on 366 events\n",
      "INFO:root:Will fill the histograms with the remaining 1 events\n"
     ]
    },
    {
     "name": "stdout",
     "output_type": "stream",
     "text": [
      "syst pass_weight_PSFSR\n",
      "syst pass_weight_PSISR\n"
     ]
    },
    {
     "name": "stderr",
     "output_type": "stream",
     "text": [
      "INFO:root:Finding WZ samples and should combine them under Diboson\n",
      "INFO:root:Applying fj_mass selection on 588 events\n",
      "INFO:root:Applying TopCR selection on 581 events\n",
      "INFO:root:Will fill the histograms with the remaining 0 events\n"
     ]
    },
    {
     "name": "stdout",
     "output_type": "stream",
     "text": [
      "syst pass_weight_PSFSR\n",
      "syst pass_weight_PSISR\n"
     ]
    },
    {
     "name": "stderr",
     "output_type": "stream",
     "text": [
      "INFO:root:Finding ZZ samples and should combine them under Diboson\n",
      "INFO:root:Applying fj_mass selection on 340 events\n",
      "INFO:root:Applying TopCR selection on 339 events\n",
      "INFO:root:Will fill the histograms with the remaining 0 events\n"
     ]
    },
    {
     "name": "stdout",
     "output_type": "stream",
     "text": [
      "syst pass_weight_PSFSR\n",
      "syst pass_weight_PSISR\n"
     ]
    },
    {
     "name": "stderr",
     "output_type": "stream",
     "text": [
      "INFO:root:Finding ttHToNonbb_M125 samples and should combine them under ttH\n",
      "INFO:root:Applying fj_mass selection on 13890 events\n",
      "INFO:root:Applying TopCR selection on 12736 events\n",
      "INFO:root:Will fill the histograms with the remaining 105 events\n"
     ]
    },
    {
     "name": "stdout",
     "output_type": "stream",
     "text": [
      "syst pass_weight_PSFSR\n",
      "syst pass_weight_PSISR\n",
      "hists Hist(\n",
      "  StrCategory(['DYJets', 'ggF', 'ZH', 'WH', 'SingleTop', 'TTbar', 'WJetsLNu', 'ttH', 'Diboson'], growth=True, name='Sample'),\n",
      "  StrCategory(['pass_nominal', 'pass_weight_PSFSR_DYJets_up', 'pass_weight_PSFSR_DYJets_down', 'pass_weight_PSISR_DYJets_up', 'pass_weight_PSISR_DYJets_down', 'pass_weight_pileup_id_up', 'pass_weight_pileup_id_down', 'pass_weight_d1K_NLO_up', 'pass_weight_d1K_NLO_down', 'pass_weight_d2K_NLO_up', 'pass_weight_d2K_NLO_down', 'pass_weight_d3K_NLO_up', 'pass_weight_d3K_NLO_down', 'pass_weight_d1kappa_EW_up', 'pass_weight_d1kappa_EW_down', 'pass_weight_W_d2kappa_EW_up', 'pass_weight_W_d2kappa_EW_down', 'pass_weight_W_d3kappa_EW_up', 'pass_weight_W_d3kappa_EW_down', 'pass_weight_Z_d2kappa_EW_up', 'pass_weight_Z_d2kappa_EW_down', 'pass_weight_Z_d3kappa_EW_up', 'pass_weight_Z_d3kappa_EW_down', 'pass_weight_ele_id_up', 'pass_weight_ele_id_down', 'pass_weight_ele_reco_up', 'pass_weight_ele_reco_down', 'pass_weight_mu_isolation_up', 'pass_weight_mu_isolation_down', 'pass_weight_mu_id_up', 'pass_weight_mu_id_down', 'pass_weight_mu_trigger_iso_up', 'pass_weight_mu_trigger_iso_down', 'pass_weight_mu_trigger_noniso_up', 'pass_weight_mu_trigger_noniso_down', 'pass_weight_pileup_up', 'pass_weight_pileup_down', 'pass_weight_btagSFlightCorrelated_up', 'pass_weight_btagSFlightCorrelated_down', 'pass_weight_btagSFbcCorrelated_up', 'pass_weight_btagSFbcCorrelated_down', 'pass_weight_btagSFlight_up', 'pass_weight_btagSFlight_down', 'pass_weight_btagSFbc_up', 'pass_weight_btagSFbc_down', 'pass_weight_Vtagger_up', 'pass_weight_Vtagger_down', 'pass_weight_pdf_acceptance_DYJets_up', 'pass_weight_pdf_acceptance_DYJets_down', 'pass_weight_qcd_scale_DYJets_up', 'pass_weight_qcd_scale_DYJets_down', 'pass_weight_trigger_up', 'pass_weight_trigger_down', 'pass_top_reweighting_up', 'pass_top_reweighting_down', 'pass_JMR_sig_2018_up', 'pass_JMR_sig_2018_down', 'pass_JMS_sig_2018_up', 'pass_JMS_sig_2018_down', 'pass_JMR_ttbar_2018_up', 'pass_JMR_ttbar_2018_down', 'pass_JMS_ttbar_2018_up', 'pass_JMS_ttbar_2018_down', 'pass_JMR_wjets_2018_up', 'pass_JMR_wjets_2018_down', 'pass_JMS_wjets_2018_up', 'pass_JMS_wjets_2018_down', 'pass_JES_FlavorQCD_up', 'pass_JES_FlavorQCD_down', 'pass_JES_RelativeBal_up', 'pass_JES_RelativeBal_down', 'pass_JES_HF_up', 'pass_JES_HF_down', 'pass_JES_BBEC1_up', 'pass_JES_BBEC1_down', 'pass_JES_EC2_up', 'pass_JES_EC2_down', 'pass_JES_Absolute_up', 'pass_JES_Absolute_down', 'pass_JES_BBEC1_year_up', 'pass_JES_BBEC1_year_down', 'pass_JES_RelativeSample_year_up', 'pass_JES_RelativeSample_year_down', 'pass_JES_EC2_year_up', 'pass_JES_EC2_year_down', 'pass_JES_HF_year_up', 'pass_JES_HF_year_down', 'pass_JES_Absolute_year_up', 'pass_JES_Absolute_year_down', 'pass_JER_year_up', 'pass_JER_year_down', 'pass_UES_up', 'pass_UES_down', 'pass_weight_PSFSR_ggF_up', 'pass_weight_PSFSR_ggF_down', 'pass_weight_PSISR_ggF_up', 'pass_weight_PSISR_ggF_down', 'pass_weight_pdf_acceptance_ggF_up', 'pass_weight_pdf_acceptance_ggF_down', 'pass_weight_qcd_scale_ggF_up', 'pass_weight_qcd_scale_ggF_down', 'pass_weight_PSFSR_ZH_up', 'pass_weight_PSFSR_ZH_down', 'pass_weight_PSISR_ZH_up', 'pass_weight_PSISR_ZH_down', 'pass_weight_pdf_acceptance_ZH_up', 'pass_weight_pdf_acceptance_ZH_down', 'pass_weight_qcd_scale_ZH_up', 'pass_weight_qcd_scale_ZH_down', 'pass_weight_PSFSR_WH_up', 'pass_weight_PSFSR_WH_down', 'pass_weight_PSISR_WH_up', 'pass_weight_PSISR_WH_down', 'pass_weight_pdf_acceptance_WH_up', 'pass_weight_pdf_acceptance_WH_down', 'pass_weight_qcd_scale_WH_up', 'pass_weight_qcd_scale_WH_down', 'pass_weight_PSFSR_SingleTop_up', 'pass_weight_PSFSR_SingleTop_down', 'pass_weight_PSISR_SingleTop_up', 'pass_weight_PSISR_SingleTop_down', 'pass_weight_pdf_acceptance_SingleTop_up', 'pass_weight_pdf_acceptance_SingleTop_down', 'pass_weight_qcd_scale_SingleTop_up', 'pass_weight_qcd_scale_SingleTop_down', 'pass_weight_PSFSR_TTbar_up', 'pass_weight_PSFSR_TTbar_down', 'pass_weight_PSISR_TTbar_up', 'pass_weight_PSISR_TTbar_down', 'pass_weight_pdf_acceptance_TTbar_up', 'pass_weight_pdf_acceptance_TTbar_down', 'pass_weight_qcd_scale_TTbar_up', 'pass_weight_qcd_scale_TTbar_down', 'pass_weight_PSFSR_WJetsLNu_up', 'pass_weight_PSFSR_WJetsLNu_down', 'pass_weight_PSISR_WJetsLNu_up', 'pass_weight_PSISR_WJetsLNu_down', 'pass_weight_pdf_acceptance_WJetsLNu_up', 'pass_weight_pdf_acceptance_WJetsLNu_down', 'pass_weight_qcd_scale_WJetsLNu_up', 'pass_weight_qcd_scale_WJetsLNu_down', 'pass_weight_PSFSR_ttH_up', 'pass_weight_PSFSR_ttH_down', 'pass_weight_PSISR_ttH_up', 'pass_weight_PSISR_ttH_down', 'pass_weight_pdf_acceptance_ttH_up', 'pass_weight_pdf_acceptance_ttH_down', 'pass_weight_qcd_scale_ttH_up', 'pass_weight_qcd_scale_ttH_down', 'pass_weight_PSFSR_Diboson_up', 'pass_weight_PSFSR_Diboson_down', 'pass_weight_PSISR_Diboson_up', 'pass_weight_PSISR_Diboson_down', 'pass_weight_pdf_acceptance_Diboson_up', 'pass_weight_pdf_acceptance_Diboson_down', 'pass_weight_qcd_scale_Diboson_up', 'pass_weight_qcd_scale_Diboson_down'], growth=True, name='Systematic'),\n",
      "  StrCategory(['TopCR'], growth=True, name='Region'),\n",
      "  Variable([40, 180], name='mass_observable', label='V reconstructed mass [GeV]'),\n",
      "  storage=Weight()) # Sum: WeightedSum(value=5381.04, variance=791.44) (WeightedSum(value=5454.82, variance=804.107) with flow)\n"
     ]
    }
   ],
   "source": [
    "years = ['2018']\n",
    "\n",
    "outdir = 'templates'\n",
    "\n",
    "channels = 'mu','ele'\n",
    "#channels = ['mu']\n",
    "\n",
    "\n",
    "with open(\"simplePass_TopCR.yaml\", \"r\") as stream:\n",
    "    config = yaml.safe_load(stream)\n",
    "\n",
    "if len(years) == 4:\n",
    "    save_as = \"Run2\"\n",
    "else:\n",
    "    save_as = \"_\".join(years)\n",
    "\n",
    "if len(channels) == 1:\n",
    "    save_as += f\"_{channels[0]}_\"\n",
    "\n",
    "os.system(f\"mkdir -p {outdir}\")\n",
    "\n",
    "hists = get_templates( years, channels, config[\"samples\"], config[\"samples_dir\"], config[\"regions_sel\"], config[\"model_path\"],)\n",
    "\n",
    "fix_neg_yields(hists)\n",
    "\n",
    "#with open(f\"{outdir}/hists_templates_{save_as}.pkl\", \"wb\") as fp:\n",
    "with open(f\"{outdir}/hists_templates_{save_as}_TopCR_pass.pkl\", \"wb\") as fp:\n",
    "    print('hists', hists)\n",
    "    pkl.dump(hists, fp)\n",
    "\n"
   ]
  },
  {
   "cell_type": "code",
   "execution_count": 3,
   "id": "411e06fa-20da-4f40-96bd-8bce7251cc21",
   "metadata": {},
   "outputs": [],
   "source": [
    "obj = pd.read_pickle(r'/home/jieun201/boostedhiggs_may27/combine_nov26/2018/templates/hists_templates_2018_TopCR_pass.pkl')"
   ]
  },
  {
   "cell_type": "code",
   "execution_count": 4,
   "id": "f3d28c6c-5524-42ba-bc29-c687f1c7b2ab",
   "metadata": {},
   "outputs": [
    {
     "data": {
      "text/plain": [
       "Hist(\n",
       "  StrCategory(['DYJets', 'ggF', 'ZH', 'WH', 'SingleTop', 'TTbar', 'WJetsLNu', 'ttH', 'Diboson'], growth=True, name='Sample'),\n",
       "  StrCategory(['pass_nominal', 'pass_weight_PSFSR_DYJets_up', 'pass_weight_PSFSR_DYJets_down', 'pass_weight_PSISR_DYJets_up', 'pass_weight_PSISR_DYJets_down', 'pass_weight_pileup_id_up', 'pass_weight_pileup_id_down', 'pass_weight_d1K_NLO_up', 'pass_weight_d1K_NLO_down', 'pass_weight_d2K_NLO_up', 'pass_weight_d2K_NLO_down', 'pass_weight_d3K_NLO_up', 'pass_weight_d3K_NLO_down', 'pass_weight_d1kappa_EW_up', 'pass_weight_d1kappa_EW_down', 'pass_weight_W_d2kappa_EW_up', 'pass_weight_W_d2kappa_EW_down', 'pass_weight_W_d3kappa_EW_up', 'pass_weight_W_d3kappa_EW_down', 'pass_weight_Z_d2kappa_EW_up', 'pass_weight_Z_d2kappa_EW_down', 'pass_weight_Z_d3kappa_EW_up', 'pass_weight_Z_d3kappa_EW_down', 'pass_weight_ele_id_up', 'pass_weight_ele_id_down', 'pass_weight_ele_reco_up', 'pass_weight_ele_reco_down', 'pass_weight_mu_isolation_up', 'pass_weight_mu_isolation_down', 'pass_weight_mu_id_up', 'pass_weight_mu_id_down', 'pass_weight_mu_trigger_iso_up', 'pass_weight_mu_trigger_iso_down', 'pass_weight_mu_trigger_noniso_up', 'pass_weight_mu_trigger_noniso_down', 'pass_weight_pileup_up', 'pass_weight_pileup_down', 'pass_weight_btagSFlightCorrelated_up', 'pass_weight_btagSFlightCorrelated_down', 'pass_weight_btagSFbcCorrelated_up', 'pass_weight_btagSFbcCorrelated_down', 'pass_weight_btagSFlight_up', 'pass_weight_btagSFlight_down', 'pass_weight_btagSFbc_up', 'pass_weight_btagSFbc_down', 'pass_weight_Vtagger_up', 'pass_weight_Vtagger_down', 'pass_weight_pdf_acceptance_DYJets_up', 'pass_weight_pdf_acceptance_DYJets_down', 'pass_weight_qcd_scale_DYJets_up', 'pass_weight_qcd_scale_DYJets_down', 'pass_weight_trigger_up', 'pass_weight_trigger_down', 'pass_top_reweighting_up', 'pass_top_reweighting_down', 'pass_JMR_sig_2018_up', 'pass_JMR_sig_2018_down', 'pass_JMS_sig_2018_up', 'pass_JMS_sig_2018_down', 'pass_JMR_ttbar_2018_up', 'pass_JMR_ttbar_2018_down', 'pass_JMS_ttbar_2018_up', 'pass_JMS_ttbar_2018_down', 'pass_JMR_wjets_2018_up', 'pass_JMR_wjets_2018_down', 'pass_JMS_wjets_2018_up', 'pass_JMS_wjets_2018_down', 'pass_JES_FlavorQCD_up', 'pass_JES_FlavorQCD_down', 'pass_JES_RelativeBal_up', 'pass_JES_RelativeBal_down', 'pass_JES_HF_up', 'pass_JES_HF_down', 'pass_JES_BBEC1_up', 'pass_JES_BBEC1_down', 'pass_JES_EC2_up', 'pass_JES_EC2_down', 'pass_JES_Absolute_up', 'pass_JES_Absolute_down', 'pass_JES_BBEC1_year_up', 'pass_JES_BBEC1_year_down', 'pass_JES_RelativeSample_year_up', 'pass_JES_RelativeSample_year_down', 'pass_JES_EC2_year_up', 'pass_JES_EC2_year_down', 'pass_JES_HF_year_up', 'pass_JES_HF_year_down', 'pass_JES_Absolute_year_up', 'pass_JES_Absolute_year_down', 'pass_JER_year_up', 'pass_JER_year_down', 'pass_UES_up', 'pass_UES_down', 'pass_weight_PSFSR_ggF_up', 'pass_weight_PSFSR_ggF_down', 'pass_weight_PSISR_ggF_up', 'pass_weight_PSISR_ggF_down', 'pass_weight_pdf_acceptance_ggF_up', 'pass_weight_pdf_acceptance_ggF_down', 'pass_weight_qcd_scale_ggF_up', 'pass_weight_qcd_scale_ggF_down', 'pass_weight_PSFSR_ZH_up', 'pass_weight_PSFSR_ZH_down', 'pass_weight_PSISR_ZH_up', 'pass_weight_PSISR_ZH_down', 'pass_weight_pdf_acceptance_ZH_up', 'pass_weight_pdf_acceptance_ZH_down', 'pass_weight_qcd_scale_ZH_up', 'pass_weight_qcd_scale_ZH_down', 'pass_weight_PSFSR_WH_up', 'pass_weight_PSFSR_WH_down', 'pass_weight_PSISR_WH_up', 'pass_weight_PSISR_WH_down', 'pass_weight_pdf_acceptance_WH_up', 'pass_weight_pdf_acceptance_WH_down', 'pass_weight_qcd_scale_WH_up', 'pass_weight_qcd_scale_WH_down', 'pass_weight_PSFSR_SingleTop_up', 'pass_weight_PSFSR_SingleTop_down', 'pass_weight_PSISR_SingleTop_up', 'pass_weight_PSISR_SingleTop_down', 'pass_weight_pdf_acceptance_SingleTop_up', 'pass_weight_pdf_acceptance_SingleTop_down', 'pass_weight_qcd_scale_SingleTop_up', 'pass_weight_qcd_scale_SingleTop_down', 'pass_weight_PSFSR_TTbar_up', 'pass_weight_PSFSR_TTbar_down', 'pass_weight_PSISR_TTbar_up', 'pass_weight_PSISR_TTbar_down', 'pass_weight_pdf_acceptance_TTbar_up', 'pass_weight_pdf_acceptance_TTbar_down', 'pass_weight_qcd_scale_TTbar_up', 'pass_weight_qcd_scale_TTbar_down', 'pass_weight_PSFSR_WJetsLNu_up', 'pass_weight_PSFSR_WJetsLNu_down', 'pass_weight_PSISR_WJetsLNu_up', 'pass_weight_PSISR_WJetsLNu_down', 'pass_weight_pdf_acceptance_WJetsLNu_up', 'pass_weight_pdf_acceptance_WJetsLNu_down', 'pass_weight_qcd_scale_WJetsLNu_up', 'pass_weight_qcd_scale_WJetsLNu_down', 'pass_weight_PSFSR_ttH_up', 'pass_weight_PSFSR_ttH_down', 'pass_weight_PSISR_ttH_up', 'pass_weight_PSISR_ttH_down', 'pass_weight_pdf_acceptance_ttH_up', 'pass_weight_pdf_acceptance_ttH_down', 'pass_weight_qcd_scale_ttH_up', 'pass_weight_qcd_scale_ttH_down', 'pass_weight_PSFSR_Diboson_up', 'pass_weight_PSFSR_Diboson_down', 'pass_weight_PSISR_Diboson_up', 'pass_weight_PSISR_Diboson_down', 'pass_weight_pdf_acceptance_Diboson_up', 'pass_weight_pdf_acceptance_Diboson_down', 'pass_weight_qcd_scale_Diboson_up', 'pass_weight_qcd_scale_Diboson_down'], growth=True, name='Systematic'),\n",
       "  StrCategory(['TopCR'], growth=True, name='Region'),\n",
       "  Variable([40, 180], name='mass_observable', label='V reconstructed mass [GeV]'),\n",
       "  storage=Weight()) # Sum: WeightedSum(value=5381.04, variance=791.44) (WeightedSum(value=5454.82, variance=804.107) with flow)"
      ]
     },
     "execution_count": 4,
     "metadata": {},
     "output_type": "execute_result"
    }
   ],
   "source": [
    "obj"
   ]
  },
  {
   "cell_type": "code",
   "execution_count": 5,
   "id": "8dc8ebbc-0800-47c9-90e0-4d70e1c79552",
   "metadata": {},
   "outputs": [
    {
     "data": {
      "text/html": [
       "<html>\n",
       "<div style=\"display:flex; align-items:center;\">\n",
       "<div style=\"width:290px;\">\n",
       "<svg xmlns=\"http://www.w3.org/2000/svg\" viewBox=\"-10 -105 270 120\">\n",
       "<line x1=\"-5\" y1=\"0\" x2=\"255\" y2=\"0\" style=\"fill:none;stroke-width:2;stroke:currentColor\"/>\n",
       "<text text-anchor=\"middle\" x=\"0\" y=\"15\" style=\"fill:currentColor;\">\n",
       "40\n",
       "</text>\n",
       "<text text-anchor=\"middle\" x=\"250\" y=\"15\" style=\"fill:currentColor;\">\n",
       "180\n",
       "</text>\n",
       "<text text-anchor=\"middle\" x=\"125.0\" y=\"15\" style=\"fill:currentColor;\">\n",
       "V reconstructed mass [GeV]\n",
       "</text>\n",
       "<polyline points=\"  0,0   0,-100 250,-100 250,0\" style=\"fill:none; stroke:currentColor;\"/>\n",
       "</svg>\n",
       "</div>\n",
       "<div style=\"flex=grow:1;\">\n",
       "Variable([40, 180], name='mass_observable', label='V reconstructed mass [GeV]')<br/>\n",
       "<hr style=\"margin-top:.2em; margin-bottom:.2em;\"/>\n",
       "Weight() Σ=WeightedSum(value=0.702987, variance=0.49419)\n",
       "\n",
       "</div>\n",
       "</div>\n",
       "</html>"
      ],
      "text/plain": [
       "Hist(Variable([40, 180], name='mass_observable', label='V reconstructed mass [GeV]'), storage=Weight()) # Sum: WeightedSum(value=0.702987, variance=0.49419)"
      ]
     },
     "execution_count": 5,
     "metadata": {},
     "output_type": "execute_result"
    }
   ],
   "source": [
    "#sample2 = obj[{\"Region\": \"SR1\", \"Sample\": \"ZH\", \"Systematic\": \"pass_JMS_2017_down\"}]\n",
    "sample2 = obj[{\"Region\": \"TopCR\", \"Sample\": \"Diboson\", \"Systematic\": \"pass_UES_down\"}]\n",
    "\n",
    "sample2"
   ]
  },
  {
   "cell_type": "code",
   "execution_count": 6,
   "id": "9fe6d315-439c-433d-8d33-49a2f356fefb",
   "metadata": {},
   "outputs": [
    {
     "data": {
      "text/html": [
       "<html>\n",
       "<div style=\"display:flex; align-items:center;\">\n",
       "<div style=\"width:290px;\">\n",
       "<svg xmlns=\"http://www.w3.org/2000/svg\" viewBox=\"-10 -105 270 120\">\n",
       "<line x1=\"-5\" y1=\"0\" x2=\"255\" y2=\"0\" style=\"fill:none;stroke-width:2;stroke:currentColor\"/>\n",
       "<text text-anchor=\"middle\" x=\"0\" y=\"15\" style=\"fill:currentColor;\">\n",
       "40\n",
       "</text>\n",
       "<text text-anchor=\"middle\" x=\"250\" y=\"15\" style=\"fill:currentColor;\">\n",
       "180\n",
       "</text>\n",
       "<text text-anchor=\"middle\" x=\"125.0\" y=\"15\" style=\"fill:currentColor;\">\n",
       "V reconstructed mass [GeV]\n",
       "</text>\n",
       "<polyline points=\"  0,0   0,-100 250,-100 250,0\" style=\"fill:none; stroke:currentColor;\"/>\n",
       "</svg>\n",
       "</div>\n",
       "<div style=\"flex=grow:1;\">\n",
       "Variable([40, 180], name='mass_observable', label='V reconstructed mass [GeV]')<br/>\n",
       "<hr style=\"margin-top:.2em; margin-bottom:.2em;\"/>\n",
       "Weight() Σ=WeightedSum(value=47.5577, variance=6.18466) <em>(WeightedSum(value=47.8699, variance=6.21058) with flow)</em>\n",
       "\n",
       "</div>\n",
       "</div>\n",
       "</html>"
      ],
      "text/plain": [
       "Hist(Variable([40, 180], name='mass_observable', label='V reconstructed mass [GeV]'), storage=Weight()) # Sum: WeightedSum(value=47.5577, variance=6.18466) (WeightedSum(value=47.8699, variance=6.21058) with flow)"
      ]
     },
     "execution_count": 6,
     "metadata": {},
     "output_type": "execute_result"
    }
   ],
   "source": [
    "sample2 = obj[{\"Region\": \"TopCR\", \"Sample\": \"TTbar\", \"Systematic\": \"pass_nominal\"}]\n",
    "sample2"
   ]
  },
  {
   "cell_type": "code",
   "execution_count": 7,
   "id": "08abe576-66fe-4d23-bf5b-e70b8e2e815b",
   "metadata": {},
   "outputs": [
    {
     "ename": "KeyError",
     "evalue": "\"'SR1' not in axis\"",
     "output_type": "error",
     "traceback": [
      "\u001b[0;31m---------------------------------------------------------------------------\u001b[0m",
      "\u001b[0;31mKeyError\u001b[0m                                  Traceback (most recent call last)",
      "Cell \u001b[0;32mIn[7], line 2\u001b[0m\n\u001b[1;32m      1\u001b[0m \u001b[38;5;66;03m#sample2 = obj[{\"Region\": \"SR1\", \"Sample\": \"ZH\", \"Systematic\": \"pass_JMS_2017_up\"}]\u001b[39;00m\n\u001b[0;32m----> 2\u001b[0m sample2 \u001b[38;5;241m=\u001b[39m \u001b[43mobj\u001b[49m\u001b[43m[\u001b[49m\u001b[43m{\u001b[49m\u001b[38;5;124;43m\"\u001b[39;49m\u001b[38;5;124;43mRegion\u001b[39;49m\u001b[38;5;124;43m\"\u001b[39;49m\u001b[43m:\u001b[49m\u001b[43m \u001b[49m\u001b[38;5;124;43m\"\u001b[39;49m\u001b[38;5;124;43mSR1\u001b[39;49m\u001b[38;5;124;43m\"\u001b[39;49m\u001b[43m,\u001b[49m\u001b[43m \u001b[49m\u001b[38;5;124;43m\"\u001b[39;49m\u001b[38;5;124;43mSample\u001b[39;49m\u001b[38;5;124;43m\"\u001b[39;49m\u001b[43m:\u001b[49m\u001b[43m \u001b[49m\u001b[38;5;124;43m\"\u001b[39;49m\u001b[38;5;124;43mZH\u001b[39;49m\u001b[38;5;124;43m\"\u001b[39;49m\u001b[43m,\u001b[49m\u001b[43m \u001b[49m\u001b[38;5;124;43m\"\u001b[39;49m\u001b[38;5;124;43mSystematic\u001b[39;49m\u001b[38;5;124;43m\"\u001b[39;49m\u001b[43m:\u001b[49m\u001b[43m \u001b[49m\u001b[38;5;124;43m\"\u001b[39;49m\u001b[38;5;124;43mpass_UES_up\u001b[39;49m\u001b[38;5;124;43m\"\u001b[39;49m\u001b[43m}\u001b[49m\u001b[43m]\u001b[49m\n\u001b[1;32m      6\u001b[0m sample2\n",
      "File \u001b[0;32m~/.local/lib/python3.10/site-packages/hist/basehist.py:417\u001b[0m, in \u001b[0;36mBaseHist.__getitem__\u001b[0;34m(self, index)\u001b[0m\n\u001b[1;32m    410\u001b[0m \u001b[38;5;28;01mdef\u001b[39;00m\u001b[38;5;250m \u001b[39m\u001b[38;5;21m__getitem__\u001b[39m(  \u001b[38;5;66;03m# type: ignore[override]\u001b[39;00m\n\u001b[1;32m    411\u001b[0m     \u001b[38;5;28mself\u001b[39m, index: IndexingExpr\n\u001b[1;32m    412\u001b[0m ) \u001b[38;5;241m-\u001b[39m\u001b[38;5;241m>\u001b[39m Self \u001b[38;5;241m|\u001b[39m \u001b[38;5;28mfloat\u001b[39m \u001b[38;5;241m|\u001b[39m bh\u001b[38;5;241m.\u001b[39maccumulators\u001b[38;5;241m.\u001b[39mAccumulator:\n\u001b[1;32m    413\u001b[0m \u001b[38;5;250m    \u001b[39m\u001b[38;5;124;03m\"\"\"\u001b[39;00m\n\u001b[1;32m    414\u001b[0m \u001b[38;5;124;03m    Get histogram item.\u001b[39;00m\n\u001b[1;32m    415\u001b[0m \u001b[38;5;124;03m    \"\"\"\u001b[39;00m\n\u001b[0;32m--> 417\u001b[0m     \u001b[38;5;28;01mreturn\u001b[39;00m \u001b[38;5;28;43msuper\u001b[39;49m\u001b[43m(\u001b[49m\u001b[43m)\u001b[49m\u001b[38;5;241;43m.\u001b[39;49m\u001b[38;5;21;43m__getitem__\u001b[39;49m\u001b[43m(\u001b[49m\u001b[38;5;28;43mself\u001b[39;49m\u001b[38;5;241;43m.\u001b[39;49m\u001b[43m_index_transform\u001b[49m\u001b[43m(\u001b[49m\u001b[43mindex\u001b[49m\u001b[43m)\u001b[49m\u001b[43m)\u001b[49m\n",
      "File \u001b[0;32m~/.local/lib/python3.10/site-packages/boost_histogram/_internal/hist.py:817\u001b[0m, in \u001b[0;36mHistogram.__getitem__\u001b[0;34m(self, index)\u001b[0m\n\u001b[1;32m    816\u001b[0m \u001b[38;5;28;01mdef\u001b[39;00m\u001b[38;5;250m \u001b[39m\u001b[38;5;21m__getitem__\u001b[39m(\u001b[38;5;28mself\u001b[39m: H, index: IndexingExpr) \u001b[38;5;241m-\u001b[39m\u001b[38;5;241m>\u001b[39m H \u001b[38;5;241m|\u001b[39m \u001b[38;5;28mfloat\u001b[39m \u001b[38;5;241m|\u001b[39m Accumulator:\n\u001b[0;32m--> 817\u001b[0m     indexes \u001b[38;5;241m=\u001b[39m \u001b[38;5;28;43mself\u001b[39;49m\u001b[38;5;241;43m.\u001b[39;49m\u001b[43m_compute_commonindex\u001b[49m\u001b[43m(\u001b[49m\u001b[43mindex\u001b[49m\u001b[43m)\u001b[49m\n\u001b[1;32m    819\u001b[0m     \u001b[38;5;66;03m# If this is (now) all integers, return the bin contents\u001b[39;00m\n\u001b[1;32m    820\u001b[0m     \u001b[38;5;66;03m# But don't try *dict!\u001b[39;00m\n\u001b[1;32m    821\u001b[0m     \u001b[38;5;28;01mif\u001b[39;00m \u001b[38;5;129;01mnot\u001b[39;00m \u001b[38;5;28mhasattr\u001b[39m(indexes, \u001b[38;5;124m\"\u001b[39m\u001b[38;5;124mitems\u001b[39m\u001b[38;5;124m\"\u001b[39m) \u001b[38;5;129;01mand\u001b[39;00m \u001b[38;5;28mall\u001b[39m(\n\u001b[1;32m    822\u001b[0m         \u001b[38;5;28misinstance\u001b[39m(a, SupportsIndex) \u001b[38;5;28;01mfor\u001b[39;00m a \u001b[38;5;129;01min\u001b[39;00m indexes\n\u001b[1;32m    823\u001b[0m     ):\n",
      "File \u001b[0;32m~/.local/lib/python3.10/site-packages/boost_histogram/_internal/hist.py:731\u001b[0m, in \u001b[0;36mHistogram._compute_commonindex\u001b[0;34m(self, index)\u001b[0m\n\u001b[1;32m    729\u001b[0m         indexes[i] \u001b[38;5;241m=\u001b[39m [\u001b[38;5;28mself\u001b[39m\u001b[38;5;241m.\u001b[39m_compute_uhi_index(ind, i) \u001b[38;5;28;01mfor\u001b[39;00m ind \u001b[38;5;129;01min\u001b[39;00m indexes[i]]\n\u001b[1;32m    730\u001b[0m     \u001b[38;5;28;01melse\u001b[39;00m:\n\u001b[0;32m--> 731\u001b[0m         indexes[i] \u001b[38;5;241m=\u001b[39m \u001b[38;5;28;43mself\u001b[39;49m\u001b[38;5;241;43m.\u001b[39;49m\u001b[43m_compute_uhi_index\u001b[49m\u001b[43m(\u001b[49m\u001b[43mindexes\u001b[49m\u001b[43m[\u001b[49m\u001b[43mi\u001b[49m\u001b[43m]\u001b[49m\u001b[43m,\u001b[49m\u001b[43m \u001b[49m\u001b[43mi\u001b[49m\u001b[43m)\u001b[49m\n\u001b[1;32m    733\u001b[0m \u001b[38;5;28;01mreturn\u001b[39;00m indexes\n",
      "File \u001b[0;32m~/.local/lib/python3.10/site-packages/boost_histogram/_internal/hist.py:683\u001b[0m, in \u001b[0;36mHistogram._compute_uhi_index\u001b[0;34m(self, index, axis)\u001b[0m\n\u001b[1;32m    679\u001b[0m \u001b[38;5;66;03m# General locators\u001b[39;00m\n\u001b[1;32m    680\u001b[0m \u001b[38;5;66;03m# Note that MyPy doesn't like these very much - the fix\u001b[39;00m\n\u001b[1;32m    681\u001b[0m \u001b[38;5;66;03m# will be to properly set input types\u001b[39;00m\n\u001b[1;32m    682\u001b[0m \u001b[38;5;28;01mif\u001b[39;00m \u001b[38;5;28mcallable\u001b[39m(index):\n\u001b[0;32m--> 683\u001b[0m     \u001b[38;5;28;01mreturn\u001b[39;00m \u001b[43mindex\u001b[49m\u001b[43m(\u001b[49m\u001b[38;5;28;43mself\u001b[39;49m\u001b[38;5;241;43m.\u001b[39;49m\u001b[43maxes\u001b[49m\u001b[43m[\u001b[49m\u001b[43maxis\u001b[49m\u001b[43m]\u001b[49m\u001b[43m)\u001b[49m\n\u001b[1;32m    685\u001b[0m \u001b[38;5;28;01mif\u001b[39;00m \u001b[38;5;28misinstance\u001b[39m(index, \u001b[38;5;28mfloat\u001b[39m):\n\u001b[1;32m    686\u001b[0m     \u001b[38;5;28;01mraise\u001b[39;00m \u001b[38;5;167;01mTypeError\u001b[39;00m(\u001b[38;5;124mf\u001b[39m\u001b[38;5;124m\"\u001b[39m\u001b[38;5;124mIndex \u001b[39m\u001b[38;5;132;01m{\u001b[39;00mindex\u001b[38;5;132;01m}\u001b[39;00m\u001b[38;5;124m must be an integer, not float\u001b[39m\u001b[38;5;124m\"\u001b[39m)\n",
      "File \u001b[0;32m~/.local/lib/python3.10/site-packages/boost_histogram/tag.py:78\u001b[0m, in \u001b[0;36mloc.__call__\u001b[0;34m(self, axis)\u001b[0m\n\u001b[1;32m     77\u001b[0m \u001b[38;5;28;01mdef\u001b[39;00m\u001b[38;5;250m \u001b[39m\u001b[38;5;21m__call__\u001b[39m(\u001b[38;5;28mself\u001b[39m, axis: AxisLike) \u001b[38;5;241m-\u001b[39m\u001b[38;5;241m>\u001b[39m \u001b[38;5;28mint\u001b[39m:\n\u001b[0;32m---> 78\u001b[0m     \u001b[38;5;28;01mreturn\u001b[39;00m \u001b[43maxis\u001b[49m\u001b[38;5;241;43m.\u001b[39;49m\u001b[43mindex\u001b[49m\u001b[43m(\u001b[49m\u001b[38;5;28;43mself\u001b[39;49m\u001b[38;5;241;43m.\u001b[39;49m\u001b[43mvalue\u001b[49m\u001b[43m)\u001b[49m \u001b[38;5;241m+\u001b[39m \u001b[38;5;28mself\u001b[39m\u001b[38;5;241m.\u001b[39moffset\n",
      "File \u001b[0;32m~/.local/lib/python3.10/site-packages/boost_histogram/_internal/axis.py:652\u001b[0m, in \u001b[0;36mStrCategory.index\u001b[0;34m(self, value)\u001b[0m\n\u001b[1;32m    647\u001b[0m \u001b[38;5;250m\u001b[39m\u001b[38;5;124;03m\"\"\"\u001b[39;00m\n\u001b[1;32m    648\u001b[0m \u001b[38;5;124;03mReturn the fractional index(es) given a value (or values) on the axis.\u001b[39;00m\n\u001b[1;32m    649\u001b[0m \u001b[38;5;124;03m\"\"\"\u001b[39;00m\n\u001b[1;32m    651\u001b[0m \u001b[38;5;28;01mif\u001b[39;00m _isstr(value):\n\u001b[0;32m--> 652\u001b[0m     \u001b[38;5;28;01mreturn\u001b[39;00m \u001b[38;5;28;43mself\u001b[39;49m\u001b[38;5;241;43m.\u001b[39;49m\u001b[43m_ax\u001b[49m\u001b[38;5;241;43m.\u001b[39;49m\u001b[43mindex\u001b[49m\u001b[43m(\u001b[49m\u001b[43mvalue\u001b[49m\u001b[43m)\u001b[49m  \u001b[38;5;66;03m# type: ignore[no-any-return]\u001b[39;00m\n\u001b[1;32m    654\u001b[0m msg \u001b[38;5;241m=\u001b[39m \u001b[38;5;124mf\u001b[39m\u001b[38;5;124m\"\u001b[39m\u001b[38;5;124mindex(\u001b[39m\u001b[38;5;132;01m{\u001b[39;00mvalue\u001b[38;5;132;01m}\u001b[39;00m\u001b[38;5;124m) must be a string or iterable of strings for a StrCategory axis\u001b[39m\u001b[38;5;124m\"\u001b[39m\n\u001b[1;32m    655\u001b[0m \u001b[38;5;28;01mraise\u001b[39;00m \u001b[38;5;167;01mTypeError\u001b[39;00m(msg)\n",
      "\u001b[0;31mKeyError\u001b[0m: \"'SR1' not in axis\""
     ]
    }
   ],
   "source": [
    "#sample2 = obj[{\"Region\": \"SR1\", \"Sample\": \"ZH\", \"Systematic\": \"pass_JMS_2017_up\"}]\n",
    "sample2 = obj[{\"Region\": \"SR1\", \"Sample\": \"ZH\", \"Systematic\": \"pass_UES_up\"}]\n",
    "\n",
    "\n",
    "\n",
    "sample2"
   ]
  },
  {
   "cell_type": "code",
   "execution_count": null,
   "id": "7eb47f87-27e3-4e90-be0b-5c061b741a4a",
   "metadata": {},
   "outputs": [],
   "source": [
    "\n",
    "\n",
    "sample2 = obj[{\"Region\": \"SR1\", \"Sample\": \"ZH\", \"Systematic\": \"pass_nominal\"}]\n",
    "sample2"
   ]
  },
  {
   "cell_type": "code",
   "execution_count": null,
   "id": "798d42af-49f8-45a2-8a5c-82833fcc4118",
   "metadata": {},
   "outputs": [],
   "source": []
  }
 ],
 "metadata": {
  "kernelspec": {
   "display_name": "Python 3 (ipykernel)",
   "language": "python",
   "name": "py3-preamble"
  },
  "language_info": {
   "codemirror_mode": {
    "name": "ipython",
    "version": 3
   },
   "file_extension": ".py",
   "mimetype": "text/x-python",
   "name": "python",
   "nbconvert_exporter": "python",
   "pygments_lexer": "ipython3",
   "version": "3.10.16"
  }
 },
 "nbformat": 4,
 "nbformat_minor": 5
}
