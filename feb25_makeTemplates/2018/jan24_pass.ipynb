{
 "cells": [
  {
   "cell_type": "code",
   "execution_count": 1,
   "id": "ec6c4165-5d04-46d8-b6a3-beda838a2cff",
   "metadata": {},
   "outputs": [],
   "source": [
    "import argparse\n",
    "import glob\n",
    "import json\n",
    "import logging\n",
    "import os\n",
    "import pickle as pkl\n",
    "import warnings\n",
    "import hist as hist2\n",
    "import numpy as np\n",
    "import pandas as pd\n",
    "import pyarrow\n",
    "import yaml\n",
    "import math\n",
    "\n",
    "from utils import get_common_sample_name, get_finetuned_score, get_xsecweight\n",
    "\n",
    "from systematicsPass import get_systematic_dict, sigs\n",
    "\n",
    "logging.basicConfig(level=logging.INFO)\n",
    "warnings.filterwarnings(\"ignore\", message=\"Found duplicate branch \")\n",
    "pd.set_option(\"mode.chained_assignment\", None)\n",
    "\n",
    "\n",
    "from jieunR import fix_neg_yields, get_templates, mass_binning  #importing get_templates automatically it seems imports the other functions\n",
    "\n",
    "\n",
    "\n",
    "CATEGORY = 'pass'\n",
    "\n"
   ]
  },
  {
   "cell_type": "code",
   "execution_count": 2,
   "id": "8893411c-dd30-4b68-8127-9a459d3eb6c0",
   "metadata": {},
   "outputs": [
    {
     "name": "stderr",
     "output_type": "stream",
     "text": [
      "INFO:root:Processing year 2018 and mu channel\n",
      "INFO:root:Finding DYJetsToLL_LHEFilterPtZ-0To50 samples and should combine them under DYJets\n",
      "INFO:root:Applying fj_mass selection on 871 events\n",
      "INFO:root:Applying SR1 selection on 864 events\n",
      "INFO:root:Will fill the histograms with the remaining 0 events\n"
     ]
    },
    {
     "name": "stdout",
     "output_type": "stream",
     "text": [
      "syst pass_weight_PSFSR\n",
      "syst pass_weight_PSISR\n"
     ]
    },
    {
     "name": "stderr",
     "output_type": "stream",
     "text": [
      "INFO:root:Finding DYJetsToLL_LHEFilterPtZ-100To250 samples and should combine them under DYJets\n",
      "INFO:root:Applying fj_mass selection on 27737 events\n",
      "INFO:root:Applying SR1 selection on 27450 events\n",
      "INFO:root:Will fill the histograms with the remaining 12 events\n"
     ]
    },
    {
     "name": "stdout",
     "output_type": "stream",
     "text": [
      "syst pass_weight_PSFSR\n",
      "syst pass_weight_PSISR\n"
     ]
    },
    {
     "name": "stderr",
     "output_type": "stream",
     "text": [
      "INFO:root:Finding DYJetsToLL_LHEFilterPtZ-250To400 samples and should combine them under DYJets\n",
      "INFO:root:Applying fj_mass selection on 124445 events\n",
      "INFO:root:Applying SR1 selection on 122654 events\n",
      "INFO:root:Will fill the histograms with the remaining 39 events\n"
     ]
    },
    {
     "name": "stdout",
     "output_type": "stream",
     "text": [
      "syst pass_weight_PSFSR\n",
      "syst pass_weight_PSISR\n"
     ]
    },
    {
     "name": "stderr",
     "output_type": "stream",
     "text": [
      "INFO:root:Finding DYJetsToLL_LHEFilterPtZ-400To650 samples and should combine them under DYJets\n",
      "INFO:root:Applying fj_mass selection on 45232 events\n",
      "INFO:root:Applying SR1 selection on 42933 events\n",
      "INFO:root:Will fill the histograms with the remaining 13 events\n"
     ]
    },
    {
     "name": "stdout",
     "output_type": "stream",
     "text": [
      "syst pass_weight_PSFSR\n",
      "syst pass_weight_PSISR\n"
     ]
    },
    {
     "name": "stderr",
     "output_type": "stream",
     "text": [
      "INFO:root:Finding DYJetsToLL_LHEFilterPtZ-50To100 samples and should combine them under DYJets\n",
      "INFO:root:Applying fj_mass selection on 3563 events\n",
      "INFO:root:Applying SR1 selection on 3536 events\n",
      "INFO:root:Will fill the histograms with the remaining 3 events\n"
     ]
    },
    {
     "name": "stdout",
     "output_type": "stream",
     "text": [
      "syst pass_weight_PSFSR\n",
      "syst pass_weight_PSISR\n"
     ]
    },
    {
     "name": "stderr",
     "output_type": "stream",
     "text": [
      "INFO:root:Finding DYJetsToLL_LHEFilterPtZ-650ToInf samples and should combine them under DYJets\n",
      "INFO:root:Applying fj_mass selection on 72541 events\n",
      "INFO:root:Applying SR1 selection on 60702 events\n",
      "INFO:root:Will fill the histograms with the remaining 14 events\n"
     ]
    },
    {
     "name": "stdout",
     "output_type": "stream",
     "text": [
      "syst pass_weight_PSFSR\n",
      "syst pass_weight_PSISR\n"
     ]
    },
    {
     "name": "stderr",
     "output_type": "stream",
     "text": [
      "INFO:root:Finding EWKWminus_WToQQ samples and should combine them under EWKvjets\n",
      "INFO:root:Applying fj_mass selection on 131 events\n",
      "INFO:root:Applying SR1 selection on 128 events\n",
      "INFO:root:Will fill the histograms with the remaining 0 events\n"
     ]
    },
    {
     "name": "stdout",
     "output_type": "stream",
     "text": [
      "syst pass_weight_PSFSR\n",
      "syst pass_weight_PSISR\n"
     ]
    },
    {
     "name": "stderr",
     "output_type": "stream",
     "text": [
      "INFO:root:Finding EWKWplus_WToQQ samples and should combine them under EWKvjets\n",
      "INFO:root:Applying fj_mass selection on 253 events\n",
      "INFO:root:Applying SR1 selection on 249 events\n",
      "INFO:root:Will fill the histograms with the remaining 0 events\n"
     ]
    },
    {
     "name": "stdout",
     "output_type": "stream",
     "text": [
      "syst pass_weight_PSFSR\n",
      "syst pass_weight_PSISR\n"
     ]
    },
    {
     "name": "stderr",
     "output_type": "stream",
     "text": [
      "INFO:root:Finding EWKZ_ZToQQ samples and should combine them under EWKvjets\n",
      "INFO:root:Applying fj_mass selection on 3 events\n",
      "INFO:root:Applying SR1 selection on 3 events\n",
      "INFO:root:Will fill the histograms with the remaining 0 events\n"
     ]
    },
    {
     "name": "stdout",
     "output_type": "stream",
     "text": [
      "syst pass_weight_PSFSR\n",
      "syst pass_weight_PSISR\n"
     ]
    },
    {
     "name": "stderr",
     "output_type": "stream",
     "text": [
      "INFO:root:Finding GluGluHToWW_Pt-200ToInf_M-125 samples and should combine them under ggF\n",
      "INFO:root:Applying fj_mass selection on 5444 events\n",
      "INFO:root:Applying SR1 selection on 5347 events\n",
      "INFO:root:Will fill the histograms with the remaining 49 events\n"
     ]
    },
    {
     "name": "stdout",
     "output_type": "stream",
     "text": [
      "syst pass_weight_PSFSR\n",
      "syst pass_weight_PSISR\n"
     ]
    },
    {
     "name": "stderr",
     "output_type": "stream",
     "text": [
      "INFO:root:Finding GluGluZH_HToWW_M-125_TuneCP5_13TeV-powheg-pythia8 samples and should combine them under ZH\n",
      "INFO:root:Applying fj_mass selection on 29039 events\n",
      "INFO:root:Applying SR1 selection on 28786 events\n",
      "INFO:root:Will fill the histograms with the remaining 1845 events\n"
     ]
    },
    {
     "name": "stdout",
     "output_type": "stream",
     "text": [
      "syst pass_weight_PSFSR\n",
      "syst pass_weight_PSISR\n"
     ]
    },
    {
     "name": "stderr",
     "output_type": "stream",
     "text": [
      "INFO:root:Finding HWminusJ_HToWW_M-125 samples and should combine them under WH\n",
      "INFO:root:Applying fj_mass selection on 13641 events\n",
      "INFO:root:Applying SR1 selection on 13528 events\n",
      "INFO:root:Will fill the histograms with the remaining 877 events\n"
     ]
    },
    {
     "name": "stdout",
     "output_type": "stream",
     "text": [
      "syst pass_weight_PSFSR\n",
      "syst pass_weight_PSISR\n"
     ]
    },
    {
     "name": "stderr",
     "output_type": "stream",
     "text": [
      "INFO:root:Finding HWplusJ_HToWW_M-125 samples and should combine them under WH\n",
      "INFO:root:Applying fj_mass selection on 15164 events\n",
      "INFO:root:Applying SR1 selection on 15058 events\n",
      "INFO:root:Will fill the histograms with the remaining 978 events\n"
     ]
    },
    {
     "name": "stdout",
     "output_type": "stream",
     "text": [
      "syst pass_weight_PSFSR\n",
      "syst pass_weight_PSISR\n"
     ]
    },
    {
     "name": "stderr",
     "output_type": "stream",
     "text": [
      "INFO:root:Finding HZJ_HToWW_M-125 samples and should combine them under ZH\n",
      "INFO:root:Applying fj_mass selection on 21341 events\n",
      "INFO:root:Applying SR1 selection on 21173 events\n",
      "INFO:root:Will fill the histograms with the remaining 1923 events\n"
     ]
    },
    {
     "name": "stdout",
     "output_type": "stream",
     "text": [
      "syst pass_weight_PSFSR\n",
      "syst pass_weight_PSISR\n"
     ]
    },
    {
     "name": "stderr",
     "output_type": "stream",
     "text": [
      "INFO:root:Finding ST_s-channel_4f_hadronicDecays samples and should combine them under SingleTop\n",
      "INFO:root:Applying fj_mass selection on 326 events\n",
      "INFO:root:Applying SR1 selection on 304 events\n",
      "INFO:root:Will fill the histograms with the remaining 1 events\n"
     ]
    },
    {
     "name": "stdout",
     "output_type": "stream",
     "text": [
      "syst pass_weight_PSFSR\n",
      "syst pass_weight_PSISR\n"
     ]
    },
    {
     "name": "stderr",
     "output_type": "stream",
     "text": [
      "INFO:root:Finding ST_s-channel_4f_leptonDecays samples and should combine them under SingleTop\n",
      "INFO:root:Applying fj_mass selection on 12215 events\n",
      "INFO:root:Applying SR1 selection on 11610 events\n",
      "INFO:root:Will fill the histograms with the remaining 4 events\n"
     ]
    },
    {
     "name": "stdout",
     "output_type": "stream",
     "text": [
      "syst pass_weight_PSFSR\n",
      "syst pass_weight_PSISR\n"
     ]
    },
    {
     "name": "stderr",
     "output_type": "stream",
     "text": [
      "INFO:root:Finding ST_t-channel_antitop_4f_InclusiveDecays samples and should combine them under SingleTop\n",
      "INFO:root:Applying fj_mass selection on 10347 events\n",
      "INFO:root:Applying SR1 selection on 10095 events\n",
      "INFO:root:Will fill the histograms with the remaining 1 events\n"
     ]
    },
    {
     "name": "stdout",
     "output_type": "stream",
     "text": [
      "syst pass_weight_PSFSR\n",
      "syst pass_weight_PSISR\n"
     ]
    },
    {
     "name": "stderr",
     "output_type": "stream",
     "text": [
      "INFO:root:Finding ST_t-channel_top_4f_InclusiveDecays samples and should combine them under SingleTop\n",
      "INFO:root:Applying fj_mass selection on 24418 events\n",
      "INFO:root:Applying SR1 selection on 23703 events\n",
      "INFO:root:Will fill the histograms with the remaining 8 events\n"
     ]
    },
    {
     "name": "stdout",
     "output_type": "stream",
     "text": [
      "syst pass_weight_PSFSR\n",
      "syst pass_weight_PSISR\n"
     ]
    },
    {
     "name": "stderr",
     "output_type": "stream",
     "text": [
      "INFO:root:Finding ST_tW_antitop_5f_inclusiveDecays samples and should combine them under SingleTop\n",
      "INFO:root:Applying fj_mass selection on 7871 events\n",
      "INFO:root:Applying SR1 selection on 7664 events\n",
      "INFO:root:Will fill the histograms with the remaining 10 events\n"
     ]
    },
    {
     "name": "stdout",
     "output_type": "stream",
     "text": [
      "syst pass_weight_PSFSR\n",
      "syst pass_weight_PSISR\n"
     ]
    },
    {
     "name": "stderr",
     "output_type": "stream",
     "text": [
      "INFO:root:Finding ST_tW_top_5f_inclusiveDecays samples and should combine them under SingleTop\n",
      "INFO:root:Applying fj_mass selection on 8208 events\n",
      "INFO:root:Applying SR1 selection on 7997 events\n",
      "INFO:root:Will fill the histograms with the remaining 10 events\n"
     ]
    },
    {
     "name": "stdout",
     "output_type": "stream",
     "text": [
      "syst pass_weight_PSFSR\n",
      "syst pass_weight_PSISR\n"
     ]
    },
    {
     "name": "stderr",
     "output_type": "stream",
     "text": [
      "INFO:root:Finding TTTo2L2Nu samples and should combine them under TTbar\n",
      "INFO:root:Applying fj_mass selection on 201404 events\n",
      "INFO:root:Applying SR1 selection on 196333 events\n",
      "INFO:root:Will fill the histograms with the remaining 170 events\n"
     ]
    },
    {
     "name": "stdout",
     "output_type": "stream",
     "text": [
      "syst pass_weight_PSFSR\n",
      "syst pass_weight_PSISR\n"
     ]
    },
    {
     "name": "stderr",
     "output_type": "stream",
     "text": [
      "INFO:root:Finding TTToHadronic samples and should combine them under TTbar\n",
      "INFO:root:Applying fj_mass selection on 5865 events\n",
      "INFO:root:Applying SR1 selection on 5508 events\n",
      "INFO:root:Will fill the histograms with the remaining 9 events\n"
     ]
    },
    {
     "name": "stdout",
     "output_type": "stream",
     "text": [
      "syst pass_weight_PSFSR\n",
      "syst pass_weight_PSISR\n"
     ]
    },
    {
     "name": "stderr",
     "output_type": "stream",
     "text": [
      "INFO:root:Finding TTToSemiLeptonic samples and should combine them under TTbar\n",
      "INFO:root:Applying fj_mass selection on 592199 events\n",
      "INFO:root:Applying SR1 selection on 558872 events\n",
      "INFO:root:Will fill the histograms with the remaining 534 events\n"
     ]
    },
    {
     "name": "stdout",
     "output_type": "stream",
     "text": [
      "syst pass_weight_PSFSR\n",
      "syst pass_weight_PSISR\n"
     ]
    },
    {
     "name": "stderr",
     "output_type": "stream",
     "text": [
      "INFO:root:Finding VBFHToWWToAny_M-125_TuneCP5_withDipoleRecoil samples and should combine them under VBF\n",
      "INFO:root:Applying fj_mass selection on 790 events\n",
      "INFO:root:Applying SR1 selection on 775 events\n",
      "INFO:root:Will fill the histograms with the remaining 11 events\n"
     ]
    },
    {
     "name": "stdout",
     "output_type": "stream",
     "text": [
      "syst pass_weight_PSFSR\n",
      "syst pass_weight_PSISR\n"
     ]
    },
    {
     "name": "stderr",
     "output_type": "stream",
     "text": [
      "INFO:root:Finding WJetsToLNu_HT-100To200 samples and should combine them under WJetsLNu\n",
      "INFO:root:Finding WJetsToLNu_HT-1200To2500 samples and should combine them under WJetsLNu\n",
      "INFO:root:Applying fj_mass selection on 199106 events\n",
      "INFO:root:Applying SR1 selection on 155712 events\n",
      "INFO:root:Will fill the histograms with the remaining 171 events\n"
     ]
    },
    {
     "name": "stdout",
     "output_type": "stream",
     "text": [
      "syst pass_weight_PSFSR\n",
      "syst pass_weight_PSISR\n"
     ]
    },
    {
     "name": "stderr",
     "output_type": "stream",
     "text": [
      "INFO:root:Finding WJetsToLNu_HT-200To400 samples and should combine them under WJetsLNu\n",
      "INFO:root:Applying fj_mass selection on 15692 events\n",
      "INFO:root:Applying SR1 selection on 15688 events\n",
      "INFO:root:Will fill the histograms with the remaining 0 events\n"
     ]
    },
    {
     "name": "stdout",
     "output_type": "stream",
     "text": [
      "syst pass_weight_PSFSR\n",
      "syst pass_weight_PSISR\n"
     ]
    },
    {
     "name": "stderr",
     "output_type": "stream",
     "text": [
      "INFO:root:Finding WJetsToLNu_HT-2500ToInf samples and should combine them under WJetsLNu\n",
      "INFO:root:Applying fj_mass selection on 67557 events\n",
      "INFO:root:Applying SR1 selection on 42282 events\n",
      "INFO:root:Will fill the histograms with the remaining 24 events\n"
     ]
    },
    {
     "name": "stdout",
     "output_type": "stream",
     "text": [
      "syst pass_weight_PSFSR\n",
      "syst pass_weight_PSISR\n"
     ]
    },
    {
     "name": "stderr",
     "output_type": "stream",
     "text": [
      "INFO:root:Finding WJetsToLNu_HT-400To600 samples and should combine them under WJetsLNu\n",
      "INFO:root:Applying fj_mass selection on 42484 events\n",
      "INFO:root:Applying SR1 selection on 42320 events\n",
      "INFO:root:Will fill the histograms with the remaining 26 events\n"
     ]
    },
    {
     "name": "stdout",
     "output_type": "stream",
     "text": [
      "syst pass_weight_PSFSR\n",
      "syst pass_weight_PSISR\n"
     ]
    },
    {
     "name": "stderr",
     "output_type": "stream",
     "text": [
      "INFO:root:Finding WJetsToLNu_HT-600To800 samples and should combine them under WJetsLNu\n",
      "INFO:root:Applying fj_mass selection on 98597 events\n",
      "INFO:root:Applying SR1 selection on 96397 events\n",
      "INFO:root:Will fill the histograms with the remaining 111 events\n"
     ]
    },
    {
     "name": "stdout",
     "output_type": "stream",
     "text": [
      "syst pass_weight_PSFSR\n",
      "syst pass_weight_PSISR\n"
     ]
    },
    {
     "name": "stderr",
     "output_type": "stream",
     "text": [
      "INFO:root:Finding WJetsToLNu_HT-800To1200 samples and should combine them under WJetsLNu\n",
      "INFO:root:Applying fj_mass selection on 155149 events\n",
      "INFO:root:Applying SR1 selection on 142044 events\n",
      "INFO:root:Will fill the histograms with the remaining 186 events\n"
     ]
    },
    {
     "name": "stdout",
     "output_type": "stream",
     "text": [
      "syst pass_weight_PSFSR\n",
      "syst pass_weight_PSISR\n"
     ]
    },
    {
     "name": "stderr",
     "output_type": "stream",
     "text": [
      "INFO:root:Finding WW samples and should combine them under Diboson\n",
      "INFO:root:Applying fj_mass selection on 562 events\n",
      "INFO:root:Applying SR1 selection on 555 events\n",
      "INFO:root:Will fill the histograms with the remaining 1 events\n"
     ]
    },
    {
     "name": "stdout",
     "output_type": "stream",
     "text": [
      "syst pass_weight_PSFSR\n",
      "syst pass_weight_PSISR\n"
     ]
    },
    {
     "name": "stderr",
     "output_type": "stream",
     "text": [
      "INFO:root:Finding WZ samples and should combine them under Diboson\n",
      "INFO:root:Applying fj_mass selection on 464 events\n",
      "INFO:root:Applying SR1 selection on 456 events\n",
      "INFO:root:Will fill the histograms with the remaining 0 events\n"
     ]
    },
    {
     "name": "stdout",
     "output_type": "stream",
     "text": [
      "syst pass_weight_PSFSR\n",
      "syst pass_weight_PSISR\n"
     ]
    },
    {
     "name": "stderr",
     "output_type": "stream",
     "text": [
      "INFO:root:Finding ZZ samples and should combine them under Diboson\n",
      "INFO:root:Applying fj_mass selection on 189 events\n",
      "INFO:root:Applying SR1 selection on 189 events\n",
      "INFO:root:Will fill the histograms with the remaining 1 events\n"
     ]
    },
    {
     "name": "stdout",
     "output_type": "stream",
     "text": [
      "syst pass_weight_PSFSR\n",
      "syst pass_weight_PSISR\n"
     ]
    },
    {
     "name": "stderr",
     "output_type": "stream",
     "text": [
      "INFO:root:Finding ttHToNonbb_M125 samples and should combine them under ttH\n",
      "INFO:root:Applying fj_mass selection on 23393 events\n",
      "INFO:root:Applying SR1 selection on 21428 events\n",
      "INFO:root:Will fill the histograms with the remaining 205 events\n"
     ]
    },
    {
     "name": "stdout",
     "output_type": "stream",
     "text": [
      "syst pass_weight_PSFSR\n",
      "syst pass_weight_PSISR\n"
     ]
    },
    {
     "name": "stderr",
     "output_type": "stream",
     "text": [
      "INFO:root:Processing year 2018 and ele channel\n",
      "INFO:root:Finding DYJetsToLL_LHEFilterPtZ-0To50 samples and should combine them under DYJets\n",
      "INFO:root:Applying fj_mass selection on 824 events\n",
      "INFO:root:Applying SR1 selection on 821 events\n",
      "INFO:root:Will fill the histograms with the remaining 0 events\n"
     ]
    },
    {
     "name": "stdout",
     "output_type": "stream",
     "text": [
      "syst pass_weight_PSFSR\n",
      "syst pass_weight_PSISR\n"
     ]
    },
    {
     "name": "stderr",
     "output_type": "stream",
     "text": [
      "INFO:root:Finding DYJetsToLL_LHEFilterPtZ-100To250 samples and should combine them under DYJets\n",
      "INFO:root:Applying fj_mass selection on 34263 events\n",
      "INFO:root:Applying SR1 selection on 33902 events\n",
      "INFO:root:Will fill the histograms with the remaining 10 events\n"
     ]
    },
    {
     "name": "stdout",
     "output_type": "stream",
     "text": [
      "syst pass_weight_PSFSR\n",
      "syst pass_weight_PSISR\n"
     ]
    },
    {
     "name": "stderr",
     "output_type": "stream",
     "text": [
      "INFO:root:Finding DYJetsToLL_LHEFilterPtZ-250To400 samples and should combine them under DYJets\n",
      "INFO:root:Applying fj_mass selection on 307122 events\n",
      "INFO:root:Applying SR1 selection on 304176 events\n",
      "INFO:root:Will fill the histograms with the remaining 30 events\n"
     ]
    },
    {
     "name": "stdout",
     "output_type": "stream",
     "text": [
      "syst pass_weight_PSFSR\n",
      "syst pass_weight_PSISR\n"
     ]
    },
    {
     "name": "stderr",
     "output_type": "stream",
     "text": [
      "INFO:root:Finding DYJetsToLL_LHEFilterPtZ-400To650 samples and should combine them under DYJets\n",
      "INFO:root:Applying fj_mass selection on 98496 events\n",
      "INFO:root:Applying SR1 selection on 94094 events\n",
      "INFO:root:Will fill the histograms with the remaining 6 events\n"
     ]
    },
    {
     "name": "stdout",
     "output_type": "stream",
     "text": [
      "syst pass_weight_PSFSR\n",
      "syst pass_weight_PSISR\n"
     ]
    },
    {
     "name": "stderr",
     "output_type": "stream",
     "text": [
      "INFO:root:Finding DYJetsToLL_LHEFilterPtZ-50To100 samples and should combine them under DYJets\n",
      "INFO:root:Applying fj_mass selection on 2862 events\n",
      "INFO:root:Applying SR1 selection on 2836 events\n",
      "INFO:root:Will fill the histograms with the remaining 0 events\n"
     ]
    },
    {
     "name": "stdout",
     "output_type": "stream",
     "text": [
      "syst pass_weight_PSFSR\n",
      "syst pass_weight_PSISR\n"
     ]
    },
    {
     "name": "stderr",
     "output_type": "stream",
     "text": [
      "INFO:root:Finding DYJetsToLL_LHEFilterPtZ-650ToInf samples and should combine them under DYJets\n",
      "INFO:root:Applying fj_mass selection on 122461 events\n",
      "INFO:root:Applying SR1 selection on 103114 events\n",
      "INFO:root:Will fill the histograms with the remaining 10 events\n"
     ]
    },
    {
     "name": "stdout",
     "output_type": "stream",
     "text": [
      "syst pass_weight_PSFSR\n",
      "syst pass_weight_PSISR\n"
     ]
    },
    {
     "name": "stderr",
     "output_type": "stream",
     "text": [
      "INFO:root:Finding EWKWminus_WToQQ samples and should combine them under EWKvjets\n",
      "INFO:root:Applying fj_mass selection on 60 events\n",
      "INFO:root:Applying SR1 selection on 60 events\n",
      "INFO:root:Will fill the histograms with the remaining 0 events\n"
     ]
    },
    {
     "name": "stdout",
     "output_type": "stream",
     "text": [
      "syst pass_weight_PSFSR\n",
      "syst pass_weight_PSISR\n"
     ]
    },
    {
     "name": "stderr",
     "output_type": "stream",
     "text": [
      "INFO:root:Finding EWKWplus_WToQQ samples and should combine them under EWKvjets\n",
      "INFO:root:Applying fj_mass selection on 112 events\n",
      "INFO:root:Applying SR1 selection on 107 events\n",
      "INFO:root:Will fill the histograms with the remaining 1 events\n"
     ]
    },
    {
     "name": "stdout",
     "output_type": "stream",
     "text": [
      "syst pass_weight_PSFSR\n",
      "syst pass_weight_PSISR\n"
     ]
    },
    {
     "name": "stderr",
     "output_type": "stream",
     "text": [
      "INFO:root:Finding EWKZ_ZToQQ samples and should combine them under EWKvjets\n",
      "INFO:root:Applying fj_mass selection on 1 events\n",
      "INFO:root:Applying SR1 selection on 1 events\n",
      "INFO:root:Will fill the histograms with the remaining 0 events\n"
     ]
    },
    {
     "name": "stdout",
     "output_type": "stream",
     "text": [
      "syst pass_weight_PSFSR\n",
      "syst pass_weight_PSISR\n"
     ]
    },
    {
     "name": "stderr",
     "output_type": "stream",
     "text": [
      "INFO:root:Finding GluGluHToWW_Pt-200ToInf_M-125 samples and should combine them under ggF\n",
      "INFO:root:Applying fj_mass selection on 3067 events\n",
      "INFO:root:Applying SR1 selection on 3014 events\n",
      "INFO:root:Will fill the histograms with the remaining 21 events\n"
     ]
    },
    {
     "name": "stdout",
     "output_type": "stream",
     "text": [
      "syst pass_weight_PSFSR\n",
      "syst pass_weight_PSISR\n"
     ]
    },
    {
     "name": "stderr",
     "output_type": "stream",
     "text": [
      "INFO:root:Finding GluGluZH_HToWW_M-125_TuneCP5_13TeV-powheg-pythia8 samples and should combine them under ZH\n",
      "INFO:root:Applying fj_mass selection on 18554 events\n",
      "INFO:root:Applying SR1 selection on 18402 events\n",
      "INFO:root:Will fill the histograms with the remaining 965 events\n"
     ]
    },
    {
     "name": "stdout",
     "output_type": "stream",
     "text": [
      "syst pass_weight_PSFSR\n",
      "syst pass_weight_PSISR\n"
     ]
    },
    {
     "name": "stderr",
     "output_type": "stream",
     "text": [
      "INFO:root:Finding HWminusJ_HToWW_M-125 samples and should combine them under WH\n",
      "INFO:root:Applying fj_mass selection on 7868 events\n",
      "INFO:root:Applying SR1 selection on 7816 events\n",
      "INFO:root:Will fill the histograms with the remaining 516 events\n"
     ]
    },
    {
     "name": "stdout",
     "output_type": "stream",
     "text": [
      "syst pass_weight_PSFSR\n",
      "syst pass_weight_PSISR\n"
     ]
    },
    {
     "name": "stderr",
     "output_type": "stream",
     "text": [
      "INFO:root:Finding HWplusJ_HToWW_M-125 samples and should combine them under WH\n",
      "INFO:root:Applying fj_mass selection on 8633 events\n",
      "INFO:root:Applying SR1 selection on 8576 events\n",
      "INFO:root:Will fill the histograms with the remaining 556 events\n"
     ]
    },
    {
     "name": "stdout",
     "output_type": "stream",
     "text": [
      "syst pass_weight_PSFSR\n",
      "syst pass_weight_PSISR\n"
     ]
    },
    {
     "name": "stderr",
     "output_type": "stream",
     "text": [
      "INFO:root:Finding HZJ_HToWW_M-125 samples and should combine them under ZH\n",
      "INFO:root:Applying fj_mass selection on 13458 events\n",
      "INFO:root:Applying SR1 selection on 13358 events\n",
      "INFO:root:Will fill the histograms with the remaining 933 events\n"
     ]
    },
    {
     "name": "stdout",
     "output_type": "stream",
     "text": [
      "syst pass_weight_PSFSR\n",
      "syst pass_weight_PSISR\n"
     ]
    },
    {
     "name": "stderr",
     "output_type": "stream",
     "text": [
      "INFO:root:Finding ST_s-channel_4f_hadronicDecays samples and should combine them under SingleTop\n",
      "INFO:root:Applying fj_mass selection on 46 events\n",
      "INFO:root:Applying SR1 selection on 43 events\n",
      "INFO:root:Will fill the histograms with the remaining 0 events\n"
     ]
    },
    {
     "name": "stdout",
     "output_type": "stream",
     "text": [
      "syst pass_weight_PSFSR\n",
      "syst pass_weight_PSISR\n"
     ]
    },
    {
     "name": "stderr",
     "output_type": "stream",
     "text": [
      "INFO:root:Finding ST_s-channel_4f_leptonDecays samples and should combine them under SingleTop\n",
      "INFO:root:Applying fj_mass selection on 7609 events\n",
      "INFO:root:Applying SR1 selection on 7291 events\n",
      "INFO:root:Will fill the histograms with the remaining 2 events\n"
     ]
    },
    {
     "name": "stdout",
     "output_type": "stream",
     "text": [
      "syst pass_weight_PSFSR\n",
      "syst pass_weight_PSISR\n"
     ]
    },
    {
     "name": "stderr",
     "output_type": "stream",
     "text": [
      "INFO:root:Finding ST_t-channel_antitop_4f_InclusiveDecays samples and should combine them under SingleTop\n",
      "INFO:root:Applying fj_mass selection on 5590 events\n",
      "INFO:root:Applying SR1 selection on 5462 events\n",
      "INFO:root:Will fill the histograms with the remaining 1 events\n"
     ]
    },
    {
     "name": "stdout",
     "output_type": "stream",
     "text": [
      "syst pass_weight_PSFSR\n",
      "syst pass_weight_PSISR\n"
     ]
    },
    {
     "name": "stderr",
     "output_type": "stream",
     "text": [
      "INFO:root:Finding ST_t-channel_top_4f_InclusiveDecays samples and should combine them under SingleTop\n",
      "INFO:root:Applying fj_mass selection on 13440 events\n",
      "INFO:root:Applying SR1 selection on 13023 events\n",
      "INFO:root:Will fill the histograms with the remaining 3 events\n"
     ]
    },
    {
     "name": "stdout",
     "output_type": "stream",
     "text": [
      "syst pass_weight_PSFSR\n",
      "syst pass_weight_PSISR\n"
     ]
    },
    {
     "name": "stderr",
     "output_type": "stream",
     "text": [
      "INFO:root:Finding ST_tW_antitop_5f_inclusiveDecays samples and should combine them under SingleTop\n",
      "INFO:root:Applying fj_mass selection on 5401 events\n",
      "INFO:root:Applying SR1 selection on 5264 events\n",
      "INFO:root:Will fill the histograms with the remaining 6 events\n"
     ]
    },
    {
     "name": "stdout",
     "output_type": "stream",
     "text": [
      "syst pass_weight_PSFSR\n",
      "syst pass_weight_PSISR\n"
     ]
    },
    {
     "name": "stderr",
     "output_type": "stream",
     "text": [
      "INFO:root:Finding ST_tW_top_5f_inclusiveDecays samples and should combine them under SingleTop\n",
      "INFO:root:Applying fj_mass selection on 5491 events\n",
      "INFO:root:Applying SR1 selection on 5343 events\n",
      "INFO:root:Will fill the histograms with the remaining 6 events\n"
     ]
    },
    {
     "name": "stdout",
     "output_type": "stream",
     "text": [
      "syst pass_weight_PSFSR\n",
      "syst pass_weight_PSISR\n"
     ]
    },
    {
     "name": "stderr",
     "output_type": "stream",
     "text": [
      "INFO:root:Finding TTTo2L2Nu samples and should combine them under TTbar\n",
      "INFO:root:Applying fj_mass selection on 127417 events\n",
      "INFO:root:Applying SR1 selection on 124335 events\n",
      "INFO:root:Will fill the histograms with the remaining 104 events\n"
     ]
    },
    {
     "name": "stdout",
     "output_type": "stream",
     "text": [
      "syst pass_weight_PSFSR\n",
      "syst pass_weight_PSISR\n"
     ]
    },
    {
     "name": "stderr",
     "output_type": "stream",
     "text": [
      "INFO:root:Finding TTToHadronic samples and should combine them under TTbar\n",
      "INFO:root:Applying fj_mass selection on 1042 events\n",
      "INFO:root:Applying SR1 selection on 998 events\n",
      "INFO:root:Will fill the histograms with the remaining 1 events\n"
     ]
    },
    {
     "name": "stdout",
     "output_type": "stream",
     "text": [
      "syst pass_weight_PSFSR\n",
      "syst pass_weight_PSISR\n"
     ]
    },
    {
     "name": "stderr",
     "output_type": "stream",
     "text": [
      "INFO:root:Finding TTToSemiLeptonic samples and should combine them under TTbar\n",
      "INFO:root:Applying fj_mass selection on 393468 events\n",
      "INFO:root:Applying SR1 selection on 371245 events\n",
      "INFO:root:Will fill the histograms with the remaining 303 events\n"
     ]
    },
    {
     "name": "stdout",
     "output_type": "stream",
     "text": [
      "syst pass_weight_PSFSR\n",
      "syst pass_weight_PSISR\n"
     ]
    },
    {
     "name": "stderr",
     "output_type": "stream",
     "text": [
      "INFO:root:Finding VBFHToWWToAny_M-125_TuneCP5_withDipoleRecoil samples and should combine them under VBF\n",
      "INFO:root:Applying fj_mass selection on 437 events\n",
      "INFO:root:Applying SR1 selection on 430 events\n",
      "INFO:root:Will fill the histograms with the remaining 0 events\n"
     ]
    },
    {
     "name": "stdout",
     "output_type": "stream",
     "text": [
      "syst pass_weight_PSFSR\n",
      "syst pass_weight_PSISR\n"
     ]
    },
    {
     "name": "stderr",
     "output_type": "stream",
     "text": [
      "INFO:root:Finding WJetsToLNu_HT-100To200 samples and should combine them under WJetsLNu\n",
      "INFO:root:Finding WJetsToLNu_HT-1200To2500 samples and should combine them under WJetsLNu\n",
      "INFO:root:Applying fj_mass selection on 127251 events\n",
      "INFO:root:Applying SR1 selection on 99347 events\n",
      "INFO:root:Will fill the histograms with the remaining 77 events\n"
     ]
    },
    {
     "name": "stdout",
     "output_type": "stream",
     "text": [
      "syst pass_weight_PSFSR\n",
      "syst pass_weight_PSISR\n"
     ]
    },
    {
     "name": "stderr",
     "output_type": "stream",
     "text": [
      "INFO:root:Finding WJetsToLNu_HT-200To400 samples and should combine them under WJetsLNu\n",
      "INFO:root:Applying fj_mass selection on 12076 events\n",
      "INFO:root:Applying SR1 selection on 12070 events\n",
      "INFO:root:Will fill the histograms with the remaining 2 events\n"
     ]
    },
    {
     "name": "stdout",
     "output_type": "stream",
     "text": [
      "syst pass_weight_PSFSR\n",
      "syst pass_weight_PSISR\n"
     ]
    },
    {
     "name": "stderr",
     "output_type": "stream",
     "text": [
      "INFO:root:Finding WJetsToLNu_HT-2500ToInf samples and should combine them under WJetsLNu\n",
      "INFO:root:Applying fj_mass selection on 42882 events\n",
      "INFO:root:Applying SR1 selection on 26873 events\n",
      "INFO:root:Will fill the histograms with the remaining 6 events\n"
     ]
    },
    {
     "name": "stdout",
     "output_type": "stream",
     "text": [
      "syst pass_weight_PSFSR\n",
      "syst pass_weight_PSISR\n"
     ]
    },
    {
     "name": "stderr",
     "output_type": "stream",
     "text": [
      "INFO:root:Finding WJetsToLNu_HT-400To600 samples and should combine them under WJetsLNu\n",
      "INFO:root:Applying fj_mass selection on 28548 events\n",
      "INFO:root:Applying SR1 selection on 28405 events\n",
      "INFO:root:Will fill the histograms with the remaining 18 events\n"
     ]
    },
    {
     "name": "stdout",
     "output_type": "stream",
     "text": [
      "syst pass_weight_PSFSR\n",
      "syst pass_weight_PSISR\n"
     ]
    },
    {
     "name": "stderr",
     "output_type": "stream",
     "text": [
      "INFO:root:Finding WJetsToLNu_HT-600To800 samples and should combine them under WJetsLNu\n",
      "INFO:root:Applying fj_mass selection on 64597 events\n",
      "INFO:root:Applying SR1 selection on 63019 events\n",
      "INFO:root:Will fill the histograms with the remaining 74 events\n"
     ]
    },
    {
     "name": "stdout",
     "output_type": "stream",
     "text": [
      "syst pass_weight_PSFSR\n",
      "syst pass_weight_PSISR\n"
     ]
    },
    {
     "name": "stderr",
     "output_type": "stream",
     "text": [
      "INFO:root:Finding WJetsToLNu_HT-800To1200 samples and should combine them under WJetsLNu\n",
      "INFO:root:Applying fj_mass selection on 100796 events\n",
      "INFO:root:Applying SR1 selection on 92083 events\n",
      "INFO:root:Will fill the histograms with the remaining 99 events\n"
     ]
    },
    {
     "name": "stdout",
     "output_type": "stream",
     "text": [
      "syst pass_weight_PSFSR\n",
      "syst pass_weight_PSISR\n"
     ]
    },
    {
     "name": "stderr",
     "output_type": "stream",
     "text": [
      "INFO:root:Finding WW samples and should combine them under Diboson\n",
      "INFO:root:Applying fj_mass selection on 373 events\n",
      "INFO:root:Applying SR1 selection on 366 events\n",
      "INFO:root:Will fill the histograms with the remaining 1 events\n"
     ]
    },
    {
     "name": "stdout",
     "output_type": "stream",
     "text": [
      "syst pass_weight_PSFSR\n",
      "syst pass_weight_PSISR\n"
     ]
    },
    {
     "name": "stderr",
     "output_type": "stream",
     "text": [
      "INFO:root:Finding WZ samples and should combine them under Diboson\n",
      "INFO:root:Applying fj_mass selection on 588 events\n",
      "INFO:root:Applying SR1 selection on 581 events\n",
      "INFO:root:Will fill the histograms with the remaining 0 events\n"
     ]
    },
    {
     "name": "stdout",
     "output_type": "stream",
     "text": [
      "syst pass_weight_PSFSR\n",
      "syst pass_weight_PSISR\n"
     ]
    },
    {
     "name": "stderr",
     "output_type": "stream",
     "text": [
      "INFO:root:Finding ZZ samples and should combine them under Diboson\n",
      "INFO:root:Applying fj_mass selection on 340 events\n",
      "INFO:root:Applying SR1 selection on 339 events\n",
      "INFO:root:Will fill the histograms with the remaining 0 events\n"
     ]
    },
    {
     "name": "stdout",
     "output_type": "stream",
     "text": [
      "syst pass_weight_PSFSR\n",
      "syst pass_weight_PSISR\n"
     ]
    },
    {
     "name": "stderr",
     "output_type": "stream",
     "text": [
      "INFO:root:Finding ttHToNonbb_M125 samples and should combine them under ttH\n",
      "INFO:root:Applying fj_mass selection on 13890 events\n",
      "INFO:root:Applying SR1 selection on 12736 events\n",
      "INFO:root:Will fill the histograms with the remaining 108 events\n"
     ]
    },
    {
     "name": "stdout",
     "output_type": "stream",
     "text": [
      "syst pass_weight_PSFSR\n",
      "syst pass_weight_PSISR\n",
      "hists Hist(\n",
      "  StrCategory(['DYJets', 'ggF', 'ZH', 'WH', 'SingleTop', 'TTbar', 'VBF', 'WJetsLNu', 'Diboson', 'ttH', 'EWKvjets'], growth=True, name='Sample'),\n",
      "  StrCategory(['pass_nominal', 'pass_weight_PSFSR_DYJets_up', 'pass_weight_PSFSR_DYJets_down', 'pass_weight_PSISR_DYJets_up', 'pass_weight_PSISR_DYJets_down', 'pass_weight_pileup_id_up', 'pass_weight_pileup_id_down', 'pass_weight_d1K_NLO_up', 'pass_weight_d1K_NLO_down', 'pass_weight_d2K_NLO_up', 'pass_weight_d2K_NLO_down', 'pass_weight_d3K_NLO_up', 'pass_weight_d3K_NLO_down', 'pass_weight_d1kappa_EW_up', 'pass_weight_d1kappa_EW_down', 'pass_weight_W_d2kappa_EW_up', 'pass_weight_W_d2kappa_EW_down', 'pass_weight_W_d3kappa_EW_up', 'pass_weight_W_d3kappa_EW_down', 'pass_weight_Z_d2kappa_EW_up', 'pass_weight_Z_d2kappa_EW_down', 'pass_weight_Z_d3kappa_EW_up', 'pass_weight_Z_d3kappa_EW_down', 'pass_weight_ele_id_up', 'pass_weight_ele_id_down', 'pass_weight_ele_reco_up', 'pass_weight_ele_reco_down', 'pass_weight_mu_isolation_up', 'pass_weight_mu_isolation_down', 'pass_weight_mu_id_up', 'pass_weight_mu_id_down', 'pass_weight_mu_trigger_iso_up', 'pass_weight_mu_trigger_iso_down', 'pass_weight_mu_trigger_noniso_up', 'pass_weight_mu_trigger_noniso_down', 'pass_weight_pileup_up', 'pass_weight_pileup_down', 'pass_weight_btagSFlightCorrelated_up', 'pass_weight_btagSFlightCorrelated_down', 'pass_weight_btagSFbcCorrelated_up', 'pass_weight_btagSFbcCorrelated_down', 'pass_weight_btagSFlight_up', 'pass_weight_btagSFlight_down', 'pass_weight_btagSFbc_up', 'pass_weight_btagSFbc_down', 'pass_weight_Vtagger_up', 'pass_weight_Vtagger_down', 'pass_weight_pdf_acceptance_DYJets_up', 'pass_weight_pdf_acceptance_DYJets_down', 'pass_weight_qcd_scale_DYJets_up', 'pass_weight_qcd_scale_DYJets_down', 'pass_weight_trigger_up', 'pass_weight_trigger_down', 'pass_top_reweighting_up', 'pass_top_reweighting_down', 'pass_JMR_sig_2018_up', 'pass_JMR_sig_2018_down', 'pass_JMS_sig_2018_up', 'pass_JMS_sig_2018_down', 'pass_JMR_ttbar_2018_up', 'pass_JMR_ttbar_2018_down', 'pass_JMS_ttbar_2018_up', 'pass_JMS_ttbar_2018_down', 'pass_JMR_wjets_2018_up', 'pass_JMR_wjets_2018_down', 'pass_JMS_wjets_2018_up', 'pass_JMS_wjets_2018_down', 'pass_JES_FlavorQCD_up', 'pass_JES_FlavorQCD_down', 'pass_JES_RelativeBal_up', 'pass_JES_RelativeBal_down', 'pass_JES_HF_up', 'pass_JES_HF_down', 'pass_JES_BBEC1_up', 'pass_JES_BBEC1_down', 'pass_JES_EC2_up', 'pass_JES_EC2_down', 'pass_JES_Absolute_up', 'pass_JES_Absolute_down', 'pass_JES_BBEC1_year_up', 'pass_JES_BBEC1_year_down', 'pass_JES_RelativeSample_year_up', 'pass_JES_RelativeSample_year_down', 'pass_JES_EC2_year_up', 'pass_JES_EC2_year_down', 'pass_JES_HF_year_up', 'pass_JES_HF_year_down', 'pass_JES_Absolute_year_up', 'pass_JES_Absolute_year_down', 'pass_JER_year_up', 'pass_JER_year_down', 'pass_UES_up', 'pass_UES_down', 'pass_weight_PSFSR_ggF_up', 'pass_weight_PSFSR_ggF_down', 'pass_weight_PSISR_ggF_up', 'pass_weight_PSISR_ggF_down', 'pass_weight_pdf_acceptance_ggF_up', 'pass_weight_pdf_acceptance_ggF_down', 'pass_weight_qcd_scale_ggF_up', 'pass_weight_qcd_scale_ggF_down', 'pass_weight_PSFSR_ZH_up', 'pass_weight_PSFSR_ZH_down', 'pass_weight_PSISR_ZH_up', 'pass_weight_PSISR_ZH_down', 'pass_weight_pdf_acceptance_ZH_up', 'pass_weight_pdf_acceptance_ZH_down', 'pass_weight_qcd_scale_ZH_up', 'pass_weight_qcd_scale_ZH_down', 'pass_weight_PSFSR_WH_up', 'pass_weight_PSFSR_WH_down', 'pass_weight_PSISR_WH_up', 'pass_weight_PSISR_WH_down', 'pass_weight_pdf_acceptance_WH_up', 'pass_weight_pdf_acceptance_WH_down', 'pass_weight_qcd_scale_WH_up', 'pass_weight_qcd_scale_WH_down', 'pass_weight_PSFSR_SingleTop_up', 'pass_weight_PSFSR_SingleTop_down', 'pass_weight_PSISR_SingleTop_up', 'pass_weight_PSISR_SingleTop_down', 'pass_weight_pdf_acceptance_SingleTop_up', 'pass_weight_pdf_acceptance_SingleTop_down', 'pass_weight_qcd_scale_SingleTop_up', 'pass_weight_qcd_scale_SingleTop_down', 'pass_weight_PSFSR_TTbar_up', 'pass_weight_PSFSR_TTbar_down', 'pass_weight_PSISR_TTbar_up', 'pass_weight_PSISR_TTbar_down', 'pass_weight_pdf_acceptance_TTbar_up', 'pass_weight_pdf_acceptance_TTbar_down', 'pass_weight_qcd_scale_TTbar_up', 'pass_weight_qcd_scale_TTbar_down', 'pass_weight_PSFSR_VBF_up', 'pass_weight_PSFSR_VBF_down', 'pass_weight_PSISR_VBF_up', 'pass_weight_PSISR_VBF_down', 'pass_weight_pdf_acceptance_VBF_up', 'pass_weight_pdf_acceptance_VBF_down', 'pass_weight_qcd_scale_VBF_up', 'pass_weight_qcd_scale_VBF_down', 'pass_weight_PSFSR_WJetsLNu_up', 'pass_weight_PSFSR_WJetsLNu_down', 'pass_weight_PSISR_WJetsLNu_up', 'pass_weight_PSISR_WJetsLNu_down', 'pass_weight_pdf_acceptance_WJetsLNu_up', 'pass_weight_pdf_acceptance_WJetsLNu_down', 'pass_weight_qcd_scale_WJetsLNu_up', 'pass_weight_qcd_scale_WJetsLNu_down', 'pass_weight_PSFSR_Diboson_up', 'pass_weight_PSFSR_Diboson_down', 'pass_weight_PSISR_Diboson_up', 'pass_weight_PSISR_Diboson_down', 'pass_weight_pdf_acceptance_Diboson_up', 'pass_weight_pdf_acceptance_Diboson_down', 'pass_weight_qcd_scale_Diboson_up', 'pass_weight_qcd_scale_Diboson_down', 'pass_weight_PSFSR_ttH_up', 'pass_weight_PSFSR_ttH_down', 'pass_weight_PSISR_ttH_up', 'pass_weight_PSISR_ttH_down', 'pass_weight_pdf_acceptance_ttH_up', 'pass_weight_pdf_acceptance_ttH_down', 'pass_weight_qcd_scale_ttH_up', 'pass_weight_qcd_scale_ttH_down', 'pass_weight_PSFSR_EWKvjets_up', 'pass_weight_PSFSR_EWKvjets_down', 'pass_weight_PSISR_EWKvjets_up', 'pass_weight_PSISR_EWKvjets_down', 'pass_weight_pdf_acceptance_EWKvjets_up', 'pass_weight_pdf_acceptance_EWKvjets_down', 'pass_weight_qcd_scale_EWKvjets_up', 'pass_weight_qcd_scale_EWKvjets_down'], growth=True, name='Systematic'),\n",
      "  StrCategory(['SR1'], growth=True, name='Region'),\n",
      "  Variable([40, 70, 110, 140, 180], name='mass_observable', label='V reconstructed mass [GeV]'),\n",
      "  storage=Weight()) # Sum: WeightedSum(value=18614.3, variance=3306.65) (WeightedSum(value=18875.1, variance=3347.43) with flow)\n"
     ]
    }
   ],
   "source": [
    "years = ['2018']\n",
    "\n",
    "outdir = 'templates'\n",
    "\n",
    "channels = 'mu','ele'\n",
    "#channels = ['mu']\n",
    "\n",
    "\n",
    "with open(\"simplePass.yaml\", \"r\") as stream:\n",
    "    config = yaml.safe_load(stream)\n",
    "\n",
    "if len(years) == 4:\n",
    "    save_as = \"Run2\"\n",
    "else:\n",
    "    save_as = \"_\".join(years)\n",
    "\n",
    "if len(channels) == 1:\n",
    "    save_as += f\"_{channels[0]}_\"\n",
    "\n",
    "os.system(f\"mkdir -p {outdir}\")\n",
    "\n",
    "hists = get_templates( years, channels, config[\"samples\"], config[\"samples_dir\"], config[\"regions_sel\"], config[\"model_path\"],)\n",
    "\n",
    "fix_neg_yields(hists)\n",
    "\n",
    "#with open(f\"{outdir}/hists_templates_{save_as}.pkl\", \"wb\") as fp:\n",
    "with open(f\"{outdir}/hists_templates_{save_as}_pass.pkl\", \"wb\") as fp:\n",
    "    print('hists', hists)\n",
    "    pkl.dump(hists, fp)\n"
   ]
  },
  {
   "cell_type": "code",
   "execution_count": null,
   "id": "fe94b3b7-7ffd-489f-8b71-959b26a6209f",
   "metadata": {},
   "outputs": [],
   "source": []
  },
  {
   "cell_type": "code",
   "execution_count": null,
   "id": "c7af6983-4cf1-4b02-8b30-41762ce21da9",
   "metadata": {},
   "outputs": [],
   "source": []
  },
  {
   "cell_type": "code",
   "execution_count": null,
   "id": "10fd84e5-b148-487b-b994-61ef2fc69526",
   "metadata": {},
   "outputs": [],
   "source": []
  },
  {
   "cell_type": "code",
   "execution_count": null,
   "id": "2ad86111-fc67-4a4f-9026-3c440be72b38",
   "metadata": {},
   "outputs": [],
   "source": []
  },
  {
   "cell_type": "code",
   "execution_count": null,
   "id": "9d1f5f76-019a-4281-8ff7-32605ac08d66",
   "metadata": {},
   "outputs": [],
   "source": []
  },
  {
   "cell_type": "code",
   "execution_count": null,
   "id": "0183b0a5-4f43-4810-9619-ad9f8248379c",
   "metadata": {},
   "outputs": [],
   "source": []
  },
  {
   "cell_type": "code",
   "execution_count": null,
   "id": "d872b112-319e-4972-96eb-b0657593fc1f",
   "metadata": {},
   "outputs": [],
   "source": []
  },
  {
   "cell_type": "code",
   "execution_count": null,
   "id": "a74806ed-3ccc-4d05-b06c-b631005a8d95",
   "metadata": {},
   "outputs": [],
   "source": []
  },
  {
   "cell_type": "code",
   "execution_count": 3,
   "id": "411e06fa-20da-4f40-96bd-8bce7251cc21",
   "metadata": {},
   "outputs": [],
   "source": [
    "obj = pd.read_pickle(r'/home/jieun201/boostedhiggs_may27/combine_nov26/2017/templates/hists_templates_2017_pass.pkl')"
   ]
  },
  {
   "cell_type": "code",
   "execution_count": 4,
   "id": "f3d28c6c-5524-42ba-bc29-c687f1c7b2ab",
   "metadata": {},
   "outputs": [
    {
     "data": {
      "text/plain": [
       "Hist(\n",
       "  StrCategory(['DYJets', 'ggF', 'ZH', 'WH', 'SingleTop', 'TTbar', 'VBF', 'WJetsLNu', 'Diboson', 'ttH'], growth=True, name='Sample'),\n",
       "  StrCategory(['pass_nominal', 'pass_weight_PSFSR_DYJets_up', 'pass_weight_PSFSR_DYJets_down', 'pass_weight_PSISR_DYJets_up', 'pass_weight_PSISR_DYJets_down', 'pass_weight_pileup_id_up', 'pass_weight_pileup_id_down', 'pass_weight_d1K_NLO_up', 'pass_weight_d1K_NLO_down', 'pass_weight_d2K_NLO_up', 'pass_weight_d2K_NLO_down', 'pass_weight_d3K_NLO_up', 'pass_weight_d3K_NLO_down', 'pass_weight_d1kappa_EW_up', 'pass_weight_d1kappa_EW_down', 'pass_weight_W_d2kappa_EW_up', 'pass_weight_W_d2kappa_EW_down', 'pass_weight_W_d3kappa_EW_up', 'pass_weight_W_d3kappa_EW_down', 'pass_weight_Z_d2kappa_EW_up', 'pass_weight_Z_d2kappa_EW_down', 'pass_weight_Z_d3kappa_EW_up', 'pass_weight_Z_d3kappa_EW_down', 'pass_weight_ele_id_up', 'pass_weight_ele_id_down', 'pass_weight_ele_reco_up', 'pass_weight_ele_reco_down', 'pass_weight_mu_isolation_up', 'pass_weight_mu_isolation_down', 'pass_weight_mu_id_up', 'pass_weight_mu_id_down', 'pass_weight_mu_trigger_iso_up', 'pass_weight_mu_trigger_iso_down', 'pass_weight_mu_trigger_noniso_up', 'pass_weight_mu_trigger_noniso_down', 'pass_weight_pileup_up', 'pass_weight_pileup_down', 'pass_weight_L1Prefiring_up', 'pass_weight_L1Prefiring_down', 'pass_weight_btagSFlightCorrelated_up', 'pass_weight_btagSFlightCorrelated_down', 'pass_weight_btagSFbcCorrelated_up', 'pass_weight_btagSFbcCorrelated_down', 'pass_weight_btagSFlight_up', 'pass_weight_btagSFlight_down', 'pass_weight_btagSFbc_up', 'pass_weight_btagSFbc_down', 'pass_weight_Vtagger_up', 'pass_weight_Vtagger_down', 'pass_weight_pdf_acceptance_DYJets_up', 'pass_weight_pdf_acceptance_DYJets_down', 'pass_weight_qcd_scale_DYJets_up', 'pass_weight_qcd_scale_DYJets_down', 'pass_weight_trigger_up', 'pass_weight_trigger_down', 'pass_top_reweighting_up', 'pass_top_reweighting_down', 'pass_JMR_sig_2017_up', 'pass_JMR_sig_2017_down', 'pass_JMS_sig_2017_up', 'pass_JMS_sig_2017_down', 'pass_JMR_ttbar_2017_up', 'pass_JMR_ttbar_2017_down', 'pass_JMS_ttbar_2017_up', 'pass_JMS_ttbar_2017_down', 'pass_JMR_wjets_2017_up', 'pass_JMR_wjets_2017_down', 'pass_JMS_wjets_2017_up', 'pass_JMS_wjets_2017_down', 'pass_JES_FlavorQCD_up', 'pass_JES_FlavorQCD_down', 'pass_JES_RelativeBal_up', 'pass_JES_RelativeBal_down', 'pass_JES_HF_up', 'pass_JES_HF_down', 'pass_JES_BBEC1_up', 'pass_JES_BBEC1_down', 'pass_JES_EC2_up', 'pass_JES_EC2_down', 'pass_JES_Absolute_up', 'pass_JES_Absolute_down', 'pass_JES_BBEC1_year_up', 'pass_JES_BBEC1_year_down', 'pass_JES_RelativeSample_year_up', 'pass_JES_RelativeSample_year_down', 'pass_JES_EC2_year_up', 'pass_JES_EC2_year_down', 'pass_JES_HF_year_up', 'pass_JES_HF_year_down', 'pass_JES_Absolute_year_up', 'pass_JES_Absolute_year_down', 'pass_JER_year_up', 'pass_JER_year_down', 'pass_UES_up', 'pass_UES_down', 'pass_weight_PSFSR_ggF_up', 'pass_weight_PSFSR_ggF_down', 'pass_weight_PSISR_ggF_up', 'pass_weight_PSISR_ggF_down', 'pass_weight_pdf_acceptance_ggF_up', 'pass_weight_pdf_acceptance_ggF_down', 'pass_weight_qcd_scale_ggF_up', 'pass_weight_qcd_scale_ggF_down', 'pass_weight_PSFSR_ZH_up', 'pass_weight_PSFSR_ZH_down', 'pass_weight_PSISR_ZH_up', 'pass_weight_PSISR_ZH_down', 'pass_weight_pdf_acceptance_ZH_up', 'pass_weight_pdf_acceptance_ZH_down', 'pass_weight_qcd_scale_ZH_up', 'pass_weight_qcd_scale_ZH_down', 'pass_weight_PSFSR_WH_up', 'pass_weight_PSFSR_WH_down', 'pass_weight_PSISR_WH_up', 'pass_weight_PSISR_WH_down', 'pass_weight_pdf_acceptance_WH_up', 'pass_weight_pdf_acceptance_WH_down', 'pass_weight_qcd_scale_WH_up', 'pass_weight_qcd_scale_WH_down', 'pass_weight_PSFSR_SingleTop_up', 'pass_weight_PSFSR_SingleTop_down', 'pass_weight_PSISR_SingleTop_up', 'pass_weight_PSISR_SingleTop_down', 'pass_weight_pdf_acceptance_SingleTop_up', 'pass_weight_pdf_acceptance_SingleTop_down', 'pass_weight_qcd_scale_SingleTop_up', 'pass_weight_qcd_scale_SingleTop_down', 'pass_weight_PSFSR_TTbar_up', 'pass_weight_PSFSR_TTbar_down', 'pass_weight_PSISR_TTbar_up', 'pass_weight_PSISR_TTbar_down', 'pass_weight_pdf_acceptance_TTbar_up', 'pass_weight_pdf_acceptance_TTbar_down', 'pass_weight_qcd_scale_TTbar_up', 'pass_weight_qcd_scale_TTbar_down', 'pass_weight_PSFSR_VBF_up', 'pass_weight_PSFSR_VBF_down', 'pass_weight_PSISR_VBF_up', 'pass_weight_PSISR_VBF_down', 'pass_weight_pdf_acceptance_VBF_up', 'pass_weight_pdf_acceptance_VBF_down', 'pass_weight_qcd_scale_VBF_up', 'pass_weight_qcd_scale_VBF_down', 'pass_weight_PSFSR_WJetsLNu_up', 'pass_weight_PSFSR_WJetsLNu_down', 'pass_weight_PSISR_WJetsLNu_up', 'pass_weight_PSISR_WJetsLNu_down', 'pass_weight_pdf_acceptance_WJetsLNu_up', 'pass_weight_pdf_acceptance_WJetsLNu_down', 'pass_weight_qcd_scale_WJetsLNu_up', 'pass_weight_qcd_scale_WJetsLNu_down', 'pass_weight_PSFSR_Diboson_up', 'pass_weight_PSFSR_Diboson_down', 'pass_weight_PSISR_Diboson_up', 'pass_weight_PSISR_Diboson_down', 'pass_weight_pdf_acceptance_Diboson_up', 'pass_weight_pdf_acceptance_Diboson_down', 'pass_weight_qcd_scale_Diboson_up', 'pass_weight_qcd_scale_Diboson_down', 'pass_weight_PSFSR_ttH_up', 'pass_weight_PSFSR_ttH_down', 'pass_weight_PSISR_ttH_up', 'pass_weight_PSISR_ttH_down', 'pass_weight_pdf_acceptance_ttH_up', 'pass_weight_pdf_acceptance_ttH_down', 'pass_weight_qcd_scale_ttH_up', 'pass_weight_qcd_scale_ttH_down'], growth=True, name='Systematic'),\n",
       "  StrCategory(['SR1'], growth=True, name='Region'),\n",
       "  Variable([40, 70, 110, 140, 180], name='mass_observable', label='V reconstructed mass [GeV]'),\n",
       "  storage=Weight()) # Sum: WeightedSum(value=13070.1, variance=2232.17) (WeightedSum(value=13167.8, variance=2241.84) with flow)"
      ]
     },
     "execution_count": 4,
     "metadata": {},
     "output_type": "execute_result"
    }
   ],
   "source": [
    "obj"
   ]
  },
  {
   "cell_type": "code",
   "execution_count": 5,
   "id": "8b709d85-be3a-48d6-8e49-28682701a97e",
   "metadata": {},
   "outputs": [
    {
     "data": {
      "text/html": [
       "<html>\n",
       "<div style=\"display:flex; align-items:center;\">\n",
       "<div style=\"width:290px;\">\n",
       "<svg xmlns=\"http://www.w3.org/2000/svg\" viewBox=\"-10 -105 270 120\">\n",
       "<line x1=\"-5\" y1=\"0\" x2=\"255\" y2=\"0\" style=\"fill:none;stroke-width:2;stroke:currentColor\"/>\n",
       "<text text-anchor=\"middle\" x=\"0\" y=\"15\" style=\"fill:currentColor;\">\n",
       "40\n",
       "</text>\n",
       "<text text-anchor=\"middle\" x=\"250\" y=\"15\" style=\"fill:currentColor;\">\n",
       "180\n",
       "</text>\n",
       "<text text-anchor=\"middle\" x=\"125.0\" y=\"15\" style=\"fill:currentColor;\">\n",
       "V reconstructed mass [GeV]\n",
       "</text>\n",
       "<polyline points=\"  0,0   0,-68.7 53.5714,-68.7 53.5714,-100 125,-100 125,-52.5 178.571,-52.5 178.571,-24 250,-24 250,0\" style=\"fill:none; stroke:currentColor;\"/>\n",
       "</svg>\n",
       "</div>\n",
       "<div style=\"flex=grow:1;\">\n",
       "Variable([40, 70, 110, 140, 180], name='mass_observable', label='V reconstructed mass [GeV]')<br/>\n",
       "<hr style=\"margin-top:.2em; margin-bottom:.2em;\"/>\n",
       "Weight() Σ=WeightedSum(value=50.7577, variance=15.6302) <em>(WeightedSum(value=51.4957, variance=15.725) with flow)</em>\n",
       "\n",
       "</div>\n",
       "</div>\n",
       "</html>"
      ],
      "text/plain": [
       "Hist(Variable([40, 70, 110, 140, 180], name='mass_observable', label='V reconstructed mass [GeV]'), storage=Weight()) # Sum: WeightedSum(value=50.7577, variance=15.6302) (WeightedSum(value=51.4957, variance=15.725) with flow)"
      ]
     },
     "execution_count": 5,
     "metadata": {},
     "output_type": "execute_result"
    }
   ],
   "source": [
    "sample2 = obj[{\"Region\": \"SR1\", \"Sample\": \"WJetsLNu\", \"Systematic\": \"pass_weight_pileup_up\"}]\n",
    "sample2"
   ]
  },
  {
   "cell_type": "code",
   "execution_count": 6,
   "id": "16eadded-4839-46a0-9f8f-426876d69bfb",
   "metadata": {},
   "outputs": [
    {
     "data": {
      "text/html": [
       "<html>\n",
       "<div style=\"display:flex; align-items:center;\">\n",
       "<div style=\"width:290px;\">\n",
       "<svg xmlns=\"http://www.w3.org/2000/svg\" viewBox=\"-10 -105 270 120\">\n",
       "<line x1=\"-5\" y1=\"0\" x2=\"255\" y2=\"0\" style=\"fill:none;stroke-width:2;stroke:currentColor\"/>\n",
       "<text text-anchor=\"middle\" x=\"0\" y=\"15\" style=\"fill:currentColor;\">\n",
       "40\n",
       "</text>\n",
       "<text text-anchor=\"middle\" x=\"250\" y=\"15\" style=\"fill:currentColor;\">\n",
       "180\n",
       "</text>\n",
       "<text text-anchor=\"middle\" x=\"125.0\" y=\"15\" style=\"fill:currentColor;\">\n",
       "V reconstructed mass [GeV]\n",
       "</text>\n",
       "<polyline points=\"  0,0   0,-59.5 53.5714,-59.5 53.5714,-100 125,-100 125,-50.4 178.571,-50.4 178.571,-24.2 250,-24.2 250,0\" style=\"fill:none; stroke:currentColor;\"/>\n",
       "</svg>\n",
       "</div>\n",
       "<div style=\"flex=grow:1;\">\n",
       "Variable([40, 70, 110, 140, 180], name='mass_observable', label='V reconstructed mass [GeV]')<br/>\n",
       "<hr style=\"margin-top:.2em; margin-bottom:.2em;\"/>\n",
       "Weight() Σ=WeightedSum(value=48.7853, variance=13.7435) <em>(WeightedSum(value=49.3679, variance=13.8011) with flow)</em>\n",
       "\n",
       "</div>\n",
       "</div>\n",
       "</html>"
      ],
      "text/plain": [
       "Hist(Variable([40, 70, 110, 140, 180], name='mass_observable', label='V reconstructed mass [GeV]'), storage=Weight()) # Sum: WeightedSum(value=48.7853, variance=13.7435) (WeightedSum(value=49.3679, variance=13.8011) with flow)"
      ]
     },
     "execution_count": 6,
     "metadata": {},
     "output_type": "execute_result"
    }
   ],
   "source": [
    "sample2 = obj[{\"Region\": \"SR1\", \"Sample\": \"WJetsLNu\", \"Systematic\": \"pass_weight_pileup_down\"}]\n",
    "sample2"
   ]
  },
  {
   "cell_type": "code",
   "execution_count": 7,
   "id": "16ce533c-2d1e-4381-a2df-c5e0ef11b346",
   "metadata": {},
   "outputs": [
    {
     "data": {
      "text/html": [
       "<html>\n",
       "<div style=\"display:flex; align-items:center;\">\n",
       "<div style=\"width:290px;\">\n",
       "<svg xmlns=\"http://www.w3.org/2000/svg\" viewBox=\"-10 -105 270 120\">\n",
       "<line x1=\"-5\" y1=\"0\" x2=\"255\" y2=\"0\" style=\"fill:none;stroke-width:2;stroke:currentColor\"/>\n",
       "<text text-anchor=\"middle\" x=\"0\" y=\"15\" style=\"fill:currentColor;\">\n",
       "40\n",
       "</text>\n",
       "<text text-anchor=\"middle\" x=\"250\" y=\"15\" style=\"fill:currentColor;\">\n",
       "180\n",
       "</text>\n",
       "<text text-anchor=\"middle\" x=\"125.0\" y=\"15\" style=\"fill:currentColor;\">\n",
       "V reconstructed mass [GeV]\n",
       "</text>\n",
       "<polyline points=\"  0,0   0,-63.7 53.5714,-63.7 53.5714,-100 125,-100 125,-52 178.571,-52 178.571,-24.6 250,-24.6 250,0\" style=\"fill:none; stroke:currentColor;\"/>\n",
       "</svg>\n",
       "</div>\n",
       "<div style=\"flex=grow:1;\">\n",
       "Variable([40, 70, 110, 140, 180], name='mass_observable', label='V reconstructed mass [GeV]')<br/>\n",
       "<hr style=\"margin-top:.2em; margin-bottom:.2em;\"/>\n",
       "Weight() Σ=WeightedSum(value=49.6947, variance=13.476) <em>(WeightedSum(value=50.3142, variance=13.535) with flow)</em>\n",
       "\n",
       "</div>\n",
       "</div>\n",
       "</html>"
      ],
      "text/plain": [
       "Hist(Variable([40, 70, 110, 140, 180], name='mass_observable', label='V reconstructed mass [GeV]'), storage=Weight()) # Sum: WeightedSum(value=49.6947, variance=13.476) (WeightedSum(value=50.3142, variance=13.535) with flow)"
      ]
     },
     "execution_count": 7,
     "metadata": {},
     "output_type": "execute_result"
    }
   ],
   "source": [
    "sample2 = obj[{\"Region\": \"SR1\", \"Sample\": \"WJetsLNu\", \"Systematic\": \"pass_nominal\"}]\n",
    "sample2"
   ]
  },
  {
   "cell_type": "code",
   "execution_count": 8,
   "id": "33c43652-6ef6-454e-887f-41fc0a888fbc",
   "metadata": {},
   "outputs": [
    {
     "data": {
      "text/html": [
       "<html>\n",
       "<div style=\"display:flex; align-items:center;\">\n",
       "<div style=\"width:290px;\">\n",
       "<svg xmlns=\"http://www.w3.org/2000/svg\" viewBox=\"-10 -105 270 120\">\n",
       "<line x1=\"-5\" y1=\"0\" x2=\"255\" y2=\"0\" style=\"fill:none;stroke-width:2;stroke:currentColor\"/>\n",
       "<text text-anchor=\"middle\" x=\"0\" y=\"15\" style=\"fill:currentColor;\">\n",
       "40\n",
       "</text>\n",
       "<text text-anchor=\"middle\" x=\"250\" y=\"15\" style=\"fill:currentColor;\">\n",
       "180\n",
       "</text>\n",
       "<text text-anchor=\"middle\" x=\"125.0\" y=\"15\" style=\"fill:currentColor;\">\n",
       "V reconstructed mass [GeV]\n",
       "</text>\n",
       "<polyline points=\"  0,0   0,-61.9 53.5714,-61.9 53.5714,-100 125,-100 125,-56.7 178.571,-56.7 178.571,-23 250,-23 250,0\" style=\"fill:none; stroke:currentColor;\"/>\n",
       "</svg>\n",
       "</div>\n",
       "<div style=\"flex=grow:1;\">\n",
       "Variable([40, 70, 110, 140, 180], name='mass_observable', label='V reconstructed mass [GeV]')<br/>\n",
       "<hr style=\"margin-top:.2em; margin-bottom:.2em;\"/>\n",
       "Weight() Σ=WeightedSum(value=48.3242, variance=13.8241) <em>(WeightedSum(value=49.0139, variance=13.9006) with flow)</em>\n",
       "\n",
       "</div>\n",
       "</div>\n",
       "</html>"
      ],
      "text/plain": [
       "Hist(Variable([40, 70, 110, 140, 180], name='mass_observable', label='V reconstructed mass [GeV]'), storage=Weight()) # Sum: WeightedSum(value=48.3242, variance=13.8241) (WeightedSum(value=49.0139, variance=13.9006) with flow)"
      ]
     },
     "execution_count": 8,
     "metadata": {},
     "output_type": "execute_result"
    }
   ],
   "source": [
    "sample2 = obj[{\"Region\": \"SR1\", \"Sample\": \"WJetsLNu\", \"Systematic\": \"pass_weight_PSFSR_WJetsLNu_up\"}]\n",
    "sample2"
   ]
  },
  {
   "cell_type": "code",
   "execution_count": 9,
   "id": "4b5f33cc-0c5d-4455-b00d-193463a4715e",
   "metadata": {},
   "outputs": [
    {
     "data": {
      "text/html": [
       "<html>\n",
       "<div style=\"display:flex; align-items:center;\">\n",
       "<div style=\"width:290px;\">\n",
       "<svg xmlns=\"http://www.w3.org/2000/svg\" viewBox=\"-10 -105 270 120\">\n",
       "<line x1=\"-5\" y1=\"0\" x2=\"255\" y2=\"0\" style=\"fill:none;stroke-width:2;stroke:currentColor\"/>\n",
       "<text text-anchor=\"middle\" x=\"0\" y=\"15\" style=\"fill:currentColor;\">\n",
       "40\n",
       "</text>\n",
       "<text text-anchor=\"middle\" x=\"250\" y=\"15\" style=\"fill:currentColor;\">\n",
       "180\n",
       "</text>\n",
       "<text text-anchor=\"middle\" x=\"125.0\" y=\"15\" style=\"fill:currentColor;\">\n",
       "V reconstructed mass [GeV]\n",
       "</text>\n",
       "<polyline points=\"  0,0   0,-63.7 53.5714,-63.7 53.5714,-100 125,-100 125,-52 178.571,-52 178.571,-24.6 250,-24.6 250,0\" style=\"fill:none; stroke:currentColor;\"/>\n",
       "</svg>\n",
       "</div>\n",
       "<div style=\"flex=grow:1;\">\n",
       "Variable([40, 70, 110, 140, 180], name='mass_observable', label='V reconstructed mass [GeV]')<br/>\n",
       "<hr style=\"margin-top:.2em; margin-bottom:.2em;\"/>\n",
       "Weight() Σ=WeightedSum(value=49.6947, variance=13.476) <em>(WeightedSum(value=50.3142, variance=13.535) with flow)</em>\n",
       "\n",
       "</div>\n",
       "</div>\n",
       "</html>"
      ],
      "text/plain": [
       "Hist(Variable([40, 70, 110, 140, 180], name='mass_observable', label='V reconstructed mass [GeV]'), storage=Weight()) # Sum: WeightedSum(value=49.6947, variance=13.476) (WeightedSum(value=50.3142, variance=13.535) with flow)"
      ]
     },
     "execution_count": 9,
     "metadata": {},
     "output_type": "execute_result"
    }
   ],
   "source": [
    "sample2 = obj[{\"Region\": \"SR1\", \"Sample\": \"WJetsLNu\", \"Systematic\": \"pass_nominal\"}]\n",
    "sample2"
   ]
  },
  {
   "cell_type": "code",
   "execution_count": 10,
   "id": "7b274c18-5aa8-4a1d-9491-7d45ce0a045f",
   "metadata": {},
   "outputs": [
    {
     "data": {
      "text/html": [
       "<html>\n",
       "<div style=\"display:flex; align-items:center;\">\n",
       "<div style=\"width:290px;\">\n",
       "<svg xmlns=\"http://www.w3.org/2000/svg\" viewBox=\"-10 -105 270 120\">\n",
       "<line x1=\"-5\" y1=\"0\" x2=\"255\" y2=\"0\" style=\"fill:none;stroke-width:2;stroke:currentColor\"/>\n",
       "<text text-anchor=\"middle\" x=\"0\" y=\"15\" style=\"fill:currentColor;\">\n",
       "40\n",
       "</text>\n",
       "<text text-anchor=\"middle\" x=\"250\" y=\"15\" style=\"fill:currentColor;\">\n",
       "180\n",
       "</text>\n",
       "<text text-anchor=\"middle\" x=\"125.0\" y=\"15\" style=\"fill:currentColor;\">\n",
       "V reconstructed mass [GeV]\n",
       "</text>\n",
       "<polyline points=\"  0,0   0,-80 53.5714,-80 53.5714,-100 125,-100 125,-49.2 178.571,-49.2 178.571,-48.9 250,-48.9 250,0\" style=\"fill:none; stroke:currentColor;\"/>\n",
       "</svg>\n",
       "</div>\n",
       "<div style=\"flex=grow:1;\">\n",
       "Variable([40, 70, 110, 140, 180], name='mass_observable', label='V reconstructed mass [GeV]')<br/>\n",
       "<hr style=\"margin-top:.2em; margin-bottom:.2em;\"/>\n",
       "Weight() Σ=WeightedSum(value=52.9878, variance=48.1874) <em>(WeightedSum(value=53.3478, variance=48.2089) with flow)</em>\n",
       "\n",
       "</div>\n",
       "</div>\n",
       "</html>"
      ],
      "text/plain": [
       "Hist(Variable([40, 70, 110, 140, 180], name='mass_observable', label='V reconstructed mass [GeV]'), storage=Weight()) # Sum: WeightedSum(value=52.9878, variance=48.1874) (WeightedSum(value=53.3478, variance=48.2089) with flow)"
      ]
     },
     "execution_count": 10,
     "metadata": {},
     "output_type": "execute_result"
    }
   ],
   "source": [
    "sample2 = obj[{\"Region\": \"SR1\", \"Sample\": \"WJetsLNu\", \"Systematic\": \"pass_weight_PSFSR_WJetsLNu_down\"}]\n",
    "sample2"
   ]
  },
  {
   "cell_type": "code",
   "execution_count": 11,
   "id": "022248c1-3b0a-46b8-8430-0c7f5dccd42f",
   "metadata": {},
   "outputs": [
    {
     "data": {
      "text/html": [
       "<html>\n",
       "<div style=\"display:flex; align-items:center;\">\n",
       "<div style=\"width:290px;\">\n",
       "<svg xmlns=\"http://www.w3.org/2000/svg\" viewBox=\"-10 -105 270 120\">\n",
       "<line x1=\"-5\" y1=\"0\" x2=\"255\" y2=\"0\" style=\"fill:none;stroke-width:2;stroke:currentColor\"/>\n",
       "<text text-anchor=\"middle\" x=\"0\" y=\"15\" style=\"fill:currentColor;\">\n",
       "40\n",
       "</text>\n",
       "<text text-anchor=\"middle\" x=\"250\" y=\"15\" style=\"fill:currentColor;\">\n",
       "180\n",
       "</text>\n",
       "<text text-anchor=\"middle\" x=\"125.0\" y=\"15\" style=\"fill:currentColor;\">\n",
       "V reconstructed mass [GeV]\n",
       "</text>\n",
       "<polyline points=\"  0,0   0,-63.7 53.5714,-63.7 53.5714,-100 125,-100 125,-52 178.571,-52 178.571,-24.6 250,-24.6 250,0\" style=\"fill:none; stroke:currentColor;\"/>\n",
       "</svg>\n",
       "</div>\n",
       "<div style=\"flex=grow:1;\">\n",
       "Variable([40, 70, 110, 140, 180], name='mass_observable', label='V reconstructed mass [GeV]')<br/>\n",
       "<hr style=\"margin-top:.2em; margin-bottom:.2em;\"/>\n",
       "Weight() Σ=WeightedSum(value=49.6947, variance=13.476) <em>(WeightedSum(value=50.3142, variance=13.535) with flow)</em>\n",
       "\n",
       "</div>\n",
       "</div>\n",
       "</html>"
      ],
      "text/plain": [
       "Hist(Variable([40, 70, 110, 140, 180], name='mass_observable', label='V reconstructed mass [GeV]'), storage=Weight()) # Sum: WeightedSum(value=49.6947, variance=13.476) (WeightedSum(value=50.3142, variance=13.535) with flow)"
      ]
     },
     "execution_count": 11,
     "metadata": {},
     "output_type": "execute_result"
    }
   ],
   "source": [
    "sample2 = obj[{\"Region\": \"SR1\", \"Sample\": \"WJetsLNu\", \"Systematic\": \"pass_nominal\"}]\n",
    "sample2"
   ]
  },
  {
   "cell_type": "code",
   "execution_count": 12,
   "id": "35d68461-769d-40d4-a40d-fc79d7b62197",
   "metadata": {},
   "outputs": [
    {
     "data": {
      "text/html": [
       "<html>\n",
       "<div style=\"display:flex; align-items:center;\">\n",
       "<div style=\"width:290px;\">\n",
       "<svg xmlns=\"http://www.w3.org/2000/svg\" viewBox=\"-10 -105 270 120\">\n",
       "<line x1=\"-5\" y1=\"0\" x2=\"255\" y2=\"0\" style=\"fill:none;stroke-width:2;stroke:currentColor\"/>\n",
       "<text text-anchor=\"middle\" x=\"0\" y=\"15\" style=\"fill:currentColor;\">\n",
       "40\n",
       "</text>\n",
       "<text text-anchor=\"middle\" x=\"250\" y=\"15\" style=\"fill:currentColor;\">\n",
       "180\n",
       "</text>\n",
       "<text text-anchor=\"middle\" x=\"125.0\" y=\"15\" style=\"fill:currentColor;\">\n",
       "V reconstructed mass [GeV]\n",
       "</text>\n",
       "<polyline points=\"  0,0   0,-64 53.5714,-64 53.5714,-100 125,-100 125,-52.2 178.571,-52.2 178.571,-24.6 250,-24.6 250,0\" style=\"fill:none; stroke:currentColor;\"/>\n",
       "</svg>\n",
       "</div>\n",
       "<div style=\"flex=grow:1;\">\n",
       "Variable([40, 70, 110, 140, 180], name='mass_observable', label='V reconstructed mass [GeV]')<br/>\n",
       "<hr style=\"margin-top:.2em; margin-bottom:.2em;\"/>\n",
       "Weight() Σ=WeightedSum(value=48.8635, variance=13.0214) <em>(WeightedSum(value=49.4784, variance=13.0793) with flow)</em>\n",
       "\n",
       "</div>\n",
       "</div>\n",
       "</html>"
      ],
      "text/plain": [
       "Hist(Variable([40, 70, 110, 140, 180], name='mass_observable', label='V reconstructed mass [GeV]'), storage=Weight()) # Sum: WeightedSum(value=48.8635, variance=13.0214) (WeightedSum(value=49.4784, variance=13.0793) with flow)"
      ]
     },
     "execution_count": 12,
     "metadata": {},
     "output_type": "execute_result"
    }
   ],
   "source": [
    "sample2 = obj[{\"Region\": \"SR1\", \"Sample\": \"WJetsLNu\", \"Systematic\": \"pass_weight_d1kappa_EW_down\"}]\n",
    "\n",
    "sample2"
   ]
  },
  {
   "cell_type": "code",
   "execution_count": 13,
   "id": "196fb26e-6fc8-4102-bbb1-16482961f8df",
   "metadata": {},
   "outputs": [
    {
     "data": {
      "text/html": [
       "<html>\n",
       "<div style=\"display:flex; align-items:center;\">\n",
       "<div style=\"width:290px;\">\n",
       "<svg xmlns=\"http://www.w3.org/2000/svg\" viewBox=\"-10 -105 270 120\">\n",
       "<line x1=\"-5\" y1=\"0\" x2=\"255\" y2=\"0\" style=\"fill:none;stroke-width:2;stroke:currentColor\"/>\n",
       "<text text-anchor=\"middle\" x=\"0\" y=\"15\" style=\"fill:currentColor;\">\n",
       "40\n",
       "</text>\n",
       "<text text-anchor=\"middle\" x=\"250\" y=\"15\" style=\"fill:currentColor;\">\n",
       "180\n",
       "</text>\n",
       "<text text-anchor=\"middle\" x=\"125.0\" y=\"15\" style=\"fill:currentColor;\">\n",
       "V reconstructed mass [GeV]\n",
       "</text>\n",
       "<polyline points=\"  0,0   0,-64 53.5714,-64 53.5714,-100 125,-100 125,-52.2 178.571,-52.2 178.571,-24.6 250,-24.6 250,0\" style=\"fill:none; stroke:currentColor;\"/>\n",
       "</svg>\n",
       "</div>\n",
       "<div style=\"flex=grow:1;\">\n",
       "Variable([40, 70, 110, 140, 180], name='mass_observable', label='V reconstructed mass [GeV]')<br/>\n",
       "<hr style=\"margin-top:.2em; margin-bottom:.2em;\"/>\n",
       "Weight() Σ=WeightedSum(value=48.8797, variance=13.0255) <em>(WeightedSum(value=49.4947, variance=13.0835) with flow)</em>\n",
       "\n",
       "</div>\n",
       "</div>\n",
       "</html>"
      ],
      "text/plain": [
       "Hist(Variable([40, 70, 110, 140, 180], name='mass_observable', label='V reconstructed mass [GeV]'), storage=Weight()) # Sum: WeightedSum(value=48.8797, variance=13.0255) (WeightedSum(value=49.4947, variance=13.0835) with flow)"
      ]
     },
     "execution_count": 13,
     "metadata": {},
     "output_type": "execute_result"
    }
   ],
   "source": [
    "sample2 = obj[{\"Region\": \"SR1\", \"Sample\": \"WJetsLNu\", \"Systematic\": \"pass_weight_d1kappa_EW_up\"}]\n",
    "\n",
    "sample2"
   ]
  },
  {
   "cell_type": "code",
   "execution_count": 14,
   "id": "ed8ba8df-5df6-4dab-81a8-faa4b85db201",
   "metadata": {},
   "outputs": [
    {
     "data": {
      "text/html": [
       "<html>\n",
       "<div style=\"display:flex; align-items:center;\">\n",
       "<div style=\"width:290px;\">\n",
       "<svg xmlns=\"http://www.w3.org/2000/svg\" viewBox=\"-10 -105 270 120\">\n",
       "<line x1=\"-5\" y1=\"0\" x2=\"255\" y2=\"0\" style=\"fill:none;stroke-width:2;stroke:currentColor\"/>\n",
       "<text text-anchor=\"middle\" x=\"0\" y=\"15\" style=\"fill:currentColor;\">\n",
       "40\n",
       "</text>\n",
       "<text text-anchor=\"middle\" x=\"250\" y=\"15\" style=\"fill:currentColor;\">\n",
       "180\n",
       "</text>\n",
       "<text text-anchor=\"middle\" x=\"125.0\" y=\"15\" style=\"fill:currentColor;\">\n",
       "V reconstructed mass [GeV]\n",
       "</text>\n",
       "<polyline points=\"  0,0   0,-63.9 53.5714,-63.9 53.5714,-100 125,-100 125,-51.9 178.571,-51.9 178.571,-24.6 250,-24.6 250,0\" style=\"fill:none; stroke:currentColor;\"/>\n",
       "</svg>\n",
       "</div>\n",
       "<div style=\"flex=grow:1;\">\n",
       "Variable([40, 70, 110, 140, 180], name='mass_observable', label='V reconstructed mass [GeV]')<br/>\n",
       "<hr style=\"margin-top:.2em; margin-bottom:.2em;\"/>\n",
       "Weight() Σ=WeightedSum(value=49.979, variance=13.5288) <em>(WeightedSum(value=50.5973, variance=13.5876) with flow)</em>\n",
       "\n",
       "</div>\n",
       "</div>\n",
       "</html>"
      ],
      "text/plain": [
       "Hist(Variable([40, 70, 110, 140, 180], name='mass_observable', label='V reconstructed mass [GeV]'), storage=Weight()) # Sum: WeightedSum(value=49.979, variance=13.5288) (WeightedSum(value=50.5973, variance=13.5876) with flow)"
      ]
     },
     "execution_count": 14,
     "metadata": {},
     "output_type": "execute_result"
    }
   ],
   "source": [
    "#sample2 = obj[{\"Region\": \"SR1\", \"Sample\": \"WJetsLNu\", \"Systematic\": \"pass_weight_W_d2kappa_EW_down\"}]\n",
    "sample2 = obj[{\"Region\": \"SR1\", \"Sample\": \"WJetsLNu\", \"Systematic\": \"pass_weight_btagSFlight_down\"}]\n",
    "\n",
    "sample2"
   ]
  },
  {
   "cell_type": "code",
   "execution_count": 15,
   "id": "21d90c5b-45fe-49ef-b478-e201cc437eec",
   "metadata": {},
   "outputs": [
    {
     "data": {
      "text/html": [
       "<html>\n",
       "<div style=\"display:flex; align-items:center;\">\n",
       "<div style=\"width:290px;\">\n",
       "<svg xmlns=\"http://www.w3.org/2000/svg\" viewBox=\"-10 -105 270 120\">\n",
       "<line x1=\"-5\" y1=\"0\" x2=\"255\" y2=\"0\" style=\"fill:none;stroke-width:2;stroke:currentColor\"/>\n",
       "<text text-anchor=\"middle\" x=\"0\" y=\"15\" style=\"fill:currentColor;\">\n",
       "40\n",
       "</text>\n",
       "<text text-anchor=\"middle\" x=\"250\" y=\"15\" style=\"fill:currentColor;\">\n",
       "180\n",
       "</text>\n",
       "<text text-anchor=\"middle\" x=\"125.0\" y=\"15\" style=\"fill:currentColor;\">\n",
       "V reconstructed mass [GeV]\n",
       "</text>\n",
       "<polyline points=\"  0,0   0,-64 53.5714,-64 53.5714,-100 125,-100 125,-52.3 178.571,-52.3 178.571,-24.7 250,-24.7 250,0\" style=\"fill:none; stroke:currentColor;\"/>\n",
       "</svg>\n",
       "</div>\n",
       "<div style=\"flex=grow:1;\">\n",
       "Variable([40, 70, 110, 140, 180], name='mass_observable', label='V reconstructed mass [GeV]')<br/>\n",
       "<hr style=\"margin-top:.2em; margin-bottom:.2em;\"/>\n",
       "Weight() Σ=WeightedSum(value=49.0173, variance=13.0902) <em>(WeightedSum(value=49.6344, variance=13.1485) with flow)</em>\n",
       "\n",
       "</div>\n",
       "</div>\n",
       "</html>"
      ],
      "text/plain": [
       "Hist(Variable([40, 70, 110, 140, 180], name='mass_observable', label='V reconstructed mass [GeV]'), storage=Weight()) # Sum: WeightedSum(value=49.0173, variance=13.0902) (WeightedSum(value=49.6344, variance=13.1485) with flow)"
      ]
     },
     "execution_count": 15,
     "metadata": {},
     "output_type": "execute_result"
    }
   ],
   "source": [
    "sample2 = obj[{\"Region\": \"SR1\", \"Sample\": \"WJetsLNu\", \"Systematic\": \"pass_weight_W_d2kappa_EW_up\"}]\n",
    "sample2"
   ]
  },
  {
   "cell_type": "code",
   "execution_count": 16,
   "id": "4bc24e19-05d6-4075-b403-a1098d0271f1",
   "metadata": {},
   "outputs": [
    {
     "data": {
      "text/html": [
       "<html>\n",
       "<div style=\"display:flex; align-items:center;\">\n",
       "<div style=\"width:290px;\">\n",
       "<svg xmlns=\"http://www.w3.org/2000/svg\" viewBox=\"-10 -105 270 120\">\n",
       "<line x1=\"-5\" y1=\"0\" x2=\"255\" y2=\"0\" style=\"fill:none;stroke-width:2;stroke:currentColor\"/>\n",
       "<text text-anchor=\"middle\" x=\"0\" y=\"15\" style=\"fill:currentColor;\">\n",
       "40\n",
       "</text>\n",
       "<text text-anchor=\"middle\" x=\"250\" y=\"15\" style=\"fill:currentColor;\">\n",
       "180\n",
       "</text>\n",
       "<text text-anchor=\"middle\" x=\"125.0\" y=\"15\" style=\"fill:currentColor;\">\n",
       "V reconstructed mass [GeV]\n",
       "</text>\n",
       "<polyline points=\"  0,0   0,-5.71 53.5714,-5.71 53.5714,-100 125,-100 125,-31 178.571,-31 178.571,-2.33 250,-2.33 250,0\" style=\"fill:none; stroke:currentColor;\"/>\n",
       "</svg>\n",
       "</div>\n",
       "<div style=\"flex=grow:1;\">\n",
       "Variable([40, 70, 110, 140, 180], name='mass_observable', label='V reconstructed mass [GeV]')<br/>\n",
       "<hr style=\"margin-top:.2em; margin-bottom:.2em;\"/>\n",
       "Weight() Σ=WeightedSum(value=1.40984, variance=0.00074408) <em>(WeightedSum(value=1.4104, variance=0.000744336) with flow)</em>\n",
       "\n",
       "</div>\n",
       "</div>\n",
       "</html>"
      ],
      "text/plain": [
       "Hist(Variable([40, 70, 110, 140, 180], name='mass_observable', label='V reconstructed mass [GeV]'), storage=Weight()) # Sum: WeightedSum(value=1.40984, variance=0.00074408) (WeightedSum(value=1.4104, variance=0.000744336) with flow)"
      ]
     },
     "execution_count": 16,
     "metadata": {},
     "output_type": "execute_result"
    }
   ],
   "source": [
    "#sample2 = obj[{\"Region\": \"SR1\", \"Sample\": \"ZH\", \"Systematic\": \"pass_weight_PSFSR_ZH_up\"}]\n",
    "\n",
    "sample2 = obj[{\"Region\": \"SR1\", \"Sample\": \"ZH\", \"Systematic\": \"pass_weight_pdf_acceptance_ZH_up\"}]\n",
    "\n",
    "\n",
    "sample2\n"
   ]
  },
  {
   "cell_type": "code",
   "execution_count": 17,
   "id": "8dc8ebbc-0800-47c9-90e0-4d70e1c79552",
   "metadata": {},
   "outputs": [
    {
     "data": {
      "text/html": [
       "<html>\n",
       "<div style=\"display:flex; align-items:center;\">\n",
       "<div style=\"width:290px;\">\n",
       "<svg xmlns=\"http://www.w3.org/2000/svg\" viewBox=\"-10 -105 270 120\">\n",
       "<line x1=\"-5\" y1=\"0\" x2=\"255\" y2=\"0\" style=\"fill:none;stroke-width:2;stroke:currentColor\"/>\n",
       "<text text-anchor=\"middle\" x=\"0\" y=\"15\" style=\"fill:currentColor;\">\n",
       "40\n",
       "</text>\n",
       "<text text-anchor=\"middle\" x=\"250\" y=\"15\" style=\"fill:currentColor;\">\n",
       "180\n",
       "</text>\n",
       "<text text-anchor=\"middle\" x=\"125.0\" y=\"15\" style=\"fill:currentColor;\">\n",
       "V reconstructed mass [GeV]\n",
       "</text>\n",
       "<polyline points=\"  0,0   0,-5.76 53.5714,-5.76 53.5714,-100 125,-100 125,-31 178.571,-31 178.571,-2.34 250,-2.34 250,0\" style=\"fill:none; stroke:currentColor;\"/>\n",
       "</svg>\n",
       "</div>\n",
       "<div style=\"flex=grow:1;\">\n",
       "Variable([40, 70, 110, 140, 180], name='mass_observable', label='V reconstructed mass [GeV]')<br/>\n",
       "<hr style=\"margin-top:.2em; margin-bottom:.2em;\"/>\n",
       "Weight() Σ=WeightedSum(value=1.27411, variance=0.000601104) <em>(WeightedSum(value=1.27462, variance=0.000601316) with flow)</em>\n",
       "\n",
       "</div>\n",
       "</div>\n",
       "</html>"
      ],
      "text/plain": [
       "Hist(Variable([40, 70, 110, 140, 180], name='mass_observable', label='V reconstructed mass [GeV]'), storage=Weight()) # Sum: WeightedSum(value=1.27411, variance=0.000601104) (WeightedSum(value=1.27462, variance=0.000601316) with flow)"
      ]
     },
     "execution_count": 17,
     "metadata": {},
     "output_type": "execute_result"
    }
   ],
   "source": [
    "#sample2 = obj[{\"Region\": \"SR1\", \"Sample\": \"ZH\", \"Systematic\": \"pass_weight_PSISR_ZH_up\"}]\n",
    "#sample2 = obj[{\"Region\": \"SR1\", \"Sample\": \"ZH\", \"Systematic\": \"pass_weight_btagSFlightCorrelated_up\"}]\n",
    "\n",
    "#sample2 = obj[{\"Region\": \"SR1\", \"Sample\": \"ZH\", \"Systematic\": \"pass_JES_EC2_year_down\"}]\n",
    "sample2 = obj[{\"Region\": \"SR1\", \"Sample\": \"ZH\", \"Systematic\": \"pass_weight_Vtagger_down\"}]\n",
    "\n",
    "\n",
    "\n",
    "sample2"
   ]
  },
  {
   "cell_type": "code",
   "execution_count": 18,
   "id": "5c112621-12d1-4d59-b522-77d9666a31bf",
   "metadata": {},
   "outputs": [
    {
     "data": {
      "text/html": [
       "<html>\n",
       "<div style=\"display:flex; align-items:center;\">\n",
       "<div style=\"width:290px;\">\n",
       "<svg xmlns=\"http://www.w3.org/2000/svg\" viewBox=\"-10 -105 270 120\">\n",
       "<line x1=\"-5\" y1=\"0\" x2=\"255\" y2=\"0\" style=\"fill:none;stroke-width:2;stroke:currentColor\"/>\n",
       "<text text-anchor=\"middle\" x=\"0\" y=\"15\" style=\"fill:currentColor;\">\n",
       "40\n",
       "</text>\n",
       "<text text-anchor=\"middle\" x=\"250\" y=\"15\" style=\"fill:currentColor;\">\n",
       "180\n",
       "</text>\n",
       "<text text-anchor=\"middle\" x=\"125.0\" y=\"15\" style=\"fill:currentColor;\">\n",
       "V reconstructed mass [GeV]\n",
       "</text>\n",
       "<polyline points=\"  0,0   0,-5.71 53.5714,-5.71 53.5714,-100 125,-100 125,-31.2 178.571,-31.2 178.571,-2.37 250,-2.37 250,0\" style=\"fill:none; stroke:currentColor;\"/>\n",
       "</svg>\n",
       "</div>\n",
       "<div style=\"flex=grow:1;\">\n",
       "Variable([40, 70, 110, 140, 180], name='mass_observable', label='V reconstructed mass [GeV]')<br/>\n",
       "<hr style=\"margin-top:.2em; margin-bottom:.2em;\"/>\n",
       "Weight() Σ=WeightedSum(value=1.37425, variance=0.000699627) <em>(WeightedSum(value=1.37482, variance=0.000699889) with flow)</em>\n",
       "\n",
       "</div>\n",
       "</div>\n",
       "</html>"
      ],
      "text/plain": [
       "Hist(Variable([40, 70, 110, 140, 180], name='mass_observable', label='V reconstructed mass [GeV]'), storage=Weight()) # Sum: WeightedSum(value=1.37425, variance=0.000699627) (WeightedSum(value=1.37482, variance=0.000699889) with flow)"
      ]
     },
     "execution_count": 18,
     "metadata": {},
     "output_type": "execute_result"
    }
   ],
   "source": [
    "sample2 = obj[{\"Region\": \"SR1\", \"Sample\": \"ZH\", \"Systematic\": \"pass_weight_Vtagger_up\"}]\n",
    "sample2"
   ]
  },
  {
   "cell_type": "code",
   "execution_count": 19,
   "id": "eec6258b-68f6-4ad4-b749-ded30501324e",
   "metadata": {},
   "outputs": [
    {
     "data": {
      "text/html": [
       "<html>\n",
       "<div style=\"display:flex; align-items:center;\">\n",
       "<div style=\"width:290px;\">\n",
       "<svg xmlns=\"http://www.w3.org/2000/svg\" viewBox=\"-10 -105 270 120\">\n",
       "<line x1=\"-5\" y1=\"0\" x2=\"255\" y2=\"0\" style=\"fill:none;stroke-width:2;stroke:currentColor\"/>\n",
       "<text text-anchor=\"middle\" x=\"0\" y=\"15\" style=\"fill:currentColor;\">\n",
       "40\n",
       "</text>\n",
       "<text text-anchor=\"middle\" x=\"250\" y=\"15\" style=\"fill:currentColor;\">\n",
       "180\n",
       "</text>\n",
       "<text text-anchor=\"middle\" x=\"125.0\" y=\"15\" style=\"fill:currentColor;\">\n",
       "V reconstructed mass [GeV]\n",
       "</text>\n",
       "<polyline points=\"  0,0   0,-40.1 53.5714,-40.1 53.5714,-100 125,-100 125,-53.5 178.571,-53.5 178.571,-10.5 250,-10.5 250,0\" style=\"fill:none; stroke:currentColor;\"/>\n",
       "</svg>\n",
       "</div>\n",
       "<div style=\"flex=grow:1;\">\n",
       "Variable([40, 70, 110, 140, 180], name='mass_observable', label='V reconstructed mass [GeV]')<br/>\n",
       "<hr style=\"margin-top:.2em; margin-bottom:.2em;\"/>\n",
       "Weight() Σ=WeightedSum(value=0.137624, variance=0.00105794)\n",
       "\n",
       "</div>\n",
       "</div>\n",
       "</html>"
      ],
      "text/plain": [
       "Hist(Variable([40, 70, 110, 140, 180], name='mass_observable', label='V reconstructed mass [GeV]'), storage=Weight()) # Sum: WeightedSum(value=0.137624, variance=0.00105794)"
      ]
     },
     "execution_count": 19,
     "metadata": {},
     "output_type": "execute_result"
    }
   ],
   "source": [
    "sample2 = obj[{\"Region\": \"SR1\", \"Sample\": \"VBF\", \"Systematic\": \"pass_nominal\"}]\n",
    "sample2"
   ]
  },
  {
   "cell_type": "code",
   "execution_count": 20,
   "id": "4db2b04a-9596-4f78-9613-803198e7be49",
   "metadata": {},
   "outputs": [
    {
     "data": {
      "text/html": [
       "<html>\n",
       "<div style=\"display:flex; align-items:center;\">\n",
       "<div style=\"width:290px;\">\n",
       "<svg xmlns=\"http://www.w3.org/2000/svg\" viewBox=\"-10 -105 270 120\">\n",
       "<line x1=\"-5\" y1=\"0\" x2=\"255\" y2=\"0\" style=\"fill:none;stroke-width:2;stroke:currentColor\"/>\n",
       "<text text-anchor=\"middle\" x=\"0\" y=\"15\" style=\"fill:currentColor;\">\n",
       "40\n",
       "</text>\n",
       "<text text-anchor=\"middle\" x=\"250\" y=\"15\" style=\"fill:currentColor;\">\n",
       "180\n",
       "</text>\n",
       "<text text-anchor=\"middle\" x=\"125.0\" y=\"15\" style=\"fill:currentColor;\">\n",
       "V reconstructed mass [GeV]\n",
       "</text>\n",
       "<polyline points=\"  0,0   0,-63.7 53.5714,-63.7 53.5714,-100 125,-100 125,-52 178.571,-52 178.571,-24.6 250,-24.6 250,0\" style=\"fill:none; stroke:currentColor;\"/>\n",
       "</svg>\n",
       "</div>\n",
       "<div style=\"flex=grow:1;\">\n",
       "Variable([40, 70, 110, 140, 180], name='mass_observable', label='V reconstructed mass [GeV]')<br/>\n",
       "<hr style=\"margin-top:.2em; margin-bottom:.2em;\"/>\n",
       "Weight() Σ=WeightedSum(value=49.6947, variance=13.476) <em>(WeightedSum(value=50.3142, variance=13.535) with flow)</em>\n",
       "\n",
       "</div>\n",
       "</div>\n",
       "</html>"
      ],
      "text/plain": [
       "Hist(Variable([40, 70, 110, 140, 180], name='mass_observable', label='V reconstructed mass [GeV]'), storage=Weight()) # Sum: WeightedSum(value=49.6947, variance=13.476) (WeightedSum(value=50.3142, variance=13.535) with flow)"
      ]
     },
     "execution_count": 20,
     "metadata": {},
     "output_type": "execute_result"
    }
   ],
   "source": [
    "sample2 = obj[{\"Region\": \"SR1\", \"Sample\": \"WJetsLNu\", \"Systematic\": \"pass_nominal\"}]\n",
    "sample2"
   ]
  },
  {
   "cell_type": "code",
   "execution_count": 21,
   "id": "a8b7e422-6ea7-4708-a270-be4d947e59da",
   "metadata": {},
   "outputs": [
    {
     "data": {
      "text/html": [
       "<html>\n",
       "<div style=\"display:flex; align-items:center;\">\n",
       "<div style=\"width:290px;\">\n",
       "<svg xmlns=\"http://www.w3.org/2000/svg\" viewBox=\"-10 -105 270 120\">\n",
       "<line x1=\"-5\" y1=\"0\" x2=\"255\" y2=\"0\" style=\"fill:none;stroke-width:2;stroke:currentColor\"/>\n",
       "<text text-anchor=\"middle\" x=\"0\" y=\"15\" style=\"fill:currentColor;\">\n",
       "40\n",
       "</text>\n",
       "<text text-anchor=\"middle\" x=\"250\" y=\"15\" style=\"fill:currentColor;\">\n",
       "180\n",
       "</text>\n",
       "<text text-anchor=\"middle\" x=\"125.0\" y=\"15\" style=\"fill:currentColor;\">\n",
       "V reconstructed mass [GeV]\n",
       "</text>\n",
       "<polyline points=\"  0,0   0,-68.7 53.5714,-68.7 53.5714,-100 125,-100 125,-52.5 178.571,-52.5 178.571,-24 250,-24 250,0\" style=\"fill:none; stroke:currentColor;\"/>\n",
       "</svg>\n",
       "</div>\n",
       "<div style=\"flex=grow:1;\">\n",
       "Variable([40, 70, 110, 140, 180], name='mass_observable', label='V reconstructed mass [GeV]')<br/>\n",
       "<hr style=\"margin-top:.2em; margin-bottom:.2em;\"/>\n",
       "Weight() Σ=WeightedSum(value=50.7577, variance=15.6302) <em>(WeightedSum(value=51.4957, variance=15.725) with flow)</em>\n",
       "\n",
       "</div>\n",
       "</div>\n",
       "</html>"
      ],
      "text/plain": [
       "Hist(Variable([40, 70, 110, 140, 180], name='mass_observable', label='V reconstructed mass [GeV]'), storage=Weight()) # Sum: WeightedSum(value=50.7577, variance=15.6302) (WeightedSum(value=51.4957, variance=15.725) with flow)"
      ]
     },
     "execution_count": 21,
     "metadata": {},
     "output_type": "execute_result"
    }
   ],
   "source": [
    "sample2 = obj[{\"Region\": \"SR1\", \"Sample\": \"WJetsLNu\", \"Systematic\": \"pass_weight_pileup_up\"}]\n",
    "sample2"
   ]
  },
  {
   "cell_type": "code",
   "execution_count": 22,
   "id": "08abe576-66fe-4d23-bf5b-e70b8e2e815b",
   "metadata": {},
   "outputs": [
    {
     "data": {
      "text/html": [
       "<html>\n",
       "<div style=\"display:flex; align-items:center;\">\n",
       "<div style=\"width:290px;\">\n",
       "<svg xmlns=\"http://www.w3.org/2000/svg\" viewBox=\"-10 -105 270 120\">\n",
       "<line x1=\"-5\" y1=\"0\" x2=\"255\" y2=\"0\" style=\"fill:none;stroke-width:2;stroke:currentColor\"/>\n",
       "<text text-anchor=\"middle\" x=\"0\" y=\"15\" style=\"fill:currentColor;\">\n",
       "40\n",
       "</text>\n",
       "<text text-anchor=\"middle\" x=\"250\" y=\"15\" style=\"fill:currentColor;\">\n",
       "180\n",
       "</text>\n",
       "<text text-anchor=\"middle\" x=\"125.0\" y=\"15\" style=\"fill:currentColor;\">\n",
       "V reconstructed mass [GeV]\n",
       "</text>\n",
       "<polyline points=\"  0,0   0,-40.2 53.5714,-40.2 53.5714,-100 125,-100 125,-51.1 178.571,-51.1 178.571,-10.1 250,-10.1 250,0\" style=\"fill:none; stroke:currentColor;\"/>\n",
       "</svg>\n",
       "</div>\n",
       "<div style=\"flex=grow:1;\">\n",
       "Variable([40, 70, 110, 140, 180], name='mass_observable', label='V reconstructed mass [GeV]')<br/>\n",
       "<hr style=\"margin-top:.2em; margin-bottom:.2em;\"/>\n",
       "Weight() Σ=WeightedSum(value=0.137856, variance=0.0010628)\n",
       "\n",
       "</div>\n",
       "</div>\n",
       "</html>"
      ],
      "text/plain": [
       "Hist(Variable([40, 70, 110, 140, 180], name='mass_observable', label='V reconstructed mass [GeV]'), storage=Weight()) # Sum: WeightedSum(value=0.137856, variance=0.0010628)"
      ]
     },
     "execution_count": 22,
     "metadata": {},
     "output_type": "execute_result"
    }
   ],
   "source": [
    "#sample2 = obj[{\"Region\": \"SR1\", \"Sample\": \"ZH\", \"Systematic\": \"pass_weight_btagSFlightCorrelated_down\"}]\n",
    "sample2 = obj[{\"Region\": \"SR1\", \"Sample\": \"VBF\", \"Systematic\": \"pass_weight_PSISR_VBF_up\"}]\n",
    "\n",
    "\n",
    "\n",
    "sample2"
   ]
  },
  {
   "cell_type": "code",
   "execution_count": 23,
   "id": "7eb47f87-27e3-4e90-be0b-5c061b741a4a",
   "metadata": {},
   "outputs": [
    {
     "data": {
      "text/html": [
       "<html>\n",
       "<div style=\"display:flex; align-items:center;\">\n",
       "<div style=\"width:290px;\">\n",
       "<svg xmlns=\"http://www.w3.org/2000/svg\" viewBox=\"-10 -105 270 120\">\n",
       "<line x1=\"-5\" y1=\"0\" x2=\"255\" y2=\"0\" style=\"fill:none;stroke-width:2;stroke:currentColor\"/>\n",
       "<text text-anchor=\"middle\" x=\"0\" y=\"15\" style=\"fill:currentColor;\">\n",
       "40\n",
       "</text>\n",
       "<text text-anchor=\"middle\" x=\"250\" y=\"15\" style=\"fill:currentColor;\">\n",
       "180\n",
       "</text>\n",
       "<text text-anchor=\"middle\" x=\"125.0\" y=\"15\" style=\"fill:currentColor;\">\n",
       "V reconstructed mass [GeV]\n",
       "</text>\n",
       "<polyline points=\"  0,0   0,-40.1 53.5714,-40.1 53.5714,-100 125,-100 125,-53.5 178.571,-53.5 178.571,-10.5 250,-10.5 250,0\" style=\"fill:none; stroke:currentColor;\"/>\n",
       "</svg>\n",
       "</div>\n",
       "<div style=\"flex=grow:1;\">\n",
       "Variable([40, 70, 110, 140, 180], name='mass_observable', label='V reconstructed mass [GeV]')<br/>\n",
       "<hr style=\"margin-top:.2em; margin-bottom:.2em;\"/>\n",
       "Weight() Σ=WeightedSum(value=0.137624, variance=0.00105794)\n",
       "\n",
       "</div>\n",
       "</div>\n",
       "</html>"
      ],
      "text/plain": [
       "Hist(Variable([40, 70, 110, 140, 180], name='mass_observable', label='V reconstructed mass [GeV]'), storage=Weight()) # Sum: WeightedSum(value=0.137624, variance=0.00105794)"
      ]
     },
     "execution_count": 23,
     "metadata": {},
     "output_type": "execute_result"
    }
   ],
   "source": [
    "\n",
    "\n",
    "sample2 = obj[{\"Region\": \"SR1\", \"Sample\": \"VBF\", \"Systematic\": \"pass_nominal\"}]\n",
    "sample2"
   ]
  },
  {
   "cell_type": "code",
   "execution_count": 24,
   "id": "5ba1c182-f498-4b16-b25a-b4896d1cba64",
   "metadata": {},
   "outputs": [
    {
     "data": {
      "text/html": [
       "<html>\n",
       "<div style=\"display:flex; align-items:center;\">\n",
       "<div style=\"width:290px;\">\n",
       "<svg xmlns=\"http://www.w3.org/2000/svg\" viewBox=\"-10 -105 270 120\">\n",
       "<line x1=\"-5\" y1=\"0\" x2=\"255\" y2=\"0\" style=\"fill:none;stroke-width:2;stroke:currentColor\"/>\n",
       "<text text-anchor=\"middle\" x=\"0\" y=\"15\" style=\"fill:currentColor;\">\n",
       "40\n",
       "</text>\n",
       "<text text-anchor=\"middle\" x=\"250\" y=\"15\" style=\"fill:currentColor;\">\n",
       "180\n",
       "</text>\n",
       "<text text-anchor=\"middle\" x=\"125.0\" y=\"15\" style=\"fill:currentColor;\">\n",
       "V reconstructed mass [GeV]\n",
       "</text>\n",
       "<polyline points=\"  0,0   0,-40.1 53.5714,-40.1 53.5714,-100 125,-100 125,-53.5 178.571,-53.5 178.571,-10.5 250,-10.5 250,0\" style=\"fill:none; stroke:currentColor;\"/>\n",
       "</svg>\n",
       "</div>\n",
       "<div style=\"flex=grow:1;\">\n",
       "Variable([40, 70, 110, 140, 180], name='mass_observable', label='V reconstructed mass [GeV]')<br/>\n",
       "<hr style=\"margin-top:.2em; margin-bottom:.2em;\"/>\n",
       "Weight() Σ=WeightedSum(value=0.137624, variance=0.00105794)\n",
       "\n",
       "</div>\n",
       "</div>\n",
       "</html>"
      ],
      "text/plain": [
       "Hist(Variable([40, 70, 110, 140, 180], name='mass_observable', label='V reconstructed mass [GeV]'), storage=Weight()) # Sum: WeightedSum(value=0.137624, variance=0.00105794)"
      ]
     },
     "execution_count": 24,
     "metadata": {},
     "output_type": "execute_result"
    }
   ],
   "source": [
    "sample2 = obj[{\"Region\": \"SR1\", \"Sample\": \"VBF\", \"Systematic\": \"pass_top_reweighting_down\"}]\n",
    "sample2\n",
    "\n",
    "\n"
   ]
  },
  {
   "cell_type": "code",
   "execution_count": null,
   "id": "a57bc5f7-0354-4f5b-b5d8-6347c512cf3b",
   "metadata": {},
   "outputs": [],
   "source": []
  }
 ],
 "metadata": {
  "kernelspec": {
   "display_name": "Python 3 (ipykernel)",
   "language": "python",
   "name": "py3-preamble"
  },
  "language_info": {
   "codemirror_mode": {
    "name": "ipython",
    "version": 3
   },
   "file_extension": ".py",
   "mimetype": "text/x-python",
   "name": "python",
   "nbconvert_exporter": "python",
   "pygments_lexer": "ipython3",
   "version": "3.10.16"
  }
 },
 "nbformat": 4,
 "nbformat_minor": 5
}
