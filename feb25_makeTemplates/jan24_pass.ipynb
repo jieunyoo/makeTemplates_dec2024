{
 "cells": [
  {
   "cell_type": "code",
   "execution_count": 1,
   "id": "ec6c4165-5d04-46d8-b6a3-beda838a2cff",
   "metadata": {},
   "outputs": [],
   "source": [
    "import argparse\n",
    "import glob\n",
    "import json\n",
    "import logging\n",
    "import os\n",
    "import pickle as pkl\n",
    "import warnings\n",
    "import hist as hist2\n",
    "import numpy as np\n",
    "import pandas as pd\n",
    "import pyarrow\n",
    "import yaml\n",
    "import math\n",
    "\n",
    "from utils import get_common_sample_name, get_finetuned_score, get_xsecweight\n",
    "\n",
    "from systematicsPass import get_systematic_dict, sigs\n",
    "\n",
    "logging.basicConfig(level=logging.INFO)\n",
    "warnings.filterwarnings(\"ignore\", message=\"Found duplicate branch \")\n",
    "pd.set_option(\"mode.chained_assignment\", None)\n",
    "\n",
    "\n",
    "from jieunR import fix_neg_yields, get_templates, mass_binning  #importing get_templates automatically it seems imports the other functions\n",
    "\n",
    "\n",
    "\n",
    "CATEGORY = 'pass'\n",
    "\n"
   ]
  },
  {
   "cell_type": "code",
   "execution_count": 2,
   "id": "8893411c-dd30-4b68-8127-9a459d3eb6c0",
   "metadata": {},
   "outputs": [
    {
     "name": "stderr",
     "output_type": "stream",
     "text": [
      "INFO:root:Processing year 2018 and mu channel\n",
      "INFO:root:Finding DYJetsToLL_LHEFilterPtZ-0To50 samples and should combine them under DYJets\n",
      "INFO:root:Applying fj_mass selection on 872 events\n",
      "INFO:root:Applying SR1 selection on 861 events\n",
      "INFO:root:Will fill the histograms with the remaining 0 events\n"
     ]
    },
    {
     "name": "stdout",
     "output_type": "stream",
     "text": [
      "above nominal Series([], dtype: float64)\n",
      "syst pass_weight_PSFSR\n",
      "syst pass_weight_PSISR\n"
     ]
    },
    {
     "name": "stderr",
     "output_type": "stream",
     "text": [
      "INFO:root:Finding DYJetsToLL_LHEFilterPtZ-100To250 samples and should combine them under DYJets\n",
      "INFO:root:Applying fj_mass selection on 27734 events\n",
      "INFO:root:Applying SR1 selection on 27318 events\n",
      "INFO:root:Will fill the histograms with the remaining 12 events\n"
     ]
    },
    {
     "name": "stdout",
     "output_type": "stream",
     "text": [
      "above nominal 6159     0.215949\n",
      "6955     0.185663\n",
      "10358    0.189804\n",
      "15754   -0.169964\n",
      "18133   -0.195731\n",
      "19743    0.165772\n",
      "20833    0.170344\n",
      "21768   -0.204483\n",
      "22943    0.166758\n",
      "23743    0.143508\n",
      "25818    0.195855\n",
      "26139   -0.169410\n",
      "dtype: float64\n",
      "syst pass_weight_PSFSR\n",
      "syst pass_weight_PSISR\n"
     ]
    },
    {
     "name": "stderr",
     "output_type": "stream",
     "text": [
      "INFO:root:Finding DYJetsToLL_LHEFilterPtZ-250To400 samples and should combine them under DYJets\n",
      "INFO:root:Applying fj_mass selection on 124441 events\n",
      "INFO:root:Applying SR1 selection on 122068 events\n",
      "INFO:root:Will fill the histograms with the remaining 37 events\n"
     ]
    },
    {
     "name": "stdout",
     "output_type": "stream",
     "text": [
      "above nominal 145       0.019174\n",
      "3130     -0.019780\n",
      "7788      0.019905\n",
      "8755     -0.019725\n",
      "13020     0.020832\n",
      "19115    -0.018608\n",
      "19965     0.023981\n",
      "26537    -0.019388\n",
      "29546     0.019381\n",
      "32892     0.020692\n",
      "35711    -0.022323\n",
      "37336    -0.018607\n",
      "42538    -0.017204\n",
      "43578     0.016753\n",
      "44192     0.020068\n",
      "46415    -0.020484\n",
      "47518    -0.021232\n",
      "54895    -0.020577\n",
      "57500     0.018418\n",
      "57971     0.015169\n",
      "59590     0.020884\n",
      "60026     0.019501\n",
      "60700    -0.019305\n",
      "67262     0.017927\n",
      "69734    -0.019096\n",
      "71414    -0.025621\n",
      "71591     0.017332\n",
      "85968     0.020030\n",
      "93938     0.020815\n",
      "95270     0.019739\n",
      "96770     0.020800\n",
      "96807     0.019366\n",
      "111689   -0.017141\n",
      "118128    0.015536\n",
      "120009   -0.018983\n",
      "121124    0.019423\n",
      "123300   -0.021479\n",
      "dtype: float64\n",
      "syst pass_weight_PSFSR\n",
      "syst pass_weight_PSISR\n"
     ]
    },
    {
     "name": "stderr",
     "output_type": "stream",
     "text": [
      "INFO:root:Finding DYJetsToLL_LHEFilterPtZ-400To650 samples and should combine them under DYJets\n",
      "INFO:root:Applying fj_mass selection on 45249 events\n",
      "INFO:root:Applying SR1 selection on 42295 events\n",
      "INFO:root:Will fill the histograms with the remaining 12 events\n"
     ]
    },
    {
     "name": "stdout",
     "output_type": "stream",
     "text": [
      "above nominal 6870     0.022455\n",
      "7143    -0.016581\n",
      "7282     0.015806\n",
      "9432     0.016009\n",
      "16536    0.016220\n",
      "18162    0.014570\n",
      "20439    0.019057\n",
      "24081   -0.016081\n",
      "24891    0.015873\n",
      "27722   -0.014506\n",
      "31150    0.012988\n",
      "36984    0.016380\n",
      "dtype: float64\n",
      "syst pass_weight_PSFSR\n",
      "syst pass_weight_PSISR\n"
     ]
    },
    {
     "name": "stderr",
     "output_type": "stream",
     "text": [
      "INFO:root:Finding DYJetsToLL_LHEFilterPtZ-50To100 samples and should combine them under DYJets\n",
      "INFO:root:Applying fj_mass selection on 3562 events\n",
      "INFO:root:Applying SR1 selection on 3521 events\n",
      "INFO:root:Will fill the histograms with the remaining 3 events\n"
     ]
    },
    {
     "name": "stdout",
     "output_type": "stream",
     "text": [
      "above nominal 672     0.452373\n",
      "2414    0.437560\n",
      "3015    0.476256\n",
      "dtype: float64\n",
      "syst pass_weight_PSFSR\n",
      "syst pass_weight_PSISR\n"
     ]
    },
    {
     "name": "stderr",
     "output_type": "stream",
     "text": [
      "INFO:root:Finding DYJetsToLL_LHEFilterPtZ-650ToInf samples and should combine them under DYJets\n",
      "INFO:root:Applying fj_mass selection on 72573 events\n",
      "INFO:root:Applying SR1 selection on 59194 events\n",
      "INFO:root:Will fill the histograms with the remaining 13 events\n"
     ]
    },
    {
     "name": "stdout",
     "output_type": "stream",
     "text": [
      "above nominal 19445    0.001467\n",
      "24139    0.001165\n",
      "28152   -0.001258\n",
      "32338    0.001266\n",
      "35603    0.001455\n",
      "37697    0.001275\n",
      "38400   -0.001836\n",
      "39311    0.001269\n",
      "42409    0.001232\n",
      "46237   -0.001128\n",
      "49092    0.001302\n",
      "54610    0.001146\n",
      "65725   -0.001690\n",
      "dtype: float64\n",
      "syst pass_weight_PSFSR\n",
      "syst pass_weight_PSISR\n"
     ]
    },
    {
     "name": "stderr",
     "output_type": "stream",
     "text": [
      "INFO:root:Finding EWKWminus_WToQQ samples and should combine them under EWKvjets\n",
      "INFO:root:Applying fj_mass selection on 132 events\n",
      "INFO:root:Applying SR1 selection on 129 events\n",
      "INFO:root:Will fill the histograms with the remaining 0 events\n"
     ]
    },
    {
     "name": "stdout",
     "output_type": "stream",
     "text": [
      "above nominal Series([], dtype: float64)\n",
      "syst pass_weight_PSFSR\n",
      "syst pass_weight_PSISR\n"
     ]
    },
    {
     "name": "stderr",
     "output_type": "stream",
     "text": [
      "INFO:root:Finding EWKWplus_WToQQ samples and should combine them under EWKvjets\n",
      "INFO:root:Applying fj_mass selection on 253 events\n",
      "INFO:root:Applying SR1 selection on 250 events\n",
      "INFO:root:Will fill the histograms with the remaining 0 events\n"
     ]
    },
    {
     "name": "stdout",
     "output_type": "stream",
     "text": [
      "above nominal Series([], dtype: float64)\n",
      "syst pass_weight_PSFSR\n",
      "syst pass_weight_PSISR\n"
     ]
    },
    {
     "name": "stderr",
     "output_type": "stream",
     "text": [
      "INFO:root:Finding EWKZ_ZToQQ samples and should combine them under EWKvjets\n",
      "INFO:root:Applying fj_mass selection on 3 events\n",
      "INFO:root:Applying SR1 selection on 3 events\n",
      "INFO:root:Will fill the histograms with the remaining 0 events\n"
     ]
    },
    {
     "name": "stdout",
     "output_type": "stream",
     "text": [
      "above nominal Series([], dtype: float64)\n",
      "syst pass_weight_PSFSR\n",
      "syst pass_weight_PSISR\n"
     ]
    },
    {
     "name": "stderr",
     "output_type": "stream",
     "text": [
      "INFO:root:Finding GluGluHToWW_Pt-200ToInf_M-125 samples and should combine them under ggF\n",
      "INFO:root:Applying fj_mass selection on 5438 events\n",
      "INFO:root:Applying SR1 selection on 5322 events\n",
      "INFO:root:Will fill the histograms with the remaining 50 events\n"
     ]
    },
    {
     "name": "stdout",
     "output_type": "stream",
     "text": [
      "above nominal 60      0.011826\n",
      "173     0.012680\n",
      "231     0.013964\n",
      "296     0.014067\n",
      "526     0.011930\n",
      "616     0.016275\n",
      "672     0.011681\n",
      "1048    0.010234\n",
      "1281    0.011110\n",
      "1293    0.011515\n",
      "1307    0.011511\n",
      "1319    0.012623\n",
      "1440    0.010745\n",
      "1445    0.011994\n",
      "1479    0.011664\n",
      "1640    0.011650\n",
      "1722    0.011631\n",
      "1830    0.012869\n",
      "1832    0.011566\n",
      "1870    0.011852\n",
      "1965    0.011937\n",
      "1971    0.011511\n",
      "2038    0.011721\n",
      "2169    0.011600\n",
      "2266    0.016119\n",
      "2320    0.013733\n",
      "2585    0.013776\n",
      "2825    0.011784\n",
      "2910    0.012134\n",
      "2931    0.011688\n",
      "3133    0.009967\n",
      "3136    0.011528\n",
      "3317    0.011945\n",
      "3341    0.011892\n",
      "3357    0.012465\n",
      "3460    0.014052\n",
      "3592    0.011932\n",
      "3602    0.012150\n",
      "3628    0.011809\n",
      "3641    0.011656\n",
      "3644    0.012326\n",
      "3692    0.011845\n",
      "3756    0.011790\n",
      "4223    0.011688\n",
      "4399    0.014113\n",
      "4562    0.012498\n",
      "4595    0.019459\n",
      "5059    0.011697\n",
      "5263    0.011521\n",
      "5309    0.012000\n",
      "dtype: float64\n",
      "syst pass_weight_PSFSR\n",
      "syst pass_weight_PSISR\n"
     ]
    },
    {
     "name": "stderr",
     "output_type": "stream",
     "text": [
      "INFO:root:Finding ST_s-channel_4f_hadronicDecays samples and should combine them under SingleTop\n",
      "INFO:root:Applying fj_mass selection on 326 events\n",
      "INFO:root:Applying SR1 selection on 303 events\n",
      "INFO:root:Will fill the histograms with the remaining 1 events\n"
     ]
    },
    {
     "name": "stdout",
     "output_type": "stream",
     "text": [
      "above nominal 134    0.012506\n",
      "dtype: float64\n",
      "syst pass_weight_PSFSR\n",
      "syst pass_weight_PSISR\n"
     ]
    },
    {
     "name": "stderr",
     "output_type": "stream",
     "text": [
      "INFO:root:Finding ST_s-channel_4f_leptonDecays samples and should combine them under SingleTop\n",
      "INFO:root:Applying fj_mass selection on 12213 events\n",
      "INFO:root:Applying SR1 selection on 11505 events\n",
      "INFO:root:Will fill the histograms with the remaining 4 events\n"
     ]
    },
    {
     "name": "stdout",
     "output_type": "stream",
     "text": [
      "above nominal 1604    -0.005428\n",
      "5681     0.004564\n",
      "10223    0.006910\n",
      "11021    0.005478\n",
      "dtype: float64\n",
      "syst pass_weight_PSFSR\n",
      "syst pass_weight_PSISR\n"
     ]
    },
    {
     "name": "stderr",
     "output_type": "stream",
     "text": [
      "INFO:root:Finding ST_t-channel_antitop_4f_InclusiveDecays samples and should combine them under SingleTop\n",
      "INFO:root:Applying fj_mass selection on 10343 events\n",
      "INFO:root:Applying SR1 selection on 10011 events\n",
      "INFO:root:Will fill the histograms with the remaining 1 events\n"
     ]
    },
    {
     "name": "stdout",
     "output_type": "stream",
     "text": [
      "above nominal 4614    0.056732\n",
      "dtype: float64\n",
      "syst pass_weight_PSFSR\n",
      "syst pass_weight_PSISR\n"
     ]
    },
    {
     "name": "stderr",
     "output_type": "stream",
     "text": [
      "INFO:root:Finding ST_t-channel_top_4f_InclusiveDecays samples and should combine them under SingleTop\n",
      "INFO:root:Applying fj_mass selection on 24399 events\n",
      "INFO:root:Applying SR1 selection on 23498 events\n",
      "INFO:root:Will fill the histograms with the remaining 8 events\n"
     ]
    },
    {
     "name": "stdout",
     "output_type": "stream",
     "text": [
      "above nominal 152      0.044655\n",
      "4183     0.040144\n",
      "8254     0.032829\n",
      "8775     0.031567\n",
      "10240    0.046630\n",
      "16079    0.037801\n",
      "20457    0.040300\n",
      "21529    0.039079\n",
      "dtype: float64\n",
      "syst pass_weight_PSFSR\n",
      "syst pass_weight_PSISR\n"
     ]
    },
    {
     "name": "stderr",
     "output_type": "stream",
     "text": [
      "INFO:root:Finding ST_tW_antitop_5f_inclusiveDecays samples and should combine them under SingleTop\n",
      "INFO:root:Applying fj_mass selection on 7869 events\n",
      "INFO:root:Applying SR1 selection on 7600 events\n",
      "INFO:root:Will fill the histograms with the remaining 10 events\n"
     ]
    },
    {
     "name": "stdout",
     "output_type": "stream",
     "text": [
      "above nominal 64      0.203599\n",
      "1535    0.303280\n",
      "2506    0.247271\n",
      "3787    0.267907\n",
      "4273    0.239714\n",
      "4345    0.237714\n",
      "5680    0.244565\n",
      "6065    0.241939\n",
      "6998    0.242568\n",
      "7075    0.256253\n",
      "dtype: float64\n",
      "syst pass_weight_PSFSR\n",
      "syst pass_weight_PSISR\n"
     ]
    },
    {
     "name": "stderr",
     "output_type": "stream",
     "text": [
      "INFO:root:Finding ST_tW_top_5f_inclusiveDecays samples and should combine them under SingleTop\n",
      "INFO:root:Applying fj_mass selection on 8209 events\n",
      "INFO:root:Applying SR1 selection on 7937 events\n",
      "INFO:root:Will fill the histograms with the remaining 11 events\n"
     ]
    },
    {
     "name": "stdout",
     "output_type": "stream",
     "text": [
      "above nominal 96      0.188759\n",
      "451     0.237065\n",
      "1875    0.237651\n",
      "2416    0.321137\n",
      "2520    0.275792\n",
      "3367    0.232820\n",
      "3703    0.222989\n",
      "4183    0.239724\n",
      "4799    0.237162\n",
      "6996    0.238569\n",
      "7769    0.235760\n",
      "dtype: float64\n",
      "syst pass_weight_PSFSR\n",
      "syst pass_weight_PSISR\n"
     ]
    },
    {
     "name": "stderr",
     "output_type": "stream",
     "text": [
      "INFO:root:Finding TTTo2L2Nu samples and should combine them under TTbar\n",
      "INFO:root:Applying fj_mass selection on 201395 events\n",
      "INFO:root:Applying SR1 selection on 194961 events\n",
      "INFO:root:Will fill the histograms with the remaining 169 events\n"
     ]
    },
    {
     "name": "stdout",
     "output_type": "stream",
     "text": [
      "above nominal 2493      0.053827\n",
      "2611      0.051745\n",
      "3323      0.050443\n",
      "4144     -0.051314\n",
      "5136      0.060817\n",
      "            ...   \n",
      "196124    0.052565\n",
      "197166    0.051579\n",
      "197368    0.050144\n",
      "197380    0.040530\n",
      "200454    0.072957\n",
      "Length: 169, dtype: float64\n",
      "syst pass_weight_PSFSR\n",
      "syst pass_weight_PSISR\n"
     ]
    },
    {
     "name": "stderr",
     "output_type": "stream",
     "text": [
      "INFO:root:Finding TTToHadronic samples and should combine them under TTbar\n",
      "INFO:root:Applying fj_mass selection on 5862 events\n",
      "INFO:root:Applying SR1 selection on 5388 events\n",
      "INFO:root:Will fill the histograms with the remaining 9 events\n"
     ]
    },
    {
     "name": "stdout",
     "output_type": "stream",
     "text": [
      "above nominal 612     0.218478\n",
      "1036   -0.227063\n",
      "1763    0.269477\n",
      "2063    0.227376\n",
      "2150    0.220993\n",
      "3319    0.218729\n",
      "4428    0.152847\n",
      "4584    0.260396\n",
      "5200    0.239416\n",
      "dtype: float64\n",
      "syst pass_weight_PSFSR\n",
      "syst pass_weight_PSISR\n"
     ]
    },
    {
     "name": "stderr",
     "output_type": "stream",
     "text": [
      "INFO:root:Finding TTToSemiLeptonic samples and should combine them under TTbar\n",
      "INFO:root:Applying fj_mass selection on 592153 events\n",
      "INFO:root:Applying SR1 selection on 545783 events\n",
      "INFO:root:Will fill the histograms with the remaining 509 events\n"
     ]
    },
    {
     "name": "stdout",
     "output_type": "stream",
     "text": [
      "above nominal 70        0.170255\n",
      "396       0.175182\n",
      "2327      0.160636\n",
      "3818      0.166746\n",
      "4338      0.168024\n",
      "            ...   \n",
      "585048    0.166730\n",
      "586079    0.143413\n",
      "586536    0.231956\n",
      "586811    0.146243\n",
      "586887    0.185186\n",
      "Length: 509, dtype: float64\n",
      "syst pass_weight_PSFSR\n",
      "syst pass_weight_PSISR\n"
     ]
    },
    {
     "name": "stderr",
     "output_type": "stream",
     "text": [
      "INFO:root:Finding VBFHToWWToAny_M-125_TuneCP5_withDipoleRecoil samples and should combine them under VBF\n",
      "INFO:root:Applying fj_mass selection on 790 events\n",
      "INFO:root:Applying SR1 selection on 772 events\n",
      "INFO:root:Will fill the histograms with the remaining 10 events\n"
     ]
    },
    {
     "name": "stdout",
     "output_type": "stream",
     "text": [
      "above nominal 44     0.015594\n",
      "193    0.014437\n",
      "261    0.015842\n",
      "303    0.015587\n",
      "363    0.015417\n",
      "401    0.015576\n",
      "477    0.015936\n",
      "579    0.017324\n",
      "618    0.015534\n",
      "672    0.016157\n",
      "dtype: float64\n",
      "syst pass_weight_PSFSR\n",
      "syst pass_weight_PSISR\n",
      "fj genHT 0      222.0\n",
      "1      300.0\n",
      "2      568.0\n",
      "3      292.0\n",
      "4      328.0\n",
      "       ...  \n",
      "785    574.0\n",
      "786    142.0\n",
      "787    204.5\n",
      "788    570.0\n",
      "789    251.5\n",
      "Name: fj_genH_pt, Length: 772, dtype: float32\n",
      "nominal 44     0.012521\n",
      "193    0.011592\n",
      "261    0.013375\n",
      "303    0.012516\n",
      "363    0.012379\n",
      "401    0.012507\n",
      "477    0.013454\n",
      "579    0.013910\n",
      "618    0.012473\n",
      "672    0.012973\n",
      "dtype: float64\n"
     ]
    },
    {
     "name": "stderr",
     "output_type": "stream",
     "text": [
      "INFO:root:Finding WJetsToLNu_HT-100To200 samples and should combine them under WJetsLNu\n",
      "INFO:root:Finding WJetsToLNu_HT-1200To2500 samples and should combine them under WJetsLNu\n",
      "INFO:root:Applying fj_mass selection on 199104 events\n",
      "INFO:root:Applying SR1 selection on 150765 events\n",
      "INFO:root:Will fill the histograms with the remaining 151 events\n"
     ]
    },
    {
     "name": "stdout",
     "output_type": "stream",
     "text": [
      "above nominal 372       0.015603\n",
      "1315      0.014215\n",
      "2116      0.012777\n",
      "3637      0.013810\n",
      "3863      0.017235\n",
      "            ...   \n",
      "194660    0.015522\n",
      "194683    0.014497\n",
      "195770    0.018601\n",
      "197103    0.014557\n",
      "198389    0.010958\n",
      "Length: 151, dtype: float64\n",
      "syst pass_weight_PSFSR\n",
      "syst pass_weight_PSISR\n"
     ]
    },
    {
     "name": "stderr",
     "output_type": "stream",
     "text": [
      "INFO:root:Finding WJetsToLNu_HT-200To400 samples and should combine them under WJetsLNu\n",
      "INFO:root:Applying fj_mass selection on 15696 events\n",
      "INFO:root:Applying SR1 selection on 15682 events\n",
      "INFO:root:Will fill the histograms with the remaining 0 events\n"
     ]
    },
    {
     "name": "stdout",
     "output_type": "stream",
     "text": [
      "above nominal Series([], dtype: float64)\n",
      "syst pass_weight_PSFSR\n",
      "syst pass_weight_PSISR\n"
     ]
    },
    {
     "name": "stderr",
     "output_type": "stream",
     "text": [
      "INFO:root:Finding WJetsToLNu_HT-2500ToInf samples and should combine them under WJetsLNu\n",
      "INFO:root:Applying fj_mass selection on 67566 events\n",
      "INFO:root:Applying SR1 selection on 41006 events\n",
      "INFO:root:Will fill the histograms with the remaining 24 events\n"
     ]
    },
    {
     "name": "stdout",
     "output_type": "stream",
     "text": [
      "above nominal 1331     0.000503\n",
      "2823     0.000268\n",
      "6636     0.000371\n",
      "7249     0.000399\n",
      "7449     0.000269\n",
      "10132    0.000389\n",
      "14717    0.000242\n",
      "15621    0.000508\n",
      "18903    0.000266\n",
      "20205    0.000370\n",
      "27405    0.000355\n",
      "28819    0.000387\n",
      "29038    0.000380\n",
      "37471    0.000236\n",
      "40993    0.000394\n",
      "45835    0.000416\n",
      "47264    0.000355\n",
      "50777    0.000333\n",
      "54218    0.000382\n",
      "56994    0.000498\n",
      "57283    0.000388\n",
      "65173    0.000347\n",
      "66346    0.000337\n",
      "66583    0.000287\n",
      "dtype: float64\n",
      "syst pass_weight_PSFSR\n",
      "syst pass_weight_PSISR\n"
     ]
    },
    {
     "name": "stderr",
     "output_type": "stream",
     "text": [
      "INFO:root:Finding WJetsToLNu_HT-400To600 samples and should combine them under WJetsLNu\n",
      "INFO:root:Applying fj_mass selection on 42481 events\n",
      "INFO:root:Applying SR1 selection on 42220 events\n",
      "INFO:root:Will fill the histograms with the remaining 26 events\n"
     ]
    },
    {
     "name": "stdout",
     "output_type": "stream",
     "text": [
      "above nominal 2803     0.506131\n",
      "3203     0.512153\n",
      "4564     0.395757\n",
      "5602     0.521924\n",
      "5970     0.515086\n",
      "6998     0.599357\n",
      "7116     0.509960\n",
      "12244    0.445478\n",
      "12491    0.654914\n",
      "12868    0.505109\n",
      "13993    0.509599\n",
      "15037    0.516727\n",
      "15174    0.449178\n",
      "17498    0.607742\n",
      "19165    0.497118\n",
      "19242    0.479084\n",
      "28819    0.457902\n",
      "32707    0.415876\n",
      "34472    0.551364\n",
      "34517    0.518243\n",
      "34782    0.533290\n",
      "35797    0.512416\n",
      "36109    0.593583\n",
      "39947    0.510287\n",
      "41298    0.506131\n",
      "42107    0.467705\n",
      "dtype: float64\n",
      "syst pass_weight_PSFSR\n",
      "syst pass_weight_PSISR\n"
     ]
    },
    {
     "name": "stderr",
     "output_type": "stream",
     "text": [
      "INFO:root:Finding WJetsToLNu_HT-600To800 samples and should combine them under WJetsLNu\n",
      "INFO:root:Applying fj_mass selection on 98603 events\n",
      "INFO:root:Applying SR1 selection on 95511 events\n",
      "INFO:root:Will fill the histograms with the remaining 108 events\n"
     ]
    },
    {
     "name": "stdout",
     "output_type": "stream",
     "text": [
      "above nominal 770      0.128242\n",
      "2715     0.129067\n",
      "2878     0.132108\n",
      "3873     0.150525\n",
      "3987     0.114374\n",
      "           ...   \n",
      "93101    0.131073\n",
      "93378    0.134058\n",
      "97066    0.135194\n",
      "97499    0.144987\n",
      "98286    0.130033\n",
      "Length: 108, dtype: float64\n",
      "syst pass_weight_PSFSR\n",
      "syst pass_weight_PSISR\n"
     ]
    },
    {
     "name": "stderr",
     "output_type": "stream",
     "text": [
      "INFO:root:Finding WJetsToLNu_HT-800To1200 samples and should combine them under WJetsLNu\n",
      "INFO:root:Applying fj_mass selection on 155169 events\n",
      "INFO:root:Applying SR1 selection on 138843 events\n",
      "INFO:root:Will fill the histograms with the remaining 178 events\n"
     ]
    },
    {
     "name": "stdout",
     "output_type": "stream",
     "text": [
      "above nominal 358       0.066074\n",
      "928       0.057389\n",
      "1008      0.059123\n",
      "1311      0.059318\n",
      "1562      0.055102\n",
      "            ...   \n",
      "147920    0.080879\n",
      "149766    0.061785\n",
      "150502    0.059232\n",
      "153742    0.068491\n",
      "154560    0.064521\n",
      "Length: 178, dtype: float64\n",
      "syst pass_weight_PSFSR\n",
      "syst pass_weight_PSISR\n"
     ]
    },
    {
     "name": "stderr",
     "output_type": "stream",
     "text": [
      "INFO:root:Finding WW samples and should combine them under Diboson\n",
      "INFO:root:Applying fj_mass selection on 562 events\n",
      "INFO:root:Applying SR1 selection on 549 events\n",
      "INFO:root:Will fill the histograms with the remaining 1 events\n"
     ]
    },
    {
     "name": "stdout",
     "output_type": "stream",
     "text": [
      "above nominal 523    1.20606\n",
      "dtype: float64\n",
      "syst pass_weight_PSFSR\n",
      "syst pass_weight_PSISR\n"
     ]
    },
    {
     "name": "stderr",
     "output_type": "stream",
     "text": [
      "INFO:root:Finding WZ samples and should combine them under Diboson\n",
      "INFO:root:Applying fj_mass selection on 463 events\n",
      "INFO:root:Applying SR1 selection on 448 events\n",
      "INFO:root:Will fill the histograms with the remaining 0 events\n"
     ]
    },
    {
     "name": "stdout",
     "output_type": "stream",
     "text": [
      "above nominal Series([], dtype: float64)\n",
      "syst pass_weight_PSFSR\n",
      "syst pass_weight_PSISR\n"
     ]
    },
    {
     "name": "stderr",
     "output_type": "stream",
     "text": [
      "INFO:root:Finding ZZ samples and should combine them under Diboson\n",
      "INFO:root:Applying fj_mass selection on 189 events\n",
      "INFO:root:Applying SR1 selection on 188 events\n",
      "INFO:root:Will fill the histograms with the remaining 1 events\n"
     ]
    },
    {
     "name": "stdout",
     "output_type": "stream",
     "text": [
      "above nominal 91    0.265639\n",
      "dtype: float64\n",
      "syst pass_weight_PSFSR\n",
      "syst pass_weight_PSISR\n"
     ]
    },
    {
     "name": "stderr",
     "output_type": "stream",
     "text": [
      "INFO:root:Finding GluGluZH_HToWW_M-125_TuneCP5_13TeV-powheg-pythia8 samples and should combine them under ZH\n",
      "INFO:root:Applying fj_mass selection on 29034 events\n",
      "INFO:root:Applying SR1 selection on 28710 events\n",
      "INFO:root:Will fill the histograms with the remaining 1837 events\n"
     ]
    },
    {
     "name": "stdout",
     "output_type": "stream",
     "text": [
      "above nominal 16       0.000082\n",
      "26       0.000061\n",
      "34       0.000078\n",
      "35       0.000079\n",
      "51       0.000076\n",
      "           ...   \n",
      "28954    0.000079\n",
      "28958    0.000078\n",
      "28988    0.000077\n",
      "28993    0.000088\n",
      "29012    0.000077\n",
      "Length: 1837, dtype: float64\n",
      "syst pass_weight_PSFSR\n",
      "syst pass_weight_PSISR\n",
      "fj genHT 0        476.0\n",
      "1        245.5\n",
      "2        267.0\n",
      "3        264.0\n",
      "4        443.0\n",
      "         ...  \n",
      "29029    339.0\n",
      "29030    243.5\n",
      "29031    301.0\n",
      "29032    241.0\n",
      "29033    270.0\n",
      "Name: fj_genH_pt, Length: 28710, dtype: float32\n",
      "nominal 16       0.000066\n",
      "26       0.000049\n",
      "34       0.000066\n",
      "35       0.000064\n",
      "51       0.000064\n",
      "           ...   \n",
      "28954    0.000063\n",
      "28958    0.000062\n",
      "28988    0.000062\n",
      "28993    0.000070\n",
      "29012    0.000062\n",
      "Length: 1837, dtype: float64\n"
     ]
    },
    {
     "name": "stderr",
     "output_type": "stream",
     "text": [
      "INFO:root:Finding HWplusJ_HToWW_M-125 samples and should combine them under WH\n",
      "INFO:root:Applying fj_mass selection on 15176 events\n",
      "INFO:root:Applying SR1 selection on 15039 events\n",
      "INFO:root:Will fill the histograms with the remaining 981 events\n"
     ]
    },
    {
     "name": "stdout",
     "output_type": "stream",
     "text": [
      "above nominal 123      0.001240\n",
      "126      0.001257\n",
      "127      0.001383\n",
      "160      0.001253\n",
      "173      0.001453\n",
      "           ...   \n",
      "15055    0.001375\n",
      "15066    0.001223\n",
      "15148    0.001141\n",
      "15151    0.001176\n",
      "15161    0.001271\n",
      "Length: 981, dtype: float64\n",
      "syst pass_weight_PSFSR\n",
      "syst pass_weight_PSISR\n",
      "fj genHT 0        309.00\n",
      "1        538.00\n",
      "2        110.75\n",
      "3        304.00\n",
      "4        650.00\n",
      "          ...  \n",
      "15171    195.50\n",
      "15172    374.00\n",
      "15173    308.00\n",
      "15174    288.00\n",
      "15175    367.00\n",
      "Name: fj_genH_pt, Length: 15039, dtype: float32\n",
      "nominal 123      0.001047\n",
      "126      0.001009\n",
      "127      0.001111\n",
      "160      0.001006\n",
      "173      0.001167\n",
      "           ...   \n",
      "15055    0.001104\n",
      "15066    0.001033\n",
      "15148    0.000916\n",
      "15151    0.000944\n",
      "15161    0.001020\n",
      "Length: 981, dtype: float64\n"
     ]
    },
    {
     "name": "stderr",
     "output_type": "stream",
     "text": [
      "INFO:root:Finding HWminusJ_HToWW_M-125 samples and should combine them under WH\n",
      "INFO:root:Applying fj_mass selection on 13642 events\n",
      "INFO:root:Applying SR1 selection on 13495 events\n",
      "INFO:root:Will fill the histograms with the remaining 872 events\n"
     ]
    },
    {
     "name": "stdout",
     "output_type": "stream",
     "text": [
      "above nominal 22       0.000725\n",
      "29       0.000723\n",
      "31       0.000729\n",
      "33       0.000740\n",
      "34       0.000736\n",
      "           ...   \n",
      "13607    0.000722\n",
      "13612    0.000733\n",
      "13615    0.000950\n",
      "13630    0.000728\n",
      "13632    0.000736\n",
      "Length: 872, dtype: float64\n",
      "syst pass_weight_PSFSR\n",
      "syst pass_weight_PSISR\n",
      "fj genHT 0        234.0\n",
      "1        396.0\n",
      "2        197.0\n",
      "3        381.0\n",
      "4        233.0\n",
      "         ...  \n",
      "13637    462.0\n",
      "13638    327.0\n",
      "13639    309.0\n",
      "13640    389.0\n",
      "13641    429.0\n",
      "Name: fj_genH_pt, Length: 13495, dtype: float32\n",
      "nominal 22       0.000582\n",
      "29       0.000580\n",
      "31       0.000585\n",
      "33       0.000594\n",
      "34       0.000591\n",
      "           ...   \n",
      "13607    0.000610\n",
      "13612    0.000589\n",
      "13615    0.000762\n",
      "13630    0.000584\n",
      "13632    0.000591\n",
      "Length: 872, dtype: float64\n"
     ]
    },
    {
     "name": "stderr",
     "output_type": "stream",
     "text": [
      "INFO:root:Finding HZJ_HToWW_M-125 samples and should combine them under ZH\n",
      "INFO:root:Applying fj_mass selection on 21349 events\n",
      "INFO:root:Applying SR1 selection on 21131 events\n",
      "INFO:root:Will fill the histograms with the remaining 1922 events\n"
     ]
    },
    {
     "name": "stdout",
     "output_type": "stream",
     "text": [
      "above nominal 1        0.000848\n",
      "15      -0.000881\n",
      "24       0.001025\n",
      "25      -0.000886\n",
      "39       0.000907\n",
      "           ...   \n",
      "21308    0.000678\n",
      "21326    0.000868\n",
      "21334    0.000846\n",
      "21338    0.000853\n",
      "21344    0.001016\n",
      "Length: 1922, dtype: float64\n",
      "syst pass_weight_PSFSR\n",
      "syst pass_weight_PSISR\n",
      "fj genHT 0        428.0\n",
      "1        398.0\n",
      "2        274.0\n",
      "3        524.0\n",
      "4        373.0\n",
      "         ...  \n",
      "21344    366.0\n",
      "21345    338.0\n",
      "21346    280.0\n",
      "21347    480.0\n",
      "21348    360.0\n",
      "Name: fj_genH_pt, Length: 21131, dtype: float32\n",
      "nominal 1        0.000681\n",
      "15      -0.000707\n",
      "24       0.000823\n",
      "25      -0.000711\n",
      "39       0.000729\n",
      "           ...   \n",
      "21308    0.000544\n",
      "21326    0.000697\n",
      "21334    0.000679\n",
      "21338    0.000685\n",
      "21344    0.000816\n",
      "Length: 1922, dtype: float64\n"
     ]
    },
    {
     "name": "stderr",
     "output_type": "stream",
     "text": [
      "INFO:root:Finding ttHToNonbb_M125 samples and should combine them under ttH\n",
      "INFO:root:Applying fj_mass selection on 23372 events\n",
      "INFO:root:Applying SR1 selection on 20912 events\n",
      "INFO:root:Will fill the histograms with the remaining 204 events\n"
     ]
    },
    {
     "name": "stdout",
     "output_type": "stream",
     "text": [
      "above nominal 32       0.006092\n",
      "193      0.006634\n",
      "208      0.006349\n",
      "354      0.006137\n",
      "503      0.007867\n",
      "           ...   \n",
      "22586    0.007041\n",
      "22592    0.005309\n",
      "23094    0.007908\n",
      "23132    0.006078\n",
      "23164    0.008063\n",
      "Length: 204, dtype: float64\n",
      "syst pass_weight_PSFSR\n",
      "syst pass_weight_PSISR\n",
      "fj genHT 0        292.00\n",
      "1        176.00\n",
      "2        594.00\n",
      "3        270.00\n",
      "4        232.00\n",
      "          ...  \n",
      "23366     72.25\n",
      "23367    148.50\n",
      "23369     83.00\n",
      "23370    255.00\n",
      "23371    305.00\n",
      "Name: fj_genH_pt, Length: 20912, dtype: float32\n",
      "nominal 32       0.005143\n",
      "193      0.005326\n",
      "208      0.005098\n",
      "354      0.004928\n",
      "503      0.006642\n",
      "           ...   \n",
      "22586    0.005653\n",
      "22592    0.004263\n",
      "23094    0.006350\n",
      "23132    0.005131\n",
      "23164    0.006474\n",
      "Length: 204, dtype: float64\n"
     ]
    },
    {
     "name": "stderr",
     "output_type": "stream",
     "text": [
      "INFO:root:Processing year 2018 and ele channel\n",
      "INFO:root:Finding DYJetsToLL_LHEFilterPtZ-0To50 samples and should combine them under DYJets\n",
      "INFO:root:Applying fj_mass selection on 822 events\n",
      "INFO:root:Applying SR1 selection on 818 events\n",
      "INFO:root:Will fill the histograms with the remaining 0 events\n"
     ]
    },
    {
     "name": "stdout",
     "output_type": "stream",
     "text": [
      "above nominal Series([], dtype: float64)\n",
      "syst pass_weight_PSFSR\n",
      "syst pass_weight_PSISR\n"
     ]
    },
    {
     "name": "stderr",
     "output_type": "stream",
     "text": [
      "INFO:root:Finding DYJetsToLL_LHEFilterPtZ-100To250 samples and should combine them under DYJets\n",
      "INFO:root:Applying fj_mass selection on 34266 events\n",
      "INFO:root:Applying SR1 selection on 33796 events\n",
      "INFO:root:Will fill the histograms with the remaining 9 events\n"
     ]
    },
    {
     "name": "stdout",
     "output_type": "stream",
     "text": [
      "above nominal 16614    0.167416\n",
      "17534    0.167665\n",
      "19801   -0.173663\n",
      "25159    0.167922\n",
      "25175   -0.157937\n",
      "28033    0.167543\n",
      "30374    0.163836\n",
      "33065    0.170680\n",
      "33084    0.181206\n",
      "dtype: float64\n",
      "syst pass_weight_PSFSR\n",
      "syst pass_weight_PSISR\n"
     ]
    },
    {
     "name": "stderr",
     "output_type": "stream",
     "text": [
      "INFO:root:Finding DYJetsToLL_LHEFilterPtZ-250To400 samples and should combine them under DYJets\n",
      "INFO:root:Applying fj_mass selection on 307085 events\n",
      "INFO:root:Applying SR1 selection on 303168 events\n",
      "INFO:root:Will fill the histograms with the remaining 29 events\n"
     ]
    },
    {
     "name": "stdout",
     "output_type": "stream",
     "text": [
      "above nominal 1557      0.018823\n",
      "47438    -0.018488\n",
      "51124     0.019003\n",
      "61394     0.019292\n",
      "69362     0.019258\n",
      "73670     0.019383\n",
      "84537     0.020142\n",
      "95738     0.022918\n",
      "115188    0.021313\n",
      "117493    0.019424\n",
      "123936    0.032663\n",
      "138626   -0.019704\n",
      "146581    0.021653\n",
      "147506    0.018599\n",
      "150348    0.019941\n",
      "152624   -0.022068\n",
      "158818   -0.023359\n",
      "163937   -0.027398\n",
      "174659   -0.022165\n",
      "190227   -0.022657\n",
      "190276   -0.019492\n",
      "207021    0.019301\n",
      "239067   -0.028106\n",
      "240710    0.027445\n",
      "246393    0.022517\n",
      "263652    0.021859\n",
      "267519    0.021026\n",
      "289381    0.023882\n",
      "294229   -0.022076\n",
      "dtype: float64\n",
      "syst pass_weight_PSFSR\n",
      "syst pass_weight_PSISR\n"
     ]
    },
    {
     "name": "stderr",
     "output_type": "stream",
     "text": [
      "INFO:root:Finding DYJetsToLL_LHEFilterPtZ-400To650 samples and should combine them under DYJets\n",
      "INFO:root:Applying fj_mass selection on 98445 events\n",
      "INFO:root:Applying SR1 selection on 92737 events\n",
      "INFO:root:Will fill the histograms with the remaining 6 events\n"
     ]
    },
    {
     "name": "stdout",
     "output_type": "stream",
     "text": [
      "above nominal 72083    0.016116\n",
      "80089    0.016449\n",
      "85341   -0.016652\n",
      "89372    0.016649\n",
      "93270    0.015748\n",
      "96361    0.016177\n",
      "dtype: float64\n",
      "syst pass_weight_PSFSR\n",
      "syst pass_weight_PSISR\n"
     ]
    },
    {
     "name": "stderr",
     "output_type": "stream",
     "text": [
      "INFO:root:Finding DYJetsToLL_LHEFilterPtZ-50To100 samples and should combine them under DYJets\n",
      "INFO:root:Applying fj_mass selection on 2864 events\n",
      "INFO:root:Applying SR1 selection on 2825 events\n",
      "INFO:root:Will fill the histograms with the remaining 0 events\n"
     ]
    },
    {
     "name": "stdout",
     "output_type": "stream",
     "text": [
      "above nominal Series([], dtype: float64)\n",
      "syst pass_weight_PSFSR\n",
      "syst pass_weight_PSISR\n"
     ]
    },
    {
     "name": "stderr",
     "output_type": "stream",
     "text": [
      "INFO:root:Finding DYJetsToLL_LHEFilterPtZ-650ToInf samples and should combine them under DYJets\n",
      "INFO:root:Applying fj_mass selection on 122449 events\n",
      "INFO:root:Applying SR1 selection on 100504 events\n",
      "INFO:root:Will fill the histograms with the remaining 10 events\n"
     ]
    },
    {
     "name": "stdout",
     "output_type": "stream",
     "text": [
      "above nominal 1709      0.001058\n",
      "29128    -0.001304\n",
      "48234    -0.001245\n",
      "58273     0.001688\n",
      "61026     0.001386\n",
      "98215     0.001087\n",
      "100046    0.001277\n",
      "109278    0.001255\n",
      "112843   -0.000989\n",
      "118886    0.001372\n",
      "dtype: float64\n",
      "syst pass_weight_PSFSR\n",
      "syst pass_weight_PSISR\n"
     ]
    },
    {
     "name": "stderr",
     "output_type": "stream",
     "text": [
      "INFO:root:Finding EWKWminus_WToQQ samples and should combine them under EWKvjets\n",
      "INFO:root:Applying fj_mass selection on 61 events\n",
      "INFO:root:Applying SR1 selection on 60 events\n",
      "INFO:root:Will fill the histograms with the remaining 0 events\n"
     ]
    },
    {
     "name": "stdout",
     "output_type": "stream",
     "text": [
      "above nominal Series([], dtype: float64)\n",
      "syst pass_weight_PSFSR\n",
      "syst pass_weight_PSISR\n"
     ]
    },
    {
     "name": "stderr",
     "output_type": "stream",
     "text": [
      "INFO:root:Finding EWKWplus_WToQQ samples and should combine them under EWKvjets\n",
      "INFO:root:Applying fj_mass selection on 108 events\n",
      "INFO:root:Applying SR1 selection on 105 events\n",
      "INFO:root:Will fill the histograms with the remaining 1 events\n"
     ]
    },
    {
     "name": "stdout",
     "output_type": "stream",
     "text": [
      "above nominal 102    0.158781\n",
      "dtype: float64\n",
      "syst pass_weight_PSFSR\n",
      "syst pass_weight_PSISR\n"
     ]
    },
    {
     "name": "stderr",
     "output_type": "stream",
     "text": [
      "INFO:root:Finding EWKZ_ZToQQ samples and should combine them under EWKvjets\n",
      "INFO:root:Applying fj_mass selection on 1 events\n",
      "INFO:root:Applying SR1 selection on 1 events\n",
      "INFO:root:Will fill the histograms with the remaining 0 events\n"
     ]
    },
    {
     "name": "stdout",
     "output_type": "stream",
     "text": [
      "above nominal Series([], dtype: float64)\n",
      "syst pass_weight_PSFSR\n",
      "syst pass_weight_PSISR\n"
     ]
    },
    {
     "name": "stderr",
     "output_type": "stream",
     "text": [
      "INFO:root:Finding GluGluHToWW_Pt-200ToInf_M-125 samples and should combine them under ggF\n",
      "INFO:root:Applying fj_mass selection on 3059 events\n",
      "INFO:root:Applying SR1 selection on 2974 events\n",
      "INFO:root:Will fill the histograms with the remaining 20 events\n"
     ]
    },
    {
     "name": "stdout",
     "output_type": "stream",
     "text": [
      "above nominal 86      0.011542\n",
      "227     0.014339\n",
      "343     0.011820\n",
      "380     0.011551\n",
      "593     0.011609\n",
      "874     0.012016\n",
      "1009    0.011906\n",
      "1629    0.014237\n",
      "1664    0.012302\n",
      "1860    0.011947\n",
      "1966    0.011149\n",
      "2062    0.012360\n",
      "2229    0.016201\n",
      "2390    0.011885\n",
      "2611    0.014181\n",
      "2737    0.011801\n",
      "2743    0.011782\n",
      "2799    0.012674\n",
      "2929    0.011804\n",
      "3039    0.011708\n",
      "dtype: float64\n",
      "syst pass_weight_PSFSR\n",
      "syst pass_weight_PSISR\n"
     ]
    },
    {
     "name": "stderr",
     "output_type": "stream",
     "text": [
      "INFO:root:Finding ST_s-channel_4f_hadronicDecays samples and should combine them under SingleTop\n",
      "INFO:root:Applying fj_mass selection on 44 events\n",
      "INFO:root:Applying SR1 selection on 41 events\n",
      "INFO:root:Will fill the histograms with the remaining 0 events\n"
     ]
    },
    {
     "name": "stdout",
     "output_type": "stream",
     "text": [
      "above nominal Series([], dtype: float64)\n",
      "syst pass_weight_PSFSR\n",
      "syst pass_weight_PSISR\n"
     ]
    },
    {
     "name": "stderr",
     "output_type": "stream",
     "text": [
      "INFO:root:Finding ST_s-channel_4f_leptonDecays samples and should combine them under SingleTop\n",
      "INFO:root:Applying fj_mass selection on 7618 events\n",
      "INFO:root:Applying SR1 selection on 7190 events\n",
      "INFO:root:Will fill the histograms with the remaining 2 events\n"
     ]
    },
    {
     "name": "stdout",
     "output_type": "stream",
     "text": [
      "above nominal 741    -0.005246\n",
      "3141    0.005852\n",
      "dtype: float64\n",
      "syst pass_weight_PSFSR\n",
      "syst pass_weight_PSISR\n"
     ]
    },
    {
     "name": "stderr",
     "output_type": "stream",
     "text": [
      "INFO:root:Finding ST_t-channel_antitop_4f_InclusiveDecays samples and should combine them under SingleTop\n",
      "INFO:root:Applying fj_mass selection on 5578 events\n",
      "INFO:root:Applying SR1 selection on 5407 events\n",
      "INFO:root:Will fill the histograms with the remaining 1 events\n"
     ]
    },
    {
     "name": "stdout",
     "output_type": "stream",
     "text": [
      "above nominal 2744    0.044541\n",
      "dtype: float64\n",
      "syst pass_weight_PSFSR\n",
      "syst pass_weight_PSISR\n"
     ]
    },
    {
     "name": "stderr",
     "output_type": "stream",
     "text": [
      "INFO:root:Finding ST_t-channel_top_4f_InclusiveDecays samples and should combine them under SingleTop\n",
      "INFO:root:Applying fj_mass selection on 13418 events\n",
      "INFO:root:Applying SR1 selection on 12899 events\n",
      "INFO:root:Will fill the histograms with the remaining 3 events\n"
     ]
    },
    {
     "name": "stdout",
     "output_type": "stream",
     "text": [
      "above nominal 1994    0.040115\n",
      "3591    0.041410\n",
      "9837    0.035278\n",
      "dtype: float64\n",
      "syst pass_weight_PSFSR\n",
      "syst pass_weight_PSISR\n"
     ]
    },
    {
     "name": "stderr",
     "output_type": "stream",
     "text": [
      "INFO:root:Finding ST_tW_antitop_5f_inclusiveDecays samples and should combine them under SingleTop\n",
      "INFO:root:Applying fj_mass selection on 5411 events\n",
      "INFO:root:Applying SR1 selection on 5248 events\n",
      "INFO:root:Will fill the histograms with the remaining 5 events\n"
     ]
    },
    {
     "name": "stdout",
     "output_type": "stream",
     "text": [
      "above nominal 1866    0.250380\n",
      "3100    0.238520\n",
      "3287    0.196167\n",
      "3723    0.237968\n",
      "4246    0.232379\n",
      "dtype: float64\n",
      "syst pass_weight_PSFSR\n",
      "syst pass_weight_PSISR\n"
     ]
    },
    {
     "name": "stderr",
     "output_type": "stream",
     "text": [
      "INFO:root:Finding ST_tW_top_5f_inclusiveDecays samples and should combine them under SingleTop\n",
      "INFO:root:Applying fj_mass selection on 5488 events\n",
      "INFO:root:Applying SR1 selection on 5301 events\n",
      "INFO:root:Will fill the histograms with the remaining 6 events\n"
     ]
    },
    {
     "name": "stdout",
     "output_type": "stream",
     "text": [
      "above nominal 1328    0.240377\n",
      "1893    0.234896\n",
      "2055    0.237803\n",
      "4001    0.257772\n",
      "4092    0.207191\n",
      "5370    0.236258\n",
      "dtype: float64\n",
      "syst pass_weight_PSFSR\n",
      "syst pass_weight_PSISR\n"
     ]
    },
    {
     "name": "stderr",
     "output_type": "stream",
     "text": [
      "INFO:root:Finding TTTo2L2Nu samples and should combine them under TTbar\n",
      "INFO:root:Applying fj_mass selection on 127388 events\n",
      "INFO:root:Applying SR1 selection on 123412 events\n",
      "INFO:root:Will fill the histograms with the remaining 103 events\n"
     ]
    },
    {
     "name": "stdout",
     "output_type": "stream",
     "text": [
      "above nominal 694       0.050565\n",
      "870       0.052579\n",
      "1075      0.055741\n",
      "2201      0.051037\n",
      "7060      0.058077\n",
      "            ...   \n",
      "122181    0.056226\n",
      "123204    0.051205\n",
      "124530    0.062854\n",
      "125918    0.050751\n",
      "127085    0.055587\n",
      "Length: 103, dtype: float64\n",
      "syst pass_weight_PSFSR\n",
      "syst pass_weight_PSISR\n"
     ]
    },
    {
     "name": "stderr",
     "output_type": "stream",
     "text": [
      "INFO:root:Finding TTToHadronic samples and should combine them under TTbar\n",
      "INFO:root:Applying fj_mass selection on 1042 events\n",
      "INFO:root:Applying SR1 selection on 983 events\n",
      "INFO:root:Will fill the histograms with the remaining 1 events\n"
     ]
    },
    {
     "name": "stdout",
     "output_type": "stream",
     "text": [
      "above nominal 729    0.226494\n",
      "dtype: float64\n",
      "syst pass_weight_PSFSR\n",
      "syst pass_weight_PSISR\n"
     ]
    },
    {
     "name": "stderr",
     "output_type": "stream",
     "text": [
      "INFO:root:Finding TTToSemiLeptonic samples and should combine them under TTbar\n",
      "INFO:root:Applying fj_mass selection on 393426 events\n",
      "INFO:root:Applying SR1 selection on 362896 events\n",
      "INFO:root:Will fill the histograms with the remaining 290 events\n"
     ]
    },
    {
     "name": "stdout",
     "output_type": "stream",
     "text": [
      "above nominal 99        0.176688\n",
      "1195      0.149112\n",
      "1590      0.184795\n",
      "1994      0.207799\n",
      "2695      0.171460\n",
      "            ...   \n",
      "388385    0.154761\n",
      "391044    0.159105\n",
      "391461    0.135068\n",
      "391989    0.200246\n",
      "392670    0.167650\n",
      "Length: 290, dtype: float64\n",
      "syst pass_weight_PSFSR\n",
      "syst pass_weight_PSISR\n"
     ]
    },
    {
     "name": "stderr",
     "output_type": "stream",
     "text": [
      "INFO:root:Finding VBFHToWWToAny_M-125_TuneCP5_withDipoleRecoil samples and should combine them under VBF\n",
      "INFO:root:Applying fj_mass selection on 438 events\n",
      "INFO:root:Applying SR1 selection on 432 events\n",
      "INFO:root:Will fill the histograms with the remaining 0 events\n"
     ]
    },
    {
     "name": "stdout",
     "output_type": "stream",
     "text": [
      "above nominal Series([], dtype: float64)\n",
      "syst pass_weight_PSFSR\n",
      "syst pass_weight_PSISR\n",
      "fj genHT 0      285.0\n",
      "1      493.0\n",
      "2      359.0\n",
      "3      238.0\n",
      "4      234.0\n",
      "       ...  \n",
      "433    411.0\n",
      "434    414.0\n",
      "435    289.0\n",
      "436    342.0\n",
      "437    430.0\n",
      "Name: fj_genH_pt, Length: 432, dtype: float32\n",
      "nominal Series([], dtype: float64)\n"
     ]
    },
    {
     "name": "stderr",
     "output_type": "stream",
     "text": [
      "INFO:root:Finding WJetsToLNu_HT-100To200 samples and should combine them under WJetsLNu\n",
      "INFO:root:Finding WJetsToLNu_HT-1200To2500 samples and should combine them under WJetsLNu\n",
      "INFO:root:Applying fj_mass selection on 127243 events\n",
      "INFO:root:Applying SR1 selection on 96304 events\n",
      "INFO:root:Will fill the histograms with the remaining 70 events\n"
     ]
    },
    {
     "name": "stdout",
     "output_type": "stream",
     "text": [
      "above nominal 2457      0.015099\n",
      "4459      0.013297\n",
      "6436      0.010719\n",
      "7189      0.019941\n",
      "8675      0.015279\n",
      "            ...   \n",
      "121074    0.018827\n",
      "121773    0.012904\n",
      "124110    0.015814\n",
      "124426    0.012055\n",
      "126763    0.015318\n",
      "Length: 70, dtype: float64\n",
      "syst pass_weight_PSFSR\n",
      "syst pass_weight_PSISR\n"
     ]
    },
    {
     "name": "stderr",
     "output_type": "stream",
     "text": [
      "INFO:root:Finding WJetsToLNu_HT-200To400 samples and should combine them under WJetsLNu\n",
      "INFO:root:Applying fj_mass selection on 12059 events\n",
      "INFO:root:Applying SR1 selection on 12052 events\n",
      "INFO:root:Will fill the histograms with the remaining 2 events\n"
     ]
    },
    {
     "name": "stdout",
     "output_type": "stream",
     "text": [
      "above nominal 3130    0.496152\n",
      "3739    0.508848\n",
      "dtype: float64\n",
      "syst pass_weight_PSFSR\n",
      "syst pass_weight_PSISR\n"
     ]
    },
    {
     "name": "stderr",
     "output_type": "stream",
     "text": [
      "INFO:root:Finding WJetsToLNu_HT-2500ToInf samples and should combine them under WJetsLNu\n",
      "INFO:root:Applying fj_mass selection on 42883 events\n",
      "INFO:root:Applying SR1 selection on 26079 events\n",
      "INFO:root:Will fill the histograms with the remaining 6 events\n"
     ]
    },
    {
     "name": "stdout",
     "output_type": "stream",
     "text": [
      "above nominal 21377    0.000353\n",
      "23672    0.000418\n",
      "30664    0.000459\n",
      "36386    0.000610\n",
      "37898    0.000272\n",
      "41145    0.000386\n",
      "dtype: float64\n",
      "syst pass_weight_PSFSR\n",
      "syst pass_weight_PSISR\n"
     ]
    },
    {
     "name": "stderr",
     "output_type": "stream",
     "text": [
      "INFO:root:Finding WJetsToLNu_HT-400To600 samples and should combine them under WJetsLNu\n",
      "INFO:root:Applying fj_mass selection on 28540 events\n",
      "INFO:root:Applying SR1 selection on 28343 events\n",
      "INFO:root:Will fill the histograms with the remaining 18 events\n"
     ]
    },
    {
     "name": "stdout",
     "output_type": "stream",
     "text": [
      "above nominal 169      0.486221\n",
      "2595     0.514590\n",
      "5517     0.598891\n",
      "5942     0.513920\n",
      "8304     0.517883\n",
      "9182     0.521973\n",
      "17120    0.470677\n",
      "18323    0.503545\n",
      "19235    0.496662\n",
      "20294    0.516431\n",
      "21832    0.514415\n",
      "23279    0.553890\n",
      "24102    0.514191\n",
      "24275    0.500233\n",
      "28028    0.494130\n",
      "28141    0.503045\n",
      "28317    0.482656\n",
      "28345    0.505756\n",
      "dtype: float64\n",
      "syst pass_weight_PSFSR\n",
      "syst pass_weight_PSISR\n"
     ]
    },
    {
     "name": "stderr",
     "output_type": "stream",
     "text": [
      "INFO:root:Finding WJetsToLNu_HT-600To800 samples and should combine them under WJetsLNu\n",
      "INFO:root:Applying fj_mass selection on 64626 events\n",
      "INFO:root:Applying SR1 selection on 62395 events\n",
      "INFO:root:Will fill the histograms with the remaining 71 events\n"
     ]
    },
    {
     "name": "stdout",
     "output_type": "stream",
     "text": [
      "above nominal 142      0.194460\n",
      "1779     0.132129\n",
      "4477     0.132958\n",
      "7330     0.125080\n",
      "7889     0.132201\n",
      "           ...   \n",
      "60484    0.142672\n",
      "62042    0.141624\n",
      "63053    0.131261\n",
      "63533    0.132527\n",
      "64052    0.140855\n",
      "Length: 71, dtype: float64\n",
      "syst pass_weight_PSFSR\n",
      "syst pass_weight_PSISR\n"
     ]
    },
    {
     "name": "stderr",
     "output_type": "stream",
     "text": [
      "INFO:root:Finding WJetsToLNu_HT-800To1200 samples and should combine them under WJetsLNu\n",
      "INFO:root:Applying fj_mass selection on 100818 events\n",
      "INFO:root:Applying SR1 selection on 90119 events\n",
      "INFO:root:Will fill the histograms with the remaining 92 events\n"
     ]
    },
    {
     "name": "stdout",
     "output_type": "stream",
     "text": [
      "above nominal 321      0.055093\n",
      "388      0.050516\n",
      "786      0.057944\n",
      "1733     0.060804\n",
      "2229     0.060827\n",
      "           ...   \n",
      "91000    0.052241\n",
      "92329    0.056361\n",
      "93776    0.058048\n",
      "96354    0.059214\n",
      "98333    0.069236\n",
      "Length: 92, dtype: float64\n",
      "syst pass_weight_PSFSR\n",
      "syst pass_weight_PSISR\n"
     ]
    },
    {
     "name": "stderr",
     "output_type": "stream",
     "text": [
      "INFO:root:Finding WW samples and should combine them under Diboson\n",
      "INFO:root:Applying fj_mass selection on 372 events\n",
      "INFO:root:Applying SR1 selection on 362 events\n",
      "INFO:root:Will fill the histograms with the remaining 1 events\n"
     ]
    },
    {
     "name": "stdout",
     "output_type": "stream",
     "text": [
      "above nominal 104    0.912696\n",
      "dtype: float64\n",
      "syst pass_weight_PSFSR\n",
      "syst pass_weight_PSISR\n"
     ]
    },
    {
     "name": "stderr",
     "output_type": "stream",
     "text": [
      "INFO:root:Finding WZ samples and should combine them under Diboson\n",
      "INFO:root:Applying fj_mass selection on 587 events\n",
      "INFO:root:Applying SR1 selection on 575 events\n",
      "INFO:root:Will fill the histograms with the remaining 0 events\n"
     ]
    },
    {
     "name": "stdout",
     "output_type": "stream",
     "text": [
      "above nominal Series([], dtype: float64)\n",
      "syst pass_weight_PSFSR\n",
      "syst pass_weight_PSISR\n"
     ]
    },
    {
     "name": "stderr",
     "output_type": "stream",
     "text": [
      "INFO:root:Finding ZZ samples and should combine them under Diboson\n",
      "INFO:root:Applying fj_mass selection on 340 events\n",
      "INFO:root:Applying SR1 selection on 338 events\n",
      "INFO:root:Will fill the histograms with the remaining 0 events\n"
     ]
    },
    {
     "name": "stdout",
     "output_type": "stream",
     "text": [
      "above nominal Series([], dtype: float64)\n",
      "syst pass_weight_PSFSR\n",
      "syst pass_weight_PSISR\n"
     ]
    },
    {
     "name": "stderr",
     "output_type": "stream",
     "text": [
      "INFO:root:Finding GluGluZH_HToWW_M-125_TuneCP5_13TeV-powheg-pythia8 samples and should combine them under ZH\n",
      "INFO:root:Applying fj_mass selection on 18560 events\n",
      "INFO:root:Applying SR1 selection on 18377 events\n",
      "INFO:root:Will fill the histograms with the remaining 964 events\n"
     ]
    },
    {
     "name": "stdout",
     "output_type": "stream",
     "text": [
      "above nominal 45       0.000093\n",
      "76       0.000076\n",
      "77       0.000076\n",
      "114      0.000074\n",
      "128      0.000069\n",
      "           ...   \n",
      "18466    0.000078\n",
      "18484    0.000077\n",
      "18501    0.000077\n",
      "18503    0.000076\n",
      "18519    0.000075\n",
      "Length: 964, dtype: float64\n",
      "syst pass_weight_PSFSR\n",
      "syst pass_weight_PSISR\n",
      "fj genHT 0        223.5\n",
      "1        296.0\n",
      "2        167.5\n",
      "3        323.0\n",
      "4        221.0\n",
      "         ...  \n",
      "18555    354.0\n",
      "18556    365.0\n",
      "18557    235.0\n",
      "18558    244.0\n",
      "18559    224.0\n",
      "Name: fj_genH_pt, Length: 18377, dtype: float32\n",
      "nominal 45       0.000076\n",
      "76       0.000061\n",
      "77       0.000062\n",
      "114      0.000063\n",
      "128      0.000054\n",
      "           ...   \n",
      "18466    0.000061\n",
      "18484    0.000063\n",
      "18501    0.000061\n",
      "18503    0.000061\n",
      "18519    0.000064\n",
      "Length: 964, dtype: float64\n"
     ]
    },
    {
     "name": "stderr",
     "output_type": "stream",
     "text": [
      "INFO:root:Finding HWplusJ_HToWW_M-125 samples and should combine them under WH\n",
      "INFO:root:Applying fj_mass selection on 8626 events\n",
      "INFO:root:Applying SR1 selection on 8540 events\n",
      "INFO:root:Will fill the histograms with the remaining 555 events\n"
     ]
    },
    {
     "name": "stdout",
     "output_type": "stream",
     "text": [
      "above nominal 3       0.001395\n",
      "29      0.001234\n",
      "30      0.001236\n",
      "36      0.001337\n",
      "41      0.001261\n",
      "          ...   \n",
      "8575    0.000983\n",
      "8576    0.001418\n",
      "8580    0.001248\n",
      "8582    0.001214\n",
      "8603    0.001253\n",
      "Length: 555, dtype: float64\n",
      "syst pass_weight_PSFSR\n",
      "syst pass_weight_PSISR\n",
      "fj genHT 0       254.00\n",
      "1       302.00\n",
      "2       510.00\n",
      "3       494.00\n",
      "4       550.00\n",
      "         ...  \n",
      "8621     84.75\n",
      "8622    421.00\n",
      "8623    136.00\n",
      "8624    351.00\n",
      "8625    495.00\n",
      "Name: fj_genH_pt, Length: 8540, dtype: float32\n",
      "nominal 3       0.001120\n",
      "29      0.000990\n",
      "30      0.001050\n",
      "36      0.001104\n",
      "41      0.001019\n",
      "          ...   \n",
      "8575    0.000830\n",
      "8576    0.001140\n",
      "8580    0.001007\n",
      "8582    0.000981\n",
      "8603    0.001057\n",
      "Length: 555, dtype: float64\n"
     ]
    },
    {
     "name": "stderr",
     "output_type": "stream",
     "text": [
      "INFO:root:Finding HWminusJ_HToWW_M-125 samples and should combine them under WH\n",
      "INFO:root:Applying fj_mass selection on 7865 events\n",
      "INFO:root:Applying SR1 selection on 7800 events\n",
      "INFO:root:Will fill the histograms with the remaining 513 events\n"
     ]
    },
    {
     "name": "stdout",
     "output_type": "stream",
     "text": [
      "above nominal 0       0.000769\n",
      "9       0.000707\n",
      "28      0.000705\n",
      "33      0.000744\n",
      "45      0.000739\n",
      "          ...   \n",
      "7792    0.000748\n",
      "7815    0.000791\n",
      "7827    0.000724\n",
      "7830    0.000726\n",
      "7856    0.000709\n",
      "Length: 513, dtype: float64\n",
      "syst pass_weight_PSFSR\n",
      "syst pass_weight_PSISR\n",
      "fj genHT 0       443.0\n",
      "1       496.0\n",
      "2       396.0\n",
      "3       185.5\n",
      "4       344.0\n",
      "        ...  \n",
      "7860    173.5\n",
      "7861    360.0\n",
      "7862    384.0\n",
      "7863    305.0\n",
      "7864    202.5\n",
      "Name: fj_genH_pt, Length: 7800, dtype: float32\n",
      "nominal 0       0.000617\n",
      "9       0.000567\n",
      "28      0.000566\n",
      "33      0.000598\n",
      "45      0.000610\n",
      "          ...   \n",
      "7792    0.000604\n",
      "7815    0.000634\n",
      "7827    0.000584\n",
      "7830    0.000563\n",
      "7856    0.000598\n",
      "Length: 513, dtype: float64\n"
     ]
    },
    {
     "name": "stderr",
     "output_type": "stream",
     "text": [
      "INFO:root:Finding HZJ_HToWW_M-125 samples and should combine them under ZH\n",
      "INFO:root:Applying fj_mass selection on 13457 events\n",
      "INFO:root:Applying SR1 selection on 13326 events\n",
      "INFO:root:Will fill the histograms with the remaining 937 events\n"
     ]
    },
    {
     "name": "stdout",
     "output_type": "stream",
     "text": [
      "above nominal 6        0.000851\n",
      "23       0.000894\n",
      "61       0.000867\n",
      "70       0.001071\n",
      "77       0.000845\n",
      "           ...   \n",
      "13402    0.000851\n",
      "13407    0.000874\n",
      "13416    0.000853\n",
      "13427    0.000869\n",
      "13454    0.000821\n",
      "Length: 937, dtype: float64\n",
      "syst pass_weight_PSFSR\n",
      "syst pass_weight_PSISR\n",
      "fj genHT 0        268.0\n",
      "1        275.0\n",
      "2        251.5\n",
      "3        290.0\n",
      "4        358.0\n",
      "         ...  \n",
      "13452    196.5\n",
      "13453    261.0\n",
      "13454    403.0\n",
      "13455    292.0\n",
      "13456    316.0\n",
      "Name: fj_genH_pt, Length: 13326, dtype: float32\n",
      "nominal 6        0.000684\n",
      "23       0.000716\n",
      "61       0.000700\n",
      "70       0.000836\n",
      "77       0.000660\n",
      "           ...   \n",
      "13402    0.000687\n",
      "13407    0.000705\n",
      "13416    0.000685\n",
      "13427    0.000713\n",
      "13454    0.000658\n",
      "Length: 937, dtype: float64\n"
     ]
    },
    {
     "name": "stderr",
     "output_type": "stream",
     "text": [
      "INFO:root:Finding ttHToNonbb_M125 samples and should combine them under ttH\n",
      "INFO:root:Applying fj_mass selection on 13892 events\n",
      "INFO:root:Applying SR1 selection on 12372 events\n",
      "INFO:root:Will fill the histograms with the remaining 102 events\n"
     ]
    },
    {
     "name": "stdout",
     "output_type": "stream",
     "text": [
      "above nominal 103      0.005904\n",
      "173      0.006278\n",
      "210      0.006228\n",
      "285      0.005223\n",
      "330      0.006356\n",
      "           ...   \n",
      "12851    0.006182\n",
      "12962    0.006439\n",
      "13355    0.006076\n",
      "13670    0.005730\n",
      "13822    0.005112\n",
      "Length: 102, dtype: float64\n",
      "syst pass_weight_PSFSR\n",
      "syst pass_weight_PSISR\n",
      "fj genHT 1         69.750\n",
      "2        121.500\n",
      "3        280.000\n",
      "4        104.500\n",
      "5        454.000\n",
      "          ...   \n",
      "13885    159.500\n",
      "13886    369.000\n",
      "13887    195.500\n",
      "13889    300.000\n",
      "13890     46.625\n",
      "Name: fj_genH_pt, Length: 12372, dtype: float32\n",
      "nominal 103      0.004742\n",
      "173      0.005296\n",
      "210      0.005255\n",
      "285      0.004184\n",
      "330      0.005186\n",
      "           ...   \n",
      "12851    0.004965\n",
      "12962    0.005195\n",
      "13355    0.004868\n",
      "13670    0.004590\n",
      "13822    0.004110\n",
      "Length: 102, dtype: float64\n",
      "hists Hist(\n",
      "  StrCategory(['DYJets', 'ggF', 'SingleTop', 'TTbar', 'VBF', 'WJetsLNu', 'Diboson', 'ZH', 'WH', 'ttH', 'EWKvjets'], growth=True, name='Sample'),\n",
      "  StrCategory(['pass_nominal', 'pass_weight_PSFSR_DYJets_up', 'pass_weight_PSFSR_DYJets_down', 'pass_weight_PSISR_DYJets_up', 'pass_weight_PSISR_DYJets_down', 'pass_weight_pileup_id_up', 'pass_weight_pileup_id_down', 'pass_weight_d1K_NLO_up', 'pass_weight_d1K_NLO_down', 'pass_weight_d2K_NLO_up', 'pass_weight_d2K_NLO_down', 'pass_weight_d3K_NLO_up', 'pass_weight_d3K_NLO_down', 'pass_weight_d1kappa_EW_up', 'pass_weight_d1kappa_EW_down', 'pass_weight_W_d2kappa_EW_up', 'pass_weight_W_d2kappa_EW_down', 'pass_weight_W_d3kappa_EW_up', 'pass_weight_W_d3kappa_EW_down', 'pass_weight_Z_d2kappa_EW_up', 'pass_weight_Z_d2kappa_EW_down', 'pass_weight_Z_d3kappa_EW_up', 'pass_weight_Z_d3kappa_EW_down', 'pass_weight_ele_id_up', 'pass_weight_ele_id_down', 'pass_weight_ele_reco_up', 'pass_weight_ele_reco_down', 'pass_weight_mu_isolation_up', 'pass_weight_mu_isolation_down', 'pass_weight_mu_id_up', 'pass_weight_mu_id_down', 'pass_weight_mu_trigger_iso_up', 'pass_weight_mu_trigger_iso_down', 'pass_weight_mu_trigger_noniso_up', 'pass_weight_mu_trigger_noniso_down', 'pass_weight_pileup_up', 'pass_weight_pileup_down', 'pass_weight_btagSFlightCorrelated_up', 'pass_weight_btagSFlightCorrelated_down', 'pass_weight_btagSFbcCorrelated_up', 'pass_weight_btagSFbcCorrelated_down', 'pass_weight_btagSFlight_up', 'pass_weight_btagSFlight_down', 'pass_weight_btagSFbc_up', 'pass_weight_btagSFbc_down', 'pass_weight_Vtagger_up', 'pass_weight_Vtagger_down', 'pass_weight_pdf_acceptance_DYJets_up', 'pass_weight_pdf_acceptance_DYJets_down', 'pass_weight_qcd_scale_DYJets_up', 'pass_weight_qcd_scale_DYJets_down', 'pass_weight_trigger_up', 'pass_weight_trigger_down', 'pass_top_reweighting_up', 'pass_top_reweighting_down', 'pass_JMR_sig_2018_up', 'pass_JMR_sig_2018_down', 'pass_JMS_sig_2018_up', 'pass_JMS_sig_2018_down', 'pass_JMR_ttbar_2018_up', 'pass_JMR_ttbar_2018_down', 'pass_JMS_ttbar_2018_up', 'pass_JMS_ttbar_2018_down', 'pass_JMR_wjets_2018_up', 'pass_JMR_wjets_2018_down', 'pass_JMS_wjets_2018_up', 'pass_JMS_wjets_2018_down', 'pass_JES_FlavorQCD_up', 'pass_JES_FlavorQCD_down', 'pass_JES_RelativeBal_up', 'pass_JES_RelativeBal_down', 'pass_JES_HF_up', 'pass_JES_HF_down', 'pass_JES_BBEC1_up', 'pass_JES_BBEC1_down', 'pass_JES_EC2_up', 'pass_JES_EC2_down', 'pass_JES_Absolute_up', 'pass_JES_Absolute_down', 'pass_JES_BBEC1_year_up', 'pass_JES_BBEC1_year_down', 'pass_JES_RelativeSample_year_up', 'pass_JES_RelativeSample_year_down', 'pass_JES_EC2_year_up', 'pass_JES_EC2_year_down', 'pass_JES_HF_year_up', 'pass_JES_HF_year_down', 'pass_JES_Absolute_year_up', 'pass_JES_Absolute_year_down', 'pass_JER_year_up', 'pass_JER_year_down', 'pass_UES_up', 'pass_UES_down', 'pass_weight_PSFSR_ggF_up', 'pass_weight_PSFSR_ggF_down', 'pass_weight_PSISR_ggF_up', 'pass_weight_PSISR_ggF_down', 'pass_weight_pdf_acceptance_ggF_up', 'pass_weight_pdf_acceptance_ggF_down', 'pass_weight_qcd_scale_ggF_up', 'pass_weight_qcd_scale_ggF_down', 'pass_weight_PSFSR_SingleTop_up', 'pass_weight_PSFSR_SingleTop_down', 'pass_weight_PSISR_SingleTop_up', 'pass_weight_PSISR_SingleTop_down', 'pass_weight_pdf_acceptance_SingleTop_up', 'pass_weight_pdf_acceptance_SingleTop_down', 'pass_weight_qcd_scale_SingleTop_up', 'pass_weight_qcd_scale_SingleTop_down', 'pass_weight_PSFSR_TTbar_up', 'pass_weight_PSFSR_TTbar_down', 'pass_weight_PSISR_TTbar_up', 'pass_weight_PSISR_TTbar_down', 'pass_weight_pdf_acceptance_TTbar_up', 'pass_weight_pdf_acceptance_TTbar_down', 'pass_weight_qcd_scale_TTbar_up', 'pass_weight_qcd_scale_TTbar_down', 'pass_weight_PSFSR_VBF_up', 'pass_weight_PSFSR_VBF_down', 'pass_weight_PSISR_VBF_up', 'pass_weight_PSISR_VBF_down', 'pass_EW_up', 'pass_EW_down', 'pass_weight_pdf_acceptance_VBF_up', 'pass_weight_pdf_acceptance_VBF_down', 'pass_weight_qcd_scale_VBF_up', 'pass_weight_qcd_scale_VBF_down', 'pass_weight_PSFSR_WJetsLNu_up', 'pass_weight_PSFSR_WJetsLNu_down', 'pass_weight_PSISR_WJetsLNu_up', 'pass_weight_PSISR_WJetsLNu_down', 'pass_weight_pdf_acceptance_WJetsLNu_up', 'pass_weight_pdf_acceptance_WJetsLNu_down', 'pass_weight_qcd_scale_WJetsLNu_up', 'pass_weight_qcd_scale_WJetsLNu_down', 'pass_weight_PSFSR_Diboson_up', 'pass_weight_PSFSR_Diboson_down', 'pass_weight_PSISR_Diboson_up', 'pass_weight_PSISR_Diboson_down', 'pass_weight_pdf_acceptance_Diboson_up', 'pass_weight_pdf_acceptance_Diboson_down', 'pass_weight_qcd_scale_Diboson_up', 'pass_weight_qcd_scale_Diboson_down', 'pass_weight_PSFSR_ZH_up', 'pass_weight_PSFSR_ZH_down', 'pass_weight_PSISR_ZH_up', 'pass_weight_PSISR_ZH_down', 'pass_weight_pdf_acceptance_ZH_up', 'pass_weight_pdf_acceptance_ZH_down', 'pass_weight_qcd_scale_ZH_up', 'pass_weight_qcd_scale_ZH_down', 'pass_weight_PSFSR_WH_up', 'pass_weight_PSFSR_WH_down', 'pass_weight_PSISR_WH_up', 'pass_weight_PSISR_WH_down', 'pass_weight_pdf_acceptance_WH_up', 'pass_weight_pdf_acceptance_WH_down', 'pass_weight_qcd_scale_WH_up', 'pass_weight_qcd_scale_WH_down', 'pass_weight_PSFSR_ttH_up', 'pass_weight_PSFSR_ttH_down', 'pass_weight_PSISR_ttH_up', 'pass_weight_PSISR_ttH_down', 'pass_weight_pdf_acceptance_ttH_up', 'pass_weight_pdf_acceptance_ttH_down', 'pass_weight_qcd_scale_ttH_up', 'pass_weight_qcd_scale_ttH_down', 'pass_weight_PSFSR_EWKvjets_up', 'pass_weight_PSFSR_EWKvjets_down', 'pass_weight_PSISR_EWKvjets_up', 'pass_weight_PSISR_EWKvjets_down', 'pass_weight_pdf_acceptance_EWKvjets_up', 'pass_weight_pdf_acceptance_EWKvjets_down', 'pass_weight_qcd_scale_EWKvjets_up', 'pass_weight_qcd_scale_EWKvjets_down'], growth=True, name='Systematic'),\n",
      "  StrCategory(['SR1'], growth=True, name='Region'),\n",
      "  Variable([40, 70, 110, 140, 180], name='mass_observable', label='V reconstructed mass [GeV]'),\n",
      "  storage=Weight()) # Sum: WeightedSum(value=18102.4, variance=3225.37) (WeightedSum(value=18320.2, variance=3268.38) with flow)\n"
     ]
    }
   ],
   "source": [
    "years = ['2018']\n",
    "\n",
    "outdir = 'templates'\n",
    "\n",
    "channels = 'mu','ele'\n",
    "#channels = ['mu']\n",
    "\n",
    "\n",
    "with open(\"simplePass.yaml\", \"r\") as stream:\n",
    "    config = yaml.safe_load(stream)\n",
    "\n",
    "if len(years) == 4:\n",
    "    save_as = \"Run2\"\n",
    "else:\n",
    "    save_as = \"_\".join(years)\n",
    "\n",
    "if len(channels) == 1:\n",
    "    save_as += f\"_{channels[0]}_\"\n",
    "\n",
    "os.system(f\"mkdir -p {outdir}\")\n",
    "\n",
    "hists = get_templates( years, channels, config[\"samples\"], config[\"samples_dir\"], config[\"regions_sel\"], config[\"model_path\"],)\n",
    "\n",
    "fix_neg_yields(hists)\n",
    "\n",
    "#with open(f\"{outdir}/hists_templates_{save_as}.pkl\", \"wb\") as fp:\n",
    "with open(f\"{outdir}/hists_templates_{save_as}_pass.pkl\", \"wb\") as fp:\n",
    "    print('hists', hists)\n",
    "    pkl.dump(hists, fp)\n"
   ]
  },
  {
   "cell_type": "code",
   "execution_count": null,
   "id": "fe94b3b7-7ffd-489f-8b71-959b26a6209f",
   "metadata": {},
   "outputs": [],
   "source": []
  },
  {
   "cell_type": "code",
   "execution_count": null,
   "id": "c7af6983-4cf1-4b02-8b30-41762ce21da9",
   "metadata": {},
   "outputs": [],
   "source": []
  },
  {
   "cell_type": "code",
   "execution_count": null,
   "id": "10fd84e5-b148-487b-b994-61ef2fc69526",
   "metadata": {},
   "outputs": [],
   "source": []
  },
  {
   "cell_type": "code",
   "execution_count": null,
   "id": "2ad86111-fc67-4a4f-9026-3c440be72b38",
   "metadata": {},
   "outputs": [],
   "source": []
  },
  {
   "cell_type": "code",
   "execution_count": null,
   "id": "9d1f5f76-019a-4281-8ff7-32605ac08d66",
   "metadata": {},
   "outputs": [],
   "source": []
  },
  {
   "cell_type": "code",
   "execution_count": null,
   "id": "0183b0a5-4f43-4810-9619-ad9f8248379c",
   "metadata": {},
   "outputs": [],
   "source": []
  },
  {
   "cell_type": "code",
   "execution_count": null,
   "id": "d872b112-319e-4972-96eb-b0657593fc1f",
   "metadata": {},
   "outputs": [],
   "source": []
  },
  {
   "cell_type": "code",
   "execution_count": null,
   "id": "a74806ed-3ccc-4d05-b06c-b631005a8d95",
   "metadata": {},
   "outputs": [],
   "source": []
  },
  {
   "cell_type": "code",
   "execution_count": 3,
   "id": "411e06fa-20da-4f40-96bd-8bce7251cc21",
   "metadata": {},
   "outputs": [],
   "source": [
    "obj = pd.read_pickle(r'/home/jieun201/boostedhiggs_may27/combine_nov26/2018/templates/hists_templates_2018_pass.pkl')"
   ]
  },
  {
   "cell_type": "code",
   "execution_count": 4,
   "id": "f3d28c6c-5524-42ba-bc29-c687f1c7b2ab",
   "metadata": {},
   "outputs": [
    {
     "data": {
      "text/plain": [
       "Hist(\n",
       "  StrCategory(['DYJets', 'ggF', 'SingleTop', 'TTbar', 'VBF', 'WJetsLNu', 'Diboson', 'ZH', 'WH', 'ttH', 'EWKvjets'], growth=True, name='Sample'),\n",
       "  StrCategory(['pass_nominal', 'pass_weight_PSFSR_DYJets_up', 'pass_weight_PSFSR_DYJets_down', 'pass_weight_PSISR_DYJets_up', 'pass_weight_PSISR_DYJets_down', 'pass_weight_pileup_id_up', 'pass_weight_pileup_id_down', 'pass_weight_d1K_NLO_up', 'pass_weight_d1K_NLO_down', 'pass_weight_d2K_NLO_up', 'pass_weight_d2K_NLO_down', 'pass_weight_d3K_NLO_up', 'pass_weight_d3K_NLO_down', 'pass_weight_d1kappa_EW_up', 'pass_weight_d1kappa_EW_down', 'pass_weight_W_d2kappa_EW_up', 'pass_weight_W_d2kappa_EW_down', 'pass_weight_W_d3kappa_EW_up', 'pass_weight_W_d3kappa_EW_down', 'pass_weight_Z_d2kappa_EW_up', 'pass_weight_Z_d2kappa_EW_down', 'pass_weight_Z_d3kappa_EW_up', 'pass_weight_Z_d3kappa_EW_down', 'pass_weight_ele_id_up', 'pass_weight_ele_id_down', 'pass_weight_ele_reco_up', 'pass_weight_ele_reco_down', 'pass_weight_mu_isolation_up', 'pass_weight_mu_isolation_down', 'pass_weight_mu_id_up', 'pass_weight_mu_id_down', 'pass_weight_mu_trigger_iso_up', 'pass_weight_mu_trigger_iso_down', 'pass_weight_mu_trigger_noniso_up', 'pass_weight_mu_trigger_noniso_down', 'pass_weight_pileup_up', 'pass_weight_pileup_down', 'pass_weight_btagSFlightCorrelated_up', 'pass_weight_btagSFlightCorrelated_down', 'pass_weight_btagSFbcCorrelated_up', 'pass_weight_btagSFbcCorrelated_down', 'pass_weight_btagSFlight_up', 'pass_weight_btagSFlight_down', 'pass_weight_btagSFbc_up', 'pass_weight_btagSFbc_down', 'pass_weight_Vtagger_up', 'pass_weight_Vtagger_down', 'pass_weight_pdf_acceptance_DYJets_up', 'pass_weight_pdf_acceptance_DYJets_down', 'pass_weight_qcd_scale_DYJets_up', 'pass_weight_qcd_scale_DYJets_down', 'pass_weight_trigger_up', 'pass_weight_trigger_down', 'pass_top_reweighting_up', 'pass_top_reweighting_down', 'pass_JMR_sig_2018_up', 'pass_JMR_sig_2018_down', 'pass_JMS_sig_2018_up', 'pass_JMS_sig_2018_down', 'pass_JMR_ttbar_2018_up', 'pass_JMR_ttbar_2018_down', 'pass_JMS_ttbar_2018_up', 'pass_JMS_ttbar_2018_down', 'pass_JMR_wjets_2018_up', 'pass_JMR_wjets_2018_down', 'pass_JMS_wjets_2018_up', 'pass_JMS_wjets_2018_down', 'pass_JES_FlavorQCD_up', 'pass_JES_FlavorQCD_down', 'pass_JES_RelativeBal_up', 'pass_JES_RelativeBal_down', 'pass_JES_HF_up', 'pass_JES_HF_down', 'pass_JES_BBEC1_up', 'pass_JES_BBEC1_down', 'pass_JES_EC2_up', 'pass_JES_EC2_down', 'pass_JES_Absolute_up', 'pass_JES_Absolute_down', 'pass_JES_BBEC1_year_up', 'pass_JES_BBEC1_year_down', 'pass_JES_RelativeSample_year_up', 'pass_JES_RelativeSample_year_down', 'pass_JES_EC2_year_up', 'pass_JES_EC2_year_down', 'pass_JES_HF_year_up', 'pass_JES_HF_year_down', 'pass_JES_Absolute_year_up', 'pass_JES_Absolute_year_down', 'pass_JER_year_up', 'pass_JER_year_down', 'pass_UES_up', 'pass_UES_down', 'pass_weight_PSFSR_ggF_up', 'pass_weight_PSFSR_ggF_down', 'pass_weight_PSISR_ggF_up', 'pass_weight_PSISR_ggF_down', 'pass_weight_pdf_acceptance_ggF_up', 'pass_weight_pdf_acceptance_ggF_down', 'pass_weight_qcd_scale_ggF_up', 'pass_weight_qcd_scale_ggF_down', 'pass_weight_PSFSR_SingleTop_up', 'pass_weight_PSFSR_SingleTop_down', 'pass_weight_PSISR_SingleTop_up', 'pass_weight_PSISR_SingleTop_down', 'pass_weight_pdf_acceptance_SingleTop_up', 'pass_weight_pdf_acceptance_SingleTop_down', 'pass_weight_qcd_scale_SingleTop_up', 'pass_weight_qcd_scale_SingleTop_down', 'pass_weight_PSFSR_TTbar_up', 'pass_weight_PSFSR_TTbar_down', 'pass_weight_PSISR_TTbar_up', 'pass_weight_PSISR_TTbar_down', 'pass_weight_pdf_acceptance_TTbar_up', 'pass_weight_pdf_acceptance_TTbar_down', 'pass_weight_qcd_scale_TTbar_up', 'pass_weight_qcd_scale_TTbar_down', 'pass_weight_PSFSR_VBF_up', 'pass_weight_PSFSR_VBF_down', 'pass_weight_PSISR_VBF_up', 'pass_weight_PSISR_VBF_down', 'pass_EW_up', 'pass_EW_down', 'pass_weight_pdf_acceptance_VBF_up', 'pass_weight_pdf_acceptance_VBF_down', 'pass_weight_qcd_scale_VBF_up', 'pass_weight_qcd_scale_VBF_down', 'pass_weight_PSFSR_WJetsLNu_up', 'pass_weight_PSFSR_WJetsLNu_down', 'pass_weight_PSISR_WJetsLNu_up', 'pass_weight_PSISR_WJetsLNu_down', 'pass_weight_pdf_acceptance_WJetsLNu_up', 'pass_weight_pdf_acceptance_WJetsLNu_down', 'pass_weight_qcd_scale_WJetsLNu_up', 'pass_weight_qcd_scale_WJetsLNu_down', 'pass_weight_PSFSR_Diboson_up', 'pass_weight_PSFSR_Diboson_down', 'pass_weight_PSISR_Diboson_up', 'pass_weight_PSISR_Diboson_down', 'pass_weight_pdf_acceptance_Diboson_up', 'pass_weight_pdf_acceptance_Diboson_down', 'pass_weight_qcd_scale_Diboson_up', 'pass_weight_qcd_scale_Diboson_down', 'pass_weight_PSFSR_ZH_up', 'pass_weight_PSFSR_ZH_down', 'pass_weight_PSISR_ZH_up', 'pass_weight_PSISR_ZH_down', 'pass_weight_pdf_acceptance_ZH_up', 'pass_weight_pdf_acceptance_ZH_down', 'pass_weight_qcd_scale_ZH_up', 'pass_weight_qcd_scale_ZH_down', 'pass_weight_PSFSR_WH_up', 'pass_weight_PSFSR_WH_down', 'pass_weight_PSISR_WH_up', 'pass_weight_PSISR_WH_down', 'pass_weight_pdf_acceptance_WH_up', 'pass_weight_pdf_acceptance_WH_down', 'pass_weight_qcd_scale_WH_up', 'pass_weight_qcd_scale_WH_down', 'pass_weight_PSFSR_ttH_up', 'pass_weight_PSFSR_ttH_down', 'pass_weight_PSISR_ttH_up', 'pass_weight_PSISR_ttH_down', 'pass_weight_pdf_acceptance_ttH_up', 'pass_weight_pdf_acceptance_ttH_down', 'pass_weight_qcd_scale_ttH_up', 'pass_weight_qcd_scale_ttH_down', 'pass_weight_PSFSR_EWKvjets_up', 'pass_weight_PSFSR_EWKvjets_down', 'pass_weight_PSISR_EWKvjets_up', 'pass_weight_PSISR_EWKvjets_down', 'pass_weight_pdf_acceptance_EWKvjets_up', 'pass_weight_pdf_acceptance_EWKvjets_down', 'pass_weight_qcd_scale_EWKvjets_up', 'pass_weight_qcd_scale_EWKvjets_down'], growth=True, name='Systematic'),\n",
       "  StrCategory(['SR1'], growth=True, name='Region'),\n",
       "  Variable([40, 70, 110, 140, 180], name='mass_observable', label='V reconstructed mass [GeV]'),\n",
       "  storage=Weight()) # Sum: WeightedSum(value=18102.4, variance=3225.37) (WeightedSum(value=18320.2, variance=3268.38) with flow)"
      ]
     },
     "execution_count": 4,
     "metadata": {},
     "output_type": "execute_result"
    }
   ],
   "source": [
    "obj"
   ]
  },
  {
   "cell_type": "code",
   "execution_count": 5,
   "id": "8b709d85-be3a-48d6-8e49-28682701a97e",
   "metadata": {},
   "outputs": [
    {
     "data": {
      "text/html": [
       "<html>\n",
       "<div style=\"display:flex; align-items:center;\">\n",
       "<div style=\"width:290px;\">\n",
       "<svg xmlns=\"http://www.w3.org/2000/svg\" viewBox=\"-10 -105 270 120\">\n",
       "<line x1=\"-5\" y1=\"0\" x2=\"255\" y2=\"0\" style=\"fill:none;stroke-width:2;stroke:currentColor\"/>\n",
       "<text text-anchor=\"middle\" x=\"0\" y=\"15\" style=\"fill:currentColor;\">\n",
       "40\n",
       "</text>\n",
       "<text text-anchor=\"middle\" x=\"250\" y=\"15\" style=\"fill:currentColor;\">\n",
       "180\n",
       "</text>\n",
       "<text text-anchor=\"middle\" x=\"125.0\" y=\"15\" style=\"fill:currentColor;\">\n",
       "V reconstructed mass [GeV]\n",
       "</text>\n",
       "<polyline points=\"  0,0   0,-64.2 53.5714,-64.2 53.5714,-100 125,-100 125,-60.5 178.571,-60.5 178.571,-30.2 250,-30.2 250,0\" style=\"fill:none; stroke:currentColor;\"/>\n",
       "</svg>\n",
       "</div>\n",
       "<div style=\"flex=grow:1;\">\n",
       "Variable([40, 70, 110, 140, 180], name='mass_observable', label='V reconstructed mass [GeV]')<br/>\n",
       "<hr style=\"margin-top:.2em; margin-bottom:.2em;\"/>\n",
       "Weight() Σ=WeightedSum(value=62.6718, variance=15.579) <em>(WeightedSum(value=66.9622, variance=16.4063) with flow)</em>\n",
       "\n",
       "</div>\n",
       "</div>\n",
       "</html>"
      ],
      "text/plain": [
       "Hist(Variable([40, 70, 110, 140, 180], name='mass_observable', label='V reconstructed mass [GeV]'), storage=Weight()) # Sum: WeightedSum(value=62.6718, variance=15.579) (WeightedSum(value=66.9622, variance=16.4063) with flow)"
      ]
     },
     "execution_count": 5,
     "metadata": {},
     "output_type": "execute_result"
    }
   ],
   "source": [
    "sample2 = obj[{\"Region\": \"SR1\", \"Sample\": \"WJetsLNu\", \"Systematic\": \"pass_JMR_wjets_2018_down\"}]\n",
    "sample2"
   ]
  },
  {
   "cell_type": "code",
   "execution_count": 6,
   "id": "ea251dde-4a3f-431d-8dd3-ff2e2d18f279",
   "metadata": {},
   "outputs": [
    {
     "data": {
      "text/html": [
       "<html>\n",
       "<div style=\"display:flex; align-items:center;\">\n",
       "<div style=\"width:290px;\">\n",
       "<svg xmlns=\"http://www.w3.org/2000/svg\" viewBox=\"-10 -105 270 120\">\n",
       "<line x1=\"-5\" y1=\"0\" x2=\"255\" y2=\"0\" style=\"fill:none;stroke-width:2;stroke:currentColor\"/>\n",
       "<text text-anchor=\"middle\" x=\"0\" y=\"15\" style=\"fill:currentColor;\">\n",
       "40\n",
       "</text>\n",
       "<text text-anchor=\"middle\" x=\"250\" y=\"15\" style=\"fill:currentColor;\">\n",
       "180\n",
       "</text>\n",
       "<text text-anchor=\"middle\" x=\"125.0\" y=\"15\" style=\"fill:currentColor;\">\n",
       "V reconstructed mass [GeV]\n",
       "</text>\n",
       "<polyline points=\"  0,0   0,-56.6 53.5714,-56.6 53.5714,-100 125,-100 125,-60.9 178.571,-60.9 178.571,-28.5 250,-28.5 250,0\" style=\"fill:none; stroke:currentColor;\"/>\n",
       "</svg>\n",
       "</div>\n",
       "<div style=\"flex=grow:1;\">\n",
       "Variable([40, 70, 110, 140, 180], name='mass_observable', label='V reconstructed mass [GeV]')<br/>\n",
       "<hr style=\"margin-top:.2em; margin-bottom:.2em;\"/>\n",
       "Weight() Σ=WeightedSum(value=65.498, variance=16.0604) <em>(WeightedSum(value=66.9622, variance=16.4063) with flow)</em>\n",
       "\n",
       "</div>\n",
       "</div>\n",
       "</html>"
      ],
      "text/plain": [
       "Hist(Variable([40, 70, 110, 140, 180], name='mass_observable', label='V reconstructed mass [GeV]'), storage=Weight()) # Sum: WeightedSum(value=65.498, variance=16.0604) (WeightedSum(value=66.9622, variance=16.4063) with flow)"
      ]
     },
     "execution_count": 6,
     "metadata": {},
     "output_type": "execute_result"
    }
   ],
   "source": [
    "sample2 = obj[{\"Region\": \"SR1\", \"Sample\": \"WJetsLNu\", \"Systematic\": \"pass_nominal\"}]\n",
    "sample2"
   ]
  },
  {
   "cell_type": "code",
   "execution_count": 7,
   "id": "16eadded-4839-46a0-9f8f-426876d69bfb",
   "metadata": {},
   "outputs": [
    {
     "data": {
      "text/html": [
       "<html>\n",
       "<div style=\"display:flex; align-items:center;\">\n",
       "<div style=\"width:290px;\">\n",
       "<svg xmlns=\"http://www.w3.org/2000/svg\" viewBox=\"-10 -105 270 120\">\n",
       "<line x1=\"-5\" y1=\"0\" x2=\"255\" y2=\"0\" style=\"fill:none;stroke-width:2;stroke:currentColor\"/>\n",
       "<text text-anchor=\"middle\" x=\"0\" y=\"15\" style=\"fill:currentColor;\">\n",
       "40\n",
       "</text>\n",
       "<text text-anchor=\"middle\" x=\"250\" y=\"15\" style=\"fill:currentColor;\">\n",
       "180\n",
       "</text>\n",
       "<text text-anchor=\"middle\" x=\"125.0\" y=\"15\" style=\"fill:currentColor;\">\n",
       "V reconstructed mass [GeV]\n",
       "</text>\n",
       "<polyline points=\"  0,0   0,-62 53.5714,-62 53.5714,-100 125,-100 125,-63.2 178.571,-63.2 178.571,-21.2 250,-21.2 250,0\" style=\"fill:none; stroke:currentColor;\"/>\n",
       "</svg>\n",
       "</div>\n",
       "<div style=\"flex=grow:1;\">\n",
       "Variable([40, 70, 110, 140, 180], name='mass_observable', label='V reconstructed mass [GeV]')<br/>\n",
       "<hr style=\"margin-top:.2em; margin-bottom:.2em;\"/>\n",
       "Weight() Σ=WeightedSum(value=65.9775, variance=16.3262) <em>(WeightedSum(value=66.9622, variance=16.4063) with flow)</em>\n",
       "\n",
       "</div>\n",
       "</div>\n",
       "</html>"
      ],
      "text/plain": [
       "Hist(Variable([40, 70, 110, 140, 180], name='mass_observable', label='V reconstructed mass [GeV]'), storage=Weight()) # Sum: WeightedSum(value=65.9775, variance=16.3262) (WeightedSum(value=66.9622, variance=16.4063) with flow)"
      ]
     },
     "execution_count": 7,
     "metadata": {},
     "output_type": "execute_result"
    }
   ],
   "source": [
    "sample2 = obj[{\"Region\": \"SR1\", \"Sample\": \"WJetsLNu\", \"Systematic\": \"pass_JMR_wjets_2018_up\"}]\n",
    "sample2"
   ]
  },
  {
   "cell_type": "code",
   "execution_count": 8,
   "id": "16ce533c-2d1e-4381-a2df-c5e0ef11b346",
   "metadata": {},
   "outputs": [
    {
     "data": {
      "text/html": [
       "<html>\n",
       "<div style=\"display:flex; align-items:center;\">\n",
       "<div style=\"width:290px;\">\n",
       "<svg xmlns=\"http://www.w3.org/2000/svg\" viewBox=\"-10 -105 270 120\">\n",
       "<line x1=\"-5\" y1=\"0\" x2=\"255\" y2=\"0\" style=\"fill:none;stroke-width:2;stroke:currentColor\"/>\n",
       "<text text-anchor=\"middle\" x=\"0\" y=\"15\" style=\"fill:currentColor;\">\n",
       "40\n",
       "</text>\n",
       "<text text-anchor=\"middle\" x=\"250\" y=\"15\" style=\"fill:currentColor;\">\n",
       "180\n",
       "</text>\n",
       "<text text-anchor=\"middle\" x=\"125.0\" y=\"15\" style=\"fill:currentColor;\">\n",
       "V reconstructed mass [GeV]\n",
       "</text>\n",
       "<polyline points=\"  0,0   0,-56.6 53.5714,-56.6 53.5714,-100 125,-100 125,-60.9 178.571,-60.9 178.571,-28.5 250,-28.5 250,0\" style=\"fill:none; stroke:currentColor;\"/>\n",
       "</svg>\n",
       "</div>\n",
       "<div style=\"flex=grow:1;\">\n",
       "Variable([40, 70, 110, 140, 180], name='mass_observable', label='V reconstructed mass [GeV]')<br/>\n",
       "<hr style=\"margin-top:.2em; margin-bottom:.2em;\"/>\n",
       "Weight() Σ=WeightedSum(value=65.498, variance=16.0604) <em>(WeightedSum(value=66.9622, variance=16.4063) with flow)</em>\n",
       "\n",
       "</div>\n",
       "</div>\n",
       "</html>"
      ],
      "text/plain": [
       "Hist(Variable([40, 70, 110, 140, 180], name='mass_observable', label='V reconstructed mass [GeV]'), storage=Weight()) # Sum: WeightedSum(value=65.498, variance=16.0604) (WeightedSum(value=66.9622, variance=16.4063) with flow)"
      ]
     },
     "execution_count": 8,
     "metadata": {},
     "output_type": "execute_result"
    }
   ],
   "source": [
    "sample2 = obj[{\"Region\": \"SR1\", \"Sample\": \"WJetsLNu\", \"Systematic\": \"pass_nominal\"}]\n",
    "sample2"
   ]
  },
  {
   "cell_type": "code",
   "execution_count": 9,
   "id": "33c43652-6ef6-454e-887f-41fc0a888fbc",
   "metadata": {},
   "outputs": [
    {
     "data": {
      "text/html": [
       "<html>\n",
       "<div style=\"display:flex; align-items:center;\">\n",
       "<div style=\"width:290px;\">\n",
       "<svg xmlns=\"http://www.w3.org/2000/svg\" viewBox=\"-10 -105 270 120\">\n",
       "<line x1=\"-5\" y1=\"0\" x2=\"255\" y2=\"0\" style=\"fill:none;stroke-width:2;stroke:currentColor\"/>\n",
       "<text text-anchor=\"middle\" x=\"0\" y=\"15\" style=\"fill:currentColor;\">\n",
       "40\n",
       "</text>\n",
       "<text text-anchor=\"middle\" x=\"250\" y=\"15\" style=\"fill:currentColor;\">\n",
       "180\n",
       "</text>\n",
       "<text text-anchor=\"middle\" x=\"125.0\" y=\"15\" style=\"fill:currentColor;\">\n",
       "V reconstructed mass [GeV]\n",
       "</text>\n",
       "<polyline points=\"  0,0   0,-57.2 53.5714,-57.2 53.5714,-100 125,-100 125,-63.3 178.571,-63.3 178.571,-26.6 250,-26.6 250,0\" style=\"fill:none; stroke:currentColor;\"/>\n",
       "</svg>\n",
       "</div>\n",
       "<div style=\"flex=grow:1;\">\n",
       "Variable([40, 70, 110, 140, 180], name='mass_observable', label='V reconstructed mass [GeV]')<br/>\n",
       "<hr style=\"margin-top:.2em; margin-bottom:.2em;\"/>\n",
       "Weight() Σ=WeightedSum(value=71.0419, variance=23.2267) <em>(WeightedSum(value=72.5441, variance=23.6755) with flow)</em>\n",
       "\n",
       "</div>\n",
       "</div>\n",
       "</html>"
      ],
      "text/plain": [
       "Hist(Variable([40, 70, 110, 140, 180], name='mass_observable', label='V reconstructed mass [GeV]'), storage=Weight()) # Sum: WeightedSum(value=71.0419, variance=23.2267) (WeightedSum(value=72.5441, variance=23.6755) with flow)"
      ]
     },
     "execution_count": 9,
     "metadata": {},
     "output_type": "execute_result"
    }
   ],
   "source": [
    "sample2 = obj[{\"Region\": \"SR1\", \"Sample\": \"WJetsLNu\", \"Systematic\": \"pass_weight_PSFSR_WJetsLNu_up\"}]\n",
    "sample2"
   ]
  },
  {
   "cell_type": "code",
   "execution_count": 10,
   "id": "4b5f33cc-0c5d-4455-b00d-193463a4715e",
   "metadata": {},
   "outputs": [
    {
     "data": {
      "text/html": [
       "<html>\n",
       "<div style=\"display:flex; align-items:center;\">\n",
       "<div style=\"width:290px;\">\n",
       "<svg xmlns=\"http://www.w3.org/2000/svg\" viewBox=\"-10 -105 270 120\">\n",
       "<line x1=\"-5\" y1=\"0\" x2=\"255\" y2=\"0\" style=\"fill:none;stroke-width:2;stroke:currentColor\"/>\n",
       "<text text-anchor=\"middle\" x=\"0\" y=\"15\" style=\"fill:currentColor;\">\n",
       "40\n",
       "</text>\n",
       "<text text-anchor=\"middle\" x=\"250\" y=\"15\" style=\"fill:currentColor;\">\n",
       "180\n",
       "</text>\n",
       "<text text-anchor=\"middle\" x=\"125.0\" y=\"15\" style=\"fill:currentColor;\">\n",
       "V reconstructed mass [GeV]\n",
       "</text>\n",
       "<polyline points=\"  0,0   0,-56.6 53.5714,-56.6 53.5714,-100 125,-100 125,-60.9 178.571,-60.9 178.571,-28.5 250,-28.5 250,0\" style=\"fill:none; stroke:currentColor;\"/>\n",
       "</svg>\n",
       "</div>\n",
       "<div style=\"flex=grow:1;\">\n",
       "Variable([40, 70, 110, 140, 180], name='mass_observable', label='V reconstructed mass [GeV]')<br/>\n",
       "<hr style=\"margin-top:.2em; margin-bottom:.2em;\"/>\n",
       "Weight() Σ=WeightedSum(value=65.498, variance=16.0604) <em>(WeightedSum(value=66.9622, variance=16.4063) with flow)</em>\n",
       "\n",
       "</div>\n",
       "</div>\n",
       "</html>"
      ],
      "text/plain": [
       "Hist(Variable([40, 70, 110, 140, 180], name='mass_observable', label='V reconstructed mass [GeV]'), storage=Weight()) # Sum: WeightedSum(value=65.498, variance=16.0604) (WeightedSum(value=66.9622, variance=16.4063) with flow)"
      ]
     },
     "execution_count": 10,
     "metadata": {},
     "output_type": "execute_result"
    }
   ],
   "source": [
    "sample2 = obj[{\"Region\": \"SR1\", \"Sample\": \"WJetsLNu\", \"Systematic\": \"pass_nominal\"}]\n",
    "sample2"
   ]
  },
  {
   "cell_type": "code",
   "execution_count": 11,
   "id": "7b274c18-5aa8-4a1d-9491-7d45ce0a045f",
   "metadata": {},
   "outputs": [
    {
     "data": {
      "text/html": [
       "<html>\n",
       "<div style=\"display:flex; align-items:center;\">\n",
       "<div style=\"width:290px;\">\n",
       "<svg xmlns=\"http://www.w3.org/2000/svg\" viewBox=\"-10 -105 270 120\">\n",
       "<line x1=\"-5\" y1=\"0\" x2=\"255\" y2=\"0\" style=\"fill:none;stroke-width:2;stroke:currentColor\"/>\n",
       "<text text-anchor=\"middle\" x=\"0\" y=\"15\" style=\"fill:currentColor;\">\n",
       "40\n",
       "</text>\n",
       "<text text-anchor=\"middle\" x=\"250\" y=\"15\" style=\"fill:currentColor;\">\n",
       "180\n",
       "</text>\n",
       "<text text-anchor=\"middle\" x=\"125.0\" y=\"15\" style=\"fill:currentColor;\">\n",
       "V reconstructed mass [GeV]\n",
       "</text>\n",
       "<polyline points=\"  0,0   0,-56.8 53.5714,-56.8 53.5714,-100 125,-100 125,-54.9 178.571,-54.9 178.571,-30.2 250,-30.2 250,0\" style=\"fill:none; stroke:currentColor;\"/>\n",
       "</svg>\n",
       "</div>\n",
       "<div style=\"flex=grow:1;\">\n",
       "Variable([40, 70, 110, 140, 180], name='mass_observable', label='V reconstructed mass [GeV]')<br/>\n",
       "<hr style=\"margin-top:.2em; margin-bottom:.2em;\"/>\n",
       "Weight() Σ=WeightedSum(value=54.9803, variance=14.1527) <em>(WeightedSum(value=56.3516, variance=14.4496) with flow)</em>\n",
       "\n",
       "</div>\n",
       "</div>\n",
       "</html>"
      ],
      "text/plain": [
       "Hist(Variable([40, 70, 110, 140, 180], name='mass_observable', label='V reconstructed mass [GeV]'), storage=Weight()) # Sum: WeightedSum(value=54.9803, variance=14.1527) (WeightedSum(value=56.3516, variance=14.4496) with flow)"
      ]
     },
     "execution_count": 11,
     "metadata": {},
     "output_type": "execute_result"
    }
   ],
   "source": [
    "sample2 = obj[{\"Region\": \"SR1\", \"Sample\": \"WJetsLNu\", \"Systematic\": \"pass_weight_PSFSR_WJetsLNu_down\"}]\n",
    "sample2"
   ]
  },
  {
   "cell_type": "code",
   "execution_count": 12,
   "id": "022248c1-3b0a-46b8-8430-0c7f5dccd42f",
   "metadata": {},
   "outputs": [
    {
     "data": {
      "text/html": [
       "<html>\n",
       "<div style=\"display:flex; align-items:center;\">\n",
       "<div style=\"width:290px;\">\n",
       "<svg xmlns=\"http://www.w3.org/2000/svg\" viewBox=\"-10 -105 270 120\">\n",
       "<line x1=\"-5\" y1=\"0\" x2=\"255\" y2=\"0\" style=\"fill:none;stroke-width:2;stroke:currentColor\"/>\n",
       "<text text-anchor=\"middle\" x=\"0\" y=\"15\" style=\"fill:currentColor;\">\n",
       "40\n",
       "</text>\n",
       "<text text-anchor=\"middle\" x=\"250\" y=\"15\" style=\"fill:currentColor;\">\n",
       "180\n",
       "</text>\n",
       "<text text-anchor=\"middle\" x=\"125.0\" y=\"15\" style=\"fill:currentColor;\">\n",
       "V reconstructed mass [GeV]\n",
       "</text>\n",
       "<polyline points=\"  0,0   0,-56.6 53.5714,-56.6 53.5714,-100 125,-100 125,-60.9 178.571,-60.9 178.571,-28.5 250,-28.5 250,0\" style=\"fill:none; stroke:currentColor;\"/>\n",
       "</svg>\n",
       "</div>\n",
       "<div style=\"flex=grow:1;\">\n",
       "Variable([40, 70, 110, 140, 180], name='mass_observable', label='V reconstructed mass [GeV]')<br/>\n",
       "<hr style=\"margin-top:.2em; margin-bottom:.2em;\"/>\n",
       "Weight() Σ=WeightedSum(value=65.498, variance=16.0604) <em>(WeightedSum(value=66.9622, variance=16.4063) with flow)</em>\n",
       "\n",
       "</div>\n",
       "</div>\n",
       "</html>"
      ],
      "text/plain": [
       "Hist(Variable([40, 70, 110, 140, 180], name='mass_observable', label='V reconstructed mass [GeV]'), storage=Weight()) # Sum: WeightedSum(value=65.498, variance=16.0604) (WeightedSum(value=66.9622, variance=16.4063) with flow)"
      ]
     },
     "execution_count": 12,
     "metadata": {},
     "output_type": "execute_result"
    }
   ],
   "source": [
    "sample2 = obj[{\"Region\": \"SR1\", \"Sample\": \"WJetsLNu\", \"Systematic\": \"pass_nominal\"}]\n",
    "sample2"
   ]
  },
  {
   "cell_type": "code",
   "execution_count": 13,
   "id": "35d68461-769d-40d4-a40d-fc79d7b62197",
   "metadata": {},
   "outputs": [
    {
     "data": {
      "text/html": [
       "<html>\n",
       "<div style=\"display:flex; align-items:center;\">\n",
       "<div style=\"width:290px;\">\n",
       "<svg xmlns=\"http://www.w3.org/2000/svg\" viewBox=\"-10 -105 270 120\">\n",
       "<line x1=\"-5\" y1=\"0\" x2=\"255\" y2=\"0\" style=\"fill:none;stroke-width:2;stroke:currentColor\"/>\n",
       "<text text-anchor=\"middle\" x=\"0\" y=\"15\" style=\"fill:currentColor;\">\n",
       "40\n",
       "</text>\n",
       "<text text-anchor=\"middle\" x=\"250\" y=\"15\" style=\"fill:currentColor;\">\n",
       "180\n",
       "</text>\n",
       "<text text-anchor=\"middle\" x=\"125.0\" y=\"15\" style=\"fill:currentColor;\">\n",
       "V reconstructed mass [GeV]\n",
       "</text>\n",
       "<polyline points=\"  0,0   0,-56.5 53.5714,-56.5 53.5714,-100 125,-100 125,-60.8 178.571,-60.8 178.571,-28.4 250,-28.4 250,0\" style=\"fill:none; stroke:currentColor;\"/>\n",
       "</svg>\n",
       "</div>\n",
       "<div style=\"flex=grow:1;\">\n",
       "Variable([40, 70, 110, 140, 180], name='mass_observable', label='V reconstructed mass [GeV]')<br/>\n",
       "<hr style=\"margin-top:.2em; margin-bottom:.2em;\"/>\n",
       "Weight() Σ=WeightedSum(value=65.3538, variance=16.0366) <em>(WeightedSum(value=66.8187, variance=16.3833) with flow)</em>\n",
       "\n",
       "</div>\n",
       "</div>\n",
       "</html>"
      ],
      "text/plain": [
       "Hist(Variable([40, 70, 110, 140, 180], name='mass_observable', label='V reconstructed mass [GeV]'), storage=Weight()) # Sum: WeightedSum(value=65.3538, variance=16.0366) (WeightedSum(value=66.8187, variance=16.3833) with flow)"
      ]
     },
     "execution_count": 13,
     "metadata": {},
     "output_type": "execute_result"
    }
   ],
   "source": [
    "sample2 = obj[{\"Region\": \"SR1\", \"Sample\": \"WJetsLNu\", \"Systematic\": \"pass_weight_d1kappa_EW_down\"}]\n",
    "\n",
    "sample2"
   ]
  },
  {
   "cell_type": "code",
   "execution_count": 14,
   "id": "196fb26e-6fc8-4102-bbb1-16482961f8df",
   "metadata": {},
   "outputs": [
    {
     "data": {
      "text/html": [
       "<html>\n",
       "<div style=\"display:flex; align-items:center;\">\n",
       "<div style=\"width:290px;\">\n",
       "<svg xmlns=\"http://www.w3.org/2000/svg\" viewBox=\"-10 -105 270 120\">\n",
       "<line x1=\"-5\" y1=\"0\" x2=\"255\" y2=\"0\" style=\"fill:none;stroke-width:2;stroke:currentColor\"/>\n",
       "<text text-anchor=\"middle\" x=\"0\" y=\"15\" style=\"fill:currentColor;\">\n",
       "40\n",
       "</text>\n",
       "<text text-anchor=\"middle\" x=\"250\" y=\"15\" style=\"fill:currentColor;\">\n",
       "180\n",
       "</text>\n",
       "<text text-anchor=\"middle\" x=\"125.0\" y=\"15\" style=\"fill:currentColor;\">\n",
       "V reconstructed mass [GeV]\n",
       "</text>\n",
       "<polyline points=\"  0,0   0,-56.5 53.5714,-56.5 53.5714,-100 125,-100 125,-60.8 178.571,-60.8 178.571,-28.4 250,-28.4 250,0\" style=\"fill:none; stroke:currentColor;\"/>\n",
       "</svg>\n",
       "</div>\n",
       "<div style=\"flex=grow:1;\">\n",
       "Variable([40, 70, 110, 140, 180], name='mass_observable', label='V reconstructed mass [GeV]')<br/>\n",
       "<hr style=\"margin-top:.2em; margin-bottom:.2em;\"/>\n",
       "Weight() Σ=WeightedSum(value=65.381, variance=16.044) <em>(WeightedSum(value=66.8468, variance=16.3909) with flow)</em>\n",
       "\n",
       "</div>\n",
       "</div>\n",
       "</html>"
      ],
      "text/plain": [
       "Hist(Variable([40, 70, 110, 140, 180], name='mass_observable', label='V reconstructed mass [GeV]'), storage=Weight()) # Sum: WeightedSum(value=65.381, variance=16.044) (WeightedSum(value=66.8468, variance=16.3909) with flow)"
      ]
     },
     "execution_count": 14,
     "metadata": {},
     "output_type": "execute_result"
    }
   ],
   "source": [
    "sample2 = obj[{\"Region\": \"SR1\", \"Sample\": \"WJetsLNu\", \"Systematic\": \"pass_weight_d1kappa_EW_up\"}]\n",
    "\n",
    "sample2"
   ]
  },
  {
   "cell_type": "code",
   "execution_count": 15,
   "id": "ed8ba8df-5df6-4dab-81a8-faa4b85db201",
   "metadata": {},
   "outputs": [
    {
     "data": {
      "text/html": [
       "<html>\n",
       "<div style=\"display:flex; align-items:center;\">\n",
       "<div style=\"width:290px;\">\n",
       "<svg xmlns=\"http://www.w3.org/2000/svg\" viewBox=\"-10 -105 270 120\">\n",
       "<line x1=\"-5\" y1=\"0\" x2=\"255\" y2=\"0\" style=\"fill:none;stroke-width:2;stroke:currentColor\"/>\n",
       "<text text-anchor=\"middle\" x=\"0\" y=\"15\" style=\"fill:currentColor;\">\n",
       "40\n",
       "</text>\n",
       "<text text-anchor=\"middle\" x=\"250\" y=\"15\" style=\"fill:currentColor;\">\n",
       "180\n",
       "</text>\n",
       "<text text-anchor=\"middle\" x=\"125.0\" y=\"15\" style=\"fill:currentColor;\">\n",
       "V reconstructed mass [GeV]\n",
       "</text>\n",
       "<polyline points=\"  0,0   0,-56.1 53.5714,-56.1 53.5714,-100 125,-100 125,-60.2 178.571,-60.2 178.571,-28.2 250,-28.2 250,0\" style=\"fill:none; stroke:currentColor;\"/>\n",
       "</svg>\n",
       "</div>\n",
       "<div style=\"flex=grow:1;\">\n",
       "Variable([40, 70, 110, 140, 180], name='mass_observable', label='V reconstructed mass [GeV]')<br/>\n",
       "<hr style=\"margin-top:.2em; margin-bottom:.2em;\"/>\n",
       "Weight() Σ=WeightedSum(value=66.6787, variance=16.6387) <em>(WeightedSum(value=68.1735, variance=16.9899) with flow)</em>\n",
       "\n",
       "</div>\n",
       "</div>\n",
       "</html>"
      ],
      "text/plain": [
       "Hist(Variable([40, 70, 110, 140, 180], name='mass_observable', label='V reconstructed mass [GeV]'), storage=Weight()) # Sum: WeightedSum(value=66.6787, variance=16.6387) (WeightedSum(value=68.1735, variance=16.9899) with flow)"
      ]
     },
     "execution_count": 15,
     "metadata": {},
     "output_type": "execute_result"
    }
   ],
   "source": [
    "#sample2 = obj[{\"Region\": \"SR1\", \"Sample\": \"WJetsLNu\", \"Systematic\": \"pass_weight_W_d2kappa_EW_down\"}]\n",
    "sample2 = obj[{\"Region\": \"SR1\", \"Sample\": \"WJetsLNu\", \"Systematic\": \"pass_weight_btagSFlight_down\"}]\n",
    "\n",
    "sample2"
   ]
  },
  {
   "cell_type": "code",
   "execution_count": 16,
   "id": "21d90c5b-45fe-49ef-b478-e201cc437eec",
   "metadata": {},
   "outputs": [
    {
     "data": {
      "text/html": [
       "<html>\n",
       "<div style=\"display:flex; align-items:center;\">\n",
       "<div style=\"width:290px;\">\n",
       "<svg xmlns=\"http://www.w3.org/2000/svg\" viewBox=\"-10 -105 270 120\">\n",
       "<line x1=\"-5\" y1=\"0\" x2=\"255\" y2=\"0\" style=\"fill:none;stroke-width:2;stroke:currentColor\"/>\n",
       "<text text-anchor=\"middle\" x=\"0\" y=\"15\" style=\"fill:currentColor;\">\n",
       "40\n",
       "</text>\n",
       "<text text-anchor=\"middle\" x=\"250\" y=\"15\" style=\"fill:currentColor;\">\n",
       "180\n",
       "</text>\n",
       "<text text-anchor=\"middle\" x=\"125.0\" y=\"15\" style=\"fill:currentColor;\">\n",
       "V reconstructed mass [GeV]\n",
       "</text>\n",
       "<polyline points=\"  0,0   0,-56.5 53.5714,-56.5 53.5714,-100 125,-100 125,-60.8 178.571,-60.8 178.571,-28.4 250,-28.4 250,0\" style=\"fill:none; stroke:currentColor;\"/>\n",
       "</svg>\n",
       "</div>\n",
       "<div style=\"flex=grow:1;\">\n",
       "Variable([40, 70, 110, 140, 180], name='mass_observable', label='V reconstructed mass [GeV]')<br/>\n",
       "<hr style=\"margin-top:.2em; margin-bottom:.2em;\"/>\n",
       "Weight() Σ=WeightedSum(value=65.5815, variance=16.1331) <em>(WeightedSum(value=67.0528, variance=16.4825) with flow)</em>\n",
       "\n",
       "</div>\n",
       "</div>\n",
       "</html>"
      ],
      "text/plain": [
       "Hist(Variable([40, 70, 110, 140, 180], name='mass_observable', label='V reconstructed mass [GeV]'), storage=Weight()) # Sum: WeightedSum(value=65.5815, variance=16.1331) (WeightedSum(value=67.0528, variance=16.4825) with flow)"
      ]
     },
     "execution_count": 16,
     "metadata": {},
     "output_type": "execute_result"
    }
   ],
   "source": [
    "sample2 = obj[{\"Region\": \"SR1\", \"Sample\": \"WJetsLNu\", \"Systematic\": \"pass_weight_W_d2kappa_EW_up\"}]\n",
    "sample2"
   ]
  },
  {
   "cell_type": "code",
   "execution_count": 17,
   "id": "4bc24e19-05d6-4075-b403-a1098d0271f1",
   "metadata": {},
   "outputs": [
    {
     "data": {
      "text/html": [
       "<html>\n",
       "<div style=\"display:flex; align-items:center;\">\n",
       "<div style=\"width:290px;\">\n",
       "<svg xmlns=\"http://www.w3.org/2000/svg\" viewBox=\"-10 -105 270 120\">\n",
       "<line x1=\"-5\" y1=\"0\" x2=\"255\" y2=\"0\" style=\"fill:none;stroke-width:2;stroke:currentColor\"/>\n",
       "<text text-anchor=\"middle\" x=\"0\" y=\"15\" style=\"fill:currentColor;\">\n",
       "40\n",
       "</text>\n",
       "<text text-anchor=\"middle\" x=\"250\" y=\"15\" style=\"fill:currentColor;\">\n",
       "180\n",
       "</text>\n",
       "<text text-anchor=\"middle\" x=\"125.0\" y=\"15\" style=\"fill:currentColor;\">\n",
       "V reconstructed mass [GeV]\n",
       "</text>\n",
       "<polyline points=\"  0,0   0,-10.7 53.5714,-10.7 53.5714,-100 125,-100 125,-35.5 178.571,-35.5 178.571,-2.18 250,-2.18 250,0\" style=\"fill:none; stroke:currentColor;\"/>\n",
       "</svg>\n",
       "</div>\n",
       "<div style=\"flex=grow:1;\">\n",
       "Variable([40, 70, 110, 140, 180], name='mass_observable', label='V reconstructed mass [GeV]')<br/>\n",
       "<hr style=\"margin-top:.2em; margin-bottom:.2em;\"/>\n",
       "Weight() Σ=WeightedSum(value=2.24384, variance=0.00164221) <em>(WeightedSum(value=2.24423, variance=0.00164224) with flow)</em>\n",
       "\n",
       "</div>\n",
       "</div>\n",
       "</html>"
      ],
      "text/plain": [
       "Hist(Variable([40, 70, 110, 140, 180], name='mass_observable', label='V reconstructed mass [GeV]'), storage=Weight()) # Sum: WeightedSum(value=2.24384, variance=0.00164221) (WeightedSum(value=2.24423, variance=0.00164224) with flow)"
      ]
     },
     "execution_count": 17,
     "metadata": {},
     "output_type": "execute_result"
    }
   ],
   "source": [
    "#sample2 = obj[{\"Region\": \"SR1\", \"Sample\": \"ZH\", \"Systematic\": \"pass_weight_PSFSR_ZH_up\"}]\n",
    "\n",
    "sample2 = obj[{\"Region\": \"SR1\", \"Sample\": \"ZH\", \"Systematic\": \"pass_weight_pdf_acceptance_ZH_up\"}]\n",
    "\n",
    "\n",
    "sample2\n"
   ]
  },
  {
   "cell_type": "code",
   "execution_count": 18,
   "id": "8dc8ebbc-0800-47c9-90e0-4d70e1c79552",
   "metadata": {},
   "outputs": [
    {
     "data": {
      "text/html": [
       "<html>\n",
       "<div style=\"display:flex; align-items:center;\">\n",
       "<div style=\"width:290px;\">\n",
       "<svg xmlns=\"http://www.w3.org/2000/svg\" viewBox=\"-10 -105 270 120\">\n",
       "<line x1=\"-5\" y1=\"0\" x2=\"255\" y2=\"0\" style=\"fill:none;stroke-width:2;stroke:currentColor\"/>\n",
       "<text text-anchor=\"middle\" x=\"0\" y=\"15\" style=\"fill:currentColor;\">\n",
       "40\n",
       "</text>\n",
       "<text text-anchor=\"middle\" x=\"250\" y=\"15\" style=\"fill:currentColor;\">\n",
       "180\n",
       "</text>\n",
       "<text text-anchor=\"middle\" x=\"125.0\" y=\"15\" style=\"fill:currentColor;\">\n",
       "V reconstructed mass [GeV]\n",
       "</text>\n",
       "<polyline points=\"  0,0   0,-10.7 53.5714,-10.7 53.5714,-100 125,-100 125,-35.5 178.571,-35.5 178.571,-2.2 250,-2.2 250,0\" style=\"fill:none; stroke:currentColor;\"/>\n",
       "</svg>\n",
       "</div>\n",
       "<div style=\"flex=grow:1;\">\n",
       "Variable([40, 70, 110, 140, 180], name='mass_observable', label='V reconstructed mass [GeV]')<br/>\n",
       "<hr style=\"margin-top:.2em; margin-bottom:.2em;\"/>\n",
       "Weight() Σ=WeightedSum(value=2.04988, variance=0.00135869) <em>(WeightedSum(value=2.05024, variance=0.00135872) with flow)</em>\n",
       "\n",
       "</div>\n",
       "</div>\n",
       "</html>"
      ],
      "text/plain": [
       "Hist(Variable([40, 70, 110, 140, 180], name='mass_observable', label='V reconstructed mass [GeV]'), storage=Weight()) # Sum: WeightedSum(value=2.04988, variance=0.00135869) (WeightedSum(value=2.05024, variance=0.00135872) with flow)"
      ]
     },
     "execution_count": 18,
     "metadata": {},
     "output_type": "execute_result"
    }
   ],
   "source": [
    "#sample2 = obj[{\"Region\": \"SR1\", \"Sample\": \"ZH\", \"Systematic\": \"pass_weight_PSISR_ZH_up\"}]\n",
    "#sample2 = obj[{\"Region\": \"SR1\", \"Sample\": \"ZH\", \"Systematic\": \"pass_weight_btagSFlightCorrelated_up\"}]\n",
    "\n",
    "#sample2 = obj[{\"Region\": \"SR1\", \"Sample\": \"ZH\", \"Systematic\": \"pass_JES_EC2_year_down\"}]\n",
    "sample2 = obj[{\"Region\": \"SR1\", \"Sample\": \"ZH\", \"Systematic\": \"pass_weight_Vtagger_down\"}]\n",
    "\n",
    "\n",
    "\n",
    "sample2"
   ]
  },
  {
   "cell_type": "code",
   "execution_count": 19,
   "id": "5c112621-12d1-4d59-b522-77d9666a31bf",
   "metadata": {},
   "outputs": [
    {
     "data": {
      "text/html": [
       "<html>\n",
       "<div style=\"display:flex; align-items:center;\">\n",
       "<div style=\"width:290px;\">\n",
       "<svg xmlns=\"http://www.w3.org/2000/svg\" viewBox=\"-10 -105 270 120\">\n",
       "<line x1=\"-5\" y1=\"0\" x2=\"255\" y2=\"0\" style=\"fill:none;stroke-width:2;stroke:currentColor\"/>\n",
       "<text text-anchor=\"middle\" x=\"0\" y=\"15\" style=\"fill:currentColor;\">\n",
       "40\n",
       "</text>\n",
       "<text text-anchor=\"middle\" x=\"250\" y=\"15\" style=\"fill:currentColor;\">\n",
       "180\n",
       "</text>\n",
       "<text text-anchor=\"middle\" x=\"125.0\" y=\"15\" style=\"fill:currentColor;\">\n",
       "V reconstructed mass [GeV]\n",
       "</text>\n",
       "<polyline points=\"  0,0   0,-10.6 53.5714,-10.6 53.5714,-100 125,-100 125,-35.7 178.571,-35.7 178.571,-2.22 250,-2.22 250,0\" style=\"fill:none; stroke:currentColor;\"/>\n",
       "</svg>\n",
       "</div>\n",
       "<div style=\"flex=grow:1;\">\n",
       "Variable([40, 70, 110, 140, 180], name='mass_observable', label='V reconstructed mass [GeV]')<br/>\n",
       "<hr style=\"margin-top:.2em; margin-bottom:.2em;\"/>\n",
       "Weight() Σ=WeightedSum(value=2.19163, variance=0.00155404) <em>(WeightedSum(value=2.19203, variance=0.00155406) with flow)</em>\n",
       "\n",
       "</div>\n",
       "</div>\n",
       "</html>"
      ],
      "text/plain": [
       "Hist(Variable([40, 70, 110, 140, 180], name='mass_observable', label='V reconstructed mass [GeV]'), storage=Weight()) # Sum: WeightedSum(value=2.19163, variance=0.00155404) (WeightedSum(value=2.19203, variance=0.00155406) with flow)"
      ]
     },
     "execution_count": 19,
     "metadata": {},
     "output_type": "execute_result"
    }
   ],
   "source": [
    "sample2 = obj[{\"Region\": \"SR1\", \"Sample\": \"ZH\", \"Systematic\": \"pass_weight_Vtagger_up\"}]\n",
    "sample2"
   ]
  },
  {
   "cell_type": "code",
   "execution_count": 20,
   "id": "eec6258b-68f6-4ad4-b749-ded30501324e",
   "metadata": {},
   "outputs": [
    {
     "data": {
      "text/html": [
       "<html>\n",
       "<div style=\"display:flex; align-items:center;\">\n",
       "<div style=\"width:290px;\">\n",
       "<svg xmlns=\"http://www.w3.org/2000/svg\" viewBox=\"-10 -105 270 120\">\n",
       "<line x1=\"-5\" y1=\"0\" x2=\"255\" y2=\"0\" style=\"fill:none;stroke-width:2;stroke:currentColor\"/>\n",
       "<text text-anchor=\"middle\" x=\"0\" y=\"15\" style=\"fill:currentColor;\">\n",
       "40\n",
       "</text>\n",
       "<text text-anchor=\"middle\" x=\"250\" y=\"15\" style=\"fill:currentColor;\">\n",
       "180\n",
       "</text>\n",
       "<text text-anchor=\"middle\" x=\"125.0\" y=\"15\" style=\"fill:currentColor;\">\n",
       "V reconstructed mass [GeV]\n",
       "</text>\n",
       "<polyline points=\"  0,0   0,-55.1 53.5714,-55.1 53.5714,-100 125,-100 125,-54.3 178.571,-54.3 178.571,-22.3 250,-22.3 250,0\" style=\"fill:none; stroke:currentColor;\"/>\n",
       "</svg>\n",
       "</div>\n",
       "<div style=\"flex=grow:1;\">\n",
       "Variable([40, 70, 110, 140, 180], name='mass_observable', label='V reconstructed mass [GeV]')<br/>\n",
       "<hr style=\"margin-top:.2em; margin-bottom:.2em;\"/>\n",
       "Weight() Σ=WeightedSum(value=0.127699, variance=0.00163471)\n",
       "\n",
       "</div>\n",
       "</div>\n",
       "</html>"
      ],
      "text/plain": [
       "Hist(Variable([40, 70, 110, 140, 180], name='mass_observable', label='V reconstructed mass [GeV]'), storage=Weight()) # Sum: WeightedSum(value=0.127699, variance=0.00163471)"
      ]
     },
     "execution_count": 20,
     "metadata": {},
     "output_type": "execute_result"
    }
   ],
   "source": [
    "sample2 = obj[{\"Region\": \"SR1\", \"Sample\": \"VBF\", \"Systematic\": \"pass_nominal\"}]\n",
    "sample2"
   ]
  },
  {
   "cell_type": "code",
   "execution_count": 21,
   "id": "4db2b04a-9596-4f78-9613-803198e7be49",
   "metadata": {},
   "outputs": [
    {
     "data": {
      "text/html": [
       "<html>\n",
       "<div style=\"display:flex; align-items:center;\">\n",
       "<div style=\"width:290px;\">\n",
       "<svg xmlns=\"http://www.w3.org/2000/svg\" viewBox=\"-10 -105 270 120\">\n",
       "<line x1=\"-5\" y1=\"0\" x2=\"255\" y2=\"0\" style=\"fill:none;stroke-width:2;stroke:currentColor\"/>\n",
       "<text text-anchor=\"middle\" x=\"0\" y=\"15\" style=\"fill:currentColor;\">\n",
       "40\n",
       "</text>\n",
       "<text text-anchor=\"middle\" x=\"250\" y=\"15\" style=\"fill:currentColor;\">\n",
       "180\n",
       "</text>\n",
       "<text text-anchor=\"middle\" x=\"125.0\" y=\"15\" style=\"fill:currentColor;\">\n",
       "V reconstructed mass [GeV]\n",
       "</text>\n",
       "<polyline points=\"  0,0   0,-56.6 53.5714,-56.6 53.5714,-100 125,-100 125,-60.9 178.571,-60.9 178.571,-28.5 250,-28.5 250,0\" style=\"fill:none; stroke:currentColor;\"/>\n",
       "</svg>\n",
       "</div>\n",
       "<div style=\"flex=grow:1;\">\n",
       "Variable([40, 70, 110, 140, 180], name='mass_observable', label='V reconstructed mass [GeV]')<br/>\n",
       "<hr style=\"margin-top:.2em; margin-bottom:.2em;\"/>\n",
       "Weight() Σ=WeightedSum(value=65.498, variance=16.0604) <em>(WeightedSum(value=66.9622, variance=16.4063) with flow)</em>\n",
       "\n",
       "</div>\n",
       "</div>\n",
       "</html>"
      ],
      "text/plain": [
       "Hist(Variable([40, 70, 110, 140, 180], name='mass_observable', label='V reconstructed mass [GeV]'), storage=Weight()) # Sum: WeightedSum(value=65.498, variance=16.0604) (WeightedSum(value=66.9622, variance=16.4063) with flow)"
      ]
     },
     "execution_count": 21,
     "metadata": {},
     "output_type": "execute_result"
    }
   ],
   "source": [
    "sample2 = obj[{\"Region\": \"SR1\", \"Sample\": \"WJetsLNu\", \"Systematic\": \"pass_nominal\"}]\n",
    "sample2"
   ]
  },
  {
   "cell_type": "code",
   "execution_count": 22,
   "id": "a8b7e422-6ea7-4708-a270-be4d947e59da",
   "metadata": {},
   "outputs": [
    {
     "data": {
      "text/html": [
       "<html>\n",
       "<div style=\"display:flex; align-items:center;\">\n",
       "<div style=\"width:290px;\">\n",
       "<svg xmlns=\"http://www.w3.org/2000/svg\" viewBox=\"-10 -105 270 120\">\n",
       "<line x1=\"-5\" y1=\"0\" x2=\"255\" y2=\"0\" style=\"fill:none;stroke-width:2;stroke:currentColor\"/>\n",
       "<text text-anchor=\"middle\" x=\"0\" y=\"15\" style=\"fill:currentColor;\">\n",
       "40\n",
       "</text>\n",
       "<text text-anchor=\"middle\" x=\"250\" y=\"15\" style=\"fill:currentColor;\">\n",
       "180\n",
       "</text>\n",
       "<text text-anchor=\"middle\" x=\"125.0\" y=\"15\" style=\"fill:currentColor;\">\n",
       "V reconstructed mass [GeV]\n",
       "</text>\n",
       "<polyline points=\"  0,0   0,-53.4 53.5714,-53.4 53.5714,-100 125,-100 125,-58.5 178.571,-58.5 178.571,-27 250,-27 250,0\" style=\"fill:none; stroke:currentColor;\"/>\n",
       "</svg>\n",
       "</div>\n",
       "<div style=\"flex=grow:1;\">\n",
       "Variable([40, 70, 110, 140, 180], name='mass_observable', label='V reconstructed mass [GeV]')<br/>\n",
       "<hr style=\"margin-top:.2em; margin-bottom:.2em;\"/>\n",
       "Weight() Σ=WeightedSum(value=67.8794, variance=18.253) <em>(WeightedSum(value=69.3524, variance=18.5907) with flow)</em>\n",
       "\n",
       "</div>\n",
       "</div>\n",
       "</html>"
      ],
      "text/plain": [
       "Hist(Variable([40, 70, 110, 140, 180], name='mass_observable', label='V reconstructed mass [GeV]'), storage=Weight()) # Sum: WeightedSum(value=67.8794, variance=18.253) (WeightedSum(value=69.3524, variance=18.5907) with flow)"
      ]
     },
     "execution_count": 22,
     "metadata": {},
     "output_type": "execute_result"
    }
   ],
   "source": [
    "sample2 = obj[{\"Region\": \"SR1\", \"Sample\": \"WJetsLNu\", \"Systematic\": \"pass_weight_pileup_up\"}]\n",
    "sample2"
   ]
  },
  {
   "cell_type": "code",
   "execution_count": 23,
   "id": "08abe576-66fe-4d23-bf5b-e70b8e2e815b",
   "metadata": {},
   "outputs": [
    {
     "data": {
      "text/html": [
       "<html>\n",
       "<div style=\"display:flex; align-items:center;\">\n",
       "<div style=\"width:290px;\">\n",
       "<svg xmlns=\"http://www.w3.org/2000/svg\" viewBox=\"-10 -105 270 120\">\n",
       "<line x1=\"-5\" y1=\"0\" x2=\"255\" y2=\"0\" style=\"fill:none;stroke-width:2;stroke:currentColor\"/>\n",
       "<text text-anchor=\"middle\" x=\"0\" y=\"15\" style=\"fill:currentColor;\">\n",
       "40\n",
       "</text>\n",
       "<text text-anchor=\"middle\" x=\"250\" y=\"15\" style=\"fill:currentColor;\">\n",
       "180\n",
       "</text>\n",
       "<text text-anchor=\"middle\" x=\"125.0\" y=\"15\" style=\"fill:currentColor;\">\n",
       "V reconstructed mass [GeV]\n",
       "</text>\n",
       "<polyline points=\"  0,0   0,-51.6 53.5714,-51.6 53.5714,-100 125,-100 125,-55.3 178.571,-55.3 178.571,-22.4 250,-22.4 250,0\" style=\"fill:none; stroke:currentColor;\"/>\n",
       "</svg>\n",
       "</div>\n",
       "<div style=\"flex=grow:1;\">\n",
       "Variable([40, 70, 110, 140, 180], name='mass_observable', label='V reconstructed mass [GeV]')<br/>\n",
       "<hr style=\"margin-top:.2em; margin-bottom:.2em;\"/>\n",
       "Weight() Σ=WeightedSum(value=0.128154, variance=0.00165461)\n",
       "\n",
       "</div>\n",
       "</div>\n",
       "</html>"
      ],
      "text/plain": [
       "Hist(Variable([40, 70, 110, 140, 180], name='mass_observable', label='V reconstructed mass [GeV]'), storage=Weight()) # Sum: WeightedSum(value=0.128154, variance=0.00165461)"
      ]
     },
     "execution_count": 23,
     "metadata": {},
     "output_type": "execute_result"
    }
   ],
   "source": [
    "#sample2 = obj[{\"Region\": \"SR1\", \"Sample\": \"ZH\", \"Systematic\": \"pass_weight_btagSFlightCorrelated_down\"}]\n",
    "sample2 = obj[{\"Region\": \"SR1\", \"Sample\": \"VBF\", \"Systematic\": \"pass_weight_PSISR_VBF_up\"}]\n",
    "\n",
    "\n",
    "\n",
    "sample2"
   ]
  },
  {
   "cell_type": "code",
   "execution_count": 24,
   "id": "7eb47f87-27e3-4e90-be0b-5c061b741a4a",
   "metadata": {},
   "outputs": [
    {
     "data": {
      "text/html": [
       "<html>\n",
       "<div style=\"display:flex; align-items:center;\">\n",
       "<div style=\"width:290px;\">\n",
       "<svg xmlns=\"http://www.w3.org/2000/svg\" viewBox=\"-10 -105 270 120\">\n",
       "<line x1=\"-5\" y1=\"0\" x2=\"255\" y2=\"0\" style=\"fill:none;stroke-width:2;stroke:currentColor\"/>\n",
       "<text text-anchor=\"middle\" x=\"0\" y=\"15\" style=\"fill:currentColor;\">\n",
       "40\n",
       "</text>\n",
       "<text text-anchor=\"middle\" x=\"250\" y=\"15\" style=\"fill:currentColor;\">\n",
       "180\n",
       "</text>\n",
       "<text text-anchor=\"middle\" x=\"125.0\" y=\"15\" style=\"fill:currentColor;\">\n",
       "V reconstructed mass [GeV]\n",
       "</text>\n",
       "<polyline points=\"  0,0   0,-55.1 53.5714,-55.1 53.5714,-100 125,-100 125,-54.3 178.571,-54.3 178.571,-22.3 250,-22.3 250,0\" style=\"fill:none; stroke:currentColor;\"/>\n",
       "</svg>\n",
       "</div>\n",
       "<div style=\"flex=grow:1;\">\n",
       "Variable([40, 70, 110, 140, 180], name='mass_observable', label='V reconstructed mass [GeV]')<br/>\n",
       "<hr style=\"margin-top:.2em; margin-bottom:.2em;\"/>\n",
       "Weight() Σ=WeightedSum(value=0.127699, variance=0.00163471)\n",
       "\n",
       "</div>\n",
       "</div>\n",
       "</html>"
      ],
      "text/plain": [
       "Hist(Variable([40, 70, 110, 140, 180], name='mass_observable', label='V reconstructed mass [GeV]'), storage=Weight()) # Sum: WeightedSum(value=0.127699, variance=0.00163471)"
      ]
     },
     "execution_count": 24,
     "metadata": {},
     "output_type": "execute_result"
    }
   ],
   "source": [
    "\n",
    "\n",
    "sample2 = obj[{\"Region\": \"SR1\", \"Sample\": \"VBF\", \"Systematic\": \"pass_nominal\"}]\n",
    "sample2"
   ]
  },
  {
   "cell_type": "code",
   "execution_count": 25,
   "id": "5ba1c182-f498-4b16-b25a-b4896d1cba64",
   "metadata": {},
   "outputs": [
    {
     "data": {
      "text/html": [
       "<html>\n",
       "<div style=\"display:flex; align-items:center;\">\n",
       "<div style=\"width:290px;\">\n",
       "<svg xmlns=\"http://www.w3.org/2000/svg\" viewBox=\"-10 -105 270 120\">\n",
       "<line x1=\"-5\" y1=\"0\" x2=\"255\" y2=\"0\" style=\"fill:none;stroke-width:2;stroke:currentColor\"/>\n",
       "<text text-anchor=\"middle\" x=\"0\" y=\"15\" style=\"fill:currentColor;\">\n",
       "40\n",
       "</text>\n",
       "<text text-anchor=\"middle\" x=\"250\" y=\"15\" style=\"fill:currentColor;\">\n",
       "180\n",
       "</text>\n",
       "<text text-anchor=\"middle\" x=\"125.0\" y=\"15\" style=\"fill:currentColor;\">\n",
       "V reconstructed mass [GeV]\n",
       "</text>\n",
       "<polyline points=\"  0,0   0,-55.1 53.5714,-55.1 53.5714,-100 125,-100 125,-54.3 178.571,-54.3 178.571,-22.3 250,-22.3 250,0\" style=\"fill:none; stroke:currentColor;\"/>\n",
       "</svg>\n",
       "</div>\n",
       "<div style=\"flex=grow:1;\">\n",
       "Variable([40, 70, 110, 140, 180], name='mass_observable', label='V reconstructed mass [GeV]')<br/>\n",
       "<hr style=\"margin-top:.2em; margin-bottom:.2em;\"/>\n",
       "Weight() Σ=WeightedSum(value=0.127699, variance=0.00163471)\n",
       "\n",
       "</div>\n",
       "</div>\n",
       "</html>"
      ],
      "text/plain": [
       "Hist(Variable([40, 70, 110, 140, 180], name='mass_observable', label='V reconstructed mass [GeV]'), storage=Weight()) # Sum: WeightedSum(value=0.127699, variance=0.00163471)"
      ]
     },
     "execution_count": 25,
     "metadata": {},
     "output_type": "execute_result"
    }
   ],
   "source": [
    "sample2 = obj[{\"Region\": \"SR1\", \"Sample\": \"VBF\", \"Systematic\": \"pass_top_reweighting_down\"}]\n",
    "sample2\n",
    "\n",
    "\n"
   ]
  },
  {
   "cell_type": "code",
   "execution_count": null,
   "id": "a57bc5f7-0354-4f5b-b5d8-6347c512cf3b",
   "metadata": {},
   "outputs": [],
   "source": []
  }
 ],
 "metadata": {
  "kernelspec": {
   "display_name": "Python 3 (ipykernel)",
   "language": "python",
   "name": "py3-preamble"
  },
  "language_info": {
   "codemirror_mode": {
    "name": "ipython",
    "version": 3
   },
   "file_extension": ".py",
   "mimetype": "text/x-python",
   "name": "python",
   "nbconvert_exporter": "python",
   "pygments_lexer": "ipython3",
   "version": "3.10.16"
  }
 },
 "nbformat": 4,
 "nbformat_minor": 5
}
